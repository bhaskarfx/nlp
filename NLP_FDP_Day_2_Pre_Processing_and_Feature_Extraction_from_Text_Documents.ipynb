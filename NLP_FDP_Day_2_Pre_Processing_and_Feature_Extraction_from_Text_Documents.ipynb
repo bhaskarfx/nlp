{
  "nbformat": 4,
  "nbformat_minor": 0,
  "metadata": {
    "colab": {
      "name": "Copy of Copy of NLP_FDP_Pre-Processing and Feature Extraction from Text Documents.ipynb",
      "provenance": []
    },
    "kernelspec": {
      "name": "python3",
      "display_name": "Python 3"
    },
    "language_info": {
      "name": "python"
    }
  },
  "cells": [
    {
      "cell_type": "markdown",
      "source": [
        "## **Processing Raw Text**\n",
        "by Dr. Bhaskar Mondal\n",
        "\n",
        "https://sites.google.com/view/bmondal/"
        "\n",
        "Youtude Link: https://www.youtube.com/watch?v=sQb63jW4wz4"
      ],
      "metadata": {
        "id": "-3jRVlvAfCaO"
      }
    },
    {
      "cell_type": "code",
      "execution_count": null,
      "metadata": {
        "id": "9R7eum49e2VW"
      },
      "outputs": [],
      "source": [
        "import nltk"
      ]
    },
    {
      "cell_type": "code",
      "source": [
        "text=\"\"\"You're flying on cloud no 9 :  the sky is PinkishBlue < . You shouldn't eat cardboard.\n",
        "Hello Mr. Bob, how are you doing today? The weather is greater, and city is awesome z .\"\"\""
      ],
      "metadata": {
        "id": "pJ0opg8itKvT"
      },
      "execution_count": null,
      "outputs": []
    },
    {
      "cell_type": "markdown",
      "source": [
        "**Split by Whitespace**"
      ],
      "metadata": {
        "id": "B77N8xuEs9Qb"
      }
    },
    {
      "cell_type": "code",
      "source": [
        "words=text.split()\n",
        "print(words)"
      ],
      "metadata": {
        "id": "3EObs7nis-V4",
        "colab": {
          "base_uri": "https://localhost:8080/"
        },
        "outputId": "728024ca-9901-4130-95f3-7efed59646cb"
      },
      "execution_count": null,
      "outputs": [
        {
          "output_type": "stream",
          "name": "stdout",
          "text": [
            "[\"You'r\", 'flying', 'on', 'cloud', 'no', '9', ':', 'the', 'sky', 'is', 'PinkishBlue', '<', '.', 'You', \"shouldn't\", 'eat', 'cardboard.', 'Hello', 'Mr.', 'Bob,', 'how', 'are', 'you', 'doing', 'today?', 'The', 'weather', 'is', 'greater,', 'and', 'city', 'is', 'awesome.']\n"
          ]
        }
      ]
    },
    {
      "cell_type": "markdown",
      "source": [
        "Split based on word"
      ],
      "metadata": {
        "id": "r89_LeOse8bz"
      }
    },
    {
      "cell_type": "code",
      "source": [
        "import re\n",
        "words1=re.split(r'\\W+', text)\n",
        "print(words1[:10])"
      ],
      "metadata": {
        "id": "m962ZvnLwBU9",
        "colab": {
          "base_uri": "https://localhost:8080/"
        },
        "outputId": "931257d5-163c-4a2a-b275-61cee01e3618"
      },
      "execution_count": null,
      "outputs": [
        {
          "output_type": "stream",
          "name": "stdout",
          "text": [
            "['You', 'r', 'flying', 'on', 'cloud', 'no', '9', 'the', 'sky', 'is']\n"
          ]
        }
      ]
    },
    {
      "cell_type": "markdown",
      "source": [
        "**Number of Words and characters**"
      ],
      "metadata": {
        "id": "coH7XtuYUpPH"
      }
    },
    {
      "cell_type": "code",
      "source": [
        "word_count=len(str(text).split(\" \"))\n",
        "word_count"
      ],
      "metadata": {
        "id": "7sgMg1c6Uvqc",
        "colab": {
          "base_uri": "https://localhost:8080/"
        },
        "outputId": "d11ccd97-0a32-4842-ec22-e2ba1a934a43"
      },
      "execution_count": null,
      "outputs": [
        {
          "output_type": "execute_result",
          "data": {
            "text/plain": [
              "33"
            ]
          },
          "metadata": {},
          "execution_count": 9
        }
      ]
    },
    {
      "cell_type": "code",
      "source": [
        "char_count=len(text)\n",
        "char_count"
      ],
      "metadata": {
        "id": "Dkj_B9P4VmjC",
        "colab": {
          "base_uri": "https://localhost:8080/"
        },
        "outputId": "b7aaf444-a57f-423d-a53b-7b6a730d7995"
      },
      "execution_count": null,
      "outputs": [
        {
          "output_type": "execute_result",
          "data": {
            "text/plain": [
              "170"
            ]
          },
          "metadata": {},
          "execution_count": 10
        }
      ]
    },
    {
      "cell_type": "markdown",
      "source": [
        "## **Use Regular Expressions for cleaning text**\n",
        "\n"
      ],
      "metadata": {
        "id": "zAyqDlv3lRRG"
      }
    },
    {
      "cell_type": "markdown",
      "source": [
        "Split Attached words"
      ],
      "metadata": {
        "id": "GxQCwzJhiUnB"
      }
    },
    {
      "cell_type": "code",
      "source": [
        "words2=\" \".join(re.findall(\"[A-Z][^A-Z]*\", text)) #[A-C]--> A or B or C .... or Z; *--> zero or n no. of occurence \n",
        "print(len(words2))"
      ],
      "metadata": {
        "id": "H6HVW2VDkwjc",
        "colab": {
          "base_uri": "https://localhost:8080/"
        },
        "outputId": "c2d7236a-fc92-4656-e6cc-1e5cd8be4fb3"
      },
      "execution_count": null,
      "outputs": [
        {
          "output_type": "stream",
          "name": "stdout",
          "text": [
            "177\n"
          ]
        }
      ]
    },
    {
      "cell_type": "markdown",
      "source": [
        "**Removing Apostrophe**"
      ],
      "metadata": {
        "id": "sqty1kJnHv0O"
      }
    },
    {
      "cell_type": "markdown",
      "source": [
        "Using Dictionary"
      ],
      "metadata": {
        "id": "yG4PzqmblVER"
      }
    },
    {
      "cell_type": "code",
      "source": [
        "appos={\"'s\": \" is\", \"'re\" : \" are\", \"n't\": \" not\"}"
      ],
      "metadata": {
        "id": "NqYb4YpNlUnu"
      },
      "execution_count": null,
      "outputs": []
    },
    {
      "cell_type": "code",
      "source": [
        "word_list=text.split()\n",
        "\n",
        "new_sent=[]\n",
        "\n",
        "for word in word_list:\n",
        "  for key in appos:\n",
        "    word=word.replace(key, appos[key])\n",
        "  new_sent.append(word)\n",
        "\n",
        "new_text=\" \".join(new_sent)\n",
        "print(new_text)"
      ],
      "metadata": {
        "id": "zqZvJx-pH6mt",
        "colab": {
          "base_uri": "https://localhost:8080/"
        },
        "outputId": "11989770-ecf8-4577-9bd5-0ae5a10be941"
      },
      "execution_count": null,
      "outputs": [
        {
          "output_type": "stream",
          "name": "stdout",
          "text": [
            "You are flying on cloud no 9 : the sky is PinkishBlue < . You should not eat cardboard. Hello Mr. Bob, how are you doing today? The weather is greater, and city is awesome.\n"
          ]
        }
      ]
    },
    {
      "cell_type": "markdown",
      "source": [
        "Using Reg. Exp."
      ],
      "metadata": {
        "id": "35tcNMm0osGq"
      }
    },
    {
      "cell_type": "code",
      "source": [
        "def decontraction(phrase):\n",
        "  phrase=re.sub(r\"\\'re\", \" are\", phrase)\n",
        "  phrase=re.sub(r\"n\\'t\", \" not\", phrase)\n",
        "\n",
        "  return phrase\n",
        "\n",
        "new_text2=decontraction(text)\n",
        "print(new_text)"
      ],
      "metadata": {
        "id": "V68zfH5HYTaL",
        "colab": {
          "base_uri": "https://localhost:8080/"
        },
        "outputId": "9027558a-8e46-4ba1-e8ab-8e5e2f5929d7"
      },
      "execution_count": null,
      "outputs": [
        {
          "output_type": "stream",
          "name": "stdout",
          "text": [
            "You are flying on cloud no 9 :  the sky is PinkishBlue < . You should not eat cardboard.\n",
            "Hello Mr. Bob, how are you doing today? The weather is greater, and city is awesome z .\n"
          ]
        }
      ]
    },
    {
      "cell_type": "markdown",
      "source": [
        "Using Python Library"
      ],
      "metadata": {
        "id": "X6NaKFVKqGSA"
      }
    },
    {
      "cell_type": "code",
      "source": [
        "pip install contractions"
      ],
      "metadata": {
        "colab": {
          "base_uri": "https://localhost:8080/"
        },
        "id": "xj9U_dzwqW-W",
        "outputId": "c328e430-a832-43cb-ecaf-40ff23e4aa1c"
      },
      "execution_count": null,
      "outputs": [
        {
          "output_type": "stream",
          "name": "stdout",
          "text": [
            "Collecting contractions\n",
            "  Downloading contractions-0.1.66-py2.py3-none-any.whl (8.0 kB)\n",
            "Collecting textsearch>=0.0.21\n",
            "  Downloading textsearch-0.0.21-py2.py3-none-any.whl (7.5 kB)\n",
            "Collecting pyahocorasick\n",
            "  Downloading pyahocorasick-1.4.2.tar.gz (321 kB)\n",
            "\u001b[K     |████████████████████████████████| 321 kB 5.0 MB/s \n",
            "\u001b[?25hCollecting anyascii\n",
            "  Downloading anyascii-0.3.0-py3-none-any.whl (284 kB)\n",
            "\u001b[K     |████████████████████████████████| 284 kB 48.6 MB/s \n",
            "\u001b[?25hBuilding wheels for collected packages: pyahocorasick\n",
            "  Building wheel for pyahocorasick (setup.py) ... \u001b[?25l\u001b[?25hdone\n",
            "  Created wheel for pyahocorasick: filename=pyahocorasick-1.4.2-cp37-cp37m-linux_x86_64.whl size=85450 sha256=3e863128eb196940039607c7b827b53d35364ffb4a3108c101e096b2b4a43e71\n",
            "  Stored in directory: /root/.cache/pip/wheels/25/19/a6/8f363d9939162782bb8439d886469756271abc01f76fbd790f\n",
            "Successfully built pyahocorasick\n",
            "Installing collected packages: pyahocorasick, anyascii, textsearch, contractions\n",
            "Successfully installed anyascii-0.3.0 contractions-0.1.66 pyahocorasick-1.4.2 textsearch-0.0.21\n"
          ]
        }
      ]
    },
    {
      "cell_type": "code",
      "source": [
        "import contractions"
      ],
      "metadata": {
        "id": "qKzEO0AQqBj5"
      },
      "execution_count": null,
      "outputs": []
    },
    {
      "cell_type": "code",
      "source": [
        "expan_words=[]\n",
        "for word in words:\n",
        "  #text.split()\n",
        "  expan_words.append(contractions.fix(word))\n",
        "\n",
        "new_text=\" \".join(expan_words)\n",
        "print(new_text)"
      ],
      "metadata": {
        "colab": {
          "base_uri": "https://localhost:8080/"
        },
        "id": "5dzBD0upqj1k",
        "outputId": "0610e944-af24-453e-aaed-b139150650ba"
      },
      "execution_count": null,
      "outputs": [
        {
          "output_type": "stream",
          "name": "stdout",
          "text": [
            "You'r flying on cloud no 9 : the sky is PinkishBlue < . You should not eat cardboard. Hello Mr. Bob, how are you doing today? The weather is greater, and city is awesome.\n"
          ]
        }
      ]
    },
    {
      "cell_type": "markdown",
      "source": [
        "**Average Word Length**"
      ],
      "metadata": {
        "id": "GzE0OKa4WozW"
      }
    },
    {
      "cell_type": "code",
      "source": [
        "def avg_word_len(sen):\n",
        "  words=sen.split(\" \")\n",
        "  total_len=sum(len(word) for word in words)\n",
        "  no_of_words=len(words)\n",
        "  return (total_len/no_of_words)\n",
        "\n",
        "avg_len=avg_word_len(text)\n",
        "print(avg_len)"
      ],
      "metadata": {
        "id": "PDajEkPkWnUJ",
        "colab": {
          "base_uri": "https://localhost:8080/"
        },
        "outputId": "b8bfb886-0114-4cf1-9aa3-46326fa4eb26"
      },
      "execution_count": null,
      "outputs": [
        {
          "output_type": "stream",
          "name": "stdout",
          "text": [
            "4.212121212121212\n"
          ]
        }
      ]
    },
    {
      "cell_type": "markdown",
      "source": [
        "Remove Single Chars"
      ],
      "metadata": {
        "id": "ZcsQ3gr8seSj"
      }
    },
    {
      "cell_type": "code",
      "source": [
        "def remove_single_char(sen):\n",
        "  new_text=\"\"\n",
        "  words=sen.split()\n",
        "  for word in words:\n",
        "    if len(word)>1:\n",
        "      new_text=new_text + \" \" + word\n",
        "  return new_text\n",
        "\n",
        "new_text=remove_single_char(text)\n",
        "print(new_text)"
      ],
      "metadata": {
        "id": "-1VRHo5cZHmq",
        "colab": {
          "base_uri": "https://localhost:8080/"
        },
        "outputId": "6d8d8953-8475-4cbc-9d85-359158dcf25b"
      },
      "execution_count": null,
      "outputs": [
        {
          "output_type": "stream",
          "name": "stdout",
          "text": [
            " You're flying on cloud no the sky is PinkishBlue You shouldn't eat cardboard. Hello Mr. Bob, how are you doing today? The weather is greater, and city is awesome\n"
          ]
        }
      ]
    },
    {
      "cell_type": "code",
      "source": [
        "new_text=\" \".join([w for w in text.split() if len(w)>1])\n",
        "new_text"
      ],
      "metadata": {
        "id": "sqFVqxjiWzHJ",
        "colab": {
          "base_uri": "https://localhost:8080/",
          "height": 53
        },
        "outputId": "4648271e-2fbe-45c1-acab-409a57e9cf42"
      },
      "execution_count": null,
      "outputs": [
        {
          "output_type": "execute_result",
          "data": {
            "application/vnd.google.colaboratory.intrinsic+json": {
              "type": "string"
            },
            "text/plain": [
              "\"You're flying on cloud no the sky is PinkishBlue You shouldn't eat cardboard. Hello Mr. Bob, how are you doing today? The weather is greater, and city is awesome\""
            ]
          },
          "metadata": {},
          "execution_count": 38
        }
      ]
    },
    {
      "cell_type": "markdown",
      "source": [
        "**Normalizing Case:** **convert to lower case** "
      ],
      "metadata": {
        "id": "5qFL0Nprx3uw"
      }
    },
    {
      "cell_type": "code",
      "source": [
        "#Sky, SKY, skY\n",
        "def convert_to_lower(words):\n",
        "  words=[word.lower() for word in words]\n",
        "  return words\n",
        "\n",
        "in_lower=convert_to_lower(words)\n",
        "print(in_lower)"
      ],
      "metadata": {
        "id": "R0hEWz9qx6kO",
        "colab": {
          "base_uri": "https://localhost:8080/"
        },
        "outputId": "0fbaf2f4-f63a-4378-8a2d-4134e63fb2a5"
      },
      "execution_count": null,
      "outputs": [
        {
          "output_type": "stream",
          "name": "stdout",
          "text": [
            "[\"you'r\", 'flying', 'on', 'cloud', 'no', '9', ':', 'the', 'sky', 'is', 'pinkishblue', '<', '.', 'you', \"shouldn't\", 'eat', 'cardboard.', 'hello', 'mr.', 'bob,', 'how', 'are', 'you', 'doing', 'today?', 'the', 'weather', 'is', 'greater,', 'and', 'city', 'is', 'awesome.']\n"
          ]
        }
      ]
    },
    {
      "cell_type": "markdown",
      "source": [
        "**Removing Stop Words**"
      ],
      "metadata": {
        "id": "XkUfoVKW8YI2"
      }
    },
    {
      "cell_type": "code",
      "source": [
        "from nltk.corpus import stopwords\n",
        "nltk.download('stopwords')"
      ],
      "metadata": {
        "id": "lqmdKyRJ8gTd",
        "colab": {
          "base_uri": "https://localhost:8080/"
        },
        "outputId": "3b145510-750d-4d27-c61b-9387d44c2f9f"
      },
      "execution_count": null,
      "outputs": [
        {
          "output_type": "stream",
          "name": "stdout",
          "text": [
            "[nltk_data] Downloading package stopwords to /root/nltk_data...\n",
            "[nltk_data]   Unzipping corpora/stopwords.zip.\n"
          ]
        },
        {
          "output_type": "execute_result",
          "data": {
            "text/plain": [
              "True"
            ]
          },
          "metadata": {},
          "execution_count": 43
        }
      ]
    },
    {
      "cell_type": "code",
      "source": [
        "stop_eng=stopwords.words('english')\n",
        "print(stop_eng)\n",
        "print(len(stop_eng))"
      ],
      "metadata": {
        "id": "0VPU5LB68Y5u",
        "colab": {
          "base_uri": "https://localhost:8080/"
        },
        "outputId": "ac3b8c6b-6c2d-41f3-99c6-18cd5351ba62"
      },
      "execution_count": null,
      "outputs": [
        {
          "output_type": "stream",
          "name": "stdout",
          "text": [
            "['i', 'me', 'my', 'myself', 'we', 'our', 'ours', 'ourselves', 'you', \"you're\", \"you've\", \"you'll\", \"you'd\", 'your', 'yours', 'yourself', 'yourselves', 'he', 'him', 'his', 'himself', 'she', \"she's\", 'her', 'hers', 'herself', 'it', \"it's\", 'its', 'itself', 'they', 'them', 'their', 'theirs', 'themselves', 'what', 'which', 'who', 'whom', 'this', 'that', \"that'll\", 'these', 'those', 'am', 'is', 'are', 'was', 'were', 'be', 'been', 'being', 'have', 'has', 'had', 'having', 'do', 'does', 'did', 'doing', 'a', 'an', 'the', 'and', 'but', 'if', 'or', 'because', 'as', 'until', 'while', 'of', 'at', 'by', 'for', 'with', 'about', 'against', 'between', 'into', 'through', 'during', 'before', 'after', 'above', 'below', 'to', 'from', 'up', 'down', 'in', 'out', 'on', 'off', 'over', 'under', 'again', 'further', 'then', 'once', 'here', 'there', 'when', 'where', 'why', 'how', 'all', 'any', 'both', 'each', 'few', 'more', 'most', 'other', 'some', 'such', 'no', 'nor', 'not', 'only', 'own', 'same', 'so', 'than', 'too', 'very', 's', 't', 'can', 'will', 'just', 'don', \"don't\", 'should', \"should've\", 'now', 'd', 'll', 'm', 'o', 're', 've', 'y', 'ain', 'aren', \"aren't\", 'couldn', \"couldn't\", 'didn', \"didn't\", 'doesn', \"doesn't\", 'hadn', \"hadn't\", 'hasn', \"hasn't\", 'haven', \"haven't\", 'isn', \"isn't\", 'ma', 'mightn', \"mightn't\", 'mustn', \"mustn't\", 'needn', \"needn't\", 'shan', \"shan't\", 'shouldn', \"shouldn't\", 'wasn', \"wasn't\", 'weren', \"weren't\", 'won', \"won't\", 'wouldn', \"wouldn't\"]\n",
            "179\n"
          ]
        }
      ]
    },
    {
      "cell_type": "markdown",
      "source": [
        "Count no. of stopwords"
      ],
      "metadata": {
        "id": "MSDtxgeRwUaG"
      }
    },
    {
      "cell_type": "code",
      "source": [
        "def count_stop_words(sen):\n",
        "  words=sen.split()\n",
        "  my_stop=[]\n",
        "  for w in words:\n",
        "    if w in stop_eng:\n",
        "      my_stop.append(w)\n",
        "  return len(my_stop)\n",
        "\n",
        "total_no_stops=count_stop_words(text)\n",
        "print(total_no_stops)"
      ],
      "metadata": {
        "id": "blUU1teDXtEP",
        "colab": {
          "base_uri": "https://localhost:8080/"
        },
        "outputId": "66dafb2f-b49b-4700-9b72-9b83999be386"
      },
      "execution_count": null,
      "outputs": [
        {
          "output_type": "stream",
          "name": "stdout",
          "text": [
            "12\n"
          ]
        }
      ]
    },
    {
      "cell_type": "code",
      "source": [
        "stop_removed=[w for w in convert_to_lower(new_text2.split()) if not w in stop_eng]\n",
        "print(stop_removed)"
      ],
      "metadata": {
        "id": "foLsj44n9Jm7",
        "colab": {
          "base_uri": "https://localhost:8080/"
        },
        "outputId": "4d20f2a3-3174-47e7-c999-4e01cf0cb3bd"
      },
      "execution_count": null,
      "outputs": [
        {
          "output_type": "stream",
          "name": "stdout",
          "text": [
            "['flying', 'cloud', '9', ':', 'sky', 'pinkishblue', '<', '.', 'eat', 'cardboard.', 'hello', 'mr.', 'bob,', 'today?', 'weather', 'greater,', 'city', 'awesome', 'z', '.']\n"
          ]
        }
      ]
    },
    {
      "cell_type": "code",
      "source": [
        ""
      ],
      "metadata": {
        "id": "iAv564-KJ_CI"
      },
      "execution_count": null,
      "outputs": []
    },
    {
      "cell_type": "markdown",
      "source": [
        "**Removing Punctuation**"
      ],
      "metadata": {
        "id": "-4NfN-fs8QhO"
      }
    },
    {
      "cell_type": "code",
      "source": [
        "import string"
      ],
      "metadata": {
        "id": "Mdzbajv9wXMx"
      },
      "execution_count": null,
      "outputs": []
    },
    {
      "cell_type": "code",
      "source": [
        "print(string.punctuation)"
      ],
      "metadata": {
        "id": "d1VTXMxlwiS5",
        "colab": {
          "base_uri": "https://localhost:8080/"
        },
        "outputId": "818993ad-80f8-400a-d1b1-261287690eeb"
      },
      "execution_count": null,
      "outputs": [
        {
          "output_type": "stream",
          "name": "stdout",
          "text": [
            "!\"#$%&'()*+,-./:;<=>?@[\\]^_`{|}~\n"
          ]
        }
      ]
    },
    {
      "cell_type": "code",
      "source": [
        "def remove_punc(words):\n",
        "  table=str.maketrans('', '', string.punctuation)\n",
        "  stripped=[w.translate(table) for w in words]\n",
        "  return stripped\n",
        "\n",
        "\n",
        "words=convert_to_lower(new_text2.split())\n",
        "punc_removed=remove_punc(words)\n",
        "print(punc_removed)"
      ],
      "metadata": {
        "colab": {
          "base_uri": "https://localhost:8080/"
        },
        "id": "-bMvf5fhy5Ir",
        "outputId": "c6fef354-0c30-4895-8866-4f7440341496"
      },
      "execution_count": null,
      "outputs": [
        {
          "output_type": "stream",
          "name": "stdout",
          "text": [
            "['you', 'are', 'flying', 'on', 'cloud', 'no', '9', '', 'the', 'sky', 'is', 'pinkishblue', '', '', 'you', 'should', 'not', 'eat', 'cardboard', 'hello', 'mr', 'bob', 'how', 'are', 'you', 'doing', 'today', 'the', 'weather', 'is', 'greater', 'and', 'city', 'is', 'awesome', 'z', '']\n"
          ]
        }
      ]
    }
  ]
}
