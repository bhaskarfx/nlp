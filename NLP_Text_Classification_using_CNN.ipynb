{
  "nbformat": 4,
  "nbformat_minor": 0,
  "metadata": {
    "colab": {
      "name": "NLP_Text_Classification_using_CNN.ipynb",
      "provenance": [],
      "collapsed_sections": [
        "ZV3cV_FfLzVQ"
      ],
      "authorship_tag": "ABX9TyPmkbA6qHATqEUQ4mjmIism",
      "include_colab_link": true
    },
    "kernelspec": {
      "name": "python3",
      "display_name": "Python 3"
    },
    "language_info": {
      "name": "python"
    }
  },
  "cells": [
    {
      "cell_type": "markdown",
      "metadata": {
        "id": "view-in-github",
        "colab_type": "text"
      },
      "source": [
        "<a href=\"https://colab.research.google.com/github/bhaskarfx/nlp/blob/main/NLP_Text_Classification_using_CNN.ipynb\" target=\"_parent\"><img src=\"https://colab.research.google.com/assets/colab-badge.svg\" alt=\"Open In Colab\"/></a>"
      ]
    },
    {
      "cell_type": "markdown",
      "source": [
        "## **Text Classification with CNN**\n",
        "\n",
        "## **Word Embedding Techniques In NLP**\n",
        "\n",
        "*by [Dr. Bhaskar Mondal](https://sites.google.com/view/bmondal/bhaskarmondal?authuser=3)*\n",
        "\n",
        "**Subscribe to my YouTube Channel:** https://www.youtube.com/c/iqpop \n"
      ],
      "metadata": {
        "id": "r05pv14ZCg2P"
      }
    },
    {
      "cell_type": "markdown",
      "source": [
        "**Fatching the data from Github repository (Public)**\n",
        "\n"
      ],
      "metadata": {
        "id": "uTDSXENrseQh"
      }
    },
    {
      "cell_type": "code",
      "source": [
        "import pandas as pd\n",
        "data = pd.read_csv('https://raw.githubusercontent.com/saadarshad102/Sentiment-Analysis-CNN/master/imdb_labelled.tsv', \n",
        "                   header = None, \n",
        "                   delimiter='\\t')"
      ],
      "metadata": {
        "id": "jwW7heZcCeix"
      },
      "execution_count": 2,
      "outputs": []
    },
    {
      "cell_type": "code",
      "source": [
        "data.columns = ['Text', 'Label']\n",
        "data.head()"
      ],
      "metadata": {
        "colab": {
          "base_uri": "https://localhost:8080/",
          "height": 206
        },
        "id": "xe5VwsyvsvaF",
        "outputId": "a63be26a-7826-4569-cd8f-4889981f928e"
      },
      "execution_count": 3,
      "outputs": [
        {
          "output_type": "execute_result",
          "data": {
            "text/html": [
              "\n",
              "  <div id=\"df-86019621-a316-4670-8517-840cf5250c57\">\n",
              "    <div class=\"colab-df-container\">\n",
              "      <div>\n",
              "<style scoped>\n",
              "    .dataframe tbody tr th:only-of-type {\n",
              "        vertical-align: middle;\n",
              "    }\n",
              "\n",
              "    .dataframe tbody tr th {\n",
              "        vertical-align: top;\n",
              "    }\n",
              "\n",
              "    .dataframe thead th {\n",
              "        text-align: right;\n",
              "    }\n",
              "</style>\n",
              "<table border=\"1\" class=\"dataframe\">\n",
              "  <thead>\n",
              "    <tr style=\"text-align: right;\">\n",
              "      <th></th>\n",
              "      <th>Text</th>\n",
              "      <th>Label</th>\n",
              "    </tr>\n",
              "  </thead>\n",
              "  <tbody>\n",
              "    <tr>\n",
              "      <th>0</th>\n",
              "      <td>A very, very, very slow-moving, aimless movie ...</td>\n",
              "      <td>0</td>\n",
              "    </tr>\n",
              "    <tr>\n",
              "      <th>1</th>\n",
              "      <td>Not sure who was more lost - the flat characte...</td>\n",
              "      <td>0</td>\n",
              "    </tr>\n",
              "    <tr>\n",
              "      <th>2</th>\n",
              "      <td>Attempting artiness with black &amp; white and cle...</td>\n",
              "      <td>0</td>\n",
              "    </tr>\n",
              "    <tr>\n",
              "      <th>3</th>\n",
              "      <td>Very little music or anything to speak of.</td>\n",
              "      <td>0</td>\n",
              "    </tr>\n",
              "    <tr>\n",
              "      <th>4</th>\n",
              "      <td>The best scene in the movie was when Gerardo i...</td>\n",
              "      <td>1</td>\n",
              "    </tr>\n",
              "  </tbody>\n",
              "</table>\n",
              "</div>\n",
              "      <button class=\"colab-df-convert\" onclick=\"convertToInteractive('df-86019621-a316-4670-8517-840cf5250c57')\"\n",
              "              title=\"Convert this dataframe to an interactive table.\"\n",
              "              style=\"display:none;\">\n",
              "        \n",
              "  <svg xmlns=\"http://www.w3.org/2000/svg\" height=\"24px\"viewBox=\"0 0 24 24\"\n",
              "       width=\"24px\">\n",
              "    <path d=\"M0 0h24v24H0V0z\" fill=\"none\"/>\n",
              "    <path d=\"M18.56 5.44l.94 2.06.94-2.06 2.06-.94-2.06-.94-.94-2.06-.94 2.06-2.06.94zm-11 1L8.5 8.5l.94-2.06 2.06-.94-2.06-.94L8.5 2.5l-.94 2.06-2.06.94zm10 10l.94 2.06.94-2.06 2.06-.94-2.06-.94-.94-2.06-.94 2.06-2.06.94z\"/><path d=\"M17.41 7.96l-1.37-1.37c-.4-.4-.92-.59-1.43-.59-.52 0-1.04.2-1.43.59L10.3 9.45l-7.72 7.72c-.78.78-.78 2.05 0 2.83L4 21.41c.39.39.9.59 1.41.59.51 0 1.02-.2 1.41-.59l7.78-7.78 2.81-2.81c.8-.78.8-2.07 0-2.86zM5.41 20L4 18.59l7.72-7.72 1.47 1.35L5.41 20z\"/>\n",
              "  </svg>\n",
              "      </button>\n",
              "      \n",
              "  <style>\n",
              "    .colab-df-container {\n",
              "      display:flex;\n",
              "      flex-wrap:wrap;\n",
              "      gap: 12px;\n",
              "    }\n",
              "\n",
              "    .colab-df-convert {\n",
              "      background-color: #E8F0FE;\n",
              "      border: none;\n",
              "      border-radius: 50%;\n",
              "      cursor: pointer;\n",
              "      display: none;\n",
              "      fill: #1967D2;\n",
              "      height: 32px;\n",
              "      padding: 0 0 0 0;\n",
              "      width: 32px;\n",
              "    }\n",
              "\n",
              "    .colab-df-convert:hover {\n",
              "      background-color: #E2EBFA;\n",
              "      box-shadow: 0px 1px 2px rgba(60, 64, 67, 0.3), 0px 1px 3px 1px rgba(60, 64, 67, 0.15);\n",
              "      fill: #174EA6;\n",
              "    }\n",
              "\n",
              "    [theme=dark] .colab-df-convert {\n",
              "      background-color: #3B4455;\n",
              "      fill: #D2E3FC;\n",
              "    }\n",
              "\n",
              "    [theme=dark] .colab-df-convert:hover {\n",
              "      background-color: #434B5C;\n",
              "      box-shadow: 0px 1px 3px 1px rgba(0, 0, 0, 0.15);\n",
              "      filter: drop-shadow(0px 1px 2px rgba(0, 0, 0, 0.3));\n",
              "      fill: #FFFFFF;\n",
              "    }\n",
              "  </style>\n",
              "\n",
              "      <script>\n",
              "        const buttonEl =\n",
              "          document.querySelector('#df-86019621-a316-4670-8517-840cf5250c57 button.colab-df-convert');\n",
              "        buttonEl.style.display =\n",
              "          google.colab.kernel.accessAllowed ? 'block' : 'none';\n",
              "\n",
              "        async function convertToInteractive(key) {\n",
              "          const element = document.querySelector('#df-86019621-a316-4670-8517-840cf5250c57');\n",
              "          const dataTable =\n",
              "            await google.colab.kernel.invokeFunction('convertToInteractive',\n",
              "                                                     [key], {});\n",
              "          if (!dataTable) return;\n",
              "\n",
              "          const docLinkHtml = 'Like what you see? Visit the ' +\n",
              "            '<a target=\"_blank\" href=https://colab.research.google.com/notebooks/data_table.ipynb>data table notebook</a>'\n",
              "            + ' to learn more about interactive tables.';\n",
              "          element.innerHTML = '';\n",
              "          dataTable['output_type'] = 'display_data';\n",
              "          await google.colab.output.renderOutput(dataTable, element);\n",
              "          const docLink = document.createElement('div');\n",
              "          docLink.innerHTML = docLinkHtml;\n",
              "          element.appendChild(docLink);\n",
              "        }\n",
              "      </script>\n",
              "    </div>\n",
              "  </div>\n",
              "  "
            ],
            "text/plain": [
              "                                                Text  Label\n",
              "0  A very, very, very slow-moving, aimless movie ...      0\n",
              "1  Not sure who was more lost - the flat characte...      0\n",
              "2  Attempting artiness with black & white and cle...      0\n",
              "3       Very little music or anything to speak of.        0\n",
              "4  The best scene in the movie was when Gerardo i...      1"
            ]
          },
          "metadata": {},
          "execution_count": 3
        }
      ]
    },
    {
      "cell_type": "code",
      "source": [
        "data.shape"
      ],
      "metadata": {
        "colab": {
          "base_uri": "https://localhost:8080/"
        },
        "id": "_RdOJeNBMFRj",
        "outputId": "bfa9ed5f-2523-4868-a5a4-ad507a2c8d20"
      },
      "execution_count": 4,
      "outputs": [
        {
          "output_type": "execute_result",
          "data": {
            "text/plain": [
              "(748, 2)"
            ]
          },
          "metadata": {},
          "execution_count": 4
        }
      ]
    },
    {
      "cell_type": "code",
      "source": [
        "data.Label.value_counts()"
      ],
      "metadata": {
        "colab": {
          "base_uri": "https://localhost:8080/"
        },
        "id": "2C911YV_MLdR",
        "outputId": "f438babc-1ef2-430b-ee96-2bbb614bec0e"
      },
      "execution_count": 5,
      "outputs": [
        {
          "output_type": "execute_result",
          "data": {
            "text/plain": [
              "1    386\n",
              "0    362\n",
              "Name: Label, dtype: int64"
            ]
          },
          "metadata": {},
          "execution_count": 5
        }
      ]
    },
    {
      "cell_type": "markdown",
      "source": [
        "**Removing Punctuations**"
      ],
      "metadata": {
        "id": "e5DJBRGyCX0O"
      }
    },
    {
      "cell_type": "code",
      "source": [
        "import re\n",
        "import string\n",
        "def remove_punct(text):\n",
        "    text_nopunct = ''\n",
        "    text_nopunct = re.sub('['+string.punctuation+']', '', text)\n",
        "    return text_nopunct\n",
        "data['Text_Clean'] = data['Text'].apply(lambda x: remove_punct(x))"
      ],
      "metadata": {
        "id": "TVKFvMbPMRhU"
      },
      "execution_count": 6,
      "outputs": []
    },
    {
      "cell_type": "code",
      "source": [
        "data.head()"
      ],
      "metadata": {
        "colab": {
          "base_uri": "https://localhost:8080/",
          "height": 206
        },
        "id": "rFhYxHjvtLpl",
        "outputId": "93d0d90d-bb17-46ab-831c-8067bf4c74dc"
      },
      "execution_count": 7,
      "outputs": [
        {
          "output_type": "execute_result",
          "data": {
            "text/html": [
              "\n",
              "  <div id=\"df-eefc364b-8763-4865-bbd1-9bf9d682d6bb\">\n",
              "    <div class=\"colab-df-container\">\n",
              "      <div>\n",
              "<style scoped>\n",
              "    .dataframe tbody tr th:only-of-type {\n",
              "        vertical-align: middle;\n",
              "    }\n",
              "\n",
              "    .dataframe tbody tr th {\n",
              "        vertical-align: top;\n",
              "    }\n",
              "\n",
              "    .dataframe thead th {\n",
              "        text-align: right;\n",
              "    }\n",
              "</style>\n",
              "<table border=\"1\" class=\"dataframe\">\n",
              "  <thead>\n",
              "    <tr style=\"text-align: right;\">\n",
              "      <th></th>\n",
              "      <th>Text</th>\n",
              "      <th>Label</th>\n",
              "      <th>Text_Clean</th>\n",
              "    </tr>\n",
              "  </thead>\n",
              "  <tbody>\n",
              "    <tr>\n",
              "      <th>0</th>\n",
              "      <td>A very, very, very slow-moving, aimless movie ...</td>\n",
              "      <td>0</td>\n",
              "      <td>A very very very slowmoving aimless movie abou...</td>\n",
              "    </tr>\n",
              "    <tr>\n",
              "      <th>1</th>\n",
              "      <td>Not sure who was more lost - the flat characte...</td>\n",
              "      <td>0</td>\n",
              "      <td>Not sure who was more lost  the flat character...</td>\n",
              "    </tr>\n",
              "    <tr>\n",
              "      <th>2</th>\n",
              "      <td>Attempting artiness with black &amp; white and cle...</td>\n",
              "      <td>0</td>\n",
              "      <td>Attempting artiness with black  white and clev...</td>\n",
              "    </tr>\n",
              "    <tr>\n",
              "      <th>3</th>\n",
              "      <td>Very little music or anything to speak of.</td>\n",
              "      <td>0</td>\n",
              "      <td>Very little music or anything to speak of</td>\n",
              "    </tr>\n",
              "    <tr>\n",
              "      <th>4</th>\n",
              "      <td>The best scene in the movie was when Gerardo i...</td>\n",
              "      <td>1</td>\n",
              "      <td>The best scene in the movie was when Gerardo i...</td>\n",
              "    </tr>\n",
              "  </tbody>\n",
              "</table>\n",
              "</div>\n",
              "      <button class=\"colab-df-convert\" onclick=\"convertToInteractive('df-eefc364b-8763-4865-bbd1-9bf9d682d6bb')\"\n",
              "              title=\"Convert this dataframe to an interactive table.\"\n",
              "              style=\"display:none;\">\n",
              "        \n",
              "  <svg xmlns=\"http://www.w3.org/2000/svg\" height=\"24px\"viewBox=\"0 0 24 24\"\n",
              "       width=\"24px\">\n",
              "    <path d=\"M0 0h24v24H0V0z\" fill=\"none\"/>\n",
              "    <path d=\"M18.56 5.44l.94 2.06.94-2.06 2.06-.94-2.06-.94-.94-2.06-.94 2.06-2.06.94zm-11 1L8.5 8.5l.94-2.06 2.06-.94-2.06-.94L8.5 2.5l-.94 2.06-2.06.94zm10 10l.94 2.06.94-2.06 2.06-.94-2.06-.94-.94-2.06-.94 2.06-2.06.94z\"/><path d=\"M17.41 7.96l-1.37-1.37c-.4-.4-.92-.59-1.43-.59-.52 0-1.04.2-1.43.59L10.3 9.45l-7.72 7.72c-.78.78-.78 2.05 0 2.83L4 21.41c.39.39.9.59 1.41.59.51 0 1.02-.2 1.41-.59l7.78-7.78 2.81-2.81c.8-.78.8-2.07 0-2.86zM5.41 20L4 18.59l7.72-7.72 1.47 1.35L5.41 20z\"/>\n",
              "  </svg>\n",
              "      </button>\n",
              "      \n",
              "  <style>\n",
              "    .colab-df-container {\n",
              "      display:flex;\n",
              "      flex-wrap:wrap;\n",
              "      gap: 12px;\n",
              "    }\n",
              "\n",
              "    .colab-df-convert {\n",
              "      background-color: #E8F0FE;\n",
              "      border: none;\n",
              "      border-radius: 50%;\n",
              "      cursor: pointer;\n",
              "      display: none;\n",
              "      fill: #1967D2;\n",
              "      height: 32px;\n",
              "      padding: 0 0 0 0;\n",
              "      width: 32px;\n",
              "    }\n",
              "\n",
              "    .colab-df-convert:hover {\n",
              "      background-color: #E2EBFA;\n",
              "      box-shadow: 0px 1px 2px rgba(60, 64, 67, 0.3), 0px 1px 3px 1px rgba(60, 64, 67, 0.15);\n",
              "      fill: #174EA6;\n",
              "    }\n",
              "\n",
              "    [theme=dark] .colab-df-convert {\n",
              "      background-color: #3B4455;\n",
              "      fill: #D2E3FC;\n",
              "    }\n",
              "\n",
              "    [theme=dark] .colab-df-convert:hover {\n",
              "      background-color: #434B5C;\n",
              "      box-shadow: 0px 1px 3px 1px rgba(0, 0, 0, 0.15);\n",
              "      filter: drop-shadow(0px 1px 2px rgba(0, 0, 0, 0.3));\n",
              "      fill: #FFFFFF;\n",
              "    }\n",
              "  </style>\n",
              "\n",
              "      <script>\n",
              "        const buttonEl =\n",
              "          document.querySelector('#df-eefc364b-8763-4865-bbd1-9bf9d682d6bb button.colab-df-convert');\n",
              "        buttonEl.style.display =\n",
              "          google.colab.kernel.accessAllowed ? 'block' : 'none';\n",
              "\n",
              "        async function convertToInteractive(key) {\n",
              "          const element = document.querySelector('#df-eefc364b-8763-4865-bbd1-9bf9d682d6bb');\n",
              "          const dataTable =\n",
              "            await google.colab.kernel.invokeFunction('convertToInteractive',\n",
              "                                                     [key], {});\n",
              "          if (!dataTable) return;\n",
              "\n",
              "          const docLinkHtml = 'Like what you see? Visit the ' +\n",
              "            '<a target=\"_blank\" href=https://colab.research.google.com/notebooks/data_table.ipynb>data table notebook</a>'\n",
              "            + ' to learn more about interactive tables.';\n",
              "          element.innerHTML = '';\n",
              "          dataTable['output_type'] = 'display_data';\n",
              "          await google.colab.output.renderOutput(dataTable, element);\n",
              "          const docLink = document.createElement('div');\n",
              "          docLink.innerHTML = docLinkHtml;\n",
              "          element.appendChild(docLink);\n",
              "        }\n",
              "      </script>\n",
              "    </div>\n",
              "  </div>\n",
              "  "
            ],
            "text/plain": [
              "                                                Text  ...                                         Text_Clean\n",
              "0  A very, very, very slow-moving, aimless movie ...  ...  A very very very slowmoving aimless movie abou...\n",
              "1  Not sure who was more lost - the flat characte...  ...  Not sure who was more lost  the flat character...\n",
              "2  Attempting artiness with black & white and cle...  ...  Attempting artiness with black  white and clev...\n",
              "3       Very little music or anything to speak of.    ...        Very little music or anything to speak of  \n",
              "4  The best scene in the movie was when Gerardo i...  ...  The best scene in the movie was when Gerardo i...\n",
              "\n",
              "[5 rows x 3 columns]"
            ]
          },
          "metadata": {},
          "execution_count": 7
        }
      ]
    },
    {
      "cell_type": "markdown",
      "source": [
        "**Tokeniation**"
      ],
      "metadata": {
        "id": "3zRyvDfsChgu"
      }
    },
    {
      "cell_type": "code",
      "source": [
        "import nltk\n",
        "nltk.download('punkt')"
      ],
      "metadata": {
        "colab": {
          "base_uri": "https://localhost:8080/"
        },
        "id": "4YCD5Mk_S-w6",
        "outputId": "f6decccc-3f73-4c54-dfe0-d33d1b396514"
      },
      "execution_count": 8,
      "outputs": [
        {
          "output_type": "stream",
          "name": "stdout",
          "text": [
            "[nltk_data] Downloading package punkt to /root/nltk_data...\n",
            "[nltk_data]   Unzipping tokenizers/punkt.zip.\n"
          ]
        },
        {
          "output_type": "execute_result",
          "data": {
            "text/plain": [
              "True"
            ]
          },
          "metadata": {},
          "execution_count": 8
        }
      ]
    },
    {
      "cell_type": "code",
      "source": [
        "from nltk import word_tokenize\n",
        "tokens = [word_tokenize(sen) for sen in data.Text_Clean]"
      ],
      "metadata": {
        "id": "OU2CcuCaSzY3"
      },
      "execution_count": 9,
      "outputs": []
    },
    {
      "cell_type": "code",
      "source": [
        "tokens[1]"
      ],
      "metadata": {
        "colab": {
          "base_uri": "https://localhost:8080/"
        },
        "id": "412mrLjctYP0",
        "outputId": "1693db5f-6d88-4ab2-e725-dd63cf17f9f1"
      },
      "execution_count": 10,
      "outputs": [
        {
          "output_type": "execute_result",
          "data": {
            "text/plain": [
              "['Not',\n",
              " 'sure',\n",
              " 'who',\n",
              " 'was',\n",
              " 'more',\n",
              " 'lost',\n",
              " 'the',\n",
              " 'flat',\n",
              " 'characters',\n",
              " 'or',\n",
              " 'the',\n",
              " 'audience',\n",
              " 'nearly',\n",
              " 'half',\n",
              " 'of',\n",
              " 'whom',\n",
              " 'walked',\n",
              " 'out']"
            ]
          },
          "metadata": {},
          "execution_count": 10
        }
      ]
    },
    {
      "cell_type": "markdown",
      "source": [
        "**Convert tet to lower case**"
      ],
      "metadata": {
        "id": "WNtecvgRCpfN"
      }
    },
    {
      "cell_type": "code",
      "source": [
        "def lower_token(tokens): \n",
        "    return [w.lower() for w in tokens]    \n",
        "lower_tokens = [lower_token(token) for token in tokens]"
      ],
      "metadata": {
        "id": "zBjXtqm6TMIe"
      },
      "execution_count": 11,
      "outputs": []
    },
    {
      "cell_type": "code",
      "source": [
        "lower_tokens[1]"
      ],
      "metadata": {
        "colab": {
          "base_uri": "https://localhost:8080/"
        },
        "id": "vdUlZ9HJttDE",
        "outputId": "a8844f0b-1c1b-4b87-da51-38d2b97d01f3"
      },
      "execution_count": 12,
      "outputs": [
        {
          "output_type": "execute_result",
          "data": {
            "text/plain": [
              "['not',\n",
              " 'sure',\n",
              " 'who',\n",
              " 'was',\n",
              " 'more',\n",
              " 'lost',\n",
              " 'the',\n",
              " 'flat',\n",
              " 'characters',\n",
              " 'or',\n",
              " 'the',\n",
              " 'audience',\n",
              " 'nearly',\n",
              " 'half',\n",
              " 'of',\n",
              " 'whom',\n",
              " 'walked',\n",
              " 'out']"
            ]
          },
          "metadata": {},
          "execution_count": 12
        }
      ]
    },
    {
      "cell_type": "markdown",
      "source": [
        "## **Removing Stop words**\n",
        "\n",
        "**Stop Words with NLTK**\n",
        "\n",
        "Stop Words with Gensim\n",
        "\n",
        "Stop Words with SpaCy\n",
        "\n"
      ],
      "metadata": {
        "id": "ZV3cV_FfLzVQ"
      }
    },
    {
      "cell_type": "code",
      "source": [
        "nltk.download('stopwords')"
      ],
      "metadata": {
        "colab": {
          "base_uri": "https://localhost:8080/"
        },
        "id": "9n8gA489TaQL",
        "outputId": "e602bebf-9577-4968-e27e-573b25381395"
      },
      "execution_count": 13,
      "outputs": [
        {
          "output_type": "stream",
          "name": "stdout",
          "text": [
            "[nltk_data] Downloading package stopwords to /root/nltk_data...\n",
            "[nltk_data]   Unzipping corpora/stopwords.zip.\n"
          ]
        },
        {
          "output_type": "execute_result",
          "data": {
            "text/plain": [
              "True"
            ]
          },
          "metadata": {},
          "execution_count": 13
        }
      ]
    },
    {
      "cell_type": "code",
      "source": [
        "from nltk.corpus import stopwords\n",
        "stops=stopwords.words('english')\n",
        "print(len(stops))\n",
        "print(stops)"
      ],
      "metadata": {
        "colab": {
          "base_uri": "https://localhost:8080/"
        },
        "id": "tl-XwM5W8PUv",
        "outputId": "d8b6d1ec-f684-4c27-9b3d-83e38c73d332"
      },
      "execution_count": 14,
      "outputs": [
        {
          "output_type": "stream",
          "name": "stdout",
          "text": [
            "179\n",
            "['i', 'me', 'my', 'myself', 'we', 'our', 'ours', 'ourselves', 'you', \"you're\", \"you've\", \"you'll\", \"you'd\", 'your', 'yours', 'yourself', 'yourselves', 'he', 'him', 'his', 'himself', 'she', \"she's\", 'her', 'hers', 'herself', 'it', \"it's\", 'its', 'itself', 'they', 'them', 'their', 'theirs', 'themselves', 'what', 'which', 'who', 'whom', 'this', 'that', \"that'll\", 'these', 'those', 'am', 'is', 'are', 'was', 'were', 'be', 'been', 'being', 'have', 'has', 'had', 'having', 'do', 'does', 'did', 'doing', 'a', 'an', 'the', 'and', 'but', 'if', 'or', 'because', 'as', 'until', 'while', 'of', 'at', 'by', 'for', 'with', 'about', 'against', 'between', 'into', 'through', 'during', 'before', 'after', 'above', 'below', 'to', 'from', 'up', 'down', 'in', 'out', 'on', 'off', 'over', 'under', 'again', 'further', 'then', 'once', 'here', 'there', 'when', 'where', 'why', 'how', 'all', 'any', 'both', 'each', 'few', 'more', 'most', 'other', 'some', 'such', 'no', 'nor', 'not', 'only', 'own', 'same', 'so', 'than', 'too', 'very', 's', 't', 'can', 'will', 'just', 'don', \"don't\", 'should', \"should've\", 'now', 'd', 'll', 'm', 'o', 're', 've', 'y', 'ain', 'aren', \"aren't\", 'couldn', \"couldn't\", 'didn', \"didn't\", 'doesn', \"doesn't\", 'hadn', \"hadn't\", 'hasn', \"hasn't\", 'haven', \"haven't\", 'isn', \"isn't\", 'ma', 'mightn', \"mightn't\", 'mustn', \"mustn't\", 'needn', \"needn't\", 'shan', \"shan't\", 'shouldn', \"shouldn't\", 'wasn', \"wasn't\", 'weren', \"weren't\", 'won', \"won't\", 'wouldn', \"wouldn't\"]\n"
          ]
        }
      ]
    },
    {
      "cell_type": "code",
      "source": [
        "def remove_stopwords(lower_tokens):\n",
        "    filtered_words=[]\n",
        "    for sentence in lower_tokens:\n",
        "        temp_list=[]\n",
        "        for word in sentence:\n",
        "            if word not in stops:\n",
        "                temp_list.append(word)\n",
        "        filtered_words.append(temp_list)\n",
        "    return filtered_words"
      ],
      "metadata": {
        "id": "dBzJA2kcKBDo"
      },
      "execution_count": 15,
      "outputs": []
    },
    {
      "cell_type": "code",
      "source": [
        "filtered_words=remove_stopwords(lower_tokens)\n",
        "len(filtered_words)"
      ],
      "metadata": {
        "colab": {
          "base_uri": "https://localhost:8080/"
        },
        "id": "C6TpF4TPKWNs",
        "outputId": "7134ea71-6d4d-4dad-a5d1-4b2f5818bcd4"
      },
      "execution_count": 16,
      "outputs": [
        {
          "output_type": "execute_result",
          "data": {
            "text/plain": [
              "748"
            ]
          },
          "metadata": {},
          "execution_count": 16
        }
      ]
    },
    {
      "cell_type": "code",
      "source": [
        "data['Text_Final'] = [' '.join(sen) for sen in filtered_words]\n",
        "data['tokens'] = filtered_words"
      ],
      "metadata": {
        "id": "LRxGTH1KHOsY"
      },
      "execution_count": 17,
      "outputs": []
    },
    {
      "cell_type": "code",
      "source": [
        "data.head()"
      ],
      "metadata": {
        "colab": {
          "base_uri": "https://localhost:8080/",
          "height": 0
        },
        "id": "h-JPrxTgCYAe",
        "outputId": "3a1a592a-4a1d-4c10-e136-6c0969059db2"
      },
      "execution_count": 18,
      "outputs": [
        {
          "output_type": "execute_result",
          "data": {
            "text/html": [
              "\n",
              "  <div id=\"df-cfdd7365-1fd7-4b40-968e-40ce1b2b9ddd\">\n",
              "    <div class=\"colab-df-container\">\n",
              "      <div>\n",
              "<style scoped>\n",
              "    .dataframe tbody tr th:only-of-type {\n",
              "        vertical-align: middle;\n",
              "    }\n",
              "\n",
              "    .dataframe tbody tr th {\n",
              "        vertical-align: top;\n",
              "    }\n",
              "\n",
              "    .dataframe thead th {\n",
              "        text-align: right;\n",
              "    }\n",
              "</style>\n",
              "<table border=\"1\" class=\"dataframe\">\n",
              "  <thead>\n",
              "    <tr style=\"text-align: right;\">\n",
              "      <th></th>\n",
              "      <th>Text</th>\n",
              "      <th>Label</th>\n",
              "      <th>Text_Clean</th>\n",
              "      <th>Text_Final</th>\n",
              "      <th>tokens</th>\n",
              "    </tr>\n",
              "  </thead>\n",
              "  <tbody>\n",
              "    <tr>\n",
              "      <th>0</th>\n",
              "      <td>A very, very, very slow-moving, aimless movie ...</td>\n",
              "      <td>0</td>\n",
              "      <td>A very very very slowmoving aimless movie abou...</td>\n",
              "      <td>slowmoving aimless movie distressed drifting y...</td>\n",
              "      <td>[slowmoving, aimless, movie, distressed, drift...</td>\n",
              "    </tr>\n",
              "    <tr>\n",
              "      <th>1</th>\n",
              "      <td>Not sure who was more lost - the flat characte...</td>\n",
              "      <td>0</td>\n",
              "      <td>Not sure who was more lost  the flat character...</td>\n",
              "      <td>sure lost flat characters audience nearly half...</td>\n",
              "      <td>[sure, lost, flat, characters, audience, nearl...</td>\n",
              "    </tr>\n",
              "    <tr>\n",
              "      <th>2</th>\n",
              "      <td>Attempting artiness with black &amp; white and cle...</td>\n",
              "      <td>0</td>\n",
              "      <td>Attempting artiness with black  white and clev...</td>\n",
              "      <td>attempting artiness black white clever camera ...</td>\n",
              "      <td>[attempting, artiness, black, white, clever, c...</td>\n",
              "    </tr>\n",
              "    <tr>\n",
              "      <th>3</th>\n",
              "      <td>Very little music or anything to speak of.</td>\n",
              "      <td>0</td>\n",
              "      <td>Very little music or anything to speak of</td>\n",
              "      <td>little music anything speak</td>\n",
              "      <td>[little, music, anything, speak]</td>\n",
              "    </tr>\n",
              "    <tr>\n",
              "      <th>4</th>\n",
              "      <td>The best scene in the movie was when Gerardo i...</td>\n",
              "      <td>1</td>\n",
              "      <td>The best scene in the movie was when Gerardo i...</td>\n",
              "      <td>best scene movie gerardo trying find song keep...</td>\n",
              "      <td>[best, scene, movie, gerardo, trying, find, so...</td>\n",
              "    </tr>\n",
              "  </tbody>\n",
              "</table>\n",
              "</div>\n",
              "      <button class=\"colab-df-convert\" onclick=\"convertToInteractive('df-cfdd7365-1fd7-4b40-968e-40ce1b2b9ddd')\"\n",
              "              title=\"Convert this dataframe to an interactive table.\"\n",
              "              style=\"display:none;\">\n",
              "        \n",
              "  <svg xmlns=\"http://www.w3.org/2000/svg\" height=\"24px\"viewBox=\"0 0 24 24\"\n",
              "       width=\"24px\">\n",
              "    <path d=\"M0 0h24v24H0V0z\" fill=\"none\"/>\n",
              "    <path d=\"M18.56 5.44l.94 2.06.94-2.06 2.06-.94-2.06-.94-.94-2.06-.94 2.06-2.06.94zm-11 1L8.5 8.5l.94-2.06 2.06-.94-2.06-.94L8.5 2.5l-.94 2.06-2.06.94zm10 10l.94 2.06.94-2.06 2.06-.94-2.06-.94-.94-2.06-.94 2.06-2.06.94z\"/><path d=\"M17.41 7.96l-1.37-1.37c-.4-.4-.92-.59-1.43-.59-.52 0-1.04.2-1.43.59L10.3 9.45l-7.72 7.72c-.78.78-.78 2.05 0 2.83L4 21.41c.39.39.9.59 1.41.59.51 0 1.02-.2 1.41-.59l7.78-7.78 2.81-2.81c.8-.78.8-2.07 0-2.86zM5.41 20L4 18.59l7.72-7.72 1.47 1.35L5.41 20z\"/>\n",
              "  </svg>\n",
              "      </button>\n",
              "      \n",
              "  <style>\n",
              "    .colab-df-container {\n",
              "      display:flex;\n",
              "      flex-wrap:wrap;\n",
              "      gap: 12px;\n",
              "    }\n",
              "\n",
              "    .colab-df-convert {\n",
              "      background-color: #E8F0FE;\n",
              "      border: none;\n",
              "      border-radius: 50%;\n",
              "      cursor: pointer;\n",
              "      display: none;\n",
              "      fill: #1967D2;\n",
              "      height: 32px;\n",
              "      padding: 0 0 0 0;\n",
              "      width: 32px;\n",
              "    }\n",
              "\n",
              "    .colab-df-convert:hover {\n",
              "      background-color: #E2EBFA;\n",
              "      box-shadow: 0px 1px 2px rgba(60, 64, 67, 0.3), 0px 1px 3px 1px rgba(60, 64, 67, 0.15);\n",
              "      fill: #174EA6;\n",
              "    }\n",
              "\n",
              "    [theme=dark] .colab-df-convert {\n",
              "      background-color: #3B4455;\n",
              "      fill: #D2E3FC;\n",
              "    }\n",
              "\n",
              "    [theme=dark] .colab-df-convert:hover {\n",
              "      background-color: #434B5C;\n",
              "      box-shadow: 0px 1px 3px 1px rgba(0, 0, 0, 0.15);\n",
              "      filter: drop-shadow(0px 1px 2px rgba(0, 0, 0, 0.3));\n",
              "      fill: #FFFFFF;\n",
              "    }\n",
              "  </style>\n",
              "\n",
              "      <script>\n",
              "        const buttonEl =\n",
              "          document.querySelector('#df-cfdd7365-1fd7-4b40-968e-40ce1b2b9ddd button.colab-df-convert');\n",
              "        buttonEl.style.display =\n",
              "          google.colab.kernel.accessAllowed ? 'block' : 'none';\n",
              "\n",
              "        async function convertToInteractive(key) {\n",
              "          const element = document.querySelector('#df-cfdd7365-1fd7-4b40-968e-40ce1b2b9ddd');\n",
              "          const dataTable =\n",
              "            await google.colab.kernel.invokeFunction('convertToInteractive',\n",
              "                                                     [key], {});\n",
              "          if (!dataTable) return;\n",
              "\n",
              "          const docLinkHtml = 'Like what you see? Visit the ' +\n",
              "            '<a target=\"_blank\" href=https://colab.research.google.com/notebooks/data_table.ipynb>data table notebook</a>'\n",
              "            + ' to learn more about interactive tables.';\n",
              "          element.innerHTML = '';\n",
              "          dataTable['output_type'] = 'display_data';\n",
              "          await google.colab.output.renderOutput(dataTable, element);\n",
              "          const docLink = document.createElement('div');\n",
              "          docLink.innerHTML = docLinkHtml;\n",
              "          element.appendChild(docLink);\n",
              "        }\n",
              "      </script>\n",
              "    </div>\n",
              "  </div>\n",
              "  "
            ],
            "text/plain": [
              "                                                Text  ...                                             tokens\n",
              "0  A very, very, very slow-moving, aimless movie ...  ...  [slowmoving, aimless, movie, distressed, drift...\n",
              "1  Not sure who was more lost - the flat characte...  ...  [sure, lost, flat, characters, audience, nearl...\n",
              "2  Attempting artiness with black & white and cle...  ...  [attempting, artiness, black, white, clever, c...\n",
              "3       Very little music or anything to speak of.    ...                   [little, music, anything, speak]\n",
              "4  The best scene in the movie was when Gerardo i...  ...  [best, scene, movie, gerardo, trying, find, so...\n",
              "\n",
              "[5 rows x 5 columns]"
            ]
          },
          "metadata": {},
          "execution_count": 18
        }
      ]
    },
    {
      "cell_type": "code",
      "source": [
        "from nltk.corpus import stopwords\n",
        "stoplist = stopwords.words('english')\n",
        "def removeStopWords(tokens): \n",
        "    return [word for word in tokens if word not in stoplist]\n",
        "filtered_words = [removeStopWords(sen) for sen in lower_tokens]\n",
        "data['Text_Final'] = [' '.join(sen) for sen in filtered_words]\n",
        "data['tokens'] = filtered_words"
      ],
      "metadata": {
        "id": "loRVs-ALTTy3"
      },
      "execution_count": 19,
      "outputs": []
    },
    {
      "cell_type": "code",
      "source": [
        "data.head()"
      ],
      "metadata": {
        "colab": {
          "base_uri": "https://localhost:8080/",
          "height": 0
        },
        "id": "ZsiLqVDICtOG",
        "outputId": "4f8e9e57-d818-4982-e18f-005b2f3640ab"
      },
      "execution_count": 20,
      "outputs": [
        {
          "output_type": "execute_result",
          "data": {
            "text/html": [
              "\n",
              "  <div id=\"df-26bb2e8b-ef7e-4afe-9a4d-b7b5f2b963a2\">\n",
              "    <div class=\"colab-df-container\">\n",
              "      <div>\n",
              "<style scoped>\n",
              "    .dataframe tbody tr th:only-of-type {\n",
              "        vertical-align: middle;\n",
              "    }\n",
              "\n",
              "    .dataframe tbody tr th {\n",
              "        vertical-align: top;\n",
              "    }\n",
              "\n",
              "    .dataframe thead th {\n",
              "        text-align: right;\n",
              "    }\n",
              "</style>\n",
              "<table border=\"1\" class=\"dataframe\">\n",
              "  <thead>\n",
              "    <tr style=\"text-align: right;\">\n",
              "      <th></th>\n",
              "      <th>Text</th>\n",
              "      <th>Label</th>\n",
              "      <th>Text_Clean</th>\n",
              "      <th>Text_Final</th>\n",
              "      <th>tokens</th>\n",
              "    </tr>\n",
              "  </thead>\n",
              "  <tbody>\n",
              "    <tr>\n",
              "      <th>0</th>\n",
              "      <td>A very, very, very slow-moving, aimless movie ...</td>\n",
              "      <td>0</td>\n",
              "      <td>A very very very slowmoving aimless movie abou...</td>\n",
              "      <td>slowmoving aimless movie distressed drifting y...</td>\n",
              "      <td>[slowmoving, aimless, movie, distressed, drift...</td>\n",
              "    </tr>\n",
              "    <tr>\n",
              "      <th>1</th>\n",
              "      <td>Not sure who was more lost - the flat characte...</td>\n",
              "      <td>0</td>\n",
              "      <td>Not sure who was more lost  the flat character...</td>\n",
              "      <td>sure lost flat characters audience nearly half...</td>\n",
              "      <td>[sure, lost, flat, characters, audience, nearl...</td>\n",
              "    </tr>\n",
              "    <tr>\n",
              "      <th>2</th>\n",
              "      <td>Attempting artiness with black &amp; white and cle...</td>\n",
              "      <td>0</td>\n",
              "      <td>Attempting artiness with black  white and clev...</td>\n",
              "      <td>attempting artiness black white clever camera ...</td>\n",
              "      <td>[attempting, artiness, black, white, clever, c...</td>\n",
              "    </tr>\n",
              "    <tr>\n",
              "      <th>3</th>\n",
              "      <td>Very little music or anything to speak of.</td>\n",
              "      <td>0</td>\n",
              "      <td>Very little music or anything to speak of</td>\n",
              "      <td>little music anything speak</td>\n",
              "      <td>[little, music, anything, speak]</td>\n",
              "    </tr>\n",
              "    <tr>\n",
              "      <th>4</th>\n",
              "      <td>The best scene in the movie was when Gerardo i...</td>\n",
              "      <td>1</td>\n",
              "      <td>The best scene in the movie was when Gerardo i...</td>\n",
              "      <td>best scene movie gerardo trying find song keep...</td>\n",
              "      <td>[best, scene, movie, gerardo, trying, find, so...</td>\n",
              "    </tr>\n",
              "  </tbody>\n",
              "</table>\n",
              "</div>\n",
              "      <button class=\"colab-df-convert\" onclick=\"convertToInteractive('df-26bb2e8b-ef7e-4afe-9a4d-b7b5f2b963a2')\"\n",
              "              title=\"Convert this dataframe to an interactive table.\"\n",
              "              style=\"display:none;\">\n",
              "        \n",
              "  <svg xmlns=\"http://www.w3.org/2000/svg\" height=\"24px\"viewBox=\"0 0 24 24\"\n",
              "       width=\"24px\">\n",
              "    <path d=\"M0 0h24v24H0V0z\" fill=\"none\"/>\n",
              "    <path d=\"M18.56 5.44l.94 2.06.94-2.06 2.06-.94-2.06-.94-.94-2.06-.94 2.06-2.06.94zm-11 1L8.5 8.5l.94-2.06 2.06-.94-2.06-.94L8.5 2.5l-.94 2.06-2.06.94zm10 10l.94 2.06.94-2.06 2.06-.94-2.06-.94-.94-2.06-.94 2.06-2.06.94z\"/><path d=\"M17.41 7.96l-1.37-1.37c-.4-.4-.92-.59-1.43-.59-.52 0-1.04.2-1.43.59L10.3 9.45l-7.72 7.72c-.78.78-.78 2.05 0 2.83L4 21.41c.39.39.9.59 1.41.59.51 0 1.02-.2 1.41-.59l7.78-7.78 2.81-2.81c.8-.78.8-2.07 0-2.86zM5.41 20L4 18.59l7.72-7.72 1.47 1.35L5.41 20z\"/>\n",
              "  </svg>\n",
              "      </button>\n",
              "      \n",
              "  <style>\n",
              "    .colab-df-container {\n",
              "      display:flex;\n",
              "      flex-wrap:wrap;\n",
              "      gap: 12px;\n",
              "    }\n",
              "\n",
              "    .colab-df-convert {\n",
              "      background-color: #E8F0FE;\n",
              "      border: none;\n",
              "      border-radius: 50%;\n",
              "      cursor: pointer;\n",
              "      display: none;\n",
              "      fill: #1967D2;\n",
              "      height: 32px;\n",
              "      padding: 0 0 0 0;\n",
              "      width: 32px;\n",
              "    }\n",
              "\n",
              "    .colab-df-convert:hover {\n",
              "      background-color: #E2EBFA;\n",
              "      box-shadow: 0px 1px 2px rgba(60, 64, 67, 0.3), 0px 1px 3px 1px rgba(60, 64, 67, 0.15);\n",
              "      fill: #174EA6;\n",
              "    }\n",
              "\n",
              "    [theme=dark] .colab-df-convert {\n",
              "      background-color: #3B4455;\n",
              "      fill: #D2E3FC;\n",
              "    }\n",
              "\n",
              "    [theme=dark] .colab-df-convert:hover {\n",
              "      background-color: #434B5C;\n",
              "      box-shadow: 0px 1px 3px 1px rgba(0, 0, 0, 0.15);\n",
              "      filter: drop-shadow(0px 1px 2px rgba(0, 0, 0, 0.3));\n",
              "      fill: #FFFFFF;\n",
              "    }\n",
              "  </style>\n",
              "\n",
              "      <script>\n",
              "        const buttonEl =\n",
              "          document.querySelector('#df-26bb2e8b-ef7e-4afe-9a4d-b7b5f2b963a2 button.colab-df-convert');\n",
              "        buttonEl.style.display =\n",
              "          google.colab.kernel.accessAllowed ? 'block' : 'none';\n",
              "\n",
              "        async function convertToInteractive(key) {\n",
              "          const element = document.querySelector('#df-26bb2e8b-ef7e-4afe-9a4d-b7b5f2b963a2');\n",
              "          const dataTable =\n",
              "            await google.colab.kernel.invokeFunction('convertToInteractive',\n",
              "                                                     [key], {});\n",
              "          if (!dataTable) return;\n",
              "\n",
              "          const docLinkHtml = 'Like what you see? Visit the ' +\n",
              "            '<a target=\"_blank\" href=https://colab.research.google.com/notebooks/data_table.ipynb>data table notebook</a>'\n",
              "            + ' to learn more about interactive tables.';\n",
              "          element.innerHTML = '';\n",
              "          dataTable['output_type'] = 'display_data';\n",
              "          await google.colab.output.renderOutput(dataTable, element);\n",
              "          const docLink = document.createElement('div');\n",
              "          docLink.innerHTML = docLinkHtml;\n",
              "          element.appendChild(docLink);\n",
              "        }\n",
              "      </script>\n",
              "    </div>\n",
              "  </div>\n",
              "  "
            ],
            "text/plain": [
              "                                                Text  ...                                             tokens\n",
              "0  A very, very, very slow-moving, aimless movie ...  ...  [slowmoving, aimless, movie, distressed, drift...\n",
              "1  Not sure who was more lost - the flat characte...  ...  [sure, lost, flat, characters, audience, nearl...\n",
              "2  Attempting artiness with black & white and cle...  ...  [attempting, artiness, black, white, clever, c...\n",
              "3       Very little music or anything to speak of.    ...                   [little, music, anything, speak]\n",
              "4  The best scene in the movie was when Gerardo i...  ...  [best, scene, movie, gerardo, trying, find, so...\n",
              "\n",
              "[5 rows x 5 columns]"
            ]
          },
          "metadata": {},
          "execution_count": 20
        }
      ]
    },
    {
      "cell_type": "markdown",
      "source": [
        "## **Stemming and Lemmatization**\n",
        "\n",
        "\n",
        "**Stemming:**\n",
        "*   Stemming is a text normalization technique that cuts off the end or beginning of a word by taking into account a list of common prefixes or suffixes that could be found in that word\n",
        "*   It is a rudimentary rule-based process of stripping the suffixes (“ing”, “ly”, “es”, “s” etc) from a word\n",
        "\n",
        "**Lemmatization:**\n",
        "\n",
        "\n",
        "*  organized & step-by-step procedure of obtaining the root form of the word. *   It uses the vocabulary (dictionary importance of words) and morphological analysis (word structure and grammar relations).\n",
        "\n"
      ],
      "metadata": {
        "id": "MuI1NixdMcbG"
      }
    },
    {
      "cell_type": "code",
      "source": [
        "from nltk.stem import PorterStemmer\n",
        "ps =PorterStemmer()\n",
        "# data['stem'] = ps.stem(data['tokens'])\n",
        "def Stem_words(tokens):\n",
        "    root_words=[]\n",
        "    for sentence in tokens:\n",
        "        temp_list=[]\n",
        "        for word in sentence:\n",
        "            if word not in stops:\n",
        "              rootWord=ps.stem(word)\n",
        "              temp_list.append(rootWord)\n",
        "        root_words.append(temp_list)\n",
        "    return root_words"
      ],
      "metadata": {
        "id": "Dkx4RYbVMgov"
      },
      "execution_count": 21,
      "outputs": []
    },
    {
      "cell_type": "code",
      "source": [
        "root_words=Stem_words(data['tokens'])\n",
        "data['stems'] = root_words\n",
        "data.head()"
      ],
      "metadata": {
        "colab": {
          "base_uri": "https://localhost:8080/",
          "height": 337
        },
        "id": "fR0sMCetQMzV",
        "outputId": "26adc101-43e6-48ed-c7fc-f88a8ee1f398"
      },
      "execution_count": 22,
      "outputs": [
        {
          "output_type": "execute_result",
          "data": {
            "text/html": [
              "\n",
              "  <div id=\"df-33a31173-a472-4423-afe8-33ec83cadb0a\">\n",
              "    <div class=\"colab-df-container\">\n",
              "      <div>\n",
              "<style scoped>\n",
              "    .dataframe tbody tr th:only-of-type {\n",
              "        vertical-align: middle;\n",
              "    }\n",
              "\n",
              "    .dataframe tbody tr th {\n",
              "        vertical-align: top;\n",
              "    }\n",
              "\n",
              "    .dataframe thead th {\n",
              "        text-align: right;\n",
              "    }\n",
              "</style>\n",
              "<table border=\"1\" class=\"dataframe\">\n",
              "  <thead>\n",
              "    <tr style=\"text-align: right;\">\n",
              "      <th></th>\n",
              "      <th>Text</th>\n",
              "      <th>Label</th>\n",
              "      <th>Text_Clean</th>\n",
              "      <th>Text_Final</th>\n",
              "      <th>tokens</th>\n",
              "      <th>stems</th>\n",
              "    </tr>\n",
              "  </thead>\n",
              "  <tbody>\n",
              "    <tr>\n",
              "      <th>0</th>\n",
              "      <td>A very, very, very slow-moving, aimless movie ...</td>\n",
              "      <td>0</td>\n",
              "      <td>A very very very slowmoving aimless movie abou...</td>\n",
              "      <td>slowmoving aimless movie distressed drifting y...</td>\n",
              "      <td>[slowmoving, aimless, movie, distressed, drift...</td>\n",
              "      <td>[slowmov, aimless, movi, distress, drift, youn...</td>\n",
              "    </tr>\n",
              "    <tr>\n",
              "      <th>1</th>\n",
              "      <td>Not sure who was more lost - the flat characte...</td>\n",
              "      <td>0</td>\n",
              "      <td>Not sure who was more lost  the flat character...</td>\n",
              "      <td>sure lost flat characters audience nearly half...</td>\n",
              "      <td>[sure, lost, flat, characters, audience, nearl...</td>\n",
              "      <td>[sure, lost, flat, charact, audienc, nearli, h...</td>\n",
              "    </tr>\n",
              "    <tr>\n",
              "      <th>2</th>\n",
              "      <td>Attempting artiness with black &amp; white and cle...</td>\n",
              "      <td>0</td>\n",
              "      <td>Attempting artiness with black  white and clev...</td>\n",
              "      <td>attempting artiness black white clever camera ...</td>\n",
              "      <td>[attempting, artiness, black, white, clever, c...</td>\n",
              "      <td>[attempt, arti, black, white, clever, camera, ...</td>\n",
              "    </tr>\n",
              "    <tr>\n",
              "      <th>3</th>\n",
              "      <td>Very little music or anything to speak of.</td>\n",
              "      <td>0</td>\n",
              "      <td>Very little music or anything to speak of</td>\n",
              "      <td>little music anything speak</td>\n",
              "      <td>[little, music, anything, speak]</td>\n",
              "      <td>[littl, music, anyth, speak]</td>\n",
              "    </tr>\n",
              "    <tr>\n",
              "      <th>4</th>\n",
              "      <td>The best scene in the movie was when Gerardo i...</td>\n",
              "      <td>1</td>\n",
              "      <td>The best scene in the movie was when Gerardo i...</td>\n",
              "      <td>best scene movie gerardo trying find song keep...</td>\n",
              "      <td>[best, scene, movie, gerardo, trying, find, so...</td>\n",
              "      <td>[best, scene, movi, gerardo, tri, find, song, ...</td>\n",
              "    </tr>\n",
              "  </tbody>\n",
              "</table>\n",
              "</div>\n",
              "      <button class=\"colab-df-convert\" onclick=\"convertToInteractive('df-33a31173-a472-4423-afe8-33ec83cadb0a')\"\n",
              "              title=\"Convert this dataframe to an interactive table.\"\n",
              "              style=\"display:none;\">\n",
              "        \n",
              "  <svg xmlns=\"http://www.w3.org/2000/svg\" height=\"24px\"viewBox=\"0 0 24 24\"\n",
              "       width=\"24px\">\n",
              "    <path d=\"M0 0h24v24H0V0z\" fill=\"none\"/>\n",
              "    <path d=\"M18.56 5.44l.94 2.06.94-2.06 2.06-.94-2.06-.94-.94-2.06-.94 2.06-2.06.94zm-11 1L8.5 8.5l.94-2.06 2.06-.94-2.06-.94L8.5 2.5l-.94 2.06-2.06.94zm10 10l.94 2.06.94-2.06 2.06-.94-2.06-.94-.94-2.06-.94 2.06-2.06.94z\"/><path d=\"M17.41 7.96l-1.37-1.37c-.4-.4-.92-.59-1.43-.59-.52 0-1.04.2-1.43.59L10.3 9.45l-7.72 7.72c-.78.78-.78 2.05 0 2.83L4 21.41c.39.39.9.59 1.41.59.51 0 1.02-.2 1.41-.59l7.78-7.78 2.81-2.81c.8-.78.8-2.07 0-2.86zM5.41 20L4 18.59l7.72-7.72 1.47 1.35L5.41 20z\"/>\n",
              "  </svg>\n",
              "      </button>\n",
              "      \n",
              "  <style>\n",
              "    .colab-df-container {\n",
              "      display:flex;\n",
              "      flex-wrap:wrap;\n",
              "      gap: 12px;\n",
              "    }\n",
              "\n",
              "    .colab-df-convert {\n",
              "      background-color: #E8F0FE;\n",
              "      border: none;\n",
              "      border-radius: 50%;\n",
              "      cursor: pointer;\n",
              "      display: none;\n",
              "      fill: #1967D2;\n",
              "      height: 32px;\n",
              "      padding: 0 0 0 0;\n",
              "      width: 32px;\n",
              "    }\n",
              "\n",
              "    .colab-df-convert:hover {\n",
              "      background-color: #E2EBFA;\n",
              "      box-shadow: 0px 1px 2px rgba(60, 64, 67, 0.3), 0px 1px 3px 1px rgba(60, 64, 67, 0.15);\n",
              "      fill: #174EA6;\n",
              "    }\n",
              "\n",
              "    [theme=dark] .colab-df-convert {\n",
              "      background-color: #3B4455;\n",
              "      fill: #D2E3FC;\n",
              "    }\n",
              "\n",
              "    [theme=dark] .colab-df-convert:hover {\n",
              "      background-color: #434B5C;\n",
              "      box-shadow: 0px 1px 3px 1px rgba(0, 0, 0, 0.15);\n",
              "      filter: drop-shadow(0px 1px 2px rgba(0, 0, 0, 0.3));\n",
              "      fill: #FFFFFF;\n",
              "    }\n",
              "  </style>\n",
              "\n",
              "      <script>\n",
              "        const buttonEl =\n",
              "          document.querySelector('#df-33a31173-a472-4423-afe8-33ec83cadb0a button.colab-df-convert');\n",
              "        buttonEl.style.display =\n",
              "          google.colab.kernel.accessAllowed ? 'block' : 'none';\n",
              "\n",
              "        async function convertToInteractive(key) {\n",
              "          const element = document.querySelector('#df-33a31173-a472-4423-afe8-33ec83cadb0a');\n",
              "          const dataTable =\n",
              "            await google.colab.kernel.invokeFunction('convertToInteractive',\n",
              "                                                     [key], {});\n",
              "          if (!dataTable) return;\n",
              "\n",
              "          const docLinkHtml = 'Like what you see? Visit the ' +\n",
              "            '<a target=\"_blank\" href=https://colab.research.google.com/notebooks/data_table.ipynb>data table notebook</a>'\n",
              "            + ' to learn more about interactive tables.';\n",
              "          element.innerHTML = '';\n",
              "          dataTable['output_type'] = 'display_data';\n",
              "          await google.colab.output.renderOutput(dataTable, element);\n",
              "          const docLink = document.createElement('div');\n",
              "          docLink.innerHTML = docLinkHtml;\n",
              "          element.appendChild(docLink);\n",
              "        }\n",
              "      </script>\n",
              "    </div>\n",
              "  </div>\n",
              "  "
            ],
            "text/plain": [
              "                                                Text  ...                                              stems\n",
              "0  A very, very, very slow-moving, aimless movie ...  ...  [slowmov, aimless, movi, distress, drift, youn...\n",
              "1  Not sure who was more lost - the flat characte...  ...  [sure, lost, flat, charact, audienc, nearli, h...\n",
              "2  Attempting artiness with black & white and cle...  ...  [attempt, arti, black, white, clever, camera, ...\n",
              "3       Very little music or anything to speak of.    ...                       [littl, music, anyth, speak]\n",
              "4  The best scene in the movie was when Gerardo i...  ...  [best, scene, movi, gerardo, tri, find, song, ...\n",
              "\n",
              "[5 rows x 6 columns]"
            ]
          },
          "metadata": {},
          "execution_count": 22
        }
      ]
    },
    {
      "cell_type": "code",
      "source": [
        "nltk.download('wordnet')"
      ],
      "metadata": {
        "colab": {
          "base_uri": "https://localhost:8080/"
        },
        "id": "YxF4rnaCSXAN",
        "outputId": "c0dfe9c0-8391-4df0-978a-ad0de5842fa9"
      },
      "execution_count": 23,
      "outputs": [
        {
          "output_type": "stream",
          "name": "stdout",
          "text": [
            "[nltk_data] Downloading package wordnet to /root/nltk_data...\n",
            "[nltk_data]   Unzipping corpora/wordnet.zip.\n"
          ]
        },
        {
          "output_type": "execute_result",
          "data": {
            "text/plain": [
              "True"
            ]
          },
          "metadata": {},
          "execution_count": 23
        }
      ]
    },
    {
      "cell_type": "code",
      "source": [
        "from nltk.stem import WordNetLemmatizer\n",
        "wordnet_lemmatizer = WordNetLemmatizer()\n",
        "# data['stem'] = ps.stem(data['tokens'])\n",
        "def Lem_words(tokens):\n",
        "    lemma_word = []\n",
        "    for sentence in tokens:\n",
        "        temp_list=[]\n",
        "        for word in sentence:\n",
        "            if word not in stops:\n",
        "              word1 = wordnet_lemmatizer.lemmatize(word, pos = \"n\")\n",
        "              word2 = wordnet_lemmatizer.lemmatize(word1, pos = \"v\")\n",
        "              word3 = wordnet_lemmatizer.lemmatize(word2, pos = (\"a\"))\n",
        "              temp_list.append(word3)\n",
        "        lemma_word.append(temp_list)\n",
        "    return lemma_word"
      ],
      "metadata": {
        "id": "SXoDn0TCRRt5"
      },
      "execution_count": 24,
      "outputs": []
    },
    {
      "cell_type": "code",
      "source": [
        "lemma_word=Lem_words(data['tokens'])\n",
        "data['lemma'] = lemma_word\n",
        "data.head()"
      ],
      "metadata": {
        "colab": {
          "base_uri": "https://localhost:8080/",
          "height": 337
        },
        "id": "a4Rusz63SGZX",
        "outputId": "16cf316d-a7da-4444-dcc2-19c4ed442392"
      },
      "execution_count": 25,
      "outputs": [
        {
          "output_type": "execute_result",
          "data": {
            "text/html": [
              "\n",
              "  <div id=\"df-eb0b05e2-5b3f-4199-8254-fa20e2d227e1\">\n",
              "    <div class=\"colab-df-container\">\n",
              "      <div>\n",
              "<style scoped>\n",
              "    .dataframe tbody tr th:only-of-type {\n",
              "        vertical-align: middle;\n",
              "    }\n",
              "\n",
              "    .dataframe tbody tr th {\n",
              "        vertical-align: top;\n",
              "    }\n",
              "\n",
              "    .dataframe thead th {\n",
              "        text-align: right;\n",
              "    }\n",
              "</style>\n",
              "<table border=\"1\" class=\"dataframe\">\n",
              "  <thead>\n",
              "    <tr style=\"text-align: right;\">\n",
              "      <th></th>\n",
              "      <th>Text</th>\n",
              "      <th>Label</th>\n",
              "      <th>Text_Clean</th>\n",
              "      <th>Text_Final</th>\n",
              "      <th>tokens</th>\n",
              "      <th>stems</th>\n",
              "      <th>lemma</th>\n",
              "    </tr>\n",
              "  </thead>\n",
              "  <tbody>\n",
              "    <tr>\n",
              "      <th>0</th>\n",
              "      <td>A very, very, very slow-moving, aimless movie ...</td>\n",
              "      <td>0</td>\n",
              "      <td>A very very very slowmoving aimless movie abou...</td>\n",
              "      <td>slowmoving aimless movie distressed drifting y...</td>\n",
              "      <td>[slowmoving, aimless, movie, distressed, drift...</td>\n",
              "      <td>[slowmov, aimless, movi, distress, drift, youn...</td>\n",
              "      <td>[slowmoving, aimless, movie, distress, drift, ...</td>\n",
              "    </tr>\n",
              "    <tr>\n",
              "      <th>1</th>\n",
              "      <td>Not sure who was more lost - the flat characte...</td>\n",
              "      <td>0</td>\n",
              "      <td>Not sure who was more lost  the flat character...</td>\n",
              "      <td>sure lost flat characters audience nearly half...</td>\n",
              "      <td>[sure, lost, flat, characters, audience, nearl...</td>\n",
              "      <td>[sure, lost, flat, charact, audienc, nearli, h...</td>\n",
              "      <td>[sure, lose, flat, character, audience, nearly...</td>\n",
              "    </tr>\n",
              "    <tr>\n",
              "      <th>2</th>\n",
              "      <td>Attempting artiness with black &amp; white and cle...</td>\n",
              "      <td>0</td>\n",
              "      <td>Attempting artiness with black  white and clev...</td>\n",
              "      <td>attempting artiness black white clever camera ...</td>\n",
              "      <td>[attempting, artiness, black, white, clever, c...</td>\n",
              "      <td>[attempt, arti, black, white, clever, camera, ...</td>\n",
              "      <td>[attempt, artiness, black, white, clever, came...</td>\n",
              "    </tr>\n",
              "    <tr>\n",
              "      <th>3</th>\n",
              "      <td>Very little music or anything to speak of.</td>\n",
              "      <td>0</td>\n",
              "      <td>Very little music or anything to speak of</td>\n",
              "      <td>little music anything speak</td>\n",
              "      <td>[little, music, anything, speak]</td>\n",
              "      <td>[littl, music, anyth, speak]</td>\n",
              "      <td>[little, music, anything, speak]</td>\n",
              "    </tr>\n",
              "    <tr>\n",
              "      <th>4</th>\n",
              "      <td>The best scene in the movie was when Gerardo i...</td>\n",
              "      <td>1</td>\n",
              "      <td>The best scene in the movie was when Gerardo i...</td>\n",
              "      <td>best scene movie gerardo trying find song keep...</td>\n",
              "      <td>[best, scene, movie, gerardo, trying, find, so...</td>\n",
              "      <td>[best, scene, movi, gerardo, tri, find, song, ...</td>\n",
              "      <td>[best, scene, movie, gerardo, try, find, song,...</td>\n",
              "    </tr>\n",
              "  </tbody>\n",
              "</table>\n",
              "</div>\n",
              "      <button class=\"colab-df-convert\" onclick=\"convertToInteractive('df-eb0b05e2-5b3f-4199-8254-fa20e2d227e1')\"\n",
              "              title=\"Convert this dataframe to an interactive table.\"\n",
              "              style=\"display:none;\">\n",
              "        \n",
              "  <svg xmlns=\"http://www.w3.org/2000/svg\" height=\"24px\"viewBox=\"0 0 24 24\"\n",
              "       width=\"24px\">\n",
              "    <path d=\"M0 0h24v24H0V0z\" fill=\"none\"/>\n",
              "    <path d=\"M18.56 5.44l.94 2.06.94-2.06 2.06-.94-2.06-.94-.94-2.06-.94 2.06-2.06.94zm-11 1L8.5 8.5l.94-2.06 2.06-.94-2.06-.94L8.5 2.5l-.94 2.06-2.06.94zm10 10l.94 2.06.94-2.06 2.06-.94-2.06-.94-.94-2.06-.94 2.06-2.06.94z\"/><path d=\"M17.41 7.96l-1.37-1.37c-.4-.4-.92-.59-1.43-.59-.52 0-1.04.2-1.43.59L10.3 9.45l-7.72 7.72c-.78.78-.78 2.05 0 2.83L4 21.41c.39.39.9.59 1.41.59.51 0 1.02-.2 1.41-.59l7.78-7.78 2.81-2.81c.8-.78.8-2.07 0-2.86zM5.41 20L4 18.59l7.72-7.72 1.47 1.35L5.41 20z\"/>\n",
              "  </svg>\n",
              "      </button>\n",
              "      \n",
              "  <style>\n",
              "    .colab-df-container {\n",
              "      display:flex;\n",
              "      flex-wrap:wrap;\n",
              "      gap: 12px;\n",
              "    }\n",
              "\n",
              "    .colab-df-convert {\n",
              "      background-color: #E8F0FE;\n",
              "      border: none;\n",
              "      border-radius: 50%;\n",
              "      cursor: pointer;\n",
              "      display: none;\n",
              "      fill: #1967D2;\n",
              "      height: 32px;\n",
              "      padding: 0 0 0 0;\n",
              "      width: 32px;\n",
              "    }\n",
              "\n",
              "    .colab-df-convert:hover {\n",
              "      background-color: #E2EBFA;\n",
              "      box-shadow: 0px 1px 2px rgba(60, 64, 67, 0.3), 0px 1px 3px 1px rgba(60, 64, 67, 0.15);\n",
              "      fill: #174EA6;\n",
              "    }\n",
              "\n",
              "    [theme=dark] .colab-df-convert {\n",
              "      background-color: #3B4455;\n",
              "      fill: #D2E3FC;\n",
              "    }\n",
              "\n",
              "    [theme=dark] .colab-df-convert:hover {\n",
              "      background-color: #434B5C;\n",
              "      box-shadow: 0px 1px 3px 1px rgba(0, 0, 0, 0.15);\n",
              "      filter: drop-shadow(0px 1px 2px rgba(0, 0, 0, 0.3));\n",
              "      fill: #FFFFFF;\n",
              "    }\n",
              "  </style>\n",
              "\n",
              "      <script>\n",
              "        const buttonEl =\n",
              "          document.querySelector('#df-eb0b05e2-5b3f-4199-8254-fa20e2d227e1 button.colab-df-convert');\n",
              "        buttonEl.style.display =\n",
              "          google.colab.kernel.accessAllowed ? 'block' : 'none';\n",
              "\n",
              "        async function convertToInteractive(key) {\n",
              "          const element = document.querySelector('#df-eb0b05e2-5b3f-4199-8254-fa20e2d227e1');\n",
              "          const dataTable =\n",
              "            await google.colab.kernel.invokeFunction('convertToInteractive',\n",
              "                                                     [key], {});\n",
              "          if (!dataTable) return;\n",
              "\n",
              "          const docLinkHtml = 'Like what you see? Visit the ' +\n",
              "            '<a target=\"_blank\" href=https://colab.research.google.com/notebooks/data_table.ipynb>data table notebook</a>'\n",
              "            + ' to learn more about interactive tables.';\n",
              "          element.innerHTML = '';\n",
              "          dataTable['output_type'] = 'display_data';\n",
              "          await google.colab.output.renderOutput(dataTable, element);\n",
              "          const docLink = document.createElement('div');\n",
              "          docLink.innerHTML = docLinkHtml;\n",
              "          element.appendChild(docLink);\n",
              "        }\n",
              "      </script>\n",
              "    </div>\n",
              "  </div>\n",
              "  "
            ],
            "text/plain": [
              "                                                Text  ...                                              lemma\n",
              "0  A very, very, very slow-moving, aimless movie ...  ...  [slowmoving, aimless, movie, distress, drift, ...\n",
              "1  Not sure who was more lost - the flat characte...  ...  [sure, lose, flat, character, audience, nearly...\n",
              "2  Attempting artiness with black & white and cle...  ...  [attempt, artiness, black, white, clever, came...\n",
              "3       Very little music or anything to speak of.    ...                   [little, music, anything, speak]\n",
              "4  The best scene in the movie was when Gerardo i...  ...  [best, scene, movie, gerardo, try, find, song,...\n",
              "\n",
              "[5 rows x 7 columns]"
            ]
          },
          "metadata": {},
          "execution_count": 25
        }
      ]
    },
    {
      "cell_type": "markdown",
      "source": [
        "**Lets update the Dataframe for our work**"
      ],
      "metadata": {
        "id": "FXxacSd1TdRr"
      }
    },
    {
      "cell_type": "code",
      "source": [
        "data.columns"
      ],
      "metadata": {
        "colab": {
          "base_uri": "https://localhost:8080/"
        },
        "id": "bORu_yRFT7cQ",
        "outputId": "2c1e55ab-6d64-4bb5-ab54-9e62425f98c6"
      },
      "execution_count": 26,
      "outputs": [
        {
          "output_type": "execute_result",
          "data": {
            "text/plain": [
              "Index(['Text', 'Label', 'Text_Clean', 'Text_Final', 'tokens', 'stems',\n",
              "       'lemma'],\n",
              "      dtype='object')"
            ]
          },
          "metadata": {},
          "execution_count": 26
        }
      ]
    },
    {
      "cell_type": "code",
      "source": [
        "pos = []\n",
        "neg = []\n",
        "for l in data.Label:\n",
        "    if l == 0:\n",
        "        pos.append(0)\n",
        "        neg.append(1)\n",
        "    elif l == 1:\n",
        "        pos.append(1)\n",
        "        neg.append(0)\n",
        "data['Pos']= pos\n",
        "data['Neg']= neg\n",
        "\n",
        "data = data[['Text_Final', 'lemma', 'Label', 'Pos', 'Neg']]\n",
        "data.head()"
      ],
      "metadata": {
        "colab": {
          "base_uri": "https://localhost:8080/",
          "height": 206
        },
        "id": "_3yQ-EJzTfvT",
        "outputId": "856241c1-561e-4a96-927c-486413e50c34"
      },
      "execution_count": 27,
      "outputs": [
        {
          "output_type": "execute_result",
          "data": {
            "text/html": [
              "\n",
              "  <div id=\"df-57c5edee-c77f-47f3-8e4b-ff03b8e0fbf6\">\n",
              "    <div class=\"colab-df-container\">\n",
              "      <div>\n",
              "<style scoped>\n",
              "    .dataframe tbody tr th:only-of-type {\n",
              "        vertical-align: middle;\n",
              "    }\n",
              "\n",
              "    .dataframe tbody tr th {\n",
              "        vertical-align: top;\n",
              "    }\n",
              "\n",
              "    .dataframe thead th {\n",
              "        text-align: right;\n",
              "    }\n",
              "</style>\n",
              "<table border=\"1\" class=\"dataframe\">\n",
              "  <thead>\n",
              "    <tr style=\"text-align: right;\">\n",
              "      <th></th>\n",
              "      <th>Text_Final</th>\n",
              "      <th>lemma</th>\n",
              "      <th>Label</th>\n",
              "      <th>Pos</th>\n",
              "      <th>Neg</th>\n",
              "    </tr>\n",
              "  </thead>\n",
              "  <tbody>\n",
              "    <tr>\n",
              "      <th>0</th>\n",
              "      <td>slowmoving aimless movie distressed drifting y...</td>\n",
              "      <td>[slowmoving, aimless, movie, distress, drift, ...</td>\n",
              "      <td>0</td>\n",
              "      <td>0</td>\n",
              "      <td>1</td>\n",
              "    </tr>\n",
              "    <tr>\n",
              "      <th>1</th>\n",
              "      <td>sure lost flat characters audience nearly half...</td>\n",
              "      <td>[sure, lose, flat, character, audience, nearly...</td>\n",
              "      <td>0</td>\n",
              "      <td>0</td>\n",
              "      <td>1</td>\n",
              "    </tr>\n",
              "    <tr>\n",
              "      <th>2</th>\n",
              "      <td>attempting artiness black white clever camera ...</td>\n",
              "      <td>[attempt, artiness, black, white, clever, came...</td>\n",
              "      <td>0</td>\n",
              "      <td>0</td>\n",
              "      <td>1</td>\n",
              "    </tr>\n",
              "    <tr>\n",
              "      <th>3</th>\n",
              "      <td>little music anything speak</td>\n",
              "      <td>[little, music, anything, speak]</td>\n",
              "      <td>0</td>\n",
              "      <td>0</td>\n",
              "      <td>1</td>\n",
              "    </tr>\n",
              "    <tr>\n",
              "      <th>4</th>\n",
              "      <td>best scene movie gerardo trying find song keep...</td>\n",
              "      <td>[best, scene, movie, gerardo, try, find, song,...</td>\n",
              "      <td>1</td>\n",
              "      <td>1</td>\n",
              "      <td>0</td>\n",
              "    </tr>\n",
              "  </tbody>\n",
              "</table>\n",
              "</div>\n",
              "      <button class=\"colab-df-convert\" onclick=\"convertToInteractive('df-57c5edee-c77f-47f3-8e4b-ff03b8e0fbf6')\"\n",
              "              title=\"Convert this dataframe to an interactive table.\"\n",
              "              style=\"display:none;\">\n",
              "        \n",
              "  <svg xmlns=\"http://www.w3.org/2000/svg\" height=\"24px\"viewBox=\"0 0 24 24\"\n",
              "       width=\"24px\">\n",
              "    <path d=\"M0 0h24v24H0V0z\" fill=\"none\"/>\n",
              "    <path d=\"M18.56 5.44l.94 2.06.94-2.06 2.06-.94-2.06-.94-.94-2.06-.94 2.06-2.06.94zm-11 1L8.5 8.5l.94-2.06 2.06-.94-2.06-.94L8.5 2.5l-.94 2.06-2.06.94zm10 10l.94 2.06.94-2.06 2.06-.94-2.06-.94-.94-2.06-.94 2.06-2.06.94z\"/><path d=\"M17.41 7.96l-1.37-1.37c-.4-.4-.92-.59-1.43-.59-.52 0-1.04.2-1.43.59L10.3 9.45l-7.72 7.72c-.78.78-.78 2.05 0 2.83L4 21.41c.39.39.9.59 1.41.59.51 0 1.02-.2 1.41-.59l7.78-7.78 2.81-2.81c.8-.78.8-2.07 0-2.86zM5.41 20L4 18.59l7.72-7.72 1.47 1.35L5.41 20z\"/>\n",
              "  </svg>\n",
              "      </button>\n",
              "      \n",
              "  <style>\n",
              "    .colab-df-container {\n",
              "      display:flex;\n",
              "      flex-wrap:wrap;\n",
              "      gap: 12px;\n",
              "    }\n",
              "\n",
              "    .colab-df-convert {\n",
              "      background-color: #E8F0FE;\n",
              "      border: none;\n",
              "      border-radius: 50%;\n",
              "      cursor: pointer;\n",
              "      display: none;\n",
              "      fill: #1967D2;\n",
              "      height: 32px;\n",
              "      padding: 0 0 0 0;\n",
              "      width: 32px;\n",
              "    }\n",
              "\n",
              "    .colab-df-convert:hover {\n",
              "      background-color: #E2EBFA;\n",
              "      box-shadow: 0px 1px 2px rgba(60, 64, 67, 0.3), 0px 1px 3px 1px rgba(60, 64, 67, 0.15);\n",
              "      fill: #174EA6;\n",
              "    }\n",
              "\n",
              "    [theme=dark] .colab-df-convert {\n",
              "      background-color: #3B4455;\n",
              "      fill: #D2E3FC;\n",
              "    }\n",
              "\n",
              "    [theme=dark] .colab-df-convert:hover {\n",
              "      background-color: #434B5C;\n",
              "      box-shadow: 0px 1px 3px 1px rgba(0, 0, 0, 0.15);\n",
              "      filter: drop-shadow(0px 1px 2px rgba(0, 0, 0, 0.3));\n",
              "      fill: #FFFFFF;\n",
              "    }\n",
              "  </style>\n",
              "\n",
              "      <script>\n",
              "        const buttonEl =\n",
              "          document.querySelector('#df-57c5edee-c77f-47f3-8e4b-ff03b8e0fbf6 button.colab-df-convert');\n",
              "        buttonEl.style.display =\n",
              "          google.colab.kernel.accessAllowed ? 'block' : 'none';\n",
              "\n",
              "        async function convertToInteractive(key) {\n",
              "          const element = document.querySelector('#df-57c5edee-c77f-47f3-8e4b-ff03b8e0fbf6');\n",
              "          const dataTable =\n",
              "            await google.colab.kernel.invokeFunction('convertToInteractive',\n",
              "                                                     [key], {});\n",
              "          if (!dataTable) return;\n",
              "\n",
              "          const docLinkHtml = 'Like what you see? Visit the ' +\n",
              "            '<a target=\"_blank\" href=https://colab.research.google.com/notebooks/data_table.ipynb>data table notebook</a>'\n",
              "            + ' to learn more about interactive tables.';\n",
              "          element.innerHTML = '';\n",
              "          dataTable['output_type'] = 'display_data';\n",
              "          await google.colab.output.renderOutput(dataTable, element);\n",
              "          const docLink = document.createElement('div');\n",
              "          docLink.innerHTML = docLinkHtml;\n",
              "          element.appendChild(docLink);\n",
              "        }\n",
              "      </script>\n",
              "    </div>\n",
              "  </div>\n",
              "  "
            ],
            "text/plain": [
              "                                          Text_Final  ... Neg\n",
              "0  slowmoving aimless movie distressed drifting y...  ...   1\n",
              "1  sure lost flat characters audience nearly half...  ...   1\n",
              "2  attempting artiness black white clever camera ...  ...   1\n",
              "3                        little music anything speak  ...   1\n",
              "4  best scene movie gerardo trying find song keep...  ...   0\n",
              "\n",
              "[5 rows x 5 columns]"
            ]
          },
          "metadata": {},
          "execution_count": 27
        }
      ]
    },
    {
      "cell_type": "markdown",
      "source": [
        "## **Splite the data set in training and Test sets**"
      ],
      "metadata": {
        "id": "alo7n3T_UM0f"
      }
    },
    {
      "cell_type": "code",
      "source": [
        "pip install sklearn"
      ],
      "metadata": {
        "colab": {
          "base_uri": "https://localhost:8080/"
        },
        "id": "UFBpmy0HUJrz",
        "outputId": "a5605462-b59c-4630-d338-5923894f54ce"
      },
      "execution_count": 28,
      "outputs": [
        {
          "output_type": "stream",
          "name": "stdout",
          "text": [
            "Requirement already satisfied: sklearn in /usr/local/lib/python3.7/dist-packages (0.0)\n",
            "Requirement already satisfied: scikit-learn in /usr/local/lib/python3.7/dist-packages (from sklearn) (1.0.2)\n",
            "Requirement already satisfied: joblib>=0.11 in /usr/local/lib/python3.7/dist-packages (from scikit-learn->sklearn) (1.1.0)\n",
            "Requirement already satisfied: numpy>=1.14.6 in /usr/local/lib/python3.7/dist-packages (from scikit-learn->sklearn) (1.19.5)\n",
            "Requirement already satisfied: threadpoolctl>=2.0.0 in /usr/local/lib/python3.7/dist-packages (from scikit-learn->sklearn) (3.1.0)\n",
            "Requirement already satisfied: scipy>=1.1.0 in /usr/local/lib/python3.7/dist-packages (from scikit-learn->sklearn) (1.4.1)\n"
          ]
        }
      ]
    },
    {
      "cell_type": "code",
      "source": [
        "from sklearn.model_selection import train_test_split\n",
        "data_train, data_test = train_test_split(data, \n",
        "                                         test_size=0.10, \n",
        "                                         random_state=42)"
      ],
      "metadata": {
        "id": "6T4F0A1JTmmL"
      },
      "execution_count": 29,
      "outputs": []
    },
    {
      "cell_type": "markdown",
      "source": [
        "# Keras Tokenizer Class\n",
        "We will discuss the following methods of Keras Tokenizer class in the article –\n",
        "*   fit_on_texts\n",
        "*   texts_to_sequences\n",
        "*   texts_to_matrix\n",
        "*   sequences_to_matrix"
      ],
      "metadata": {
        "id": "GjRZ4_QaMv2V"
      }
    },
    {
      "cell_type": "code",
      "source": [
        "all_training_words = [word for tokens in data_train[\"lemma\"] for word in tokens]\n",
        "training_sentence_lengths = [len(tokens) for tokens in data_train[\"lemma\"]]\n",
        "TRAINING_VOCAB = sorted(list(set(all_training_words)))\n",
        "print(\"%s words total, with a vocabulary size of %s\" % (len(all_training_words), len(TRAINING_VOCAB)))\n",
        "print(\"Max sentence length is %s\" % max(training_sentence_lengths))\n",
        "MAX_SEQUENCE_LENGTH=max(training_sentence_lengths)"
      ],
      "metadata": {
        "colab": {
          "base_uri": "https://localhost:8080/"
        },
        "id": "hMCKO7hZU3RA",
        "outputId": "3a603658-6728-4e18-d2d0-d4487c5518d7"
      },
      "execution_count": 30,
      "outputs": [
        {
          "output_type": "stream",
          "name": "stdout",
          "text": [
            "7218 words total, with a vocabulary size of 2460\n",
            "Max sentence length is 789\n"
          ]
        }
      ]
    },
    {
      "cell_type": "markdown",
      "source": [
        "**fit_on_texts:**\n",
        "The *fit_on_texts* method is a part of Keras tokenizer class which is used to update the internal vocabulary for the texts list. We need to call be before using other methods of *texts_to_sequences* or *texts_to_matrix*."
      ],
      "metadata": {
        "id": "BwzrpSKqbGFN"
      }
    },
    {
      "cell_type": "code",
      "source": [
        "from keras.preprocessing.text import Tokenizer\n",
        "from keras.preprocessing.sequence import pad_sequences\n",
        "\n",
        "tokenizer = Tokenizer(num_words=len(TRAINING_VOCAB), lower=True, char_level=False)\n",
        "tokenizer.fit_on_texts(data_train[\"lemma\"].tolist())"
      ],
      "metadata": {
        "id": "97VfxeYLeF87"
      },
      "execution_count": 31,
      "outputs": []
    },
    {
      "cell_type": "markdown",
      "source": [
        "The object returned by fit_on_texts can be used to derive more information by using the following attributes-\n",
        "*   word_counts : It is a dictionary of words along with the counts.\n",
        "*   word_docs : Again a dictionary of words, this tells us how many documents contain this word\n",
        "*   word_index : In this dictionary, we have unique integers assigned to each word.\n",
        "*   document_count : This integer count will tell us the total number of documents used for fitting the tokenizer."
      ],
      "metadata": {
        "id": "ZVFjAbPlbuYS"
      }
    },
    {
      "cell_type": "code",
      "source": [
        "print(\"The document count\",tokenizer.document_count)\n",
        "print(\"The count of words\",tokenizer.word_counts)\n",
        "print(\"The word index\",tokenizer.word_index)\n",
        "print(\"The word docs\",tokenizer.word_docs)"
      ],
      "metadata": {
        "colab": {
          "base_uri": "https://localhost:8080/"
        },
        "id": "IgG4p8nRcK5d",
        "outputId": "01a2488d-128a-486b-e9c2-90a9ecf3b200"
      },
      "execution_count": 32,
      "outputs": [
        {
          "output_type": "stream",
          "name": "stdout",
          "text": [
            "The document count 673\n",
            "The count of words OrderedDict([('masterful', 2), ('piece', 11), ('filmmaking', 2), ('many', 14), ('theme', 4), ('simmer', 1), ('occasionally', 4), ('boil', 1), ('wart', 1), ('study', 1), ('poet', 1), ('bohemian', 1), ('selfindulgent', 2), ('wartime', 1), ('year', 18), ('span', 1), ('aerial', 3), ('bombardment', 1), ('london', 1), ('outward', 1), ('tranquillity', 1), ('welsh', 1), ('coastal', 1), ('retreat', 1), ('borderline', 1), ('friendship', 1), ('lust', 1), ('love', 33), ('dedication', 2), ('art', 13), ('experience', 6), ('versus', 2), ('practical', 1), ('concern', 2), ('jealousy', 1), ('rivalry', 1), ('cowardice', 1), ('egotism', 1), ('heroism', 1), ('selfsacrifice', 1), ('earth', 2), ('iron', 1), ('film', 173), ('great', 41), ('disappointment', 2), ('role', 8), ('play', 26), ('well', 29), ('budget', 5), ('evidently', 1), ('limit', 1), ('actingeven', 1), ('professional', 1), ('drago', 4), ('debbie', 1), ('rochonwas', 1), ('terrible', 12), ('direct', 11), ('bad', 79), ('perhaps', 4), ('contributory', 1), ('former', 1), ('dialog', 4), ('chimplike', 1), ('camera', 8), ('work', 20), ('barely', 4), ('tolerable', 1), ('brilliant', 5), ('dont', 24), ('waste', 20), ('time', 44), ('clear', 1), ('range', 1), ('ability', 2), ('pull', 2), ('part', 15), ('act', 39), ('help', 4), ('write', 21), ('along', 3), ('maybe', 4), ('idiotsavant', 1), ('sister', 3), ('could', 20), ('good', 68), ('real', 21), ('joy', 5), ('watch', 45), ('go', 24), ('see', 62), ('writer', 4), ('gorman', 1), ('bechard', 1), ('undoubtedly', 2), ('homework', 1), ('reference', 2), ('industry', 2), ('characterage', 1), ('appropriate', 1), ('campy', 1), ('sort', 3), ('thats', 9), ('agree', 2), ('jessica', 1), ('movie', 194), ('pretty', 10), ('saw', 11), ('today', 4), ('think', 33), ('effort', 2), ('message', 1), ('kid', 7), ('im', 11), ('big', 9), ('fan', 7), ('series', 6), ('mostly', 4), ('due', 2), ('anne', 3), ('rice', 1), ('style', 6), ('sensitivity', 1), ('treatment', 1), ('plus', 2), ('wellpaced', 1), ('suit', 1), ('relatively', 1), ('short', 11), ('run', 4), ('song', 8), ('explain', 3), ('emotion', 4), ('subject', 2), ('jay', 1), ('adam', 1), ('unfortunate', 1), ('life', 11), ('talk', 5), ('old', 8), ('man', 13), ('neil', 2), ('young', 5), ('evoke', 1), ('get', 28), ('bore', 14), ('jessice', 1), ('lange', 2), ('take', 12), ('clothe', 1), ('awful', 12), ('cast', 24), ('moviemaking', 1), ('contain', 3), ('allstar', 1), ('open', 3), ('eye', 5), ('actor', 25), ('havent', 3), ('annoy', 6), ('pathetic', 5), ('attempt', 7), ('give', 23), ('character', 57), ('depth', 4), ('didnt', 21), ('really', 38), ('rest', 4), ('plot', 25), ('truly', 8), ('funny', 19), ('artiness', 1), ('black', 10), ('white', 9), ('clever', 5), ('angle', 3), ('disappoint', 7), ('become', 7), ('even', 37), ('ridiculous', 5), ('poor', 6), ('line', 19), ('almost', 8), ('nonexistent', 1), ('awesome', 3), ('know', 17), ('10', 15), ('problem', 4), ('script', 22), ('youd', 2), ('expect', 5), ('top', 7), ('notch', 1), ('brilliance', 3), ('indeed', 4), ('always', 4), ('entertain', 5), ('usual', 4), ('everything', 16), ('cinematography', 6), ('solid', 5), ('one', 75), ('boringpointless', 1), ('ever', 27), ('possibly', 2), ('creative', 1), ('horror', 7), ('lucy', 2), ('bell', 1), ('much', 19), ('high', 3), ('crap', 6), ('sink', 2), ('low', 2), ('quite', 10), ('depress', 2), ('offer', 3), ('delight', 2), ('surprise', 4), ('stupid', 14), ('dialogue', 13), ('natural', 2), ('constantine', 1), ('right', 12), ('intensity', 1), ('seem', 9), ('understand', 10), ('underlie', 2), ('psychological', 2), ('motivation', 1), ('initially', 1), ('local', 1), ('site', 2), ('buffalo', 1), ('intrigue', 1), ('p', 1), ('scene', 28), ('cool', 6), ('central', 2), ('find', 18), ('room', 2), ('blow', 2), ('pure', 3), ('disaster', 2), ('story', 32), ('edit', 6), ('confuse', 2), ('incredibly', 3), ('understate', 2), ('leaf', 2), ('last', 4), ('impression', 1), ('handle', 4), ('ineptly', 1), ('stereotypically', 1), ('imagination', 4), ('share', 4), ('general', 1), ('loewenhielms', 1), ('exquisite', 2), ('partake', 1), ('cailles', 1), ('en', 1), ('sarcophage', 1), ('though', 9), ('wish', 3), ('small', 4), ('sample', 1), ('savor', 1), ('entire', 6), ('audience', 5), ('applaud', 1), ('conclusion', 3), ('otherwise', 1), ('mother', 1), ('brother', 1), ('thiswhen', 1), ('robert', 2), ('ryan', 1), ('portray', 3), ('type', 2), ('imitation', 1), ('individual', 1), ('impress', 2), ('horrendous', 1), ('nevertheless', 1), ('yet', 5), ('another', 7), ('wonderful', 18), ('master', 3), ('stable', 1), ('premise', 3), ('president', 1), ('u', 5), ('monumental', 1), ('energy', 4), ('would', 20), ('recommend', 17), ('anyone', 15), ('generally', 4), ('weak', 4), ('average', 3), ('episode', 4), ('world', 5), ('95', 1), ('garbage', 6), ('theatre', 2), ('add', 2), ('betty', 2), ('jean', 2), ('smart', 3), ('everyone', 6), ('rpg', 1), ('game', 11), ('disgrace', 1), ('selfrespecting', 1), ('rpger', 1), ('flaw', 5), ('mess', 7), ('like', 53), ('isnt', 3), ('enough', 10), ('picture', 5), ('also', 22), ('mar', 1), ('constant', 1), ('use', 15), ('studio', 2), ('set', 10), ('indoor', 1), ('exterior', 1), ('edge', 2), ('seat', 1), ('make', 56), ('somewhat', 2), ('afraid', 2), ('car', 2), ('end', 22), ('night', 4), ('photography', 2), ('originality', 1), ('freshness', 1), ('first', 11), ('spend', 4), ('remake', 3), ('little', 15), ('else', 4), ('definitely', 9), ('worth', 13), ('check', 4), ('suppose', 2), ('cheap', 6), ('popcorn', 1), ('comedy', 6), ('doesnt', 9), ('mean', 7), ('completely', 5), ('insult', 4), ('intelligence', 4), ('hackneyed', 2), ('border', 2), ('offensive', 2), ('errol', 2), ('flynn', 2), ('custer', 1), ('since', 4), ('favourite', 3), ('twist', 3), ('1949', 1), ('hollywood', 2), ('collective', 1), ('head', 3), ('sand', 2), ('issue', 3), ('treat', 1), ('anthony', 1), ('quinn', 2), ('crazy', 2), ('horse', 1), ('never', 16), ('condescend', 1), ('genuine', 3), ('heart', 4), ('believable', 6), ('chemistry', 4), ('ben', 1), ('affleck', 1), ('sandra', 2), ('bullock', 2), ('couldnt', 5), ('consider', 7), ('leave', 5), ('wifetobe', 1), ('chick', 2), ('supposedly', 2), ('knock', 1), ('highlight', 1), ('fundamental', 1), ('legal', 1), ('process', 1), ('discover', 2), ('guilt', 1), ('innocence', 1), ('rather', 6), ('present', 3), ('court', 1), ('suffer', 3), ('need', 4), ('suspense', 6), ('several', 2), ('moment', 5), ('excruciatingly', 1), ('slow', 4), ('move', 5), ('ive', 11), ('soap', 1), ('opera', 1), ('intelligent', 3), ('hear', 2), ('mickey', 4), ('speak', 3), ('ton', 1), ('sound', 7), ('effect', 8), ('music', 10), ('throughout', 6), ('filmsomething', 1), ('grant', 1), ('huge', 4), ('crowd', 1), ('pleaser', 1), ('1928', 1), ('flesh', 1), ('surprisingly', 3), ('particularly', 3), ('grime', 1), ('blake', 1), ('deliver', 7), ('sharply', 1), ('amount', 5), ('deadpan', 1), ('tongue', 1), ('cheek', 1), ('hilarious', 5), ('realistic', 2), ('youll', 3), ('1', 117), ('0', 138), ('way', 23), ('long', 9), ('receive', 2), ('quality', 4), ('age', 4), ('john', 5), ('wayne', 2), ('incredible', 6), ('job', 10), ('screen', 12), ('presence', 2), ('shin', 1), ('senior', 1), ('must', 6), ('enjoy', 13), ('half', 5), ('junk', 1), ('probably', 7), ('director', 14), ('hadnt', 1), ('showcasing', 1), ('noteworthy', 1), ('thing', 25), ('punch', 2), ('face', 7), ('gallon', 1), ('blood', 2), ('spew', 1), ('forth', 1), ('soon', 1), ('jamie', 2), ('foxx', 1), ('absolutely', 8), ('ray', 4), ('charles', 4), ('performance', 17), ('simply', 9), ('genius', 2), ('own', 3), ('spacek', 1), ('coal', 1), ('miner', 1), ('daughter', 2), ('quaid', 1), ('ball', 2), ('fire', 1), ('excellent', 14), ('actually', 8), ('turn', 6), ('decent', 3), ('far', 7), ('blist', 1), ('horrorsuspense', 1), ('redeem', 3), ('continuity', 2), ('error', 1), ('user', 1), ('comment', 3), ('different', 5), ('garage', 1), ('joes', 2), ('glassesthe', 1), ('fact', 7), ('facial', 1), ('hair', 1), ('configuration', 1), ('change', 4), ('warmth', 2), ('generate', 1), ('contrast', 2), ('austere', 1), ('backdrop', 1), ('hard', 4), ('remember', 2), ('legendary', 1), ('provide', 1), ('biographical', 1), ('material', 2), ('beyond', 5), ('musician', 1), ('hitchcock', 6), ('ironically', 1), ('total', 1), ('secondly', 1), ('perfect', 7), ('thriller', 5), ('chase', 2), ('pander', 1), ('sabotage', 1), ('hence', 2), ('whole', 9), ('lack', 9), ('certain', 1), ('rumble', 1), ('machine', 2), ('desperately', 1), ('depend', 2), ('addition', 3), ('new', 4), ('logic', 1), ('mishima', 2), ('extremely', 4), ('uninteresting', 2), ('chilly', 2), ('unremarkable', 1), ('author', 1), ('livingworking', 1), ('abstruse', 1), ('culture', 2), ('flat', 2), ('reenactment', 1), ('hold', 3), ('attention', 3), ('emotionally', 1), ('adrift', 1), ('stagy', 1), ('sit', 3), ('soldier', 1), ('sing', 4), ('masculinity', 1), ('pledge', 1), ('hairsplitting', 1), ('purity', 1), ('admiration', 1), ('sword', 1), ('etc', 2), ('kill', 3), ('momentum', 1), ('quick', 2), ('schrader', 2), ('resume', 1), ('full', 5), ('lousy', 2), ('amateurish', 1), ('80', 3), ('totally', 14), ('fascinate', 3), ('dance', 6), ('however', 9), ('recently', 2), ('dvd', 3), ('strike', 2), ('storyline', 4), ('hole', 6), ('inconsistency', 1), ('frankly', 2), ('lot', 11), ('horrid', 1), ('ballet', 1), ('repertory', 1), ('development', 2), ('woa', 1), ('horrible', 5), ('sappy', 1), ('unwatchable', 1), ('direction', 4), ('cant', 12), ('tell', 7), ('talent', 3), ('action', 7), ('filmography', 1), ('chance', 1), ('tv', 7), ('flick', 7), ('intention', 1), ('might', 3), ('significant', 3), ('themeat', 1), ('least', 8), ('wouldbe', 1), ('undertone', 1), ('fifty', 1), ('existential', 1), ('worldweariness', 1), ('ought', 1), ('thrill', 2), ('sens', 1), ('deeply', 2), ('care', 5), ('regrettably', 1), ('fail', 6), ('visual', 3), ('interest', 16), ('drama', 8), ('expression', 1), ('feel', 11), ('celebration', 1), ('patriotism', 1), ('underline', 1), ('narrative', 1), ('actress', 6), ('june', 2), ('allison', 1), ('unfortunately', 2), ('plain', 4), ('suck', 14), ('cinematographyif', 1), ('call', 6), ('thatsucked', 1), ('soundtrack', 4), ('concert', 1), ('sequence', 2), ('nice', 6), ('overall', 5), ('trash', 4), ('ridiculousness', 1), ('come', 16), ('angry', 1), ('spoiler', 5), ('whatever', 6), ('say', 18), ('surface', 1), ('superbly', 2), ('craft', 2), ('stun', 3), ('fx', 4), ('nothing', 12), ('stateoftheart', 1), ('conceptually', 1), ('show', 18), ('bite', 5), ('everybody', 1), ('parent', 2), ('fantasy', 1), ('andor', 1), ('wasnt', 7), ('single', 5), ('sour', 1), ('note', 2), ('actingwise', 1), ('either', 4), ('do', 7), ('thank', 1), ('release', 4), ('best', 23), ('mexican', 2), ('le', 3), ('matter', 2), ('identify', 4), ('felt', 5), ('rank', 3), ('highly', 9), ('noircrimedrama', 1), ('belmondo', 1), ('lino', 1), ('ventura', 1), ('every', 18), ('complex', 2), ('portrayal', 7), ('detail', 2), ('loyalty', 1), ('treachery', 1), ('hope', 4), ('tremendous', 1), ('melville', 1), ('journey', 3), ('soul', 2), ('child', 8), ('water', 2), ('manage', 2), ('transcend', 1), ('limitation', 1), ('indie', 1), ('continually', 1), ('subvert', 1), ('expectation', 1), ('emerge', 1), ('intense', 1), ('grip', 2), ('crocdodile', 1), ('website', 1), ('believe', 8), ('crocs', 1), ('swamp', 1), ('location', 4), ('fabulous', 1), ('thoroughly', 2), ('christopher', 1), ('eccleston', 1), ('control', 2), ('tardis', 1), ('continuation', 1), ('sure', 3), ('try', 9), ('day', 5), ('disturb', 2), ('memory', 3), ('guess', 5), ('succeed', 2), ('beautiful', 9), ('place', 6), ('force', 3), ('lame', 5), ('here', 1), ('pied', 1), ('start', 9), ('jerky', 2), ('camerawork', 4), ('theater', 4), ('sick', 2), ('summary', 1), ('witticism', 1), ('werent', 2), ('witty', 2), ('id', 6), ('let', 7), ('billy', 2), ('bob', 1), ('rise', 1), ('rat', 3), ('amaze', 10), ('finale', 1), ('trilogy', 3), ('kieslowski', 1), ('cease', 2), ('talented', 3), ('history', 5), ('cinema', 6), ('colour', 1), ('french', 2), ('flag', 1), ('three', 4), ('shoot', 9), ('visually', 1), ('appeal', 2), ('subtle', 7), ('connection', 1), ('mention', 5), ('remain', 2), ('survivor', 1), ('ferry', 1), ('valentine', 1), ('judge', 2), ('together', 5), ('solidify', 1), ('happiness', 1), ('deal', 2), ('smile', 3), ('wrap', 1), ('anythinga', 1), ('literally', 2), ('vomit', 2), ('people', 13), ('roth', 1), ('pearl', 1), ('award', 3), ('eloquently', 1), ('francis', 1), ('ford', 1), ('coppola', 1), ('25', 2), ('early', 5), ('unfold', 2), ('gradually', 1), ('develop', 1), ('lie', 2), ('nicolas', 1), ('roeg', 1), ('wih', 1), ('sublime', 2), ('translate', 2), ('live', 3), ('5year', 1), ('someone', 2), ('strive', 1), ('greatness', 1), ('poetry', 2), ('muddle', 1), ('often', 5), ('bunch', 1), ('disparate', 1), ('pretentious', 4), ('kind', 8), ('reviewer', 3), ('accurately', 1), ('define', 1), ('peter', 2), ('watkins', 2), ('accessible', 1), ('two', 12), ('hour', 7), ('italian', 2), ('cover', 4), ('girl', 6), ('rita', 1), ('hayworth', 1), ('put', 7), ('pedestal', 1), ('example', 2), ('exploit', 1), ('woman', 3), ('financial', 1), ('gain', 1), ('tremendously', 2), ('wash', 2), ('twirl', 1), ('around', 6), ('wouldnt', 4), ('hurt', 1), ('rickman', 1), ('stowe', 1), ('hilt', 1), ('tale', 4), ('childrens', 1), ('book', 4), ('subversive', 1), ('tract', 1), ('close', 2), ('up', 3), ('unconvincing', 2), ('cardboard', 2), ('blandly', 1), ('edward', 1), ('chodorov', 1), ('produce', 3), ('negulesco', 1), ('reflect', 1), ('belowpar', 1), ('borrow', 1), ('classic', 5), ('onscreen', 1), ('critical', 1), ('shallow', 1), ('insincere', 1), ('brain', 3), ('shutdown', 1), ('primal', 1), ('impulse', 1), ('selfpreservation', 1), ('title', 1), ('debate', 1), ('whether', 4), ('sack', 1), ('trumpeter', 1), ('falsely', 1), ('accuse', 2), ('murder', 4), ('wind', 3), ('lion', 3), ('largely', 1), ('son', 2), ('member', 3), ('family', 7), ('sean', 1), ('connerys', 1), ('noble', 1), ('brigand', 1), ('candace', 1), ('bergen', 1), ('feisty', 1), ('heroine', 1), ('huston', 3), ('wily', 1), ('hay', 1), ('steve', 2), ('kanalys', 1), ('spiffy', 1), ('radiant', 1), ('ruthless', 3), ('cando', 1), ('lieutenant', 1), ('roosevelt', 1), ('stick', 1), ('none', 2), ('engage', 1), ('excite', 1), ('idea', 4), ('meredith', 1), ('want', 10), ('scare', 2), ('rent', 4), ('look', 27), ('stinker', 1), ('smell', 1), ('directtovideo', 1), ('deserve', 5), ('lead', 6), ('reveal', 2), ('complexity', 1), ('task', 1), ('challenge', 1), ('south', 2), ('africa', 1), ('judith', 1), ('light', 4), ('favorite', 1), ('superb', 5), ('join', 1), ('revenge', 1), ('boogeyman', 1), ('zombiez', 1), ('hellish', 1), ('trinity', 1), ('relate', 2), ('hell', 2), ('sometimes', 4), ('occupy', 2), ('peak', 1), ('paper', 1), ('instead', 2), ('happen', 6), ('columbo', 1), ('unbelievable', 4), ('dream', 3), ('lassie', 1), ('sleep', 2), ('forever', 1), ('routine', 1), ('factbased', 1), ('boost', 1), ('fine', 4), ('cole', 2), ('balance', 3), ('war', 3), ('rate', 3), ('910', 1), ('fun', 5), ('hopefully', 1), ('jam', 2), ('cox', 1), ('feature', 4), ('length', 2), ('win', 1), ('exceptionally', 1), ('practically', 1), ('\\x96', 4), ('true', 4), ('masterpiece', 4), ('sea', 3), ('faux', 3), ('tom', 5), ('wilkinson', 3), ('prepare', 1), ('ordeal', 1), ('begin', 8), ('hand', 3), ('progress', 1), ('anguish', 1), ('adorable', 1), ('turkey', 1), ('straw', 1), ('imaginative', 2), ('cruel', 1), ('delete', 1), ('mind', 4), ('cult', 5), ('view', 3), ('others', 1), ('football', 1), ('perplex', 1), ('southern', 1), ('california', 1), ('desert', 1), ('patent', 1), ('documentary', 4), ('create', 7), ('relax', 1), ('late', 3), ('oh', 3), ('yeah', 2), ('terribly', 1), ('accolade', 1), ('especially', 7), ('load', 2), ('understatement', 1), ('finally', 3), ('sign', 1), ('improvement', 1), ('asleep', 2), ('slack', 1), ('excuse', 2), ('90', 6), ('minute', 12), ('personally', 1), ('learn', 3), ('compromise', 1), ('self', 1), ('without', 3), ('involve', 5), ('relation', 3), ('taylor', 2), ('stanwyck', 2), ('ill', 3), ('excellentangel', 1), ('scamp', 3), ('adorablehis', 1), ('yelp', 1), ('he', 3), ('scaredand', 1), ('whenscamp', 1), ('catch', 1), ('curtain', 1), ('angel', 2), ('beforei', 1), ('movieits', 1), ('special', 8), ('edition', 1), ('20the', 1), ('underneath', 2), ('lid', 1), ('cg', 1), ('space', 3), ('microsoft', 1), ('slideshow', 1), ('god', 4), ('sake', 2), ('strong', 5), ('kudos', 1), ('stand', 2), ('exceptional', 2), ('lesserknown', 1), ('superintelligent', 1), ('easy', 4), ('racism', 2), ('free', 2), ('player', 3), ('buy', 4), ('still', 13), ('halfway', 1), ('embarrass', 4), ('howell', 1), ('duet', 2), ('astronaut', 2), ('doctor', 2), ('exchange', 1), ('cold', 1), ('fear', 3), ('crash', 2), ('ussr', 1), ('seriously', 3), ('interplay', 2), ('martin', 3), ('emilio', 2), ('wall', 2), ('street', 1), ('charlie', 1), ('avoid', 6), ('cost', 6), ('shelf', 2), ('hopeless', 1), ('overact', 2), ('despite', 2), ('pan', 1), ('rubbish', 1), ('nonresearched', 1), ('obviously', 3), ('sense', 3), ('pitiful', 2), ('human', 6), ('nature', 2), ('include', 2), ('shatner', 1), ('nimoy', 1), ('tacky', 1), ('spock', 1), ('rescue', 1), ('kirk', 1), ('jet', 1), ('pack', 1), ('fall', 4), ('mountain', 1), ('walk', 3), ('fast', 6), ('hbo', 1), ('unneeded', 1), ('controversy', 1), ('litter', 1), ('overt', 1), ('racial', 3), ('slur', 1), ('towards', 2), ('return', 1), ('depict', 3), ('moron', 1), ('boob', 1), ('store', 2), ('lose', 4), ('iq', 2), ('serious', 3), ('painful', 2), ('girlfriend', 1), ('hat', 2), ('widmark', 1), ('unintentionally', 1), ('comical', 1), ('original', 4), ('body', 1), ('1947', 1), ('welldone', 1), ('nobody', 3), ('theyre', 4), ('cutout', 1), ('stereotype', 2), ('predictably', 1), ('reversestereotypes', 1), ('appal', 1), ('scary', 2), ('whatsoever', 3), ('pay', 3), ('unbearable', 1), ('charisma', 1), ('comedic', 1), ('fantastic', 2), ('seamlessly', 1), ('weave', 2), ('dog', 2), ('splendid', 1), ('keep', 7), ('alert', 1), ('decipher', 1), ('composition', 2), ('inventive', 1), ('elegant', 1), ('closeup', 2), ('pointillistic', 1), ('home', 1), ('footage', 3), ('wonder', 3), ('behold', 1), ('christmas', 2), ('florida', 1), ('politically', 1), ('correct', 1), ('predictable', 9), ('cut', 3), ('etcits', 1), ('wrong', 3), ('ebay', 1), ('julian', 1), ('fellowes', 1), ('triumph', 1), ('advise', 2), ('elia', 1), ('koteasjack', 1), ('palance', 1), ('angelina', 1), ('hot', 1), ('nakedbilly', 1), ('appear', 1), ('cameo', 1), ('sven', 1), ('ole', 1), ('thorsen', 1), ('enjoyable', 2), ('success', 1), ('sydney', 1), ('greenstreet', 1), ('alexander', 2), ('yardley', 1), ('describe', 3), ('painfully', 1), ('dreary', 1), ('timewaster', 1), ('mollusk', 1), ('rough', 1), ('draft', 1), ('finish', 1), ('complete', 4), ('back', 4), ('1973', 1), ('strange', 2), ('main', 3), ('person', 1), ('clearly', 2), ('tension', 2), ('medical', 1), ('terminology', 1), ('iffy', 1), ('insulin', 1), ('dependant', 1), ('diabetic', 1), ('oscar', 2), ('fest', 1), ('whiny', 2), ('spoil', 3), ('brat', 1), ('babysitting', 1), ('pap', 1), ('afternoon', 1), ('punish', 1), ('unemployed', 1), ('omit', 1), ('paul', 3), ('matthew', 1), ('wrotedirected', 1), ('1995', 1), ('monster', 1), ('grim', 1), ('pace', 5), ('team', 1), ('behind', 1), ('continue', 1), ('kinda', 2), ('weird', 2), ('peculiarity', 1), ('jimmy', 2), ('buffet', 1), ('science', 1), ('teacher', 1), ('screenwriter', 2), ('tie', 1), ('loose', 1), ('thoughtprovoking', 1), ('3', 2), ('4', 2), ('build', 2), ('couple', 1), ('hummh', 1), ('whenever', 1), ('tvnever', 1), ('already', 3), ('memorize', 1), ('lovely', 3), ('cutie', 1), ('murky', 1), ('product', 1), ('struggle', 1), ('anything', 7), ('timer', 1), ('dad', 1), ('grow', 1), ('scenery', 3), ('paint', 2), ('photograph', 1), ('provoke', 3), ('question', 3), ('threshold', 1), ('loneliness', 2), ('excerpt', 1), ('star', 6), ('trek', 1), ('v', 1), ('final', 3), ('frontier', 1), ('drive', 3), ('bark', 1), ('mad', 2), ('network', 1), ('air', 2), ('dribble', 1), ('proudly', 1), ('classical', 1), ('wb', 1), ('cartoon', 5), ('compose', 1), ('artist', 2), ('cheerless', 1), ('heist', 1), ('characterisation', 1), ('underbite', 1), ('stoic', 1), ('emote', 1), ('chow', 1), ('yun', 1), ('fat', 2), ('tomorrow', 1), ('cheesy', 2), ('clichés', 3), ('throw', 3), ('abandon', 1), ('factory', 1), ('ready', 3), ('poorly', 2), ('execute', 1), ('fly', 1), ('judo', 1), ('roll', 1), ('la', 1), ('woo', 1), ('110', 2), ('010', 1), ('possible', 2), ('mst3k', 1), ('fodder', 1), ('remind', 1), ('evince', 1), ('faithful', 1), ('adaptation', 2), ('joyce', 1), ('acclaim', 1), ('novella', 1), ('dead', 2), ('lifetime', 1), ('sell', 1), ('musthave', 1), ('slowmoving', 1), ('aimless', 1), ('distress', 1), ('drift', 2), ('genre', 1), ('heaven', 2), ('middleaged', 1), ('upper', 1), ('class', 1), ('uptight', 1), ('guy', 4), ('sorry', 1), ('volcano', 2), ('los', 2), ('angeles', 2), ('30', 2), ('mediocre', 4), ('elderly', 1), ('awkwardly', 1), ('babble', 1), ('overwrought', 1), ('pseudosatanic', 1), ('gibberish', 1), ('corny', 1), ('teen', 1), ('goth', 1), ('blush', 1), ('olde', 1), ('english', 1), ('latin', 1), ('may', 4), ('word', 7), ('foreigner', 1), ('second', 6), ('enter', 1), ('negative', 2), ('value', 4), ('admins', 1), ('miserable', 1), ('hollow', 2), ('laughable', 3), ('host', 1), ('voiceovers', 1), ('monotonous', 1), ('guest', 1), ('derivative', 1), ('mercy', 1), ('idiot', 1), ('season', 2), ('telephone', 1), ('repair', 1), ('reaction', 1), ('nut', 3), ('bitchy', 1), ('bos', 1), ('situation', 3), ('coach', 1), ('paolo', 1), ('sorrentino', 1), ('tony', 1), ('unforgettable', 1), ('recent', 3), ('modest', 1), ('producer', 2), ('miss', 3), ('entirely', 1), ('transfer', 1), ('ten', 1), ('convince', 4), ('lane', 2), ('fox', 2), ('channel', 1), ('humour', 2), ('apt', 1), ('money', 5), ('mark', 1), ('evil', 2), ('2', 4), ('phantasm', 1), ('20', 2), ('40', 1), ('empowerment', 1), ('there', 6), ('hayao', 1), ('miyazakis', 2), ('eighth', 1), ('ghibili', 1), ('gake', 1), ('ue', 1), ('ponyo', 2), ('cliff', 1), ('wonderfully', 3), ('childhood', 2), ('sunday', 1), ('ago', 2), ('march', 1), ('20th', 2), ('2005', 1), ('tap', 2), ('bring', 3), ('pillow', 1), ('girlfriendboyfriend', 1), ('mature', 2), ('suggest', 2), ('dramatic', 1), ('focus', 1), ('serve', 1), ('apart', 1), ('odd', 2), ('inappropriate', 1), ('keira', 1), ('knightley', 1), ('prone', 1), ('elaborately', 1), ('aesthetically', 1), ('sculpture', 1), ('unconditional', 1), ('tiny', 1), ('toon', 1), ('vibe', 1), ('popular', 1), ('underrate', 1), ('poler', 1), ('bear', 2), ('cutebut', 1), ('fort', 1), ('steele', 1), ('ask', 2), ('away', 5), ('duris', 1), ('wholesome', 2), ('appearance', 3), ('ultracheap', 1), ('terrific', 5), ('crayonpencil', 1), ('draw', 1), ('colorful', 1), ('fanciful', 1), ('shed', 2), ('tear', 2), ('forget', 5), ('malta', 1), ('dry', 1), ('barren', 1), ('hockey', 1), ('defensemen', 1), ('5', 1), ('goalie', 1), ('dive', 1), ('foot', 1), ('wide', 1), ('net', 1), ('particular', 3), ('relationship', 2), ('bakery', 1), ('assistant', 2), ('waitress', 1), ('superficial', 1), ('stagey', 1), ('stage', 3), ('farce', 1), ('pyromaniac', 1), ('waylay', 1), ('next', 3), ('switch', 1), ('glad', 4), ('laugh', 2), ('yawn', 1), ('educational', 1), ('8', 1), ('barney', 1), ('super', 2), ('de', 1), ('duper', 1), ('babie', 1), ('bop', 1), ('cute', 1), ('storm', 1), ('trooper', 1), ('list', 1), ('unrecommended', 1), ('groove', 1), ('antithesis', 1), ('traffic', 1), ('design', 1), ('amazingstylized', 1), ('effective', 3), ('bother', 2), ('nonsense', 3), ('anyway', 1), ('flow', 1), ('smoothly', 1), ('malebonding', 1), ('hoot', 1), ('torture', 4), ('european', 2), ('enjoyment', 1), ('dangerous', 2), ('raw', 1), ('sublimely', 1), ('outlandish', 1), ('array', 1), ('memorable', 4), ('psychotic', 1), ('lovable', 1), ('delightful', 1), ('dr', 1), ('seuss', 1), ('brilliantly', 1), ('animate', 1), ('upas', 1), ('academy', 1), ('cause', 2), ('period', 4), ('structure', 1), ('easily', 4), ('tightly', 1), ('construct', 1), ('something', 3), ('vitally', 1), ('important', 2), ('occur', 2), ('content', 1), ('level', 5), ('fill', 1), ('dozen', 1), ('superlative', 1), ('form', 2), ('imaginable', 2), ('yes', 3), ('require', 1), ('puzzlesolving', 1), ('fit', 2), ('certainly', 7), ('graphic', 3), ('number', 1), ('th', 1), ('insane', 1), ('massive', 3), ('unlockable', 1), ('properly', 1), ('canada', 1), ('aye', 1), ('rock', 2), ('doom', 1), ('conception', 1), ('minor', 1), ('pg13', 2), ('nonsequel', 1), ('tone', 1), ('pgrated', 1), ('confirm', 1), ('unfunny', 2), ('generic', 1), ('exaggerate', 1), ('point', 4), ('joke', 2), ('trailer', 1), ('carrell', 1), ('save', 1), ('costars', 1), ('fare', 1), ('morgan', 2), ('freeman', 1), ('jonah', 2), ('hill', 3), ('ed', 2), ('helm', 1), ('lazy', 2), ('animal', 1), ('integration', 1), ('obvious', 2), ('bluegreenscreen', 1), ('meagre', 1), ('choice', 3), ('less', 1), ('cancan', 1), ('boast', 1), ('lady', 2), ('grace', 2), ('headoverheels', 1), ('insipid', 1), ('regret', 2), ('front', 2), ('pointless', 2), ('wait', 1), ('future', 2), ('heche', 1), ('utterly', 2), ('sam', 1), ('shepard', 1), ('gung', 1), ('ho', 1), ('marine', 1), ('sober', 1), ('rivet', 1), ('resound', 1), ('9', 1), ('hank', 1), ('read', 2), ('voice', 1), ('fingernail', 1), ('chalkboard', 1), ('unnecessary', 1), ('trainroller', 1), ('coaster', 1), ('charm', 4), ('grate', 1), ('nerve', 1), ('improve', 1), ('improvisation', 1), ('twice', 1), ('worry', 1), ('honestly', 2), ('follow', 5), ('surround', 3), ('crackle', 1), ('unpredictable', 2), ('youthful', 1), ('concentrate', 1), ('meander', 1), ('badly', 2), ('builder', 1), ('cross', 1), ('g', 1), ('pg', 1), ('noncliche', 1), ('predict', 1), ('verbatim', 1), ('selection', 1), ('gross', 1), ('chill', 1), ('nevsky', 1), ('whoever', 1), ('plan', 1), ('dodge', 1), ('stratus', 1), ('gon', 2), ('na', 2), ('maker', 1), ('arent', 3), ('restrain', 1), ('business', 2), ('québec', 1), ('movement', 1), ('personality', 1), ('reason', 3), ('matrix', 1), ('sequel', 2), ('appreciate', 4), ('mindblowing', 1), ('muppets', 1), ('badwellits', 1), ('goremeister', 1), ('lucio', 1), ('fulci', 2), ('giallo', 3), ('subgenre', 1), ('musicincluding', 1), ('shirley', 1), ('jones', 1), ('rendition', 1), ('tonight', 1), ('uplift', 1), ('charismatic', 1), ('15', 1), ('humorous', 2), ('2006', 1), ('angus', 1), ('scrimm', 1), ('brief', 2), ('gently', 1), ('menace', 2), ('violinplaying', 1), ('anatomist', 1), ('squib', 1), ('fresh', 2), ('shameful', 1), ('tough', 1), ('dignity', 1), ('course', 2), ('shock', 1), ('realise', 1), ('problems\\x97the', 1), ('professor', 1), ('instant', 1), ('catchy', 1), ('credit', 2), ('applause', 1), ('prelude', 1), ('perfectly', 3), ('modern', 2), ('equivalent', 1), ('dickens', 1), ('carol', 1), ('sensibility', 1), ('gem', 2), ('term', 2), ('screenplay', 1), ('postproduction', 1), ('aspect', 3), ('national', 1), ('treasure', 1), ('zillion', 1), ('reality', 2), ('camp', 1), ('inspiration', 1), ('overcome', 1), ('rejection', 1), ('70', 2), ('animation', 3), ('dominate', 1), ('disneypixars', 1), ('cgi', 1), ('refresh', 1), ('comfort', 1), ('miyazaki', 1), ('rely', 1), ('traditional', 1), ('handdrawn', 1), ('enchant', 1), ('render', 1), ('america', 2), ('imperial', 1), ('artless', 1), ('endlessly', 1), ('ugly', 2), ('ie', 1), ('emily', 2), ('watson', 2), ('unrealistic', 1), ('utter', 1), ('70000', 1), ('power', 1), ('dysfunctionhe', 1), ('dull', 2), ('forgettable', 1), ('secondary', 1), ('incomprehensible', 1), ('primary', 1), ('mystify', 1), ('wooden', 1), ('puppet', 4), ('pick', 1), ('speed', 2), ('emptiness', 1), ('empty', 2), ('house', 3), ('consolation', 1), ('titta', 1), ('di', 1), ('girolamo', 1), ('stay', 3), ('vision', 1), ('scar', 2), ('horrify', 1), ('sympathetic', 1), ('review', 2), ('overdue', 1), ('bold', 2), ('vessel', 1), ('mighty', 1), ('frost', 1), ('indescribably', 1), ('idiotic', 1), ('mindbendingly', 1), ('poignant', 1), ('wouldve', 1), ('competent', 1), ('jerry', 1), ('falwell', 1), ('relief', 1), ('jaclyn', 1), ('smith', 1), ('12', 1), ('marriage', 1), ('choose', 1), ('disgust', 1), ('blatant', 1), ('american', 4), ('propaganda', 1), ('scream', 1), ('victor', 1), ('mclaglen', 1), ('brian', 2), ('donlevy', 1), ('unrecognizable', 2), ('shenanigan', 1), ('spy', 1), ('kidnap', 1), ('nasty', 1), ('church', 2), ('foreign', 1), ('random', 1), ('taxidermist', 1), ('thunderbird', 1), ('ursula', 1), ('burton', 1), ('nun', 2), ('touch', 5), ('nutbag', 1), ('side', 1), ('stephen', 1), ('mchattie', 1), ('lance', 1), ('hendrikson', 1), ('rag', 1), ('cheekbone', 1), ('remarkable', 1), ('explosion', 1), ('gas', 1), ('tank', 1), ('nonetheless', 1), ('youre', 2), ('thoughtsgabriels', 1), ('discomfort', 1), ('danceall', 1), ('intangible', 1), ('leap', 1), ('within', 1), ('viewer', 1), ('grasp', 1), ('ryans', 1), ('father', 2), ('schizophrenic', 1), ('lifemy', 1), ('although', 3), ('affect', 1), ('subplots', 1), ('native', 1), ('eat', 1), ('beall', 1), ('endall', 1), ('brainsucking', 1), ('case', 2), ('attractive', 1), ('eyepleasing', 1), ('choke', 1), ('worthless', 1), ('youve', 1), ('death', 3), ('social', 1), ('physical', 1), ('outlet', 1), ('surf', 1), ('wave', 1), ('1998', 1), ('deep', 1), ('impact', 1), ('armageddon', 1), ('everywhere', 1), ('phrase', 1), ('conflict', 2), ('owe', 1), ('please', 1), ('passion', 1), ('plenty', 1), ('audio', 1), ('sibling', 1), ('bond', 1), ('dislike', 4), ('despise', 1), ('adventure', 1), ('bland', 1), ('hip', 1), ('pray', 1), ('previous', 2), ('hype', 1), ('youtube', 1), ('happy', 1), ('distinction', 1), ('hatred', 1), ('admit', 1), ('elsewhere', 1), ('shell', 1), ('carry', 2), ('ticket', 1), ('five', 2), ('dollar', 1), ('750', 1), ('charismafree', 1), ('pot', 1), ('plant', 1), ('juano', 1), ('hernandez', 1), ('support', 1), ('era', 2), ('proud', 2), ('humor', 1), ('dosent', 1), ('basically', 2), ('vulcan', 1), ('steal', 1), ('enterprise', 1), ('uhura', 1), ('belly', 1), ('distract', 1), ('male', 2), ('guard', 1), ('veteran', 1), ('nostalgia', 1), ('trip', 1), ('magnificent', 1), ('photographycinematography', 1), ('frighten', 3), ('comprehensible', 1), ('lilt', 1), ('step', 2), ('race', 3), ('phenomenal', 1), ('opinion', 1), ('interview', 1), ('vampire', 1), ('lestat', 1), ('stuart', 1), ('townsend', 1), ('cruise', 1), ('contract', 1), ('trond', 1), ('fausa', 1), ('aurvåg', 1), ('bothersome', 1), ('courtroom', 2), ('aailiyah', 1), ('akasha', 1), ('compel', 2), ('entrance', 1), ('mini', 1), ('realize', 2), ('friend', 2), ('bipolarity', 1), ('thug', 1), ('killer', 2), ('luvs', 1), ('diaper', 1), ('commercial', 1), ('score', 1), ('integral', 1), ('element', 2), ('century', 2), ('road', 1), ('1948', 1), ('silly', 1), ('noir', 1), ('implausible', 1), ('unmitigated', 1), ('exemplar', 1), ('designer', 1), ('pleasant', 1), ('voyage', 1), ('selfdiscovery', 1), ('shortlist', 1), ('sweet', 1), ('capture', 2), ('essence', 1), ('oldfashioned', 1), ('tuneful', 1), ('sloppy', 1), ('universe', 1), ('excessively', 1), ('phony', 1), ('contrive', 1), ('reasonable', 1), ('explanation', 2), ('atrocity', 1), ('commentary', 1), ('stewart', 1), ('hero', 1), ('rip', 1), ('climax', 1), ('embassy', 1), ('function', 1), ('brood', 1), ('lowbudget', 1), ('bela', 1), ('lugosi', 1), ('extraneous', 1), ('intone', 1), ('garbo', 1), ('bat', 2), ('silent', 5), ('netflix', 1), ('stock', 2), ('perabo', 1), ('comfortable', 1), ('1010', 3), ('slight', 2), ('uniqueness', 1), ('ticker', 1), ('estevezs', 1), ('directorial', 2), ('debut', 1), ('estevez', 1), ('tire', 1), ('thick', 1), ('reader', 1), ('worthwhile', 1), ('bonus', 2), ('computer', 1), ('geek', 1), ('bible', 1), ('thumper', 1), ('badass', 1), ('stanwycks', 1), ('18th', 1), ('jutland', 1), ('instrument', 1), ('excellently', 1), ('scifis', 1), ('scot', 1), ('vandiver', 1), ('wont', 6), ('hate', 1), ('remotely', 2), ('sum', 1), ('breeder', 1), ('cheaply', 1), ('ebola', 1), ('virus', 1), ('filmmaker', 2), ('hide', 1), ('extraordinary', 1), ('accent', 1), ('abysmal', 2), ('1986', 1), ('version', 1), ('watchable', 3), ('loosely', 1), ('moviegoing', 1), ('public', 1), ('scale', 3), ('underact', 1), ('aside', 2), ('debit', 1), ('filmiing', 1), ('expansive', 1), ('romanticcharminghilariousand', 1), ('adorablethe', 1), ('junkyard', 2), ('funnyall', 1), ('specialtoo', 1), ('laughedkids', 1), ('itbuy', 1), ('outit', 1), ('sincere', 1), ('crowdpleaserthis', 1), ('among', 2), ('result', 2), ('shame', 1), ('riot', 1), ('hugo', 1), ('sexobsessed', 1), ('gay', 1), ('estate', 1), ('salesman', 1), ('us', 2), ('client', 1), ('tryst', 1), ('flame', 1), ('darren', 1), ('hollander', 1), ('movieit', 1), ('emperor', 1), ('trumbull', 1), ('rare', 1), ('worthy', 1), ('moral', 2), ('trap', 1), ('overly', 2), ('syrupy', 1), ('indulgent', 1), ('fish', 1), ('underwater', 1), ('repeat', 3), ('thousand', 1), ('amuse', 1), ('exactly', 2), ('latch', 1), ('endear', 1), ('achievement', 2), ('sobaditsgood', 1), ('sobaditsmemorable', 1), ('evaluate', 1), ('pair', 1), ('fishnet', 1), ('astonishingly', 1), ('ham', 1), ('fisted', 1), ('ireland', 1), ('bigbudget', 1), ('chanceit', 1), ('50', 1), ('crow', 1), ('wed', 2), ('subpar', 1), ('lifeoh', 1), ('gosh', 1), ('wild', 1), ('stuff', 1), ('oyvey', 1), ('inside', 1), ('helen', 1), ('baxendale', 1), ('credible', 1), ('macbeth', 2), ('cheerfull', 1), ('naughty', 1), ('deadly', 1), ('taste', 1), ('skilled', 1), ('northern', 1), ('positive', 1), ('community', 1), ('represent', 1), ('tender', 1), ('dark', 2), ('sitcom', 1), ('orient', 1), ('teenager', 1), ('throwback', 1), ('student', 1), ('1980s', 1), ('abroad', 1), ('interact', 1), ('nationality', 1), ('circumstance', 1), ('slightly', 1), ('gerardo', 1), ('onedimensional', 1), ('grainy', 1), ('enhance', 1), ('glance', 2), ('jennifer', 1), ('rubin', 1), ('harris', 1), ('nervous', 1), ('starlet', 1), ('event', 1), ('honest', 1), ('foolish', 1), ('pretext', 1), ('nonlinear', 1), ('narration', 1), ('thus', 1), ('flashback', 1), ('articulate', 1), ('doubt', 1), ('slowmotion', 1), ('needlessly', 1), ('vehicle', 1), ('corn', 1), ('flake', 1), ('box', 1), ('stupidity', 1), ('lewis', 1), ('considerable', 1), ('incendiary', 1), ('unrestrained', 1), ('allow', 2), ('beware', 1), ('trashy', 1), ('indictment', 1), ('justice', 1), ('system', 1), ('tolerate', 1), ('political', 1), ('incorrectness', 1), ('artistic', 1), ('freedom', 1), ('suspension', 1), ('disbelief', 1), ('slavic', 1), ('female', 3), ('drop', 1), ('labute', 1), ('brutal', 1), ('violence', 1), ('seperate', 1), ('m', 1), ('smack', 1), ('showthese', 1), ('cotton', 1), ('club', 1), ('unfaithful', 1), ('gere', 1), ('punishment', 1), ('park', 1), ('sole', 1), ('bright', 1), ('spot', 1), ('superbad', 1), ('weight', 1), ('interim', 1), ('powerful', 1), ('exploration', 1), ('offend', 1), ('decay', 2), ('shakespears', 1), ('lyric', 1), ('monica', 1), ('bellucci', 1), ('four', 1), ('sentiment', 1), ('fifteen', 2), ('um', 1), ('break', 1), ('el', 1), ('fumble', 1), ('hanky', 1), ('alike', 1), ('actorsan', 1), ('haggis', 1), ('stroke', 1), ('storytellinga', 1), ('crayon', 1), ('dustin', 1), ('hoffman', 1), ('nearly', 1), ('unpleasant', 1), ('core', 2), ('feelgood', 1), ('manna', 1), ('as', 1), ('uncalled', 1), ('regardless', 1), ('subtitle', 1), ('aversion', 1), ('therapy', 1), ('notable', 1), ('gore', 1), ('card', 1), ('major', 1), ('destroy', 1), ('latifas', 1), ('timeless', 1), ('simplify', 1), ('brevity', 1), ('fulfil', 1), ('irritate', 1), ('inspire', 1), ('video', 1), ('proceed', 1), ('damian', 1), ('versatile', 1), ('impressive', 2), ('telly', 1), ('savalas', 1), ('boyle', 1), ('54', 1), ('sheer', 1), ('tedium', 1), ('melodrama', 1), ('lord', 2), ('imagine', 1), ('decision', 1), ('atrocious', 1), ('stink', 2), ('trouble', 1), ('impossible', 1), ('establish', 1), ('subplot', 1), ('band', 1), ('latterday', 1), ('mansonites', 1), ('reporter', 1), ('who', 1), ('anniversary', 1), ('dumb', 2), ('indication', 1), ('meld', 1), ('volatile', 1), ('temperament', 1), ('seamless', 1), ('union', 1), ('creativity', 1), ('powerhouse', 1), ('timely', 1), ('fascination', 1), ('celebrity', 1), ('distort', 1), ('interpretation', 1), ('fame', 1), ('kevin', 1), ('spacey', 1), ('verbal', 1), ('tsunami', 1), ('buddy', 1), ('ackerman', 1), ('unmatched', 1), ('galley', 1), ('pm', 1), ('8pm', 1), ('815pm', 1), ('forward', 1), ('horrendously', 1), ('buildup', 1), ('captain', 1), ('howdy', 1), ('semi', 1), ('truck', 1), ('linda', 1), ('cardellini', 1), ('shes', 1), ('poise', 1), ('dee', 1), ('snide', 1), ('villain', 1), ('damn', 2), ('sophisticate', 1), ('thrillerhorror', 1), ('miserably', 1), ('unoriginal', 1), ('cinematic', 1), ('celluloid', 1), ('supernatural', 1), ('zombie', 1), ('consistent', 1), ('thread', 1), ('leni', 1), ('parker', 1), ('anita', 1), ('laselva', 1), ('taelons', 1), ('quiet', 1), ('idealogical', 1), ('mainly', 1), ('center', 1), ('atmosphere', 1), ('sinister', 1), ('origin', 1), ('insomniac', 1), ('heartwarming', 1), ('nurse', 1), ('unpredictability', 1), ('kris', 1), ('kristoffersen', 1), ('difference', 1), ('sad', 1), ('robotic', 1), ('convolute', 1), ('technically', 1), ('riz', 1), ('ortolani', 1), ('recur', 1), ('unaccompanied', 1), ('vocal', 1), ('distant', 1), ('greatespecially', 1), ('politics', 1), ('japanese', 1), ('gloriously', 1), ('fairly', 1), ('accurate', 1), ('raver', 1), ('mesmerise', 1), ('kathy', 1), ('desperation', 1), ('escapism', 1), ('variation', 1), ('field', 1), ('except', 1), ('theatrical', 1), ('everyones', 1), ('terror', 1), ('escalate', 1), ('monstrous', 1), ('consequence', 1), ('standout', 1), ('wow', 1), ('wordofmouth', 1), ('promote', 1), ('jason', 1), ('connery', 1), ('monolog', 1), ('candle', 1), ('outhe', 1), ('sphere', 1), ('uneasy', 1), ('production', 2), ('faultless', 1), ('underappreciated', 1), ('keith', 1), ('bully', 1), ('teddy', 1), ('vivid', 1), ('convey', 1), ('broad', 1), ('sweep', 1), ('landscape', 1), ('pitch', 1), ('mouse', 1), ('plane', 1), ('famous', 1), ('filmmostly', 1), ('groundbreaking', 1), ('warn', 1), ('youdo', 1), ('renowned', 1), ('france', 1), ('marion', 1), ('hasnt', 1), ('ta', 1), ('slimy', 1), ('drool', 1), ('teeth', 1), ('shakespear', 2), ('prompt', 1), ('screamy', 1), ('masculine', 1), ('1971', 1), ('format', 1), ('miniseries', 1), ('baaaaaad', 1), ('achille', 1), ('philippa', 1), ('beautifully', 1), ('giovanni', 1), ('layer', 1), ('idyllic', 1), ('down', 1), ('teach', 1), ('prejudice', 1), ('gift', 1), ('jim', 1), ('oconnor', 1), ('energetic', 1), ('george', 1)])\n",
            "The word index {'movie': 1, 'film': 2, '0': 3, '1': 4, 'bad': 5, 'one': 6, 'good': 7, 'see': 8, 'character': 9, 'make': 10, 'like': 11, 'watch': 12, 'time': 13, 'great': 14, 'act': 15, 'really': 16, 'even': 17, 'love': 18, 'think': 19, 'story': 20, 'well': 21, 'get': 22, 'scene': 23, 'ever': 24, 'look': 25, 'play': 26, 'actor': 27, 'plot': 28, 'thing': 29, 'dont': 30, 'go': 31, 'cast': 32, 'give': 33, 'way': 34, 'best': 35, 'script': 36, 'also': 37, 'end': 38, 'write': 39, 'real': 40, 'didnt': 41, 'work': 42, 'waste': 43, 'could': 44, 'would': 45, 'funny': 46, 'line': 47, 'much': 48, 'year': 49, 'find': 50, 'wonderful': 51, 'say': 52, 'show': 53, 'every': 54, 'know': 55, 'recommend': 56, 'performance': 57, 'everything': 58, 'never': 59, 'interest': 60, 'come': 61, 'part': 62, '10': 63, 'anyone': 64, 'use': 65, 'little': 66, 'many': 67, 'bore': 68, 'stupid': 69, 'director': 70, 'excellent': 71, 'totally': 72, 'suck': 73, 'art': 74, 'man': 75, 'dialogue': 76, 'worth': 77, 'enjoy': 78, 'people': 79, 'still': 80, 'terrible': 81, 'take': 82, 'awful': 83, 'right': 84, 'screen': 85, 'cant': 86, 'nothing': 87, 'two': 88, 'minute': 89, 'piece': 90, 'direct': 91, 'saw': 92, 'im': 93, 'short': 94, 'life': 95, 'game': 96, 'first': 97, 'ive': 98, 'lot': 99, 'feel': 100, 'pretty': 101, 'black': 102, 'quite': 103, 'understand': 104, 'enough': 105, 'set': 106, 'music': 107, 'job': 108, 'amaze': 109, 'want': 110, 'thats': 111, 'big': 112, 'white': 113, 'seem': 114, 'though': 115, 'definitely': 116, 'doesnt': 117, 'long': 118, 'simply': 119, 'whole': 120, 'lack': 121, 'however': 122, 'highly': 123, 'try': 124, 'beautiful': 125, 'start': 126, 'shoot': 127, 'predictable': 128, 'role': 129, 'camera': 130, 'song': 131, 'old': 132, 'truly': 133, 'almost': 134, 'effect': 135, 'absolutely': 136, 'actually': 137, 'least': 138, 'drama': 139, 'child': 140, 'believe': 141, 'kind': 142, 'begin': 143, 'special': 144, 'kid': 145, 'fan': 146, 'attempt': 147, 'disappoint': 148, 'become': 149, 'top': 150, 'horror': 151, 'another': 152, 'mess': 153, 'mean': 154, 'consider': 155, 'sound': 156, 'deliver': 157, 'probably': 158, 'face': 159, 'far': 160, 'fact': 161, 'perfect': 162, 'tell': 163, 'action': 164, 'tv': 165, 'flick': 166, 'wasnt': 167, 'do': 168, 'portrayal': 169, 'let': 170, 'subtle': 171, 'hour': 172, 'put': 173, 'family': 174, 'create': 175, 'especially': 176, 'keep': 177, 'anything': 178, 'word': 179, 'certainly': 180, 'experience': 181, 'series': 182, 'style': 183, 'annoy': 184, 'poor': 185, 'cinematography': 186, 'crap': 187, 'cool': 188, 'edit': 189, 'entire': 190, 'garbage': 191, 'everyone': 192, 'cheap': 193, 'comedy': 194, 'believable': 195, 'rather': 196, 'suspense': 197, 'throughout': 198, 'incredible': 199, 'must': 200, 'turn': 201, 'hitchcock': 202, 'dance': 203, 'hole': 204, 'fail': 205, 'actress': 206, 'call': 207, 'nice': 208, 'whatever': 209, 'place': 210, 'id': 211, 'cinema': 212, 'girl': 213, 'around': 214, 'lead': 215, 'happen': 216, '90': 217, 'avoid': 218, 'cost': 219, 'human': 220, 'fast': 221, 'star': 222, 'second': 223, 'there': 224, 'wont': 225, 'budget': 226, 'brilliant': 227, 'joy': 228, 'talk': 229, 'young': 230, 'eye': 231, 'pathetic': 232, 'clever': 233, 'ridiculous': 234, 'expect': 235, 'entertain': 236, 'solid': 237, 'audience': 238, 'yet': 239, 'u': 240, 'world': 241, 'flaw': 242, 'picture': 243, 'completely': 244, 'couldnt': 245, 'leave': 246, 'moment': 247, 'move': 248, 'amount': 249, 'hilarious': 250, 'john': 251, 'half': 252, 'different': 253, 'beyond': 254, 'thriller': 255, 'full': 256, 'horrible': 257, 'care': 258, 'overall': 259, 'spoiler': 260, 'bite': 261, 'single': 262, 'felt': 263, 'day': 264, 'guess': 265, 'lame': 266, 'history': 267, 'mention': 268, 'together': 269, 'early': 270, 'often': 271, 'classic': 272, 'deserve': 273, 'superb': 274, 'fun': 275, 'tom': 276, 'cult': 277, 'involve': 278, 'strong': 279, 'pace': 280, 'cartoon': 281, 'money': 282, 'away': 283, 'terrific': 284, 'forget': 285, 'level': 286, 'follow': 287, 'touch': 288, 'silent': 289, 'theme': 290, 'occasionally': 291, 'drago': 292, 'perhaps': 293, 'dialog': 294, 'barely': 295, 'help': 296, 'maybe': 297, 'writer': 298, 'today': 299, 'mostly': 300, 'run': 301, 'emotion': 302, 'depth': 303, 'rest': 304, 'problem': 305, 'indeed': 306, 'always': 307, 'usual': 308, 'surprise': 309, 'last': 310, 'handle': 311, 'imagination': 312, 'share': 313, 'small': 314, 'energy': 315, 'generally': 316, 'weak': 317, 'episode': 318, 'night': 319, 'spend': 320, 'else': 321, 'check': 322, 'insult': 323, 'intelligence': 324, 'since': 325, 'heart': 326, 'chemistry': 327, 'need': 328, 'slow': 329, 'mickey': 330, 'huge': 331, 'quality': 332, 'age': 333, 'ray': 334, 'charles': 335, 'change': 336, 'hard': 337, 'new': 338, 'extremely': 339, 'sing': 340, 'storyline': 341, 'direction': 342, 'plain': 343, 'soundtrack': 344, 'trash': 345, 'fx': 346, 'either': 347, 'release': 348, 'identify': 349, 'hope': 350, 'location': 351, 'camerawork': 352, 'theater': 353, 'three': 354, 'pretentious': 355, 'cover': 356, 'wouldnt': 357, 'tale': 358, 'book': 359, 'whether': 360, 'murder': 361, 'idea': 362, 'rent': 363, 'light': 364, 'sometimes': 365, 'unbelievable': 366, 'fine': 367, 'feature': 368, '\\x96': 369, 'true': 370, 'masterpiece': 371, 'mind': 372, 'documentary': 373, 'god': 374, 'easy': 375, 'buy': 376, 'embarrass': 377, 'fall': 378, 'lose': 379, 'original': 380, 'theyre': 381, 'complete': 382, 'back': 383, 'guy': 384, 'mediocre': 385, 'may': 386, 'value': 387, 'convince': 388, '2': 389, 'glad': 390, 'torture': 391, 'memorable': 392, 'period': 393, 'easily': 394, 'point': 395, 'charm': 396, 'appreciate': 397, 'puppet': 398, 'american': 399, 'dislike': 400, 'aerial': 401, 'along': 402, 'sister': 403, 'sort': 404, 'anne': 405, 'explain': 406, 'contain': 407, 'open': 408, 'havent': 409, 'angle': 410, 'awesome': 411, 'brilliance': 412, 'high': 413, 'offer': 414, 'pure': 415, 'incredibly': 416, 'wish': 417, 'conclusion': 418, 'portray': 419, 'master': 420, 'premise': 421, 'average': 422, 'smart': 423, 'isnt': 424, 'remake': 425, 'favourite': 426, 'twist': 427, 'head': 428, 'issue': 429, 'genuine': 430, 'present': 431, 'suffer': 432, 'intelligent': 433, 'speak': 434, 'surprisingly': 435, 'particularly': 436, 'youll': 437, 'own': 438, 'decent': 439, 'redeem': 440, 'comment': 441, 'addition': 442, 'hold': 443, 'attention': 444, 'sit': 445, 'kill': 446, '80': 447, 'fascinate': 448, 'dvd': 449, 'talent': 450, 'might': 451, 'significant': 452, 'visual': 453, 'stun': 454, 'le': 455, 'rank': 456, 'journey': 457, 'sure': 458, 'memory': 459, 'force': 460, 'rat': 461, 'trilogy': 462, 'talented': 463, 'smile': 464, 'award': 465, 'live': 466, 'reviewer': 467, 'woman': 468, 'up': 469, 'produce': 470, 'brain': 471, 'wind': 472, 'lion': 473, 'member': 474, 'huston': 475, 'ruthless': 476, 'dream': 477, 'balance': 478, 'war': 479, 'rate': 480, 'sea': 481, 'faux': 482, 'wilkinson': 483, 'hand': 484, 'view': 485, 'late': 486, 'oh': 487, 'finally': 488, 'learn': 489, 'without': 490, 'relation': 491, 'ill': 492, 'scamp': 493, 'he': 494, 'space': 495, 'player': 496, 'fear': 497, 'seriously': 498, 'martin': 499, 'obviously': 500, 'sense': 501, 'walk': 502, 'racial': 503, 'depict': 504, 'serious': 505, 'nobody': 506, 'whatsoever': 507, 'pay': 508, 'footage': 509, 'wonder': 510, 'cut': 511, 'wrong': 512, 'describe': 513, 'main': 514, 'spoil': 515, 'paul': 516, 'already': 517, 'lovely': 518, 'scenery': 519, 'provoke': 520, 'question': 521, 'final': 522, 'drive': 523, 'clichés': 524, 'throw': 525, 'ready': 526, 'laughable': 527, 'nut': 528, 'situation': 529, 'recent': 530, 'miss': 531, 'wonderfully': 532, 'bring': 533, 'appearance': 534, 'particular': 535, 'stage': 536, 'next': 537, 'effective': 538, 'nonsense': 539, 'something': 540, 'yes': 541, 'graphic': 542, 'massive': 543, 'hill': 544, 'choice': 545, 'surround': 546, 'arent': 547, 'reason': 548, 'giallo': 549, 'perfectly': 550, 'aspect': 551, 'animation': 552, 'house': 553, 'stay': 554, 'although': 555, 'death': 556, 'frighten': 557, 'race': 558, '1010': 559, 'watchable': 560, 'scale': 561, 'repeat': 562, 'female': 563, 'masterful': 564, 'filmmaking': 565, 'selfindulgent': 566, 'dedication': 567, 'versus': 568, 'concern': 569, 'earth': 570, 'disappointment': 571, 'ability': 572, 'pull': 573, 'undoubtedly': 574, 'reference': 575, 'industry': 576, 'agree': 577, 'effort': 578, 'due': 579, 'plus': 580, 'subject': 581, 'neil': 582, 'lange': 583, 'youd': 584, 'possibly': 585, 'lucy': 586, 'sink': 587, 'low': 588, 'depress': 589, 'delight': 590, 'natural': 591, 'underlie': 592, 'psychological': 593, 'site': 594, 'central': 595, 'room': 596, 'blow': 597, 'disaster': 598, 'confuse': 599, 'understate': 600, 'leaf': 601, 'exquisite': 602, 'robert': 603, 'type': 604, 'impress': 605, 'theatre': 606, 'add': 607, 'betty': 608, 'jean': 609, 'studio': 610, 'edge': 611, 'somewhat': 612, 'afraid': 613, 'car': 614, 'photography': 615, 'suppose': 616, 'hackneyed': 617, 'border': 618, 'offensive': 619, 'errol': 620, 'flynn': 621, 'hollywood': 622, 'sand': 623, 'quinn': 624, 'crazy': 625, 'sandra': 626, 'bullock': 627, 'chick': 628, 'supposedly': 629, 'discover': 630, 'several': 631, 'hear': 632, 'realistic': 633, 'receive': 634, 'wayne': 635, 'presence': 636, 'punch': 637, 'blood': 638, 'jamie': 639, 'genius': 640, 'daughter': 641, 'ball': 642, 'continuity': 643, 'joes': 644, 'warmth': 645, 'contrast': 646, 'remember': 647, 'material': 648, 'chase': 649, 'hence': 650, 'machine': 651, 'depend': 652, 'mishima': 653, 'uninteresting': 654, 'chilly': 655, 'culture': 656, 'flat': 657, 'etc': 658, 'quick': 659, 'schrader': 660, 'lousy': 661, 'recently': 662, 'strike': 663, 'frankly': 664, 'development': 665, 'thrill': 666, 'deeply': 667, 'june': 668, 'unfortunately': 669, 'sequence': 670, 'superbly': 671, 'craft': 672, 'parent': 673, 'note': 674, 'mexican': 675, 'matter': 676, 'complex': 677, 'detail': 678, 'soul': 679, 'water': 680, 'manage': 681, 'grip': 682, 'thoroughly': 683, 'control': 684, 'disturb': 685, 'succeed': 686, 'jerky': 687, 'sick': 688, 'werent': 689, 'witty': 690, 'billy': 691, 'cease': 692, 'french': 693, 'appeal': 694, 'remain': 695, 'judge': 696, 'deal': 697, 'literally': 698, 'vomit': 699, '25': 700, 'unfold': 701, 'lie': 702, 'sublime': 703, 'translate': 704, 'someone': 705, 'poetry': 706, 'peter': 707, 'watkins': 708, 'italian': 709, 'example': 710, 'tremendously': 711, 'wash': 712, 'close': 713, 'unconvincing': 714, 'cardboard': 715, 'accuse': 716, 'son': 717, 'steve': 718, 'none': 719, 'scare': 720, 'reveal': 721, 'south': 722, 'relate': 723, 'hell': 724, 'occupy': 725, 'instead': 726, 'sleep': 727, 'cole': 728, 'jam': 729, 'length': 730, 'imaginative': 731, 'yeah': 732, 'load': 733, 'asleep': 734, 'excuse': 735, 'taylor': 736, 'stanwyck': 737, 'angel': 738, 'underneath': 739, 'sake': 740, 'stand': 741, 'exceptional': 742, 'racism': 743, 'free': 744, 'duet': 745, 'astronaut': 746, 'doctor': 747, 'crash': 748, 'interplay': 749, 'emilio': 750, 'wall': 751, 'shelf': 752, 'overact': 753, 'despite': 754, 'pitiful': 755, 'nature': 756, 'include': 757, 'towards': 758, 'store': 759, 'iq': 760, 'painful': 761, 'hat': 762, 'stereotype': 763, 'scary': 764, 'fantastic': 765, 'weave': 766, 'dog': 767, 'composition': 768, 'closeup': 769, 'christmas': 770, 'advise': 771, 'enjoyable': 772, 'alexander': 773, 'strange': 774, 'clearly': 775, 'tension': 776, 'oscar': 777, 'whiny': 778, 'kinda': 779, 'weird': 780, 'jimmy': 781, 'screenwriter': 782, '3': 783, '4': 784, 'build': 785, 'paint': 786, 'loneliness': 787, 'mad': 788, 'air': 789, 'artist': 790, 'fat': 791, 'cheesy': 792, 'poorly': 793, '110': 794, 'possible': 795, 'adaptation': 796, 'dead': 797, 'drift': 798, 'heaven': 799, 'volcano': 800, 'los': 801, 'angeles': 802, '30': 803, 'negative': 804, 'hollow': 805, 'season': 806, 'producer': 807, 'lane': 808, 'fox': 809, 'humour': 810, 'evil': 811, '20': 812, 'miyazakis': 813, 'ponyo': 814, 'childhood': 815, 'ago': 816, '20th': 817, 'tap': 818, 'mature': 819, 'suggest': 820, 'odd': 821, 'bear': 822, 'ask': 823, 'wholesome': 824, 'shed': 825, 'tear': 826, 'relationship': 827, 'assistant': 828, 'laugh': 829, 'super': 830, 'bother': 831, 'european': 832, 'dangerous': 833, 'cause': 834, 'important': 835, 'occur': 836, 'form': 837, 'imaginable': 838, 'fit': 839, 'rock': 840, 'pg13': 841, 'unfunny': 842, 'joke': 843, 'morgan': 844, 'jonah': 845, 'ed': 846, 'lazy': 847, 'obvious': 848, 'lady': 849, 'grace': 850, 'regret': 851, 'front': 852, 'pointless': 853, 'future': 854, 'utterly': 855, 'read': 856, 'honestly': 857, 'unpredictable': 858, 'badly': 859, 'gon': 860, 'na': 861, 'business': 862, 'sequel': 863, 'fulci': 864, 'humorous': 865, 'brief': 866, 'menace': 867, 'fresh': 868, 'course': 869, 'credit': 870, 'modern': 871, 'gem': 872, 'term': 873, 'reality': 874, '70': 875, 'america': 876, 'ugly': 877, 'emily': 878, 'watson': 879, 'dull': 880, 'speed': 881, 'empty': 882, 'scar': 883, 'review': 884, 'bold': 885, 'brian': 886, 'unrecognizable': 887, 'church': 888, 'nun': 889, 'youre': 890, 'father': 891, 'case': 892, 'conflict': 893, 'previous': 894, 'carry': 895, 'five': 896, 'era': 897, 'proud': 898, 'basically': 899, 'male': 900, 'step': 901, 'courtroom': 902, 'compel': 903, 'realize': 904, 'friend': 905, 'killer': 906, 'element': 907, 'century': 908, 'capture': 909, 'explanation': 910, 'bat': 911, 'stock': 912, 'slight': 913, 'directorial': 914, 'bonus': 915, 'remotely': 916, 'filmmaker': 917, 'abysmal': 918, 'aside': 919, 'junkyard': 920, 'among': 921, 'result': 922, 'us': 923, 'moral': 924, 'overly': 925, 'exactly': 926, 'achievement': 927, 'wed': 928, 'macbeth': 929, 'dark': 930, 'glance': 931, 'allow': 932, 'decay': 933, 'fifteen': 934, 'core': 935, 'impressive': 936, 'lord': 937, 'stink': 938, 'dumb': 939, 'damn': 940, 'production': 941, 'shakespear': 942, 'simmer': 943, 'boil': 944, 'wart': 945, 'study': 946, 'poet': 947, 'bohemian': 948, 'wartime': 949, 'span': 950, 'bombardment': 951, 'london': 952, 'outward': 953, 'tranquillity': 954, 'welsh': 955, 'coastal': 956, 'retreat': 957, 'borderline': 958, 'friendship': 959, 'lust': 960, 'practical': 961, 'jealousy': 962, 'rivalry': 963, 'cowardice': 964, 'egotism': 965, 'heroism': 966, 'selfsacrifice': 967, 'iron': 968, 'evidently': 969, 'limit': 970, 'actingeven': 971, 'professional': 972, 'debbie': 973, 'rochonwas': 974, 'contributory': 975, 'former': 976, 'chimplike': 977, 'tolerable': 978, 'clear': 979, 'range': 980, 'idiotsavant': 981, 'gorman': 982, 'bechard': 983, 'homework': 984, 'characterage': 985, 'appropriate': 986, 'campy': 987, 'jessica': 988, 'message': 989, 'rice': 990, 'sensitivity': 991, 'treatment': 992, 'wellpaced': 993, 'suit': 994, 'relatively': 995, 'jay': 996, 'adam': 997, 'unfortunate': 998, 'evoke': 999, 'jessice': 1000, 'clothe': 1001, 'moviemaking': 1002, 'allstar': 1003, 'artiness': 1004, 'nonexistent': 1005, 'notch': 1006, 'boringpointless': 1007, 'creative': 1008, 'bell': 1009, 'constantine': 1010, 'intensity': 1011, 'motivation': 1012, 'initially': 1013, 'local': 1014, 'buffalo': 1015, 'intrigue': 1016, 'p': 1017, 'impression': 1018, 'ineptly': 1019, 'stereotypically': 1020, 'general': 1021, 'loewenhielms': 1022, 'partake': 1023, 'cailles': 1024, 'en': 1025, 'sarcophage': 1026, 'sample': 1027, 'savor': 1028, 'applaud': 1029, 'otherwise': 1030, 'mother': 1031, 'brother': 1032, 'thiswhen': 1033, 'ryan': 1034, 'imitation': 1035, 'individual': 1036, 'horrendous': 1037, 'nevertheless': 1038, 'stable': 1039, 'president': 1040, 'monumental': 1041, '95': 1042, 'rpg': 1043, 'disgrace': 1044, 'selfrespecting': 1045, 'rpger': 1046, 'mar': 1047, 'constant': 1048, 'indoor': 1049, 'exterior': 1050, 'seat': 1051, 'originality': 1052, 'freshness': 1053, 'popcorn': 1054, 'custer': 1055, '1949': 1056, 'collective': 1057, 'treat': 1058, 'anthony': 1059, 'horse': 1060, 'condescend': 1061, 'ben': 1062, 'affleck': 1063, 'wifetobe': 1064, 'knock': 1065, 'highlight': 1066, 'fundamental': 1067, 'legal': 1068, 'process': 1069, 'guilt': 1070, 'innocence': 1071, 'court': 1072, 'excruciatingly': 1073, 'soap': 1074, 'opera': 1075, 'ton': 1076, 'filmsomething': 1077, 'grant': 1078, 'crowd': 1079, 'pleaser': 1080, '1928': 1081, 'flesh': 1082, 'grime': 1083, 'blake': 1084, 'sharply': 1085, 'deadpan': 1086, 'tongue': 1087, 'cheek': 1088, 'shin': 1089, 'senior': 1090, 'junk': 1091, 'hadnt': 1092, 'showcasing': 1093, 'noteworthy': 1094, 'gallon': 1095, 'spew': 1096, 'forth': 1097, 'soon': 1098, 'foxx': 1099, 'spacek': 1100, 'coal': 1101, 'miner': 1102, 'quaid': 1103, 'fire': 1104, 'blist': 1105, 'horrorsuspense': 1106, 'error': 1107, 'user': 1108, 'garage': 1109, 'glassesthe': 1110, 'facial': 1111, 'hair': 1112, 'configuration': 1113, 'generate': 1114, 'austere': 1115, 'backdrop': 1116, 'legendary': 1117, 'provide': 1118, 'biographical': 1119, 'musician': 1120, 'ironically': 1121, 'total': 1122, 'secondly': 1123, 'pander': 1124, 'sabotage': 1125, 'certain': 1126, 'rumble': 1127, 'desperately': 1128, 'logic': 1129, 'unremarkable': 1130, 'author': 1131, 'livingworking': 1132, 'abstruse': 1133, 'reenactment': 1134, 'emotionally': 1135, 'adrift': 1136, 'stagy': 1137, 'soldier': 1138, 'masculinity': 1139, 'pledge': 1140, 'hairsplitting': 1141, 'purity': 1142, 'admiration': 1143, 'sword': 1144, 'momentum': 1145, 'resume': 1146, 'amateurish': 1147, 'inconsistency': 1148, 'horrid': 1149, 'ballet': 1150, 'repertory': 1151, 'woa': 1152, 'sappy': 1153, 'unwatchable': 1154, 'filmography': 1155, 'chance': 1156, 'intention': 1157, 'themeat': 1158, 'wouldbe': 1159, 'undertone': 1160, 'fifty': 1161, 'existential': 1162, 'worldweariness': 1163, 'ought': 1164, 'sens': 1165, 'regrettably': 1166, 'expression': 1167, 'celebration': 1168, 'patriotism': 1169, 'underline': 1170, 'narrative': 1171, 'allison': 1172, 'cinematographyif': 1173, 'thatsucked': 1174, 'concert': 1175, 'ridiculousness': 1176, 'angry': 1177, 'surface': 1178, 'stateoftheart': 1179, 'conceptually': 1180, 'everybody': 1181, 'fantasy': 1182, 'andor': 1183, 'sour': 1184, 'actingwise': 1185, 'thank': 1186, 'noircrimedrama': 1187, 'belmondo': 1188, 'lino': 1189, 'ventura': 1190, 'loyalty': 1191, 'treachery': 1192, 'tremendous': 1193, 'melville': 1194, 'transcend': 1195, 'limitation': 1196, 'indie': 1197, 'continually': 1198, 'subvert': 1199, 'expectation': 1200, 'emerge': 1201, 'intense': 1202, 'crocdodile': 1203, 'website': 1204, 'crocs': 1205, 'swamp': 1206, 'fabulous': 1207, 'christopher': 1208, 'eccleston': 1209, 'tardis': 1210, 'continuation': 1211, 'here': 1212, 'pied': 1213, 'summary': 1214, 'witticism': 1215, 'bob': 1216, 'rise': 1217, 'finale': 1218, 'kieslowski': 1219, 'colour': 1220, 'flag': 1221, 'visually': 1222, 'connection': 1223, 'survivor': 1224, 'ferry': 1225, 'valentine': 1226, 'solidify': 1227, 'happiness': 1228, 'wrap': 1229, 'anythinga': 1230, 'roth': 1231, 'pearl': 1232, 'eloquently': 1233, 'francis': 1234, 'ford': 1235, 'coppola': 1236, 'gradually': 1237, 'develop': 1238, 'nicolas': 1239, 'roeg': 1240, 'wih': 1241, '5year': 1242, 'strive': 1243, 'greatness': 1244, 'muddle': 1245, 'bunch': 1246, 'disparate': 1247, 'accurately': 1248, 'define': 1249, 'accessible': 1250, 'rita': 1251, 'hayworth': 1252, 'pedestal': 1253, 'exploit': 1254, 'financial': 1255, 'gain': 1256, 'twirl': 1257, 'hurt': 1258, 'rickman': 1259, 'stowe': 1260, 'hilt': 1261, 'childrens': 1262, 'subversive': 1263, 'tract': 1264, 'blandly': 1265, 'edward': 1266, 'chodorov': 1267, 'negulesco': 1268, 'reflect': 1269, 'belowpar': 1270, 'borrow': 1271, 'onscreen': 1272, 'critical': 1273, 'shallow': 1274, 'insincere': 1275, 'shutdown': 1276, 'primal': 1277, 'impulse': 1278, 'selfpreservation': 1279, 'title': 1280, 'debate': 1281, 'sack': 1282, 'trumpeter': 1283, 'falsely': 1284, 'largely': 1285, 'sean': 1286, 'connerys': 1287, 'noble': 1288, 'brigand': 1289, 'candace': 1290, 'bergen': 1291, 'feisty': 1292, 'heroine': 1293, 'wily': 1294, 'hay': 1295, 'kanalys': 1296, 'spiffy': 1297, 'radiant': 1298, 'cando': 1299, 'lieutenant': 1300, 'roosevelt': 1301, 'stick': 1302, 'engage': 1303, 'excite': 1304, 'meredith': 1305, 'stinker': 1306, 'smell': 1307, 'directtovideo': 1308, 'complexity': 1309, 'task': 1310, 'challenge': 1311, 'africa': 1312, 'judith': 1313, 'favorite': 1314, 'join': 1315, 'revenge': 1316, 'boogeyman': 1317, 'zombiez': 1318, 'hellish': 1319, 'trinity': 1320, 'peak': 1321, 'paper': 1322, 'columbo': 1323, 'lassie': 1324, 'forever': 1325, 'routine': 1326, 'factbased': 1327, 'boost': 1328, '910': 1329, 'hopefully': 1330, 'cox': 1331, 'win': 1332, 'exceptionally': 1333, 'practically': 1334, 'prepare': 1335, 'ordeal': 1336, 'progress': 1337, 'anguish': 1338, 'adorable': 1339, 'turkey': 1340, 'straw': 1341, 'cruel': 1342, 'delete': 1343, 'others': 1344, 'football': 1345, 'perplex': 1346, 'southern': 1347, 'california': 1348, 'desert': 1349, 'patent': 1350, 'relax': 1351, 'terribly': 1352, 'accolade': 1353, 'understatement': 1354, 'sign': 1355, 'improvement': 1356, 'slack': 1357, 'personally': 1358, 'compromise': 1359, 'self': 1360, 'excellentangel': 1361, 'adorablehis': 1362, 'yelp': 1363, 'scaredand': 1364, 'whenscamp': 1365, 'catch': 1366, 'curtain': 1367, 'beforei': 1368, 'movieits': 1369, 'edition': 1370, '20the': 1371, 'lid': 1372, 'cg': 1373, 'microsoft': 1374, 'slideshow': 1375, 'kudos': 1376, 'lesserknown': 1377, 'superintelligent': 1378, 'halfway': 1379, 'howell': 1380, 'exchange': 1381, 'cold': 1382, 'ussr': 1383, 'street': 1384, 'charlie': 1385, 'hopeless': 1386, 'pan': 1387, 'rubbish': 1388, 'nonresearched': 1389, 'shatner': 1390, 'nimoy': 1391, 'tacky': 1392, 'spock': 1393, 'rescue': 1394, 'kirk': 1395, 'jet': 1396, 'pack': 1397, 'mountain': 1398, 'hbo': 1399, 'unneeded': 1400, 'controversy': 1401, 'litter': 1402, 'overt': 1403, 'slur': 1404, 'return': 1405, 'moron': 1406, 'boob': 1407, 'girlfriend': 1408, 'widmark': 1409, 'unintentionally': 1410, 'comical': 1411, 'body': 1412, '1947': 1413, 'welldone': 1414, 'cutout': 1415, 'predictably': 1416, 'reversestereotypes': 1417, 'appal': 1418, 'unbearable': 1419, 'charisma': 1420, 'comedic': 1421, 'seamlessly': 1422, 'splendid': 1423, 'alert': 1424, 'decipher': 1425, 'inventive': 1426, 'elegant': 1427, 'pointillistic': 1428, 'home': 1429, 'behold': 1430, 'florida': 1431, 'politically': 1432, 'correct': 1433, 'etcits': 1434, 'ebay': 1435, 'julian': 1436, 'fellowes': 1437, 'triumph': 1438, 'elia': 1439, 'koteasjack': 1440, 'palance': 1441, 'angelina': 1442, 'hot': 1443, 'nakedbilly': 1444, 'appear': 1445, 'cameo': 1446, 'sven': 1447, 'ole': 1448, 'thorsen': 1449, 'success': 1450, 'sydney': 1451, 'greenstreet': 1452, 'yardley': 1453, 'painfully': 1454, 'dreary': 1455, 'timewaster': 1456, 'mollusk': 1457, 'rough': 1458, 'draft': 1459, 'finish': 1460, '1973': 1461, 'person': 1462, 'medical': 1463, 'terminology': 1464, 'iffy': 1465, 'insulin': 1466, 'dependant': 1467, 'diabetic': 1468, 'fest': 1469, 'brat': 1470, 'babysitting': 1471, 'pap': 1472, 'afternoon': 1473, 'punish': 1474, 'unemployed': 1475, 'omit': 1476, 'matthew': 1477, 'wrotedirected': 1478, '1995': 1479, 'monster': 1480, 'grim': 1481, 'team': 1482, 'behind': 1483, 'continue': 1484, 'peculiarity': 1485, 'buffet': 1486, 'science': 1487, 'teacher': 1488, 'tie': 1489, 'loose': 1490, 'thoughtprovoking': 1491, 'couple': 1492, 'hummh': 1493, 'whenever': 1494, 'tvnever': 1495, 'memorize': 1496, 'cutie': 1497, 'murky': 1498, 'product': 1499, 'struggle': 1500, 'timer': 1501, 'dad': 1502, 'grow': 1503, 'photograph': 1504, 'threshold': 1505, 'excerpt': 1506, 'trek': 1507, 'v': 1508, 'frontier': 1509, 'bark': 1510, 'network': 1511, 'dribble': 1512, 'proudly': 1513, 'classical': 1514, 'wb': 1515, 'compose': 1516, 'cheerless': 1517, 'heist': 1518, 'characterisation': 1519, 'underbite': 1520, 'stoic': 1521, 'emote': 1522, 'chow': 1523, 'yun': 1524, 'tomorrow': 1525, 'abandon': 1526, 'factory': 1527, 'execute': 1528, 'fly': 1529, 'judo': 1530, 'roll': 1531, 'la': 1532, 'woo': 1533, '010': 1534, 'mst3k': 1535, 'fodder': 1536, 'remind': 1537, 'evince': 1538, 'faithful': 1539, 'joyce': 1540, 'acclaim': 1541, 'novella': 1542, 'lifetime': 1543, 'sell': 1544, 'musthave': 1545, 'slowmoving': 1546, 'aimless': 1547, 'distress': 1548, 'genre': 1549, 'middleaged': 1550, 'upper': 1551, 'class': 1552, 'uptight': 1553, 'sorry': 1554, 'elderly': 1555, 'awkwardly': 1556, 'babble': 1557, 'overwrought': 1558, 'pseudosatanic': 1559, 'gibberish': 1560, 'corny': 1561, 'teen': 1562, 'goth': 1563, 'blush': 1564, 'olde': 1565, 'english': 1566, 'latin': 1567, 'foreigner': 1568, 'enter': 1569, 'admins': 1570, 'miserable': 1571, 'host': 1572, 'voiceovers': 1573, 'monotonous': 1574, 'guest': 1575, 'derivative': 1576, 'mercy': 1577, 'idiot': 1578, 'telephone': 1579, 'repair': 1580, 'reaction': 1581, 'bitchy': 1582, 'bos': 1583, 'coach': 1584, 'paolo': 1585, 'sorrentino': 1586, 'tony': 1587, 'unforgettable': 1588, 'modest': 1589, 'entirely': 1590, 'transfer': 1591, 'ten': 1592, 'channel': 1593, 'apt': 1594, 'mark': 1595, 'phantasm': 1596, '40': 1597, 'empowerment': 1598, 'hayao': 1599, 'eighth': 1600, 'ghibili': 1601, 'gake': 1602, 'ue': 1603, 'cliff': 1604, 'sunday': 1605, 'march': 1606, '2005': 1607, 'pillow': 1608, 'girlfriendboyfriend': 1609, 'dramatic': 1610, 'focus': 1611, 'serve': 1612, 'apart': 1613, 'inappropriate': 1614, 'keira': 1615, 'knightley': 1616, 'prone': 1617, 'elaborately': 1618, 'aesthetically': 1619, 'sculpture': 1620, 'unconditional': 1621, 'tiny': 1622, 'toon': 1623, 'vibe': 1624, 'popular': 1625, 'underrate': 1626, 'poler': 1627, 'cutebut': 1628, 'fort': 1629, 'steele': 1630, 'duris': 1631, 'ultracheap': 1632, 'crayonpencil': 1633, 'draw': 1634, 'colorful': 1635, 'fanciful': 1636, 'malta': 1637, 'dry': 1638, 'barren': 1639, 'hockey': 1640, 'defensemen': 1641, '5': 1642, 'goalie': 1643, 'dive': 1644, 'foot': 1645, 'wide': 1646, 'net': 1647, 'bakery': 1648, 'waitress': 1649, 'superficial': 1650, 'stagey': 1651, 'farce': 1652, 'pyromaniac': 1653, 'waylay': 1654, 'switch': 1655, 'yawn': 1656, 'educational': 1657, '8': 1658, 'barney': 1659, 'de': 1660, 'duper': 1661, 'babie': 1662, 'bop': 1663, 'cute': 1664, 'storm': 1665, 'trooper': 1666, 'list': 1667, 'unrecommended': 1668, 'groove': 1669, 'antithesis': 1670, 'traffic': 1671, 'design': 1672, 'amazingstylized': 1673, 'anyway': 1674, 'flow': 1675, 'smoothly': 1676, 'malebonding': 1677, 'hoot': 1678, 'enjoyment': 1679, 'raw': 1680, 'sublimely': 1681, 'outlandish': 1682, 'array': 1683, 'psychotic': 1684, 'lovable': 1685, 'delightful': 1686, 'dr': 1687, 'seuss': 1688, 'brilliantly': 1689, 'animate': 1690, 'upas': 1691, 'academy': 1692, 'structure': 1693, 'tightly': 1694, 'construct': 1695, 'vitally': 1696, 'content': 1697, 'fill': 1698, 'dozen': 1699, 'superlative': 1700, 'require': 1701, 'puzzlesolving': 1702, 'number': 1703, 'th': 1704, 'insane': 1705, 'unlockable': 1706, 'properly': 1707, 'canada': 1708, 'aye': 1709, 'doom': 1710, 'conception': 1711, 'minor': 1712, 'nonsequel': 1713, 'tone': 1714, 'pgrated': 1715, 'confirm': 1716, 'generic': 1717, 'exaggerate': 1718, 'trailer': 1719, 'carrell': 1720, 'save': 1721, 'costars': 1722, 'fare': 1723, 'freeman': 1724, 'helm': 1725, 'animal': 1726, 'integration': 1727, 'bluegreenscreen': 1728, 'meagre': 1729, 'less': 1730, 'cancan': 1731, 'boast': 1732, 'headoverheels': 1733, 'insipid': 1734, 'wait': 1735, 'heche': 1736, 'sam': 1737, 'shepard': 1738, 'gung': 1739, 'ho': 1740, 'marine': 1741, 'sober': 1742, 'rivet': 1743, 'resound': 1744, '9': 1745, 'hank': 1746, 'voice': 1747, 'fingernail': 1748, 'chalkboard': 1749, 'unnecessary': 1750, 'trainroller': 1751, 'coaster': 1752, 'grate': 1753, 'nerve': 1754, 'improve': 1755, 'improvisation': 1756, 'twice': 1757, 'worry': 1758, 'crackle': 1759, 'youthful': 1760, 'concentrate': 1761, 'meander': 1762, 'builder': 1763, 'cross': 1764, 'g': 1765, 'pg': 1766, 'noncliche': 1767, 'predict': 1768, 'verbatim': 1769, 'selection': 1770, 'gross': 1771, 'chill': 1772, 'nevsky': 1773, 'whoever': 1774, 'plan': 1775, 'dodge': 1776, 'stratus': 1777, 'maker': 1778, 'restrain': 1779, 'québec': 1780, 'movement': 1781, 'personality': 1782, 'matrix': 1783, 'mindblowing': 1784, 'muppets': 1785, 'badwellits': 1786, 'goremeister': 1787, 'lucio': 1788, 'subgenre': 1789, 'musicincluding': 1790, 'shirley': 1791, 'jones': 1792, 'rendition': 1793, 'tonight': 1794, 'uplift': 1795, 'charismatic': 1796, '15': 1797, '2006': 1798, 'angus': 1799, 'scrimm': 1800, 'gently': 1801, 'violinplaying': 1802, 'anatomist': 1803, 'squib': 1804, 'shameful': 1805, 'tough': 1806, 'dignity': 1807, 'shock': 1808, 'realise': 1809, 'problems\\x97the': 1810, 'professor': 1811, 'instant': 1812, 'catchy': 1813, 'applause': 1814, 'prelude': 1815, 'equivalent': 1816, 'dickens': 1817, 'carol': 1818, 'sensibility': 1819, 'screenplay': 1820, 'postproduction': 1821, 'national': 1822, 'treasure': 1823, 'zillion': 1824, 'camp': 1825, 'inspiration': 1826, 'overcome': 1827, 'rejection': 1828, 'dominate': 1829, 'disneypixars': 1830, 'cgi': 1831, 'refresh': 1832, 'comfort': 1833, 'miyazaki': 1834, 'rely': 1835, 'traditional': 1836, 'handdrawn': 1837, 'enchant': 1838, 'render': 1839, 'imperial': 1840, 'artless': 1841, 'endlessly': 1842, 'ie': 1843, 'unrealistic': 1844, 'utter': 1845, '70000': 1846, 'power': 1847, 'dysfunctionhe': 1848, 'forgettable': 1849, 'secondary': 1850, 'incomprehensible': 1851, 'primary': 1852, 'mystify': 1853, 'wooden': 1854, 'pick': 1855, 'emptiness': 1856, 'consolation': 1857, 'titta': 1858, 'di': 1859, 'girolamo': 1860, 'vision': 1861, 'horrify': 1862, 'sympathetic': 1863, 'overdue': 1864, 'vessel': 1865, 'mighty': 1866, 'frost': 1867, 'indescribably': 1868, 'idiotic': 1869, 'mindbendingly': 1870, 'poignant': 1871, 'wouldve': 1872, 'competent': 1873, 'jerry': 1874, 'falwell': 1875, 'relief': 1876, 'jaclyn': 1877, 'smith': 1878, '12': 1879, 'marriage': 1880, 'choose': 1881, 'disgust': 1882, 'blatant': 1883, 'propaganda': 1884, 'scream': 1885, 'victor': 1886, 'mclaglen': 1887, 'donlevy': 1888, 'shenanigan': 1889, 'spy': 1890, 'kidnap': 1891, 'nasty': 1892, 'foreign': 1893, 'random': 1894, 'taxidermist': 1895, 'thunderbird': 1896, 'ursula': 1897, 'burton': 1898, 'nutbag': 1899, 'side': 1900, 'stephen': 1901, 'mchattie': 1902, 'lance': 1903, 'hendrikson': 1904, 'rag': 1905, 'cheekbone': 1906, 'remarkable': 1907, 'explosion': 1908, 'gas': 1909, 'tank': 1910, 'nonetheless': 1911, 'thoughtsgabriels': 1912, 'discomfort': 1913, 'danceall': 1914, 'intangible': 1915, 'leap': 1916, 'within': 1917, 'viewer': 1918, 'grasp': 1919, 'ryans': 1920, 'schizophrenic': 1921, 'lifemy': 1922, 'affect': 1923, 'subplots': 1924, 'native': 1925, 'eat': 1926, 'beall': 1927, 'endall': 1928, 'brainsucking': 1929, 'attractive': 1930, 'eyepleasing': 1931, 'choke': 1932, 'worthless': 1933, 'youve': 1934, 'social': 1935, 'physical': 1936, 'outlet': 1937, 'surf': 1938, 'wave': 1939, '1998': 1940, 'deep': 1941, 'impact': 1942, 'armageddon': 1943, 'everywhere': 1944, 'phrase': 1945, 'owe': 1946, 'please': 1947, 'passion': 1948, 'plenty': 1949, 'audio': 1950, 'sibling': 1951, 'bond': 1952, 'despise': 1953, 'adventure': 1954, 'bland': 1955, 'hip': 1956, 'pray': 1957, 'hype': 1958, 'youtube': 1959, 'happy': 1960, 'distinction': 1961, 'hatred': 1962, 'admit': 1963, 'elsewhere': 1964, 'shell': 1965, 'ticket': 1966, 'dollar': 1967, '750': 1968, 'charismafree': 1969, 'pot': 1970, 'plant': 1971, 'juano': 1972, 'hernandez': 1973, 'support': 1974, 'humor': 1975, 'dosent': 1976, 'vulcan': 1977, 'steal': 1978, 'enterprise': 1979, 'uhura': 1980, 'belly': 1981, 'distract': 1982, 'guard': 1983, 'veteran': 1984, 'nostalgia': 1985, 'trip': 1986, 'magnificent': 1987, 'photographycinematography': 1988, 'comprehensible': 1989, 'lilt': 1990, 'phenomenal': 1991, 'opinion': 1992, 'interview': 1993, 'vampire': 1994, 'lestat': 1995, 'stuart': 1996, 'townsend': 1997, 'cruise': 1998, 'contract': 1999, 'trond': 2000, 'fausa': 2001, 'aurvåg': 2002, 'bothersome': 2003, 'aailiyah': 2004, 'akasha': 2005, 'entrance': 2006, 'mini': 2007, 'bipolarity': 2008, 'thug': 2009, 'luvs': 2010, 'diaper': 2011, 'commercial': 2012, 'score': 2013, 'integral': 2014, 'road': 2015, '1948': 2016, 'silly': 2017, 'noir': 2018, 'implausible': 2019, 'unmitigated': 2020, 'exemplar': 2021, 'designer': 2022, 'pleasant': 2023, 'voyage': 2024, 'selfdiscovery': 2025, 'shortlist': 2026, 'sweet': 2027, 'essence': 2028, 'oldfashioned': 2029, 'tuneful': 2030, 'sloppy': 2031, 'universe': 2032, 'excessively': 2033, 'phony': 2034, 'contrive': 2035, 'reasonable': 2036, 'atrocity': 2037, 'commentary': 2038, 'stewart': 2039, 'hero': 2040, 'rip': 2041, 'climax': 2042, 'embassy': 2043, 'function': 2044, 'brood': 2045, 'lowbudget': 2046, 'bela': 2047, 'lugosi': 2048, 'extraneous': 2049, 'intone': 2050, 'garbo': 2051, 'netflix': 2052, 'perabo': 2053, 'comfortable': 2054, 'uniqueness': 2055, 'ticker': 2056, 'estevezs': 2057, 'debut': 2058, 'estevez': 2059, 'tire': 2060, 'thick': 2061, 'reader': 2062, 'worthwhile': 2063, 'computer': 2064, 'geek': 2065, 'bible': 2066, 'thumper': 2067, 'badass': 2068, 'stanwycks': 2069, '18th': 2070, 'jutland': 2071, 'instrument': 2072, 'excellently': 2073, 'scifis': 2074, 'scot': 2075, 'vandiver': 2076, 'hate': 2077, 'sum': 2078, 'breeder': 2079, 'cheaply': 2080, 'ebola': 2081, 'virus': 2082, 'hide': 2083, 'extraordinary': 2084, 'accent': 2085, '1986': 2086, 'version': 2087, 'loosely': 2088, 'moviegoing': 2089, 'public': 2090, 'underact': 2091, 'debit': 2092, 'filmiing': 2093, 'expansive': 2094, 'romanticcharminghilariousand': 2095, 'adorablethe': 2096, 'funnyall': 2097, 'specialtoo': 2098, 'laughedkids': 2099, 'itbuy': 2100, 'outit': 2101, 'sincere': 2102, 'crowdpleaserthis': 2103, 'shame': 2104, 'riot': 2105, 'hugo': 2106, 'sexobsessed': 2107, 'gay': 2108, 'estate': 2109, 'salesman': 2110, 'client': 2111, 'tryst': 2112, 'flame': 2113, 'darren': 2114, 'hollander': 2115, 'movieit': 2116, 'emperor': 2117, 'trumbull': 2118, 'rare': 2119, 'worthy': 2120, 'trap': 2121, 'syrupy': 2122, 'indulgent': 2123, 'fish': 2124, 'underwater': 2125, 'thousand': 2126, 'amuse': 2127, 'latch': 2128, 'endear': 2129, 'sobaditsgood': 2130, 'sobaditsmemorable': 2131, 'evaluate': 2132, 'pair': 2133, 'fishnet': 2134, 'astonishingly': 2135, 'ham': 2136, 'fisted': 2137, 'ireland': 2138, 'bigbudget': 2139, 'chanceit': 2140, '50': 2141, 'crow': 2142, 'subpar': 2143, 'lifeoh': 2144, 'gosh': 2145, 'wild': 2146, 'stuff': 2147, 'oyvey': 2148, 'inside': 2149, 'helen': 2150, 'baxendale': 2151, 'credible': 2152, 'cheerfull': 2153, 'naughty': 2154, 'deadly': 2155, 'taste': 2156, 'skilled': 2157, 'northern': 2158, 'positive': 2159, 'community': 2160, 'represent': 2161, 'tender': 2162, 'sitcom': 2163, 'orient': 2164, 'teenager': 2165, 'throwback': 2166, 'student': 2167, '1980s': 2168, 'abroad': 2169, 'interact': 2170, 'nationality': 2171, 'circumstance': 2172, 'slightly': 2173, 'gerardo': 2174, 'onedimensional': 2175, 'grainy': 2176, 'enhance': 2177, 'jennifer': 2178, 'rubin': 2179, 'harris': 2180, 'nervous': 2181, 'starlet': 2182, 'event': 2183, 'honest': 2184, 'foolish': 2185, 'pretext': 2186, 'nonlinear': 2187, 'narration': 2188, 'thus': 2189, 'flashback': 2190, 'articulate': 2191, 'doubt': 2192, 'slowmotion': 2193, 'needlessly': 2194, 'vehicle': 2195, 'corn': 2196, 'flake': 2197, 'box': 2198, 'stupidity': 2199, 'lewis': 2200, 'considerable': 2201, 'incendiary': 2202, 'unrestrained': 2203, 'beware': 2204, 'trashy': 2205, 'indictment': 2206, 'justice': 2207, 'system': 2208, 'tolerate': 2209, 'political': 2210, 'incorrectness': 2211, 'artistic': 2212, 'freedom': 2213, 'suspension': 2214, 'disbelief': 2215, 'slavic': 2216, 'drop': 2217, 'labute': 2218, 'brutal': 2219, 'violence': 2220, 'seperate': 2221, 'm': 2222, 'smack': 2223, 'showthese': 2224, 'cotton': 2225, 'club': 2226, 'unfaithful': 2227, 'gere': 2228, 'punishment': 2229, 'park': 2230, 'sole': 2231, 'bright': 2232, 'spot': 2233, 'superbad': 2234, 'weight': 2235, 'interim': 2236, 'powerful': 2237, 'exploration': 2238, 'offend': 2239, 'shakespears': 2240, 'lyric': 2241, 'monica': 2242, 'bellucci': 2243, 'four': 2244, 'sentiment': 2245, 'um': 2246, 'break': 2247, 'el': 2248, 'fumble': 2249, 'hanky': 2250, 'alike': 2251, 'actorsan': 2252, 'haggis': 2253, 'stroke': 2254, 'storytellinga': 2255, 'crayon': 2256, 'dustin': 2257, 'hoffman': 2258, 'nearly': 2259, 'unpleasant': 2260, 'feelgood': 2261, 'manna': 2262, 'as': 2263, 'uncalled': 2264, 'regardless': 2265, 'subtitle': 2266, 'aversion': 2267, 'therapy': 2268, 'notable': 2269, 'gore': 2270, 'card': 2271, 'major': 2272, 'destroy': 2273, 'latifas': 2274, 'timeless': 2275, 'simplify': 2276, 'brevity': 2277, 'fulfil': 2278, 'irritate': 2279, 'inspire': 2280, 'video': 2281, 'proceed': 2282, 'damian': 2283, 'versatile': 2284, 'telly': 2285, 'savalas': 2286, 'boyle': 2287, '54': 2288, 'sheer': 2289, 'tedium': 2290, 'melodrama': 2291, 'imagine': 2292, 'decision': 2293, 'atrocious': 2294, 'trouble': 2295, 'impossible': 2296, 'establish': 2297, 'subplot': 2298, 'band': 2299, 'latterday': 2300, 'mansonites': 2301, 'reporter': 2302, 'who': 2303, 'anniversary': 2304, 'indication': 2305, 'meld': 2306, 'volatile': 2307, 'temperament': 2308, 'seamless': 2309, 'union': 2310, 'creativity': 2311, 'powerhouse': 2312, 'timely': 2313, 'fascination': 2314, 'celebrity': 2315, 'distort': 2316, 'interpretation': 2317, 'fame': 2318, 'kevin': 2319, 'spacey': 2320, 'verbal': 2321, 'tsunami': 2322, 'buddy': 2323, 'ackerman': 2324, 'unmatched': 2325, 'galley': 2326, 'pm': 2327, '8pm': 2328, '815pm': 2329, 'forward': 2330, 'horrendously': 2331, 'buildup': 2332, 'captain': 2333, 'howdy': 2334, 'semi': 2335, 'truck': 2336, 'linda': 2337, 'cardellini': 2338, 'shes': 2339, 'poise': 2340, 'dee': 2341, 'snide': 2342, 'villain': 2343, 'sophisticate': 2344, 'thrillerhorror': 2345, 'miserably': 2346, 'unoriginal': 2347, 'cinematic': 2348, 'celluloid': 2349, 'supernatural': 2350, 'zombie': 2351, 'consistent': 2352, 'thread': 2353, 'leni': 2354, 'parker': 2355, 'anita': 2356, 'laselva': 2357, 'taelons': 2358, 'quiet': 2359, 'idealogical': 2360, 'mainly': 2361, 'center': 2362, 'atmosphere': 2363, 'sinister': 2364, 'origin': 2365, 'insomniac': 2366, 'heartwarming': 2367, 'nurse': 2368, 'unpredictability': 2369, 'kris': 2370, 'kristoffersen': 2371, 'difference': 2372, 'sad': 2373, 'robotic': 2374, 'convolute': 2375, 'technically': 2376, 'riz': 2377, 'ortolani': 2378, 'recur': 2379, 'unaccompanied': 2380, 'vocal': 2381, 'distant': 2382, 'greatespecially': 2383, 'politics': 2384, 'japanese': 2385, 'gloriously': 2386, 'fairly': 2387, 'accurate': 2388, 'raver': 2389, 'mesmerise': 2390, 'kathy': 2391, 'desperation': 2392, 'escapism': 2393, 'variation': 2394, 'field': 2395, 'except': 2396, 'theatrical': 2397, 'everyones': 2398, 'terror': 2399, 'escalate': 2400, 'monstrous': 2401, 'consequence': 2402, 'standout': 2403, 'wow': 2404, 'wordofmouth': 2405, 'promote': 2406, 'jason': 2407, 'connery': 2408, 'monolog': 2409, 'candle': 2410, 'outhe': 2411, 'sphere': 2412, 'uneasy': 2413, 'faultless': 2414, 'underappreciated': 2415, 'keith': 2416, 'bully': 2417, 'teddy': 2418, 'vivid': 2419, 'convey': 2420, 'broad': 2421, 'sweep': 2422, 'landscape': 2423, 'pitch': 2424, 'mouse': 2425, 'plane': 2426, 'famous': 2427, 'filmmostly': 2428, 'groundbreaking': 2429, 'warn': 2430, 'youdo': 2431, 'renowned': 2432, 'france': 2433, 'marion': 2434, 'hasnt': 2435, 'ta': 2436, 'slimy': 2437, 'drool': 2438, 'teeth': 2439, 'prompt': 2440, 'screamy': 2441, 'masculine': 2442, '1971': 2443, 'format': 2444, 'miniseries': 2445, 'baaaaaad': 2446, 'achille': 2447, 'philippa': 2448, 'beautifully': 2449, 'giovanni': 2450, 'layer': 2451, 'idyllic': 2452, 'down': 2453, 'teach': 2454, 'prejudice': 2455, 'gift': 2456, 'jim': 2457, 'oconnor': 2458, 'energetic': 2459, 'george': 2460}\n",
            "The word docs defaultdict(<class 'int'>, {'piece': 10, 'art': 11, 'london': 1, 'borderline': 1, 'egotism': 1, 'jealousy': 1, 'practical': 1, 'wartime': 1, 'dedication': 2, 'year': 15, 'tranquillity': 1, 'study': 1, 'poet': 1, 'friendship': 1, 'love': 27, 'cowardice': 1, 'welsh': 1, 'theme': 4, 'versus': 1, 'bohemian': 1, 'bombardment': 1, 'retreat': 1, 'wart': 1, 'coastal': 1, 'simmer': 1, 'selfindulgent': 2, 'experience': 5, 'rivalry': 1, 'outward': 1, 'aerial': 3, 'span': 1, 'concern': 2, 'masterful': 2, 'filmmaking': 2, 'heroism': 1, 'selfsacrifice': 1, 'boil': 1, 'lust': 1, 'many': 14, 'occasionally': 4, 'iron': 1, 'earth': 2, 'film': 125, 'great': 29, 'disappointment': 2, 'well': 26, 'role': 8, 'play': 24, 'evidently': 1, 'budget': 5, 'limit': 1, 'terrible': 10, 'chimplike': 1, 'rochonwas': 1, 'barely': 4, 'tolerable': 1, 'perhaps': 4, 'bad': 57, 'debbie': 1, 'former': 1, 'direct': 10, 'work': 17, 'professional': 1, 'drago': 3, 'actingeven': 1, 'dialog': 4, 'camera': 8, 'contributory': 1, 'brilliant': 5, 'time': 39, 'waste': 16, 'dont': 20, 'part': 15, 'ability': 2, 'clear': 1, 'pull': 2, 'range': 1, 'maybe': 4, 'sister': 3, 'watch': 36, 'write': 18, 'help': 4, 'real': 20, 'good': 52, 'joy': 5, 'idiotsavant': 1, 'act': 32, 'along': 3, 'could': 20, 'go': 20, 'see': 54, 'appropriate': 1, 'characterage': 1, 'writer': 4, 'reference': 2, 'homework': 1, 'industry': 2, 'gorman': 1, 'bechard': 1, 'undoubtedly': 2, 'campy': 1, 'sort': 3, 'thats': 8, 'agree': 2, 'movie': 130, 'jessica': 1, 'pretty': 10, 'think': 26, 'saw': 11, 'effort': 2, 'kid': 7, 'today': 4, 'message': 1, 'im': 8, 'style': 6, 'fan': 7, 'mostly': 4, 'rice': 1, 'anne': 3, 'treatment': 1, 'series': 6, 'big': 9, 'sensitivity': 1, 'due': 2, 'run': 4, 'plus': 2, 'suit': 1, 'wellpaced': 1, 'relatively': 1, 'short': 11, 'old': 6, 'young': 5, 'song': 7, 'man': 11, 'jay': 1, 'subject': 1, 'talk': 5, 'explain': 3, 'adam': 1, 'unfortunate': 1, 'life': 11, 'neil': 2, 'evoke': 1, 'emotion': 3, 'take': 10, 'get': 25, 'jessice': 1, 'bore': 12, 'lange': 2, 'clothe': 1, 'awful': 11, 'cast': 23, 'moviemaking': 1, 'eye': 5, 'open': 3, 'actor': 21, 'allstar': 1, 'contain': 3, 'havent': 3, 'annoy': 6, 'pathetic': 4, 'give': 19, 'rest': 4, 'plot': 23, 'attempt': 7, 'depth': 4, 'character': 42, 'didnt': 14, 'really': 30, 'truly': 7, 'funny': 17, 'artiness': 1, 'angle': 3, 'poor': 6, 'white': 9, 'clever': 5, 'disappoint': 7, 'almost': 8, 'even': 32, 'become': 7, 'nonexistent': 1, 'line': 14, 'ridiculous': 5, 'black': 9, 'awesome': 3, 'know': 16, '10': 11, 'script': 14, 'problem': 4, 'youd': 2, 'top': 7, 'notch': 1, 'expect': 5, 'indeed': 4, 'brilliance': 3, 'usual': 4, 'always': 4, 'entertain': 5, 'cinematography': 6, 'solid': 5, 'everything': 12, 'ever': 20, 'boringpointless': 1, 'one': 51, 'horror': 7, 'possibly': 2, 'creative': 1, 'quite': 9, 'depress': 2, 'much': 16, 'crap': 5, 'lucy': 2, 'bell': 1, 'sink': 2, 'high': 3, 'low': 2, 'surprise': 4, 'delight': 2, 'offer': 3, 'stupid': 13, 'dialogue': 11, 'natural': 2, 'right': 11, 'motivation': 1, 'intensity': 1, 'understand': 10, 'underlie': 2, 'seem': 9, 'constantine': 1, 'psychological': 2, 'local': 1, 'initially': 1, 'buffalo': 1, 'site': 2, 'intrigue': 1, 'cool': 6, 'blow': 2, 'p': 1, 'central': 2, 'room': 2, 'find': 16, 'scene': 20, 'incredibly': 3, 'edit': 5, 'story': 24, 'disaster': 2, 'pure': 3, 'confuse': 2, 'understate': 2, 'impression': 1, 'leaf': 2, 'last': 4, 'stereotypically': 1, 'ineptly': 1, 'imagination': 4, 'handle': 4, 'partake': 1, 'exquisite': 2, 'sample': 1, 'sarcophage': 1, 'cailles': 1, 'though': 9, 'small': 4, 'wish': 3, 'en': 1, 'loewenhielms': 1, 'share': 4, 'savor': 1, 'general': 1, 'entire': 6, 'audience': 5, 'applaud': 1, 'conclusion': 3, 'otherwise': 1, 'imitation': 1, 'mother': 1, 'thiswhen': 1, 'robert': 2, 'portray': 3, 'type': 1, 'brother': 1, 'ryan': 1, 'individual': 1, 'impress': 2, 'horrendous': 1, 'yet': 5, 'another': 5, 'wonderful': 18, 'master': 3, 'stable': 1, 'nevertheless': 1, 'premise': 3, 'u': 5, 'president': 1, 'monumental': 1, 'recommend': 15, 'energy': 4, 'anyone': 15, 'would': 16, 'generally': 4, 'weak': 3, 'average': 3, 'episode': 4, 'world': 5, '95': 1, 'theatre': 2, 'garbage': 6, 'everyone': 6, 'jean': 2, 'betty': 2, 'smart': 3, 'add': 2, 'disgrace': 1, 'rpger': 1, 'game': 5, 'rpg': 1, 'selfrespecting': 1, 'mess': 6, 'flaw': 5, 'like': 39, 'also': 21, 'mar': 1, 'picture': 5, 'indoor': 1, 'isnt': 3, 'set': 10, 'enough': 9, 'use': 13, 'exterior': 1, 'constant': 1, 'studio': 2, 'seat': 1, 'afraid': 2, 'end': 20, 'night': 4, 'edge': 2, 'car': 2, 'make': 42, 'somewhat': 2, 'photography': 2, 'freshness': 1, 'originality': 1, 'spend': 4, 'first': 10, 'remake': 3, 'little': 15, 'else': 3, 'definitely': 9, 'check': 4, 'worth': 13, 'doesnt': 9, 'offensive': 2, 'hackneyed': 2, 'suppose': 2, 'intelligence': 4, 'mean': 7, 'insult': 4, 'border': 2, 'completely': 4, 'comedy': 6, 'cheap': 6, 'popcorn': 1, 'flynn': 2, 'errol': 2, 'favourite': 3, 'custer': 1, 'since': 4, 'twist': 3, '1949': 1, 'head': 3, 'issue': 3, 'hollywood': 2, 'sand': 2, 'collective': 1, 'treat': 1, 'anthony': 1, 'quinn': 2, 'crazy': 2, 'horse': 1, 'never': 15, 'believable': 6, 'heart': 4, 'genuine': 3, 'condescend': 1, 'affleck': 1, 'ben': 1, 'bullock': 2, 'chemistry': 4, 'chick': 2, 'consider': 6, 'supposedly': 2, 'wifetobe': 1, 'knock': 1, 'leave': 5, 'sandra': 2, 'couldnt': 4, 'process': 1, 'rather': 6, 'highlight': 1, 'present': 3, 'court': 1, 'innocence': 1, 'fundamental': 1, 'guilt': 1, 'discover': 2, 'legal': 1, 'need': 4, 'suspense': 6, 'suffer': 3, 'moment': 5, 'several': 2, 'move': 5, 'slow': 4, 'excruciatingly': 1, 'soap': 1, 'intelligent': 3, 'opera': 1, 'ive': 11, 'mickey': 4, 'effect': 7, 'grant': 1, 'hear': 2, 'filmsomething': 1, 'music': 10, 'throughout': 6, 'huge': 4, 'crowd': 1, 'pleaser': 1, '1928': 1, 'ton': 1, 'speak': 3, 'sound': 7, 'surprisingly': 3, 'cheek': 1, 'deliver': 7, 'realistic': 2, 'particularly': 3, 'deadpan': 1, 'hilarious': 5, 'grime': 1, 'sharply': 1, 'blake': 1, 'tongue': 1, 'amount': 5, 'flesh': 1, 'age': 4, 'face': 7, 'way': 21, 'senior': 1, 'quaid': 1, 'spacek': 1, 'absolutely': 8, 'noteworthy': 1, 'spew': 1, 'ball': 2, 'wayne': 1, 'hadnt': 1, 'screen': 8, 'john': 3, 'long': 9, 'must': 6, 'daughter': 2, 'quality': 4, 'gallon': 1, 'half': 5, 'job': 10, '0': 5, 'forth': 1, 'blood': 2, 'simply': 7, 'presence': 2, 'soon': 1, 'foxx': 1, 'junk': 1, 'thing': 21, 'charles': 2, 'incredible': 4, 'fire': 1, 'youll': 3, 'performance': 14, 'genius': 2, 'shin': 1, 'miner': 1, 'probably': 6, 'ray': 2, 'director': 9, 'receive': 2, 'showcasing': 1, 'coal': 1, '1': 5, 'punch': 2, 'own': 1, 'jamie': 2, 'enjoy': 10, 'excellent': 11, 'actually': 8, 'far': 7, 'decent': 3, 'horrorsuspense': 1, 'blist': 1, 'turn': 6, 'redeem': 3, 'error': 1, 'facial': 1, 'comment': 3, 'user': 1, 'change': 4, 'continuity': 2, 'hair': 1, 'joes': 1, 'configuration': 1, 'garage': 1, 'glassesthe': 1, 'different': 5, 'fact': 7, 'warmth': 2, 'austere': 1, 'backdrop': 1, 'generate': 1, 'contrast': 2, 'sure': 3, 'rat': 3, 'water': 1, 'ford': 1, 'noircrimedrama': 1, 'often': 4, 'adrift': 1, 'unremarkable': 1, 'define': 1, 'sens': 1, 'trash': 4, 'ballet': 1, 'mishima': 2, 'narrative': 1, 'lousy': 2, 'start': 7, 'actingwise': 1, 'try': 8, 'grip': 2, 'chase': 2, 'sublime': 2, 'theater': 4, 'culture': 2, 'eloquently': 1, 'amateurish': 1, 'strive': 1, 'perfect': 7, 'day': 5, 'actress': 6, 'early': 5, 'thank': 1, 'nice': 6, 'jerky': 2, 'billy': 2, 'cant': 9, 'worldweariness': 1, 'swamp': 1, 'roeg': 1, 'regrettably': 1, 'happiness': 1, 'soldier': 1, 'unfortunately': 2, 'lack': 7, 'pearl': 1, 'award': 3, 'horrible': 4, 'trilogy': 1, 'unwatchable': 1, 'every': 13, 'lot': 9, 'matter': 2, 'treachery': 1, 'totally': 11, 'ferry': 1, 'abstruse': 1, 'ironically': 1, 'fx': 2, 'hold': 3, 'overall': 5, 'poetry': 2, 'quick': 2, 'full': 5, '80': 3, 'show': 18, 'three': 1, 'concert': 1, 'accurately': 1, 'etc': 2, 'pledge': 1, 'solidify': 1, 'craft': 2, 'rank': 3, 'flick': 5, 'admiration': 1, 'complex': 2, 'visual': 3, 'crocdodile': 1, 'undertone': 1, 'hence': 2, 'attention': 2, 'horrid': 1, 'history': 5, '25': 2, 'sour': 1, 'either': 3, 'extremely': 2, 'author': 1, 'kill': 3, 'melville': 1, 'provide': 1, 'angry': 1, 'hole': 4, 'roth': 1, 'felt': 5, 'lame': 5, 'guess': 5, 'note': 2, 'whatever': 6, 'momentum': 1, 'emotionally': 1, 'biographical': 1, 'vomit': 2, 'intense': 1, 'thriller': 3, 'literally': 2, 'frankly': 2, 'highly': 8, 'wasnt': 7, 'soul': 2, 'together': 5, 'smile': 3, 'chance': 1, 'portrayal': 7, 'force': 3, 'celebration': 1, 'hitchcock': 3, 'new': 4, 'here': 1, 'visually': 1, 'talented': 3, 'indie': 1, 'direction': 3, 'parent': 2, 'detail': 2, 'thrill': 2, 'id': 6, 'sappy': 1, 'livingworking': 1, 'manage': 2, 'cease': 2, 'single': 5, 'kieslowski': 1, 'deeply': 2, 'emerge': 1, 'fail': 6, 'fascinate': 3, 'le': 3, 'translate': 2, 'ridiculousness': 1, 'memory': 3, 'conceptually': 1, 'cinematographyif': 1, 'mexican': 1, 'spoiler': 4, 'bob': 1, 'reviewer': 3, 'woa': 1, 'significant': 2, 'camerawork': 3, 'beyond': 5, 'lino': 1, 'addition': 3, 'crocs': 1, 'finale': 1, 'muddle': 1, 'intention': 1, 'sit': 3, 'colour': 1, 'secondly': 1, 'kind': 8, 'expectation': 1, 'repertory': 1, 'call': 6, 'storyline': 4, 'surface': 1, 'continuation': 1, 'hard': 3, 'material': 2, 'logic': 1, 'mention': 5, 'subvert': 1, 'musician': 1, 'themeat': 1, 'drama': 7, 'june': 2, 'stagy': 1, 'french': 2, 'let': 7, 'pander': 1, 'remember': 2, 'bite': 5, 'feel': 9, 'valentine': 1, 'machine': 2, 'soundtrack': 4, 'judge': 2, 'sword': 1, 'lie': 2, 'journey': 2, 'desperately': 1, 'whole': 6, 'best': 18, 'website': 1, 'greatness': 1, 'allison': 1, 'filmography': 1, 'unfold': 2, 'expression': 1, 'chilly': 1, 'inconsistency': 1, 'tv': 6, 'shoot': 9, 'sick': 2, 'tardis': 1, 'masculinity': 1, 'people': 12, 'live': 3, 'do': 5, 'stateoftheart': 1, 'coppola': 1, 'strike': 1, 'dance': 5, 'subtle': 6, 'develop': 1, 'location': 3, 'someone': 2, 'ought': 1, 'thoroughly': 2, 'survivor': 1, 'christopher': 1, 'everybody': 1, 'certain': 1, 'fabulous': 1, 'interest': 15, 'werent': 2, 'resume': 1, 'limitation': 1, 'underline': 1, 'stun': 2, 'wrap': 1, 'uninteresting': 2, 'say': 14, 'depend': 2, 'release': 4, 'loyalty': 1, 'transcend': 1, '5year': 1, 'witticism': 1, 'nicolas': 1, 'sing': 4, 'andor': 1, 'witty': 2, 'fantasy': 1, 'care': 5, 'however': 9, 'pied': 1, 'development': 2, 'connection': 1, 'schrader': 2, 'tremendous': 1, 'least': 6, 'disparate': 1, 'suck': 3, 'identify': 4, 'ventura': 1, 'wih': 1, 'recently': 2, 'rise': 1, 'flat': 2, 'francis': 1, 'disturb': 2, 'superbly': 2, 'purity': 1, 'child': 8, 'bunch': 1, 'might': 2, 'gradually': 1, 'patriotism': 1, 'deal': 2, 'place': 6, 'sequence': 2, 'thatsucked': 1, 'dvd': 3, 'plain': 2, 'pretentious': 3, 'tell': 6, 'flag': 1, 'control': 2, 'hope': 4, 'continually': 1, 'fifty': 1, 'succeed': 2, 'eccleston': 1, 'talent': 3, 'existential': 1, 'hairsplitting': 1, 'action': 7, 'amaze': 6, 'anythinga': 1, 'believe': 8, 'reenactment': 1, 'rumble': 1, 'sabotage': 1, 'appeal': 2, 'remain': 2, 'nothing': 9, 'beautiful': 8, 'cinema': 5, 'total': 1, 'belmondo': 1, 'wouldbe': 1, 'summary': 1, 'come': 16, 'legendary': 1, 'accessible': 1, 'peter': 2, 'watkins': 2, 'hour': 5, 'two': 8, 'italian': 2, 'put': 7, 'cover': 4, 'girl': 6, 'rita': 1, 'pedestal': 1, 'hayworth': 1, 'woman': 3, 'financial': 1, 'exploit': 1, 'example': 2, 'gain': 1, 'tremendously': 2, 'wouldnt': 4, 'twirl': 1, 'around': 4, 'hurt': 1, 'wash': 2, 'hilt': 1, 'tale': 4, 'tract': 1, 'book': 4, 'subversive': 1, 'stowe': 1, 'childrens': 1, 'rickman': 1, 'close': 2, 'up': 3, 'negulesco': 1, 'chodorov': 1, 'produce': 3, 'edward': 1, 'cardboard': 2, 'unconvincing': 2, 'blandly': 1, 'belowpar': 1, 'reflect': 1, 'borrow': 1, 'classic': 5, 'critical': 1, 'onscreen': 1, 'insincere': 1, 'shallow': 1, 'shutdown': 1, 'brain': 3, 'selfpreservation': 1, 'impulse': 1, 'primal': 1, 'title': 1, 'trumpeter': 1, 'murder': 4, 'sack': 1, 'whether': 3, 'debate': 1, 'accuse': 2, 'falsely': 1, 'brigand': 1, 'wind': 3, 'candace': 1, 'member': 3, 'wily': 1, 'connerys': 1, 'radiant': 1, 'huston': 3, 'roosevelt': 1, 'feisty': 1, 'son': 2, 'stick': 1, 'bergen': 1, 'sean': 1, 'spiffy': 1, 'ruthless': 2, 'cando': 1, 'kanalys': 1, 'largely': 1, 'lieutenant': 1, 'heroine': 1, 'noble': 1, 'family': 7, 'steve': 2, 'lion': 3, 'hay': 1, 'none': 2, 'excite': 1, 'engage': 1, 'idea': 4, 'meredith': 1, 'rent': 4, 'want': 10, 'scare': 2, 'look': 25, 'smell': 1, 'directtovideo': 1, 'stinker': 1, 'lead': 6, 'deserve': 5, 'africa': 1, 'reveal': 2, 'complexity': 1, 'task': 1, 'south': 2, 'challenge': 1, 'superb': 5, 'light': 4, 'judith': 1, 'favorite': 1, 'boogeyman': 1, 'zombiez': 1, 'hellish': 1, 'join': 1, 'trinity': 1, 'revenge': 1, 'hell': 2, 'relate': 2, 'sometimes': 4, 'columbo': 1, 'paper': 1, 'happen': 6, 'instead': 2, 'occupy': 2, 'peak': 1, 'unbelievable': 4, 'dream': 3, 'forever': 1, 'lassie': 1, 'sleep': 2, 'boost': 1, 'cole': 2, 'factbased': 1, 'fine': 4, 'routine': 1, 'war': 3, 'balance': 3, 'rate': 3, '910': 1, 'fun': 5, 'hopefully': 1, 'jam': 2, 'win': 1, 'length': 2, 'cox': 1, 'feature': 4, 'exceptionally': 1, 'faux': 3, 'practically': 1, 'true': 4, 'masterpiece': 3, 'sea': 3, '\\x96': 4, 'begin': 8, 'ordeal': 1, 'tom': 5, 'hand': 3, 'wilkinson': 3, 'prepare': 1, 'progress': 1, 'anguish': 1, 'adorable': 1, 'cruel': 1, 'imaginative': 2, 'turkey': 1, 'straw': 1, 'delete': 1, 'mind': 4, 'cult': 4, 'view': 3, 'others': 1, 'football': 1, 'perplex': 1, 'southern': 1, 'california': 1, 'desert': 1, 'documentary': 4, 'create': 7, 'patent': 1, 'late': 3, 'relax': 1, 'yeah': 2, 'oh': 3, 'terribly': 1, 'especially': 7, 'accolade': 1, 'load': 2, 'understatement': 1, 'asleep': 2, 'finally': 3, 'sign': 1, 'improvement': 1, 'slack': 1, '90': 6, 'minute': 11, 'excuse': 2, 'learn': 3, 'involve': 5, 'personally': 1, 'compromise': 1, 'self': 1, 'without': 3, 'relation': 3, 'stanwyck': 2, 'taylor': 2, 'ill': 3, '20the': 1, 'whenscamp': 1, 'beforei': 1, 'underneath': 2, 'scaredand': 1, 'catch': 1, 'yelp': 1, 'lid': 1, 'scamp': 1, 'edition': 1, 'he': 3, 'adorablehis': 1, 'excellentangel': 1, 'angel': 1, 'special': 7, 'curtain': 1, 'movieits': 1, 'space': 3, 'sake': 2, 'god': 4, 'slideshow': 1, 'microsoft': 1, 'cg': 1, 'kudos': 1, 'easy': 3, 'stand': 2, 'lesserknown': 1, 'strong': 5, 'racism': 2, 'superintelligent': 1, 'exceptional': 2, 'halfway': 1, 'howell': 1, 'buy': 4, 'player': 3, 'still': 13, 'free': 2, 'embarrass': 4, 'exchange': 1, 'doctor': 2, 'astronaut': 1, 'fear': 3, 'duet': 2, 'cold': 1, 'ussr': 1, 'crash': 2, 'seriously': 3, 'street': 1, 'charlie': 1, 'emilio': 2, 'wall': 2, 'martin': 2, 'interplay': 2, 'cost': 5, 'avoid': 5, 'shelf': 2, 'hopeless': 1, 'overact': 2, 'pan': 1, 'despite': 2, 'nonresearched': 1, 'rubbish': 1, 'nature': 2, 'pitiful': 2, 'sense': 2, 'obviously': 3, 'human': 6, 'shatner': 1, 'tacky': 1, 'pack': 1, 'include': 2, 'kirk': 1, 'mountain': 1, 'fall': 4, 'rescue': 1, 'nimoy': 1, 'jet': 1, 'spock': 1, 'walk': 3, 'fast': 5, 'hbo': 1, 'unneeded': 1, 'controversy': 1, 'towards': 2, 'boob': 1, 'overt': 1, 'depict': 3, 'litter': 1, 'return': 1, 'moron': 1, 'racial': 2, 'slur': 1, 'store': 2, 'lose': 4, 'iq': 2, 'serious': 3, 'painful': 2, 'girlfriend': 1, 'hat': 2, 'comical': 1, 'widmark': 1, 'unintentionally': 1, '1947': 1, 'original': 4, 'body': 1, 'welldone': 1, 'cutout': 1, 'nobody': 3, 'stereotype': 2, 'theyre': 3, 'predictably': 1, 'reversestereotypes': 1, 'appal': 1, 'scary': 2, 'whatsoever': 3, 'pay': 3, 'comedic': 1, 'charisma': 1, 'unbearable': 1, 'weave': 2, 'splendid': 1, 'fantastic': 2, 'seamlessly': 1, 'dog': 2, 'decipher': 1, 'keep': 7, 'alert': 1, 'composition': 2, 'inventive': 1, 'behold': 1, 'pointillistic': 1, 'closeup': 2, 'elegant': 1, 'wonder': 3, 'footage': 3, 'home': 1, 'christmas': 2, 'florida': 1, 'politically': 1, 'correct': 1, 'predictable': 9, 'cut': 3, 'etcits': 1, 'wrong': 3, 'ebay': 1, 'fellowes': 1, 'julian': 1, 'triumph': 1, 'advise': 2, 'angelina': 1, 'palance': 1, 'thorsen': 1, 'hot': 1, 'cameo': 1, 'elia': 1, 'koteasjack': 1, 'ole': 1, 'appear': 1, 'sven': 1, 'enjoyable': 2, 'nakedbilly': 1, 'sydney': 1, 'success': 1, 'yardley': 1, 'greenstreet': 1, 'alexander': 2, 'dreary': 1, 'painfully': 1, 'timewaster': 1, 'describe': 3, 'mollusk': 1, 'finish': 1, 'complete': 4, 'rough': 1, 'draft': 1, 'back': 4, 'strange': 2, '1973': 1, 'person': 1, 'main': 3, 'clearly': 2, 'insulin': 1, 'diabetic': 1, 'tension': 2, 'medical': 1, 'iffy': 1, 'dependant': 1, 'terminology': 1, 'oscar': 2, 'whiny': 2, 'babysitting': 1, 'fest': 1, 'brat': 1, 'spoil': 2, 'punish': 1, 'pap': 1, 'unemployed': 1, 'afternoon': 1, 'omit': 1, 'monster': 1, '1995': 1, 'paul': 3, 'pace': 5, 'grim': 1, 'matthew': 1, 'wrotedirected': 1, 'team': 1, 'kinda': 2, 'continue': 1, 'behind': 1, 'weird': 2, 'peculiarity': 1, 'buffet': 1, 'science': 1, 'jimmy': 2, 'teacher': 1, 'loose': 1, 'tie': 1, 'screenwriter': 2, 'thoughtprovoking': 1, '4': 2, 'couple': 1, 'build': 2, 'hummh': 1, '3': 2, 'already': 3, 'whenever': 1, 'memorize': 1, 'tvnever': 1, 'lovely': 3, 'cutie': 1, 'murky': 1, 'product': 1, 'anything': 7, 'struggle': 1, 'timer': 1, 'grow': 1, 'dad': 1, 'scenery': 3, 'photograph': 1, 'paint': 2, 'provoke': 3, 'loneliness': 2, 'question': 3, 'threshold': 1, 'excerpt': 1, 'star': 6, 'frontier': 1, 'final': 3, 'trek': 1, 'v': 1, 'drive': 3, 'bark': 1, 'mad': 2, 'dribble': 1, 'network': 1, 'air': 2, 'wb': 1, 'cartoon': 5, 'proudly': 1, 'classical': 1, 'compose': 1, 'artist': 2, 'woo': 1, 'stoic': 1, 'characterisation': 1, 'ready': 3, 'chow': 1, 'cheerless': 1, 'poorly': 2, 'judo': 1, 'tomorrow': 1, 'execute': 1, 'emote': 1, 'heist': 1, 'cheesy': 2, 'underbite': 1, 'la': 1, 'roll': 1, 'throw': 3, 'abandon': 1, 'yun': 1, 'fat': 2, 'fly': 1, 'factory': 1, 'clichés': 3, '110': 2, '010': 1, 'mst3k': 1, 'fodder': 1, 'possible': 2, 'acclaim': 1, 'faithful': 1, 'evince': 1, 'adaptation': 2, 'joyce': 1, 'remind': 1, 'dead': 2, 'novella': 1, 'lifetime': 1, 'sell': 1, 'musthave': 1, 'distress': 1, 'slowmoving': 1, 'drift': 2, 'aimless': 1, 'heaven': 2, 'genre': 1, 'guy': 3, 'class': 1, 'middleaged': 1, 'upper': 1, 'uptight': 1, 'sorry': 1, 'volcano': 2, 'los': 2, 'angeles': 2, 'elderly': 1, 'mediocre': 4, 'teen': 1, 'latin': 1, 'goth': 1, 'olde': 1, 'english': 1, 'babble': 1, 'gibberish': 1, 'may': 3, 'pseudosatanic': 1, '30': 2, 'awkwardly': 1, 'blush': 1, 'overwrought': 1, 'corny': 1, 'word': 7, 'second': 6, 'foreigner': 1, 'enter': 1, 'admins': 1, 'value': 4, 'negative': 2, 'miserable': 1, 'hollow': 2, 'laughable': 3, 'guest': 1, 'host': 1, 'monotonous': 1, 'voiceovers': 1, 'derivative': 1, 'mercy': 1, 'idiot': 1, 'season': 2, 'bos': 1, 'telephone': 1, 'reaction': 1, 'nut': 3, 'bitchy': 1, 'repair': 1, 'situation': 3, 'coach': 1, 'recent': 3, 'tony': 1, 'sorrentino': 1, 'paolo': 1, 'unforgettable': 1, 'modest': 1, 'entirely': 1, 'producer': 2, 'miss': 3, 'transfer': 1, 'ten': 1, 'convince': 4, 'lane': 2, 'fox': 2, 'channel': 1, 'humour': 2, 'apt': 1, 'money': 4, '40': 1, 'mark': 1, '20': 2, '2': 3, 'evil': 2, 'phantasm': 1, 'there': 5, 'empowerment': 1, 'childhood': 2, 'wonderfully': 3, 'eighth': 1, 'miyazakis': 2, 'ghibili': 1, 'ue': 1, 'ponyo': 1, 'hayao': 1, 'cliff': 1, 'gake': 1, 'ago': 2, 'sunday': 1, 'march': 1, 'tap': 2, '20th': 2, '2005': 1, 'pillow': 1, 'bring': 3, 'girlfriendboyfriend': 1, 'inappropriate': 1, 'mature': 2, 'knightley': 1, 'prone': 1, 'keira': 1, 'serve': 1, 'apart': 1, 'suggest': 2, 'dramatic': 1, 'odd': 2, 'focus': 1, 'aesthetically': 1, 'sculpture': 1, 'elaborately': 1, 'unconditional': 1, 'toon': 1, 'tiny': 1, 'popular': 1, 'underrate': 1, 'vibe': 1, 'fort': 1, 'away': 5, 'steele': 1, 'bear': 2, 'cutebut': 1, 'poler': 1, 'ask': 2, 'duris': 1, 'appearance': 3, 'wholesome': 2, 'ultracheap': 1, 'terrific': 4, 'draw': 1, 'crayonpencil': 1, 'fanciful': 1, 'colorful': 1, 'wide': 1, 'switch': 1, 'next': 3, 'foot': 1, 'babie': 1, 'de': 1, 'yawn': 1, 'goalie': 1, 'storm': 1, 'stagey': 1, 'stage': 2, 'hockey': 1, 'forget': 5, 'barren': 1, '8': 1, 'dive': 1, 'pyromaniac': 1, 'malta': 1, 'list': 1, 'waylay': 1, 'cute': 1, 'glad': 3, 'shed': 2, 'superficial': 1, 'dry': 1, 'net': 1, 'laugh': 2, 'bakery': 1, 'educational': 1, 'duper': 1, 'assistant': 1, 'defensemen': 1, 'barney': 1, 'farce': 1, 'waitress': 1, 'particular': 3, 'super': 2, 'relationship': 2, '5': 1, 'trooper': 1, 'tear': 2, 'bop': 1, 'unrecommended': 1, 'antithesis': 1, 'traffic': 1, 'groove': 1, 'amazingstylized': 1, 'effective': 3, 'design': 1, 'nonsense': 3, 'bother': 2, 'malebonding': 1, 'smoothly': 1, 'hoot': 1, 'anyway': 1, 'flow': 1, 'torture': 4, 'european': 2, 'dangerous': 2, 'enjoyment': 1, 'raw': 1, 'sublimely': 1, 'outlandish': 1, 'array': 1, 'lovable': 1, 'psychotic': 1, 'memorable': 4, 'brilliantly': 1, 'dr': 1, 'delightful': 1, 'upas': 1, 'animate': 1, 'academy': 1, 'seuss': 1, 'cause': 2, 'period': 3, 'something': 3, 'massive': 1, 'chill': 1, 'require': 1, 'lazy': 2, 'trainroller': 1, 'minor': 1, 'dodge': 1, 'rivet': 1, 'concentrate': 1, 'plan': 1, 'verbatim': 1, 'jonah': 2, 'grace': 2, 'occur': 2, 'read': 2, 'cancan': 1, 'worry': 1, 'hill': 3, 'follow': 4, 'ho': 1, 'number': 1, 'hank': 1, 'boast': 1, 'important': 1, 'graphic': 1, 'nevsky': 1, 'joke': 2, 'content': 1, 'meander': 1, 'gross': 1, 'tightly': 1, 'dozen': 1, 'costars': 1, 'predict': 1, 'fit': 1, 'na': 2, 'cross': 1, 'fill': 1, 'nerve': 1, 'front': 2, 'improve': 1, 'save': 1, 'gung': 1, 'carrell': 1, 'tone': 1, 'future': 2, 'maker': 1, 'certainly': 6, 'insane': 1, 'helm': 1, 'less': 1, 'marine': 1, 'g': 1, 'whoever': 1, 'rock': 2, 'th': 1, 'integration': 1, 'pg13': 2, 'builder': 1, 'fare': 1, 'generic': 1, 'chalkboard': 1, 'point': 4, 'structure': 1, 'canada': 1, 'morgan': 2, 'badly': 2, 'stratus': 1, 'fingernail': 1, 'lady': 2, 'québec': 1, 'obvious': 1, 'improvisation': 1, 'unnecessary': 1, 'conception': 1, 'business': 2, 'arent': 3, 'freeman': 1, 'restrain': 1, 'level': 4, 'crackle': 1, 'sober': 1, 'pgrated': 1, 'charm': 4, 'animal': 1, 'honestly': 1, 'puzzlesolving': 1, 'nonsequel': 1, 'unfunny': 2, 'yes': 3, 'form': 2, 'heche': 1, 'superlative': 1, 'twice': 1, 'properly': 1, 'exaggerate': 1, 'unpredictable': 2, 'wait': 1, 'headoverheels': 1, 'bluegreenscreen': 1, 'easily': 3, 'meagre': 1, 'noncliche': 1, 'insipid': 1, 'doom': 1, 'utterly': 2, 'resound': 1, 'ed': 2, 'pg': 1, 'sam': 1, 'trailer': 1, 'unlockable': 1, 'voice': 1, 'regret': 2, 'confirm': 1, 'construct': 1, 'selection': 1, 'vitally': 1, '9': 1, 'grate': 1, 'imaginable': 2, 'gon': 2, 'coaster': 1, 'choice': 1, 'shepard': 1, 'surround': 3, 'youthful': 1, 'pointless': 2, 'aye': 1, 'movement': 1, 'reason': 3, 'personality': 1, 'appreciate': 3, 'mindblowing': 1, 'matrix': 1, 'sequel': 2, 'muppets': 1, 'badwellits': 1, 'subgenre': 1, 'fulci': 2, 'goremeister': 1, 'lucio': 1, 'giallo': 3, 'tonight': 1, 'uplift': 1, 'musicincluding': 1, 'shirley': 1, 'jones': 1, 'rendition': 1, 'charismatic': 1, '15': 1, 'humorous': 2, '2006': 1, 'angus': 1, 'anatomist': 1, 'menace': 2, 'gently': 1, 'violinplaying': 1, 'scrimm': 1, 'brief': 2, 'squib': 1, 'fresh': 2, 'shameful': 1, 'dignity': 1, 'course': 2, 'shock': 1, 'tough': 1, 'realise': 1, 'problems\\x97the': 1, 'professor': 1, 'instant': 1, 'credit': 2, 'catchy': 1, 'prelude': 1, 'applause': 1, 'perfectly': 3, 'dickens': 1, 'carol': 1, 'equivalent': 1, 'modern': 2, 'sensibility': 1, 'screenplay': 1, 'gem': 2, 'aspect': 3, 'term': 2, 'postproduction': 1, 'treasure': 1, 'national': 1, 'zillion': 1, 'reality': 2, 'camp': 1, 'inspiration': 1, 'overcome': 1, 'rejection': 1, '70': 2, 'dominate': 1, 'handdrawn': 1, 'disneypixars': 1, 'animation': 2, 'comfort': 1, 'refresh': 1, 'miyazaki': 1, 'traditional': 1, 'cgi': 1, 'enchant': 1, 'rely': 1, 'render': 1, 'imperial': 1, 'america': 2, 'ie': 1, 'artless': 1, 'endlessly': 1, 'ugly': 2, 'watson': 2, 'emily': 2, 'unrealistic': 1, '70000': 1, 'utter': 1, 'power': 1, 'dysfunctionhe': 1, 'forgettable': 1, 'dull': 2, 'primary': 1, 'secondary': 1, 'incomprehensible': 1, 'mystify': 1, 'puppet': 2, 'wooden': 1, 'pick': 1, 'speed': 2, 'emptiness': 1, 'empty': 2, 'house': 3, 'consolation': 1, 'titta': 1, 'di': 1, 'girolamo': 1, 'stay': 3, 'vision': 1, 'sympathetic': 1, 'horrify': 1, 'scar': 2, 'review': 2, 'overdue': 1, 'bold': 2, 'frost': 1, 'vessel': 1, 'mighty': 1, 'indescribably': 1, 'idiotic': 1, 'mindbendingly': 1, 'poignant': 1, 'wouldve': 1, 'jerry': 1, 'falwell': 1, 'competent': 1, 'relief': 1, 'jaclyn': 1, '12': 1, 'smith': 1, 'marriage': 1, 'disgust': 1, 'american': 4, 'blatant': 1, 'propaganda': 1, 'choose': 1, 'scream': 1, 'donlevy': 1, 'unrecognizable': 2, 'victor': 1, 'brian': 2, 'mclaglen': 1, 'foreign': 1, 'kidnap': 1, 'church': 2, 'taxidermist': 1, 'shenanigan': 1, 'spy': 1, 'nasty': 1, 'random': 1, 'thunderbird': 1, 'nun': 1, 'burton': 1, 'ursula': 1, 'touch': 5, 'nutbag': 1, 'lance': 1, 'stephen': 1, 'cheekbone': 1, 'rag': 1, 'mchattie': 1, 'hendrikson': 1, 'side': 1, 'remarkable': 1, 'explosion': 1, 'tank': 1, 'gas': 1, 'nonetheless': 1, 'youre': 2, 'leap': 1, 'grasp': 1, 'danceall': 1, 'discomfort': 1, 'intangible': 1, 'viewer': 1, 'thoughtsgabriels': 1, 'within': 1, 'father': 1, 'although': 3, 'affect': 1, 'schizophrenic': 1, 'lifemy': 1, 'ryans': 1, 'brainsucking': 1, 'endall': 1, 'beall': 1, 'subplots': 1, 'native': 1, 'eat': 1, 'case': 2, 'eyepleasing': 1, 'attractive': 1, 'choke': 1, 'death': 3, 'worthless': 1, 'youve': 1, 'physical': 1, 'social': 1, 'outlet': 1, 'wave': 1, '1998': 1, 'deep': 1, 'armageddon': 1, 'everywhere': 1, 'surf': 1, 'impact': 1, 'phrase': 1, 'conflict': 2, 'owe': 1, 'please': 1, 'passion': 1, 'plenty': 1, 'audio': 1, 'sibling': 1, 'bond': 1, 'despise': 1, 'dislike': 4, 'adventure': 1, 'bland': 1, 'previous': 2, 'pray': 1, 'hype': 1, 'hip': 1, 'youtube': 1, 'happy': 1, 'distinction': 1, 'hatred': 1, 'elsewhere': 1, 'admit': 1, 'shell': 1, 'carry': 2, '750': 1, 'five': 2, 'dollar': 1, 'ticket': 1, 'charismafree': 1, 'plant': 1, 'pot': 1, 'juano': 1, 'era': 2, 'proud': 2, 'support': 1, 'hernandez': 1, 'humor': 1, 'guard': 1, 'steal': 1, 'male': 2, 'enterprise': 1, 'belly': 1, 'dosent': 1, 'basically': 2, 'distract': 1, 'uhura': 1, 'vulcan': 1, 'veteran': 1, 'trip': 1, 'nostalgia': 1, 'photographycinematography': 1, 'magnificent': 1, 'frighten': 3, 'comprehensible': 1, 'lilt': 1, 'step': 2, 'race': 3, 'opinion': 1, 'phenomenal': 1, 'vampire': 1, 'interview': 1, 'stuart': 1, 'cruise': 1, 'townsend': 1, 'lestat': 1, 'contract': 1, 'bothersome': 1, 'trond': 1, 'aurvåg': 1, 'fausa': 1, 'courtroom': 2, 'mini': 1, 'compel': 2, 'entrance': 1, 'akasha': 1, 'aailiyah': 1, 'realize': 2, 'friend': 2, 'commercial': 1, 'thug': 1, 'luvs': 1, 'bipolarity': 1, 'killer': 2, 'diaper': 1, 'score': 1, 'integral': 1, 'element': 2, 'unmitigated': 1, 'century': 2, '1948': 1, 'noir': 1, 'road': 1, 'silly': 1, 'implausible': 1, 'exemplar': 1, 'designer': 1, 'voyage': 1, 'selfdiscovery': 1, 'pleasant': 1, 'shortlist': 1, 'sweet': 1, 'capture': 2, 'essence': 1, 'tuneful': 1, 'oldfashioned': 1, 'sloppy': 1, 'universe': 1, 'excessively': 1, 'contrive': 1, 'phony': 1, 'atrocity': 1, 'reasonable': 1, 'explanation': 2, 'commentary': 1, 'brood': 1, 'rip': 1, 'lowbudget': 1, 'climax': 1, 'hero': 1, 'stewart': 1, 'embassy': 1, 'function': 1, 'intone': 1, 'bela': 1, 'lugosi': 1, 'extraneous': 1, 'netflix': 1, 'bat': 2, 'garbo': 1, 'silent': 3, 'stock': 2, 'perabo': 1, 'comfortable': 1, '1010': 3, 'slight': 2, 'uniqueness': 1, 'ticker': 1, 'estevezs': 1, 'directorial': 2, 'debut': 1, 'estevez': 1, 'thick': 1, 'tire': 1, 'reader': 1, 'worthwhile': 1, 'bonus': 2, 'geek': 1, 'thumper': 1, 'computer': 1, 'badass': 1, 'bible': 1, 'stanwycks': 1, 'jutland': 1, 'instrument': 1, '18th': 1, 'scot': 1, 'vandiver': 1, 'excellently': 1, 'scifis': 1, 'wont': 5, 'hate': 1, 'remotely': 2, 'breeder': 1, 'virus': 1, 'ebola': 1, 'sum': 1, 'cheaply': 1, 'filmmaker': 2, 'hide': 1, 'extraordinary': 1, 'abysmal': 2, 'accent': 1, 'version': 1, 'watchable': 2, '1986': 1, 'moviegoing': 1, 'public': 1, 'loosely': 1, 'scale': 3, 'underact': 1, 'aside': 2, 'debit': 1, 'filmiing': 1, 'expansive': 1, 'laughedkids': 1, 'junkyard': 1, 'adorablethe': 1, 'itbuy': 1, 'funnyall': 1, 'specialtoo': 1, 'outit': 1, 'romanticcharminghilariousand': 1, 'sincere': 1, 'crowdpleaserthis': 1, 'among': 2, 'shame': 1, 'result': 2, 'tryst': 1, 'us': 2, 'client': 1, 'darren': 1, 'riot': 1, 'sexobsessed': 1, 'gay': 1, 'hugo': 1, 'flame': 1, 'hollander': 1, 'salesman': 1, 'estate': 1, 'movieit': 1, 'emperor': 1, 'trumbull': 1, 'moral': 2, 'indulgent': 1, 'syrupy': 1, 'worthy': 1, 'overly': 2, 'rare': 1, 'trap': 1, 'repeat': 3, 'fish': 1, 'thousand': 1, 'underwater': 1, 'amuse': 1, 'latch': 1, 'exactly': 2, 'endear': 1, 'achievement': 2, 'sobaditsgood': 1, 'sobaditsmemorable': 1, 'evaluate': 1, 'pair': 1, 'astonishingly': 1, 'fisted': 1, 'ham': 1, 'fishnet': 1, 'ireland': 1, 'bigbudget': 1, 'chanceit': 1, '50': 1, 'crow': 1, 'wed': 2, 'subpar': 1, 'lifeoh': 1, 'gosh': 1, 'wild': 1, 'stuff': 1, 'oyvey': 1, 'inside': 1, 'macbeth': 2, 'naughty': 1, 'helen': 1, 'deadly': 1, 'credible': 1, 'taste': 1, 'baxendale': 1, 'cheerfull': 1, 'skilled': 1, 'represent': 1, 'northern': 1, 'positive': 1, 'community': 1, 'dark': 2, 'teenager': 1, 'sitcom': 1, 'orient': 1, 'tender': 1, 'slightly': 1, 'interact': 1, 'throwback': 1, 'nationality': 1, 'circumstance': 1, 'student': 1, '1980s': 1, 'abroad': 1, 'gerardo': 1, 'onedimensional': 1, 'enhance': 1, 'grainy': 1, 'glance': 2, 'starlet': 1, 'event': 1, 'nervous': 1, 'jennifer': 1, 'rubin': 1, 'harris': 1, 'foolish': 1, 'honest': 1, 'pretext': 1, 'flashback': 1, 'thus': 1, 'articulate': 1, 'nonlinear': 1, 'narration': 1, 'doubt': 1, 'slowmotion': 1, 'vehicle': 1, 'stupidity': 1, 'box': 1, 'corn': 1, 'needlessly': 1, 'flake': 1, 'considerable': 1, 'allow': 2, 'incendiary': 1, 'unrestrained': 1, 'lewis': 1, 'beware': 1, 'trashy': 1, 'justice': 1, 'indictment': 1, 'system': 1, 'incorrectness': 1, 'freedom': 1, 'suspension': 1, 'disbelief': 1, 'slavic': 1, 'artistic': 1, 'political': 1, 'tolerate': 1, 'female': 3, 'drop': 1, 'labute': 1, 'brutal': 1, 'violence': 1, 'seperate': 1, 'm': 1, 'smack': 1, 'showthese': 1, 'cotton': 1, 'unfaithful': 1, 'club': 1, 'gere': 1, 'punishment': 1, 'park': 1, 'bright': 1, 'sole': 1, 'spot': 1, 'interim': 1, 'weight': 1, 'superbad': 1, 'exploration': 1, 'powerful': 1, 'offend': 1, 'decay': 2, 'lyric': 1, 'shakespears': 1, 'bellucci': 1, 'monica': 1, 'four': 1, 'sentiment': 1, 'fifteen': 1, 'um': 1, 'break': 1, 'el': 1, 'alike': 1, 'hanky': 1, 'fumble': 1, 'storytellinga': 1, 'actorsan': 1, 'stroke': 1, 'crayon': 1, 'haggis': 1, 'hoffman': 1, 'dustin': 1, 'nearly': 1, 'unpleasant': 1, 'core': 2, 'feelgood': 1, 'manna': 1, 'uncalled': 1, 'as': 1, 'regardless': 1, 'aversion': 1, 'therapy': 1, 'subtitle': 1, 'notable': 1, 'gore': 1, 'major': 1, 'card': 1, 'destroy': 1, 'latifas': 1, 'timeless': 1, 'simplify': 1, 'fulfil': 1, 'brevity': 1, 'irritate': 1, 'inspire': 1, 'video': 1, 'proceed': 1, 'versatile': 1, 'damian': 1, 'supernatural': 1, 'laselva': 1, 'indication': 1, 'idealogical': 1, 'powerhouse': 1, 'dumb': 2, 'volatile': 1, 'verbal': 1, 'unoriginal': 1, 'timely': 1, 'reporter': 1, 'cardellini': 1, 'forward': 1, 'quiet': 1, 'latterday': 1, 'melodrama': 1, 'mansonites': 1, 'boyle': 1, 'pm': 1, 'fascination': 1, 'sheer': 1, 'spacey': 1, 'tedium': 1, 'cinematic': 1, 'atrocious': 1, 'impressive': 2, 'captain': 1, 'mainly': 1, 'band': 1, 'temperament': 1, 'parker': 1, 'thrillerhorror': 1, 'seamless': 1, 'imagine': 1, 'poise': 1, 'tsunami': 1, 'galley': 1, 'snide': 1, 'shes': 1, 'villain': 1, 'unpredictability': 1, 'linda': 1, 'buddy': 1, 'stink': 1, 'subplot': 1, 'center': 1, 'ackerman': 1, 'truck': 1, 'taelons': 1, 'miserably': 1, 'celluloid': 1, 'trouble': 1, 'interpretation': 1, 'lord': 2, 'horrendously': 1, 'telly': 1, 'impossible': 1, 'thread': 1, 'meld': 1, 'savalas': 1, '54': 1, 'howdy': 1, 'atmosphere': 1, 'celebrity': 1, 'fame': 1, 'anita': 1, 'nurse': 1, 'leni': 1, '815pm': 1, 'anniversary': 1, 'unmatched': 1, '8pm': 1, 'kevin': 1, 'origin': 1, 'who': 1, 'decision': 1, 'distort': 1, 'establish': 1, 'creativity': 1, 'insomniac': 1, 'zombie': 1, 'sophisticate': 1, 'buildup': 1, 'dee': 1, 'consistent': 1, 'sinister': 1, 'damn': 1, 'union': 1, 'semi': 1, 'heartwarming': 1, 'difference': 1, 'kristoffersen': 1, 'kris': 1, 'sad': 1, 'robotic': 1, 'convolute': 1, 'distant': 1, 'ortolani': 1, 'vocal': 1, 'recur': 1, 'technically': 1, 'unaccompanied': 1, 'riz': 1, 'greatespecially': 1, 'politics': 1, 'japanese': 1, 'fairly': 1, 'raver': 1, 'accurate': 1, 'gloriously': 1, 'mesmerise': 1, 'kathy': 1, 'field': 1, 'desperation': 1, 'variation': 1, 'escapism': 1, 'except': 1, 'consequence': 1, 'theatrical': 1, 'everyones': 1, 'terror': 1, 'monstrous': 1, 'escalate': 1, 'standout': 1, 'wow': 1, 'wordofmouth': 1, 'promote': 1, 'connery': 1, 'monolog': 1, 'outhe': 1, 'jason': 1, 'sphere': 1, 'candle': 1, 'uneasy': 1, 'teddy': 1, 'keith': 1, 'vivid': 1, 'underappreciated': 1, 'faultless': 1, 'bully': 1, 'production': 2, 'broad': 1, 'landscape': 1, 'convey': 1, 'sweep': 1, 'pitch': 1, 'plane': 1, 'groundbreaking': 1, 'famous': 1, 'mouse': 1, 'filmmostly': 1, 'warn': 1, 'youdo': 1, 'renowned': 1, 'france': 1, 'marion': 1, 'hasnt': 1, 'slimy': 1, 'drool': 1, 'teeth': 1, 'ta': 1, 'shakespear': 1, 'prompt': 1, 'masculine': 1, 'screamy': 1, 'miniseries': 1, '1971': 1, 'format': 1, 'baaaaaad': 1, 'philippa': 1, 'beautifully': 1, 'layer': 1, 'achille': 1, 'giovanni': 1, 'idyllic': 1, 'down': 1, 'teach': 1, 'prejudice': 1, 'gift': 1, 'energetic': 1, 'george': 1, 'oconnor': 1, 'jim': 1})\n"
          ]
        }
      ]
    },
    {
      "cell_type": "markdown",
      "source": [
        "given a corpus of documents, **texts_to_sequences** assign integers to words."
      ],
      "metadata": {
        "id": "tWM2l_0uc2Et"
      }
    },
    {
      "cell_type": "code",
      "source": [
        "MAX_SEQUENCE_LENGTH = 50\n",
        "EMBEDDING_DIM = 300"
      ],
      "metadata": {
        "id": "0lSesETMb88l"
      },
      "execution_count": 33,
      "outputs": []
    },
    {
      "cell_type": "code",
      "source": [
        "training_sequences = tokenizer.texts_to_sequences(data_train[\"lemma\"].tolist())\n",
        "print(\"The sequences generated from text are : \",training_sequences)\n",
        "\n",
        "train_word_index = tokenizer.word_index\n",
        "print('Found %s unique tokens.' % len(train_word_index))"
      ],
      "metadata": {
        "colab": {
          "base_uri": "https://localhost:8080/"
        },
        "id": "_k--HFwSbdyV",
        "outputId": "415da38a-fe0a-47ee-c31d-f3c0b1e69804"
      },
      "execution_count": 34,
      "outputs": [
        {
          "output_type": "stream",
          "name": "stdout",
          "text": [
            "The sequences generated from text are :  [[564, 90, 565, 67, 290, 943, 291, 944, 945, 946, 947, 948, 566, 949, 49, 950, 401, 951, 952, 953, 954, 955, 956, 957, 958, 959, 960, 18, 567, 74, 181, 568, 961, 569, 962, 963, 964, 965, 568, 966, 967], [570, 968, 2], [14, 571], [129, 26, 21], [226, 969, 970], [971, 972, 292, 973, 974, 81, 91, 5, 293, 975, 976, 294, 977, 130, 42, 295, 978], [227], [30, 43, 13], [979, 980, 572, 573, 62], [15, 296, 39, 402, 21, 297, 981, 403, 44, 26, 7, 40, 228, 12], [31, 8], [298, 982, 983, 574, 984, 575, 576, 985, 986], [987, 404, 2, 111, 228, 12], [577, 988, 1, 101, 5], [92, 1, 299, 19, 7, 578, 7, 989, 145], [93, 112, 146, 182, 300, 579, 405, 990, 183, 991, 992], [580, 993, 994, 995, 94, 301, 13], [131, 44, 406, 302, 581, 7, 996, 997, 998, 95, 581, 229, 131, 132, 75, 582, 230, 26, 999, 67, 302], [22, 68, 12, 1000, 583, 82, 1001], [83], [32, 14], [1002], [1, 407, 1003, 32, 18, 408, 231, 8, 27, 409, 8], [145, 184], [232, 147, 33, 9, 303, 41, 16, 42, 304, 28], [133, 133, 5, 2], [46], [147, 1004, 102, 113, 233, 130, 410, 1, 148, 149, 17, 234, 15, 185, 28, 47, 134, 1005], [1, 411], [55, 33, 63], [305, 36], [15, 584, 235, 32, 150, 1006], [412, 306], [32, 307, 236, 308], [58, 15, 186, 237], [6, 1007, 1, 24, 8], [1, 585, 6, 1008, 42, 151, 24], [586, 1009, 48, 413, 187, 587, 588, 103, 589], [2, 414, 67, 590, 309], [92, 1, 19, 69, 1], [2, 76, 591, 40, 95], [1010, 33, 58, 84, 1011, 114, 7, 104, 592, 593, 1012], [1013, 1014, 594, 2, 2, 1015, 1016], [1017, 23, 1, 188, 595, 9, 50, 596, 597], [1, 415, 598, 20, 69, 189, 5, 8, 599, 416], [600, 2, 601, 310, 1018], [595, 290, 2, 311, 1019, 1020, 303, 312], [313, 1021, 1022, 602, 228, 1023, 1024, 1025, 1026, 17, 115, 12, 1, 417, 314, 1027, 1028], [190, 238, 1029, 418, 2], [1030, 30, 17, 43, 13], [1031, 1032, 1033, 92, 603, 1034, 419, 604, 75, 7, 1035, 604, 1036, 605], [1037], [1038, 239, 152, 51, 2, 14, 420, 1039], [421, 2, 234, 1040, 240], [5, 9, 5, 20, 5, 15], [94, 1041, 43, 13, 315, 45, 56, 64, 24, 8, 2], [316, 47, 28, 317, 422, 318], [241, 7, 1042, 191, 606, 299], [607, 608, 113, 609, 423, 14, 32, 192, 26, 62, 16, 21], [93, 112, 146, 1043, 96, 1, 1044, 1045, 1046], [36, 112, 242, 153], [130, 16, 11, 1], [424, 105, 153, 1, 243, 37, 1047, 1048, 65, 610, 106, 1049, 1050], [1, 611, 1051, 10, 612, 613, 31, 614, 38, 319], [37, 14, 91, 615], [1052, 1053, 97, 1, 320, 425, 66, 321, 414], [116, 77, 322], [104, 616, 193, 1054, 194, 117, 154, 244, 323, 324, 39, 416, 617, 618, 619], [19, 620, 621, 227, 1055, 325, 149, 426, 27], [227, 427, 38], [101, 309, 51, 2, 10, 1056, 622, 316, 1057, 428, 623, 569, 102, 113, 429, 13], [37, 40, 1058, 8, 1059, 624, 26, 625, 1060], [6, 5, 2, 24, 8], [59, 1061, 9, 7, 430, 326, 195, 305], [327, 1062, 1063, 626, 627, 2, 245, 104, 45, 155, 17, 246, 1064, 628, 629, 1065], [2, 1066, 1067, 242, 1068, 1069, 630, 1070, 1071, 196, 431, 7, 1072], [1, 432, 39, 328, 197], [148], [631, 247, 1, 41, 328, 1073, 329, 248], [98, 8, 1074, 1075, 433, 1], [11], [30, 239, 632, 330, 434, 1076, 156, 135, 107, 198, 1077, 82, 1078, 331, 1079, 1080, 1081], [9, 1082, 435, 21, 436, 1083, 1084, 27, 157, 1085, 36, 47, 84, 249, 1086, 1087, 1088, 10, 76, 250, 633], [437, 18, 4, 1, 5, 3, 5, 3, 2, 34, 118, 3, 116, 6, 5, 6, 3, 1, 634, 14, 332, 2, 333, 4, 251, 635, 199, 108, 230, 1, 576, 4, 85, 636, 1089, 19, 17, 115, 1090, 27, 85, 4, 19, 200, 8, 132, 251, 635, 2, 4, 16, 30, 8, 64, 44, 78, 1, 3, 30, 19, 98, 24, 8, 1, 252, 68, 566, 90, 1091, 3, 158, 45, 7, 70, 1092, 320, 1, 1093, 74, 42, 16, 424, 1094, 3, 152, 29, 41, 16, 11, 9, 22, 637, 159, 1095, 638, 45, 1096, 1097, 1098, 3, 639, 1099, 136, 334, 335, 4, 57, 119, 640, 4, 438, 2, 1100, 438, 1101, 1102, 641, 1103, 438, 14, 642, 1104], [71, 2], [137, 201, 101, 439, 160, 1105, 1106, 2, 31], [30, 19, 440, 332, 425], [67, 643, 1107, 6, 1108, 441, 253, 614, 1109, 644, 1110, 6, 22, 161, 644, 1111, 1112, 1113, 114, 336, 23, 23], [645, 1114, 646, 1115, 1116], [161, 337, 647, 62, 334, 335, 15, 26, 75, 4, 334, 335, 1117, 4, 334, 335, 95, 1118, 71, 1119, 648, 2, 31, 21, 254, 152, 1, 1120, 4, 202, 14, 70, 4, 1121, 300, 50, 2, 1122, 43, 13, 12, 3, 1123, 202, 101, 48, 162, 255, 649, 1, 4, 1124, 238, 1125, 2, 3, 650, 120, 20, 121, 1126, 315, 3, 28, 119, 1127, 11, 651, 1128, 652, 442, 338, 23, 3, 308, 202, 1129, 242, 3, 653, 339, 654, 3, 655, 1130, 1, 1131, 1132, 655, 1133, 656, 3, 657, 1134, 30, 443, 444, 1135, 1136, 1137, 3, 304, 445, 83, 1138, 340, 131, 1139, 1140, 1141, 1142, 1143, 1144, 658, 3, 68, 90, 446, 1145, 1, 659, 64, 321, 3, 660, 10, 1146, 256, 661, 1147, 2, 3, 97, 12, 1, 447, 18, 4, 72, 448, 107, 203, 58, 4, 122, 662, 12, 120, 29, 449, 244, 663, 339, 69, 341, 407, 204, 1148, 664, 120, 99, 187, 1149, 203, 3, 154, 633, 241, 45, 59, 22, 1150, 1151, 120, 29, 103, 232, 3, 9, 665, 37, 121, 303, 3, 1152, 229, 83, 3, 43, 13, 3, 257, 3, 5, 1153, 76, 44, 31, 3, 16, 10, 1154, 342, 3, 185, 27, 3, 86, 17, 163, 450, 232, 47, 434, 70, 33, 164, 3, 322, 70, 1155, 594, 8, 2, 41, 1156, 3, 45, 17, 7, 10, 165, 166, 3, 7, 1157, 10, 2, 14, 2, 451, 6, 14, 2, 24, 10, 4, 2, 14, 27, 420, 70, 452, 1158, 138, 1159, 452, 290, 1160, 1161, 1162, 1163, 401, 23, 1164, 666, 1165, 312, 9, 6, 451, 667, 258, 4, 1166, 2, 205, 3, 1, 121, 453, 60, 139, 1167, 100, 1168, 1169, 1170, 1171, 3, 206, 5, 65, 668, 1172, 1, 3, 239, 78, 12, 4, 669, 5, 1, 343, 5, 3, 5, 36, 5, 342, 257, 15, 10, 6, 343, 5, 3, 76, 73, 3, 1173, 207, 1174, 3, 344, 73, 3, 15, 73, 3, 1175, 670, 73, 3, 208, 4, 46, 4, 46, 4, 259, 1, 193, 345, 3, 1, 46, 155, 1176, 3, 61, 100, 1177, 3, 260, 209, 321, 86, 52, 1178, 671, 672, 4, 186, 119, 454, 52, 138, 346, 87, 1179, 4, 1180, 53, 414, 66, 261, 58, 1181, 673, 145, 1182, 1183, 346, 146, 4, 167, 262, 1184, 674, 663, 1185, 347, 435, 237, 32, 4, 29, 155, 108, 21, 168, 4, 1186, 7, 1, 11, 168, 348, 4, 6, 35, 675, 1, 24, 6, 455, 104, 17, 675, 676, 349, 263, 4, 456, 123, 14, 1187, 199, 57, 1188, 1189, 1190, 4, 444, 33, 54, 9, 677, 593, 169, 678, 1191, 1192, 18, 350, 1193, 4, 71, 139, 71, 255, 71, 2, 4, 35, 1194, 4, 58, 2, 119, 199, 4, 133, 82, 457, 231, 679, 140, 4, 102, 680, 255, 681, 244, 1195, 1196, 1197, 166, 1198, 1199, 1200, 1201, 1202, 181, 4, 57, 40, 682, 1203, 339, 21, 168, 306, 102, 680, 1204, 141, 111, 65, 40, 1205, 1206, 351, 1207, 4, 683, 78, 1208, 1209, 82, 684, 1210, 1211, 182, 4, 93, 458, 124, 2, 3, 201, 7, 264, 100, 319, 685, 459, 265, 686, 3, 99, 125, 210, 4, 460, 11, 58, 1, 3, 266, 3, 1212, 1, 16, 1213, 3, 30, 17, 22, 126, 687, 352, 3, 92, 353, 19, 31, 688, 3, 1214, 1215, 689, 690, 3, 28, 21, 52, 211, 170, 6, 31, 3, 15, 5, 3, 16, 5, 3, 17, 691, 1216, 245, 1217, 36, 5, 3, 352, 5, 3, 461, 4, 63, 3, 109, 1218, 585, 35, 462, 13, 4, 1219, 59, 692, 109, 4, 6, 426, 70, 6, 463, 70, 267, 212, 4, 65, 1220, 693, 1221, 354, 2, 87, 94, 199, 54, 127, 54, 23, 11, 42, 74, 4, 354, 1222, 694, 1, 98, 24, 8, 4, 171, 1223, 354, 2, 411, 4, 268, 331, 260, 18, 38, 9, 354, 2, 695, 1224, 1225, 598, 1226, 230, 696, 269, 132, 75, 12, 165, 1227, 1228, 432, 697, 67, 49, 4, 245, 19, 7, 34, 38, 2, 464, 159, 14, 34, 1229, 109, 2, 462, 4, 56, 192, 18, 2, 1, 1230, 42, 74, 4, 63, 63, 1, 462, 4, 698, 699, 12, 2, 3, 19, 6, 79, 50, 152, 6, 1231, 1232, 4, 57, 465, 454, 4, 20, 163, 1233, 1234, 1235, 1236, 700, 49, 270, 16, 701, 1237, 601, 596, 9, 1238, 4, 51, 351, 702, 20, 646, 4, 125, 91, 2, 1239, 1240, 1241, 703, 32, 4, 93, 704, 1, 466, 97, 1, 1242, 42, 181, 50, 619, 324, 3, 705, 1243, 1244, 706, 157, 1245, 271, 234, 20, 1246, 1247, 23, 355, 76, 22, 5, 142, 1, 467, 1248, 1249, 355, 187], [6, 707, 708, 1250, 2], [43, 88, 172], [709, 467, 207, 314, 14, 2, 111, 84], [141, 27, 577, 2], [184, 29, 356, 213, 34, 1251, 1252, 173, 1253], [669, 356, 213, 710, 622, 65, 1254, 468, 1255, 1256], [9, 2, 711, 21, 26], [12, 712, 651, 1257, 214, 357, 1258, 231, 48, 53], [1259, 1260, 26, 129, 1261, 358, 1262, 359, 298, 297, 39, 1263, 1264], [67, 713, 469], [256, 714, 715, 9, 1265, 39, 1266, 1267, 37, 470, 435, 91, 609, 1268, 6, 45, 235, 14, 697], [1269, 32, 37, 1270, 36, 1271, 48, 270, 272], [1272, 327, 1273, 190, 2, 430], [15, 5, 294, 339, 1274, 1275], [471, 147, 1276, 62, 1277, 1278, 1279], [1, 256, 51, 203, 650, 1280], [23, 1281, 360, 1282, 1283, 1284, 716, 361, 415, 151, 16, 69], [115, 472, 473, 163, 1285, 231, 717, 54, 474, 174, 349, 6, 9, 360, 1286, 1287, 1288, 1289, 1290, 1291, 1292, 1293, 251, 475, 1294, 251, 1295, 718, 1296, 1297, 1298, 476, 1299, 1300, 1301, 112, 1302], [719, 1303, 1304], [1, 237, 710, 5, 28, 5, 362, 34], [1305, 7, 84], [110, 40, 720, 363, 6], [33, 6, 25], [161, 1306, 1307, 11, 1308, 348], [54, 262, 9, 250, 273, 207, 215], [1, 71, 108, 721, 1309, 1310, 199, 1311, 159, 722, 1312], [67, 305, 30, 55, 126], [1313, 364, 6, 1314, 206, 19, 274, 108, 2], [1, 1315, 1316, 1317, 1318, 62, 1319, 1320, 151, 2], [86, 723, 724, 295, 104], [1, 68, 365, 50, 725, 1321, 1322, 726, 12, 59, 216, 1323, 1], [20, 366, 27], [19, 2, 11, 477], [1324, 1, 173, 727, 1325], [300, 1326, 1327, 165, 139, 22, 1328, 367, 57, 728], [37, 84, 478, 479, 18], [480, 1, 1329], [275, 46, 1], [1330, 70, 729, 1331, 201, 94, 368, 730, 2, 32, 1332, 240, 120, 338, 2], [1333, 5], [1334, 162, 369, 370, 371, 481, 482, 371], [276, 483, 9, 75, 1335, 1336, 143, 82, 676, 484, 20, 1337, 14, 27, 33, 57, 10, 100, 9, 1338, 432], [123, 236, 410], [1339, 8, 330, 26, 1340, 1341, 123, 731, 291, 1342, 34], [1343, 2, 372], [116, 277, 272, 21, 77, 485, 313, 1344], [107, 2, 16, 208], [1345, 23, 38, 1346], [127, 1347, 1348, 1349, 65, 1350, 482, 373, 183, 708, 175, 2, 11], [116, 77, 322], [208, 1351, 486, 319, 485], [487, 732, 341, 232], [93, 1352, 148, 2, 45, 634, 67, 465, 1353, 176, 160, 273, 42, 2], [72, 253, 733, 1354, 102, 194, 2, 22, 8, 647], [17, 468, 488, 53, 1355, 1356, 235, 29, 216, 13, 2, 451, 160, 734], [1, 10, 688, 12, 1357, 10, 735, 69, 164, 217, 89], [1358, 19, 53, 79, 489, 50, 1359, 1360, 490, 278, 79, 429], [155, 491, 85, 736, 737, 309, 66, 327, 85, 88], [492, 33, 2, 63, 63], [1, 1361, 125, 493, 1362, 66, 1363, 494, 1364, 46, 62, 1365, 1366, 1367, 738, 493, 340, 98, 59, 100, 1368, 72, 56, 1369, 61, 144, 1370, 668, 1371, 356, 493, 191, 738, 739, 1372], [1373, 408, 670, 495, 25, 11, 44, 175, 1374, 1375, 374, 740], [2, 273, 279, 1376, 82, 741, 742, 15, 300, 1377, 32, 1378, 36, 117, 323, 238, 82, 375, 34, 61, 113, 743], [61, 744, 449, 496, 376, 80, 201, 29, 1379, 377, 1380], [745, 746, 747, 143, 1, 162, 1381, 6, 155, 1, 10, 21, 1382, 479, 746, 112, 497, 748, 1383], [245, 82, 498], [749, 499, 750, 407, 51, 327, 92, 751, 1384, 499, 1385], [218, 219], [8, 158, 246, 752], [6, 5, 53, 13], [77, 322], [83, 76, 1386, 753, 192, 22, 127, 150, 40, 43, 495, 13], [754, 1387, 467, 11, 1], [30, 43, 13, 12, 1388, 1389, 2], [50, 1, 433, 17, 564, 52, 324, 312, 500, 65, 124, 10, 501, 755, 147, 220, 756, 124, 10, 501, 29], [15, 278, 757, 11, 1390, 1391, 5, 712, 10, 114, 132, 25, 40, 95, 144, 135, 1392, 11, 1393, 1394, 1395, 1396, 1397, 378, 1398], [59, 502, 1, 221], [92, 94, 2, 1399, 264, 136, 18], [48, 60, 164, 197, 455, 1400, 1401], [1, 1402, 1403, 503, 1404, 758, 102, 32, 474, 1405, 113, 504, 1406, 1407], [30, 104, 191, 22, 752, 1, 759, 17, 40, 1], [44, 741, 17, 12, 118, 497, 379, 760], [505, 260, 1, 331, 571], [761], [170, 1408, 229, 8, 5, 362, 762], [1409, 9, 201, 1410, 1411], [380, 1412, 679, 1413, 371], [401, 23, 1414], [506, 349, 9, 381, 715, 1415, 763, 1416, 1417], [58, 1418], [16, 83], [1, 16, 22], [18, 16, 764], [28, 507], [508, 48], [134, 1419, 12, 85, 66, 1420, 81, 1421, 13], [15, 765, 20, 1422, 766, 269, 767, 1423, 200, 363, 485, 8], [6, 1, 59, 692, 60, 119, 177, 1424, 124, 147, 1425, 154], [602, 453, 768, 247, 1426, 1427, 65, 769, 130, 410, 364, 757, 1428, 482, 1429, 1, 509, 510, 228, 1430], [92, 2, 770, 14, 2], [1, 53, 99, 1431, 35, 10, 25, 694], [1432, 1433], [128, 17, 628, 166], [1, 511, 611], [762], [90, 345, 24, 348, 254, 15, 20, 9, 629, 144, 135, 1434, 512], [19, 5], [411, 1, 376, 1435], [1436, 1437, 1438], [771, 25], [1439, 1440, 1441, 26, 7, 129, 1442, 1443, 22, 1444, 292, 1445, 188, 308, 1446, 1447, 1448, 1449, 296, 10, 772, 1, 7, 15, 439, 226], [1450, 2, 652, 32, 1451, 1452, 773, 1453, 9], [111, 211, 513, 1454, 1455, 1456, 2], [584, 760, 436, 69, 1457, 8, 6, 61], [36, 25, 1458, 1459, 39, 127, 143, 1460, 36, 382], [92, 140, 165, 383, 1461, 774, 18], [422, 15, 514, 1462, 588, 226, 775, 8], [2, 121, 40, 720, 776, 1463, 1464, 65, 198, 261, 1465, 52, 138, 52, 1466, 1467, 1468], [167, 235, 777, 648], [726, 22, 68, 1469, 778, 515, 1470, 1471], [40, 28], [404, 1472, 85, 1473, 1474, 1475, 108], [1476, 12], [70, 516, 1477, 37, 1478, 317, 1479, 1480, 1, 1481, 775, 117, 55, 280, 2], [16, 350, 1482, 1483, 1, 10, 1, 1484, 779, 780, 183], [9, 46, 1485, 370, 215, 9], [18, 32, 781, 1486, 1487, 1488], [141, 782, 7, 108, 1489, 1490, 38], [259, 2, 60, 1491], [11, 783, 784, 785, 65, 1492, 351, 297, 185, 1493], [375, 18, 17, 375, 349], [6, 1, 328, 8, 1494, 61, 1495, 372, 161, 517, 1496], [518, 308, 1497], [459, 1498, 52, 78, 54, 262, 318, 1499, 723, 53], [1500, 50, 178, 5, 52], [79, 97, 1501, 2, 10, 19, 71, 108], [128, 5, 12], [28], [307, 55, 620, 621, 227, 27, 1502, 426, 27, 1503, 12, 2, 140], [519, 88, 641, 786, 1504, 125], [116, 77, 8, 404, 19, 520, 2, 460, 521, 1505, 787], [18, 1, 14, 169, 174, 313, 469, 38, 55, 144, 18], [19, 51, 62, 698, 256, 510, 1506, 42], [222, 1507, 1508, 522, 1509, 5, 182], [523, 1510, 788], [17, 18, 5, 1, 12, 1], [265, 506, 1511, 789, 1512, 12, 173], [217, 140, 133, 78, 53, 1513, 52, 78, 112, 13, 17, 1514, 1515, 281], [76, 1516, 29, 10, 66, 501], [122, 41, 10, 161, 259, 711, 68, 1], [259, 590], [12, 2, 110, 489, 42, 790], [193, 1517, 1518, 1, 185, 1519, 99, 1520, 183, 1521, 1522, 19, 1523, 1524, 791, 7, 1525, 792, 524, 525, 1526, 1527, 526, 793, 1528, 1529, 1530, 1531, 1532, 251, 1533], [794, 106, 1534], [795, 34, 1, 44, 440, 45, 1535, 1536], [49, 122, 1537, 240, 475, 80, 150, 96, 1538, 1539, 796, 729, 1540, 1541, 1542, 797], [36, 36], [421, 156, 69, 111], [583, 149, 14, 206], [1543, 789, 105, 64, 55, 759, 1544, 170, 55, 1545], [344, 167, 81, 347], [1546, 1547, 1, 1548, 798, 230, 75], [146, 1549, 799], [718, 499, 157, 16, 46, 57, 1550, 1551, 1552, 1553, 113, 384], [93, 1554, 16, 86, 56, 64], [17, 69, 19, 362, 800, 801, 802], [803, 89, 509, 43, 53, 385, 1555, 27, 1556, 1557, 1558, 1559, 1560, 1561, 105, 10, 1562, 1563, 1564, 134, 307, 1565, 1566, 365, 1567, 386, 386, 10, 179], [1568, 77, 6, 223, 13], [20, 254, 69], [417, 44, 1569, 804, 387, 1570], [385, 1571, 805, 527, 128, 90, 191], [16, 41, 114, 110, 1572, 1573, 1574, 41, 22, 278, 1575], [28, 1576, 128, 38, 11, 1577, 446], [44, 104, 142, 1578, 45, 470, 153, 97, 210, 268, 631, 806], [266, 45, 35, 34, 513], [1579, 1580, 75, 16, 46, 1581, 528, 1582, 1583, 133, 430], [138, 52, 15, 7], [1, 1, 529, 143, 96, 26, 15, 1584, 448], [1585, 1586, 39, 51, 20, 787, 1587, 785, 6, 1588, 9, 8, 1, 530, 49], [580, 1, 196, 1589, 226, 221, 301, 13, 109, 108], [209, 807, 31, 531, 1590], [1591, 7], [1592, 89, 2, 126, 223, 19], [2, 121, 388, 36], [18, 808, 98, 59, 8, 1, 661], [6, 12, 662, 809, 1, 1593, 148], [810, 22, 22, 264, 1594], [323, 6, 324, 331, 43, 282], [1595, 179, 6, 277, 2, 11, 811, 797, 389, 1596, 79, 80, 630, 378, 18, 812, 803, 1597, 49, 47], [80, 11, 1, 1598, 468, 224, 105, 1, 11, 6], [14, 2, 14, 70], [1599, 813, 486, 1600, 2, 610, 1601, 1602, 1603, 814, 814, 1604, 481, 532, 275, 731, 25, 815], [12, 88, 1605, 816, 1606, 817, 1607, 143, 16, 78, 13, 818, 190, 29], [31, 8, 1, 533, 1608, 1609, 177, 725], [819, 171, 36, 820, 291, 533, 1610, 1611, 592, 776, 21, 1612, 162, 57, 1613, 821, 1614, 464, 1615, 1616, 1617, 115, 293, 342, 13, 9, 271, 268], [48, 76, 48, 107, 120, 2, 127, 1618, 1619, 11, 1620], [7, 2, 306, 14, 1621, 18], [1622, 1623, 177, 217, 1624, 157, 6, 1625, 46, 1626, 281, 24, 175], [16, 18, 20, 47, 1627, 822, 779, 1628, 64, 521, 1629, 1630, 823, 283], [1631, 824, 534, 33, 367, 57], [2, 1632, 25], [14, 107, 284, 519], [74, 183, 534, 1633, 1634, 532, 1635, 1636], [18, 4, 38, 162, 437, 825, 826, 4, 666, 8, 1, 11, 4, 59, 285, 4, 277, 277, 272, 4, 303, 9, 75, 739, 3, 1637, 106, 1638, 1639, 76, 3, 1, 81, 3, 1640, 23, 81, 1641, 26, 11, 381, 1642, 49, 132, 1643, 1644, 127, 63, 1645, 1646, 1647, 658, 3, 409, 8, 30, 43, 13, 3, 207, 1, 139, 234, 3, 126, 12, 41, 141, 9, 3, 535, 827, 1648, 828, 1649, 41, 42, 3, 1650, 1, 33, 100, 12, 26, 196, 2, 3, 9, 1651, 341, 99, 11, 536, 1652, 3, 13, 1653, 1654, 828, 68, 41, 258, 216, 537, 1655, 3, 390, 41, 508, 8, 3, 41, 829, 17, 464, 3, 167, 178, 6, 112, 1656, 3, 16, 7, 53, 12, 4, 1657, 140, 4, 1658, 49, 132, 4, 1659, 116, 830, 1660, 1661, 4, 101, 46, 4, 1662, 1663, 1664, 4, 145, 188, 4, 1665, 1666, 17, 5, 105, 10, 1667, 532, 81, 1], [123, 1668], [209, 218, 1669, 1670, 7, 220, 1671], [6, 205, 175, 40, 197], [106, 176, 1672, 42, 130, 1673, 125, 538], [83], [122, 516, 660, 306, 10, 2, 653, 274, 677], [418, 831, 1, 800, 801, 802, 87, 539], [1674, 28, 1675, 1676, 1677, 23, 1678], [20, 47, 83], [522, 179, 53, 40, 391], [386, 5, 2, 24, 10], [79, 11, 832, 2, 74, 1, 11, 1], [1679, 22, 8, 301, 214, 26, 96, 833], [1680, 1681, 248], [368, 1682, 1683, 392, 1684, 1685, 528], [690, 1686, 796, 1687, 1688, 359, 1689, 1690, 1691, 367, 683, 273, 1692, 465], [32, 37, 257, 834, 8, 16, 16, 5, 27, 393], [1693, 2, 394, 1694, 1695, 267, 212, 4, 19, 2, 540, 1696, 835, 836, 54, 89, 4, 179, 1697, 286, 2, 105, 394, 1698, 1699, 2, 4, 64, 84, 372, 823, 178, 1, 4, 103, 119, 413, 1700, 837, 212, 838, 4, 541, 2, 1701, 196, 452, 249, 1702, 90, 839, 269, 175, 125, 243, 4, 94, 2, 180, 573, 637, 3, 542, 160, 35, 62, 96, 3, 1703, 6, 35, 1704, 96, 182, 4, 273, 279, 18, 4, 1705, 96, 4, 543, 286, 543, 1706, 9, 543, 96, 4, 43, 282, 96, 4, 142, 282, 43, 1707, 4, 137, 542, 7, 13, 4, 299, 542, 187, 3, 52, 1708, 275, 96, 1709, 4, 96, 840, 4, 376, 26, 78, 18, 4, 415, 412, 4, 166, 1710, 1711, 3, 362, 266, 82, 1712, 9, 385, 841, 2, 10, 382, 1713, 336, 1714, 1715, 174, 1, 3, 167, 138, 261, 60, 3, 1716, 2, 45, 842, 1717, 37, 681, 33, 283, 190, 1, 93, 1718, 54, 247, 54, 28, 395, 54, 843, 163, 1719, 3, 46, 3, 17, 463, 1720, 86, 1721, 3, 1722, 30, 1723, 48, 7, 79, 11, 844, 1724, 845, 544, 846, 1725, 43, 3, 20, 128, 847, 3, 40, 135, 42, 636, 1726, 1727, 23, 5, 848, 1728, 42, 98, 24, 8, 3, 209, 219, 48, 41, 704, 332, 111, 458, 3, 2, 686, 754, 293, 500, 1729, 226, 4, 93, 390, 2, 41, 31, 848, 545, 1730, 2, 180, 45, 4, 442, 6, 518, 131, 24, 39, 693, 1731, 37, 1732, 6, 511, 215, 849, 24, 850, 85, 4, 337, 378, 1733, 18, 213, 4, 804, 1734, 105, 834, 851, 152, 389, 172, 95, 43, 852, 85, 3, 118, 778, 853, 3, 56, 1735, 854, 578, 170, 6, 31, 3, 71, 32, 20, 47, 57, 4, 72, 195, 4, 405, 1736, 855, 388, 4, 1737, 1738, 169, 1739, 1740, 1741, 1742, 4, 445, 1743, 165, 85, 4, 33, 6, 1744, 1745, 63, 4, 19, 276, 1746, 7, 27, 4, 78, 856, 359, 140, 66, 4, 148, 1, 3, 6, 9, 72, 184, 1747, 33, 100, 1748, 1749, 3, 72, 1750, 1751, 1752, 23, 3, 136, 645, 396, 23, 9, 3, 1, 72, 1753, 1754, 3, 57, 1755, 1756, 27, 1757, 48, 1758, 360, 381, 157, 47, 21, 360, 47, 7, 3, 103, 857, 271, 7, 3, 271, 76, 117, 16, 287, 6, 47, 152, 839, 546, 3, 1759, 858, 1760, 315, 857, 50, 337, 287, 1761, 1762, 859, 3, 316, 14, 29, 4, 357, 52, 381, 77, 389, 172, 13, 115, 3, 197, 1763, 7, 1764, 47, 1765, 1766, 4, 176, 11, 1767, 545, 673, 1, 44, 1768, 294, 1769, 39, 1, 10, 7, 1770, 4, 110, 1, 111, 1771, 33, 1772, 14, 545, 4, 773, 1773, 14, 2, 4, 109, 2, 790, 6, 835, 1774, 466, 4, 93, 390, 355, 90, 41, 1775, 1776, 1777, 112, 127, 860, 861, 296, 1, 1778, 547, 1779, 1, 862, 1780], [687, 130, 1781, 37, 184], [5, 6, 182], [29, 216, 9, 1782, 336, 28, 427, 836, 40, 548, 36, 207], [11, 1, 11, 1783, 7, 239, 863, 19, 437, 397, 19, 520, 1784, 181, 2, 33], [131, 35, 1785, 250], [304, 32, 37, 26, 21], [1786, 5], [33, 63], [270, 2, 854, 1787, 1788, 864, 7, 442, 549, 1789], [338, 9, 689, 392, 50, 285], [25, 1, 284, 32, 7, 1790, 1791, 1792, 1793, 34, 25, 1794, 1795, 38, 33, 6, 124], [118, 13, 41, 8, 1796, 27, 85], [310, 1797, 89, 1, 37, 5, 21], [1, 7, 865, 441, 95, 1798], [1799, 1800, 37, 201, 7, 57, 612, 866, 392, 129, 1801, 867, 1802, 1803, 747, 624], [1, 134, 164, 23, 66, 194], [17, 1804, 25, 83], [868, 171, 196, 703, 135], [1805], [541, 5], [311, 1806, 429, 1807, 850, 869, 1808, 260], [357, 8, 1, 744], [1, 142, 118, 730, 78, 54, 89], [2, 440, 368], [167, 12, 2, 1809, 14, 137], [28, 101, 48, 54, 193, 151], [170, 126, 1810, 15, 176, 215, 1811, 5], [1812, 272, 14, 344, 1813, 131, 38, 870], [1814, 33, 1815, 122], [737, 844, 550, 32, 67, 34, 871, 1816, 1817, 770, 1818, 1819], [597], [617, 39, 180, 10, 17, 5, 5, 91], [492, 173, 872, 1, 873, 1820, 186, 15, 1821, 189, 91, 551, 565], [494, 1822, 1823], [1824, 13, 283, 874], [17, 7, 1825, 387], [86, 8, 1, 1826, 64, 61, 1827, 497, 1828], [6, 35, 709, 255, 270, 875], [13, 114, 2, 552, 1829, 1830, 1831, 371, 1832, 1833, 55, 1834, 80, 1835, 1836, 1837, 552, 163, 396, 1838, 20], [472, 473, 8, 51, 1839, 876, 1840, 333], [1841, 352, 1842, 431, 240, 877, 106, 838, 1843], [177, 12], [7, 28, 443, 382, 444, 15, 274, 276, 483, 765, 878, 879, 37, 7], [257], [72, 842, 1, 150, 232, 1844, 198, 120, 217, 89, 1845, 391, 158, 25, 12, 1846, 13], [486, 50, 379, 1847, 2], [118, 13, 325, 236, 1], [265, 11, 678, 1848, 195], [385, 54, 551, 149, 880, 654, 153, 6, 1849, 1, 98, 8], [1850, 28, 47, 1851, 491, 1852, 28, 47, 1853], [15, 11, 12, 1854, 398, 248, 214, 856, 359, 111, 5], [1855, 881, 22, 84, 395], [304, 1, 121, 74, 396, 154, 1856, 42, 265, 882], [80, 103, 60, 236, 287], [29, 16, 77, 12, 519, 553, 125], [12, 122, 314, 1857, 206, 26, 405, 403, 51, 108, 129], [1, 244, 162, 1858, 1859, 1860, 554, 118, 13, 1861, 1], [41, 10, 883, 1862, 10, 1863, 758, 9, 119, 184], [884, 118, 1864, 325, 155, 358, 88, 403, 262, 14, 2, 24, 10], [873, 39, 868, 885], [80, 10, 830, 38, 504, 14, 481, 1865, 82, 1866, 1867], [88, 514, 9, 386, 88, 195, 140, 24, 92, 173, 85], [66, 107, 178, 434], [168, 223, 1], [7, 2, 14, 70], [1868, 184, 1869, 53, 24, 8], [210, 7, 2, 191], [1, 1870, 83, 245, 17, 175], [20, 37, 46, 1871, 13], [488, 22, 38, 1872, 14, 311, 1873, 79, 1874, 1875], [502, 606, 89, 22, 1876], [8, 67, 1, 222, 1877, 1878, 374, 6, 35, 115, 61, 1879, 49, 816], [116, 6, 7, 373, 8, 25, 174, 827, 1880], [1881, 391, 1882, 90, 1883, 399, 1884], [472, 473, 21, 39, 671, 15], [18, 1885, 1, 151, 1, 6, 456, 34], [1886, 1887, 17, 5, 886, 1888, 134, 887], [518, 66, 255, 202, 99, 208, 1889, 546, 361, 1890, 1891, 140, 1892, 888, 1893, 28, 1894, 1895], [91, 186, 547, 103, 7], [364, 83], [106, 5, 357, 25, 210, 1896, 318], [1897, 1898, 169, 889, 288, 46, 13, 10, 275, 889, 888], [200, 52, 818, 318, 50, 12], [60, 421, 691, 292, 307, 7, 833, 1899, 1900, 674, 211, 18, 8, 292, 1901, 1902, 1903, 1904, 166, 269, 229, 1905, 1906], [105, 52, 1907, 552, 2], [56], [7], [1908, 1909, 1910, 38, 83], [236, 1911], [15, 2, 390, 890, 860, 861, 798, 283, 570, 160, 795], [265, 616, 233, 427, 825, 364, 529, 69], [100, 1912, 1913, 1914, 1915, 1916, 95, 61, 1917, 1918, 1919, 475, 169], [87, 56], [246, 353, 110, 31, 203, 222], [19, 603, 1920, 35, 2, 419, 705, 11, 891, 1921, 40, 1922, 891, 555, 59, 361, 64, 1923, 223, 241, 479, 10, 5], [329], [58, 44, 110, 197, 139, 194, 599, 1924, 1925, 399, 471, 1926, 890, 25, 1927, 1928, 1929, 1, 25], [892, 5, 527], [1930, 106, 65, 198, 2, 1931, 872], [498, 77, 43, 145, 13], [409, 1932, 699, 38, 193, 139, 1933, 76, 1934, 200, 68, 556, 43, 13], [418, 18], [93, 80, 124, 22, 5], [840, 241, 180, 200, 8, 64, 1935, 1936, 1937], [6, 110, 1938, 314, 1939, 495, 1, 1940, 1941, 1942, 1943, 6, 205, 1944], [2, 33, 154, 1945, 59, 267, 220, 893, 48, 1946, 67], [1947, 55, 871, 264, 640, 170, 1948, 74, 523, 82, 240, 238], [224, 295, 68, 247, 2, 1949, 865, 62], [47, 511, 1950, 58, 512], [6, 35, 1, 53, 279, 1951, 1952], [13, 2, 38, 400, 1953], [413, 1954, 35], [395, 457, 457, 288, 54, 474, 174], [2, 25, 193, 1955], [122, 439, 15, 164, 351, 42, 478, 29], [46, 233, 1956, 11, 1957, 894, 2, 1958], [92, 2, 56], [58, 1, 69], [50, 7, 1, 1959], [1960, 51, 100, 7, 38], [180, 154, 1961, 7, 34], [53, 10, 399, 69, 256, 1962, 524, 1963, 1964], [882, 805, 1965, 1], [895, 1, 21], [7, 29, 1966, 219, 896, 1967, 45, 788, 211, 508, 1968, 8, 187], [30, 531], [9, 60, 16, 258], [215, 75, 1969], [91, 114, 355], [384, 52, 494, 7, 76, 1970, 1971, 84], [119, 735, 540, 793, 168], [1, 114, 66, 329, 97], [196, 78], [1972, 1973, 742, 27, 26, 1974, 129, 67, 2, 897, 898, 102, 75, 716, 361, 113, 75, 722], [2, 10], [261, 128], [147, 1975, 755, 20, 83, 1976, 822, 19, 899, 278, 1977, 1978, 1979, 50, 374, 498, 41, 258, 2, 487, 268, 1980, 1981, 203, 1982, 900, 1983], [32, 1984, 27, 1985, 1986], [87, 94, 1987, 1988, 2], [557, 138, 295, 1989], [246, 353, 1990, 901, 228, 326, 350, 220, 558], [78], [189, 189, 2, 1991, 1992], [161, 11, 7, 1993, 1994, 11, 1995, 1996, 1997, 7, 1998, 147], [55, 1999, 496, 66, 684, 36, 15, 5, 36], [285, 32, 274, 2000, 2001, 2002, 162, 129, 2003, 75, 117, 104], [9, 60, 110, 50, 118, 1, 31, 19, 79, 309, 117, 10], [266], [2, 21, 280, 600, 6, 35, 902, 373, 98, 8], [71, 94, 2], [14, 1], [137, 423, 1], [16, 50, 46], [2004, 101, 7, 2005, 210, 903, 97, 2006, 2007, 203, 23], [122, 488, 12, 2, 904, 713, 372, 412, 504, 37, 50, 12], [56, 905], [2008, 476, 2009, 6, 89, 476, 906, 537, 89, 2010, 2011, 2012, 244, 714], [144, 268, 10, 274, 107, 2013, 156, 135, 2014, 907, 296, 10, 392, 772, 281], [817, 908, 809, 2015, 553, 2016, 103, 2017, 2018, 2019, 2020, 68, 1], [44, 65, 2021, 106, 2022], [2023, 2024, 2025], [148, 510, 44, 777, 2026], [17, 2027, 247], [199, 344, 133, 909, 2028, 2], [134, 131, 356, 213, 2029, 2030], [91, 2031, 35], [1, 175, 2032, 448, 54, 34], [54, 907, 20, 150, 2033, 2034, 2035, 761, 445], [297, 45, 2036, 910, 2037], [374, 59, 22, 217, 89, 383], [7, 2038, 299, 18, 574, 2, 77, 8], [781, 2039, 24, 14, 2040, 202, 20, 2041, 402, 188, 2042, 2043, 2044, 121, 2045, 867, 202, 102, 113, 2046, 380], [2047, 2048, 72, 2049, 2050, 821, 47], [31, 12], [8, 1, 116, 56], [2051, 53, 84, 911, 450, 44, 895, 289, 897, 110, 8, 289, 42, 2052, 117, 114, 912], [2053, 208, 315, 286, 500, 2054, 852, 130], [559], [28, 539, 117, 60, 913, 34, 2055], [17, 5, 2056], [55, 750, 2057, 914, 2058, 280, 749, 665, 9, 21, 233, 130, 42, 546, 9, 2059, 26, 820, 591, 231], [2060, 524, 847, 39, 61, 2061, 221], [2062, 517, 8, 6, 813, 2, 80, 150, 837, 10, 152, 2063, 181], [218, 219], [316, 121, 312], [155, 71, 20, 237, 15, 25, 2, 607, 915], [791, 2064, 2065, 366, 2066, 2067, 2068, 213, 27], [29, 5, 736, 15, 2069, 340], [20, 701, 2070, 908, 2071, 65, 393, 107, 26, 393, 2072, 6, 367, 288], [2073, 470, 6, 2074, 35, 807, 2075, 2076], [225, 851], [154, 81, 34], [2077, 39, 5, 884, 2, 176, 16, 11, 222, 2, 5, 30, 141, 6, 223, 64, 44, 898], [906, 30, 235, 178, 380, 17, 916, 557], [2078, 2, 2079, 81, 2080, 10, 151, 1, 218, 11, 2081, 2082], [917, 70, 45, 2083, 428, 623, 211, 320, 209, 249, 282, 13, 1], [2084, 2], [58, 5], [2085, 136, 918], [20, 47, 72, 128], [2, 81, 870, 2086, 2087, 560], [2, 65, 179, 2088, 323, 2089, 2090], [15, 120, 32, 44, 173, 561, 478, 550, 753, 2091], [919, 81, 215, 2, 733, 2092], [2093, 455, 2094], [86, 406, 1, 2095, 2096, 920, 23, 2097, 920, 767, 540, 2098, 46, 2099, 18, 2100, 61, 2101, 338, 368], [27, 133, 104, 149, 535, 9, 157, 388, 2102, 57], [186, 2, 127, 60, 34], [454, 1], [233, 40, 2103, 2, 80, 456, 921, 330, 35, 2, 17, 447, 51, 49], [922, 21, 2104], [2105, 8, 2106, 766, 26, 2107, 2108, 40, 2109, 2110, 923, 2111, 553, 2112, 2113, 2114, 276, 2115], [133, 74, 2116, 137, 99, 74], [375, 12], [99, 204, 28, 224, 87, 149, 2117, 87, 320, 812, 49, 815, 819, 333], [2118, 18, 586], [2119, 917, 82, 13, 163, 2120, 924, 358, 258, 18, 117, 378, 2121, 925, 2122, 2123], [225, 285, 1], [2124, 859, 10, 2125, 127, 562, 2126, 13, 2], [7, 108, 103, 2127], [30, 55, 926, 1, 2128, 2129, 1, 149, 144, 62, 174, 459], [424, 17, 927, 2130, 2131, 1], [23, 271, 46, 291, 288, 9, 2132, 95, 31], [28, 204, 2133, 2134, 912, 342, 189, 2135, 2136, 2137], [263, 115, 31, 2138, 136, 87, 507], [38, 264, 6, 5, 2139, 164, 1, 98, 24, 8], [8, 145, 2140, 408, 109, 294, 160, 558, 491, 61, 310, 2141, 49], [5, 192, 321, 278, 41, 313, 2142, 286, 567, 332, 928, 160, 7, 2, 484, 2143, 153], [5, 172, 252, 2144, 2145], [80, 2146, 2147, 115, 123, 56, 146, 549, 212], [80, 106, 22, 112, 63, 2148, 561], [489, 99, 40, 2149, 302, 79, 1, 99, 1, 862], [2150, 2151, 2152, 849, 929, 2153, 13, 365, 25, 11, 2154, 213, 2155, 2156, 638, 811], [19, 15, 2157], [6, 5, 626, 627, 1, 325, 881, 389, 103, 5], [2158, 810, 2159, 2160, 2161], [86, 141, 224, 17, 863], [394, 719, 281, 10, 829, 2162, 34, 22, 930, 2163, 2164, 2165], [8, 2], [832, 1, 208, 2166, 13, 2167, 2168, 181, 466, 2169, 2170, 2171, 555, 2172, 2173, 253], [35, 23, 1, 2174, 124, 50, 131, 177, 301, 428], [9, 2175, 17, 7, 384, 176, 5, 384], [869, 509, 875, 2176, 2177, 2], [878, 879, 9, 279, 33, 659, 931, 104, 58], [732, 1, 101, 48, 73], [27, 33, 51, 57, 176, 2178, 2179, 639, 2180, 336, 2181, 2182, 143, 774, 2183, 62, 188, 222], [2184, 366, 539, 2185], [2, 87, 2186, 53, 234, 164, 23], [172, 252, 417, 44, 533, 383], [87, 195], [2187, 2188, 2189, 67, 2190, 54, 62, 2191, 103, 21], [1, 116, 422, 363], [370, 272], [123, 2192, 64, 44, 24, 11, 345], [65, 2193, 2194, 562, 198, 1, 21, 383, 5, 15, 5, 142, 179, 643, 23, 525, 548, 507, 2195, 25, 11, 10, 2196, 2197, 2198, 914, 183, 618, 2199], [63, 63, 222], [2200, 102, 2201, 450, 43, 2202, 2203, 841, 461, 180, 225, 932], [259, 480, 1, 63, 794, 561], [461, 783, 63], [2204, 2205, 277, 1, 345, 393], [902, 139, 903, 2206, 399, 2207, 2208, 557], [21, 177, 19, 5], [6, 29, 2209, 2210, 2211, 21, 93, 2212, 2213, 2214, 2215, 2216, 563, 9, 48], [211, 771, 64, 31, 8], [2, 2217, 642], [70, 582, 2218, 923, 2219, 2220, 2221, 477, 874, 402, 288, 139, 250, 194, 59, 163, 31, 216, 537], [71, 57, 2222], [21, 15, 168, 165, 1], [150, 47, 30, 43, 13, 282, 6, 5, 61], [559], [84, 892, 1, 157, 58, 134, 84, 159], [298, 2223, 19, 35, 27, 206, 915, 2224, 9, 40], [664, 2225, 2226, 2227, 142, 377, 12, 808, 2228, 2, 5], [2229, 2230, 227, 90, 212], [2, 2231, 2232, 2233, 845, 544, 25, 134, 887, 146, 530, 2234, 579, 249, 2235, 379, 2236], [20, 2237, 2238, 756, 75, 74], [45, 32, 129, 526, 36], [365, 377, 25, 283], [97, 105, 503, 763, 503, 843, 2239, 192], [8], [225, 52, 30, 11, 260, 30, 110, 6, 141, 2, 77, 13], [18, 556, 933, 2240, 2241, 6], [71, 57], [179, 377], [667, 605, 9, 26], [7, 186, 37, 10, 2242, 2243, 25, 125], [29, 2244, 145, 22, 136, 250, 12], [396, 2, 51, 2245, 326], [47, 114, 39, 934, 49, 132, 115, 124, 487, 337, 156, 11, 934, 49, 132, 45, 16, 2246, 55, 21, 229], [276, 483, 2247, 326, 38, 192, 2248, 696, 249, 2249, 2250, 484, 31, 159, 921, 900, 563, 2251], [5, 2, 5, 39, 7, 2252, 877, 281, 672, 516, 2253, 79, 86, 311, 178, 885, 2254, 2255, 243, 786, 2256], [11, 34, 2257, 2258, 9, 526, 58, 554, 717], [28, 177, 31, 97, 210], [458, 379, 657, 9, 238, 2259, 252, 502], [119, 125], [23, 279, 2260], [101, 243, 241, 10, 90, 42, 242, 935], [2261, 2, 111, 263, 61, 212], [2262, 799, 284, 2, 128, 858, 13], [53, 45, 143, 423, 2263, 846, 441, 45, 72, 751, 2264], [2265, 2, 205, 286], [30, 613, 2266, 77, 66, 2267, 2268, 559], [6, 148, 551, 121, 2269, 2270], [68], [173, 558, 2271, 919, 170, 25, 2272, 242, 2, 2273, 2274, 9], [1, 60, 143, 38], [122, 8, 94, 700, 49, 109, 2275, 2, 137], [541, 2276, 29, 740, 2277, 16, 935, 305, 2, 48, 31, 490, 40, 2278, 910], [188], [158, 2279, 53, 24, 8, 190, 95], [51, 2280, 12, 350, 22, 348, 2281, 449], [56], [395, 2282, 25, 916, 11, 876], [2283, 463, 2284, 67, 34, 39, 419, 253, 9, 85], [25, 11, 51, 20], [14, 156, 135, 936, 144, 135, 86, 56, 1, 105, 4, 207, 528, 19, 6, 35, 1, 24, 4, 14, 9, 27, 2285, 2286, 707, 2287, 4, 4, 172, 2288, 89, 2289, 2290, 2291, 257, 15, 153, 36, 587, 100, 7, 937, 19, 3, 99, 204, 36, 3, 11, 5, 88, 172, 165, 1, 3, 2292, 54, 262, 6, 2293, 10, 512, 3, 76, 2294, 3, 15, 254, 918, 3, 58, 938, 3, 2295, 39, 91, 10, 2296, 2297, 29, 10, 1, 560, 11, 9, 20, 290, 3, 5, 224, 416, 317, 2298, 525, 287, 66, 2299, 2300, 2301, 31, 2302, 2303, 42, 20, 2304, 446, 3, 939, 853, 382, 43, 13, 3, 94, 30, 831, 1, 3, 225, 515, 38, 101, 109, 4, 35, 23, 1, 38, 225, 515, 4, 24, 2305, 298, 70, 572, 2306, 88, 123, 2307, 2308, 2309, 2310, 2311, 4, 922, 2312, 927, 10, 2313, 293, 656, 685, 2314, 2315, 2316, 2317, 2318, 4, 2, 394, 285, 4, 2319, 2320, 71, 2321, 2322, 2323, 2324, 369, 72, 195, 14, 27, 4, 36, 171, 194, 2325, 1, 530, 49, 4, 9, 60, 17, 261, 128, 4, 123, 56, 333, 555, 230, 106, 158, 397, 171, 575, 180, 397, 6, 2326, 23, 535, 4, 14, 1, 4, 37, 20, 15, 317, 3, 214, 784, 2327, 376, 214, 2328, 126, 12, 214, 2329, 221, 2330, 695, 2, 8, 178, 246, 560, 220, 471, 167, 3, 347, 34, 73, 3, 36, 2331, 69, 3, 20, 126, 221, 136, 197, 2332, 913, 3, 58, 2333, 2334, 52, 347, 527, 343, 69, 3, 724, 142, 187, 3, 224, 28, 204, 3, 44, 523, 2335, 2336, 204, 3, 2337, 2338, 29, 7, 2, 4, 2339, 2340, 109, 4, 2341, 2342, 343, 73, 3, 86, 15, 6, 138, 764, 2343, 24, 8, 86, 39, 39, 940, 1, 727, 3, 68, 198, 120, 940, 29, 3, 15, 73, 107, 73, 36, 73, 280, 73, 144, 346, 73, 91, 73, 899, 1, 73, 3, 2, 124, 505, 2344, 2345, 166, 205, 2346, 3, 158, 6, 138, 538, 855, 2347, 2, 24, 8, 190, 95, 3, 90, 2348, 191, 909, 2349, 3, 218, 219, 3, 480, 2, 938, 46, 864, 554, 549, 2350, 2351, 1, 3, 218, 2, 219, 3, 30, 55, 216, 806, 896, 153, 3, 2352, 2353, 443, 182, 269, 109, 57, 2354, 2355, 2356, 2357, 88, 2358, 2359, 2360, 893, 3, 1, 16, 400, 3, 6, 68, 151, 1, 217, 2361, 126, 329, 2362, 68, 2363, 3, 398, 25, 16, 792, 7, 34, 11, 398, 420, 447, 166, 3, 20, 266, 60, 59, 16, 406, 2364, 2365, 398, 3, 547, 556, 23, 11, 894, 1, 346, 81, 3, 263, 734, 97, 13, 12, 56, 2366, 3, 161, 2, 51, 2367, 358, 88, 79, 649, 477, 4, 35, 62, 2368, 608, 2369], [2370, 2371, 7, 1, 16, 10, 2372], [2373, 1, 7], [80, 5, 206, 562, 2374, 159, 248, 243], [2375, 28, 41, 388, 48, 2, 12, 780, 521, 931], [1, 37, 721], [2376, 2, 21, 10, 936, 352, 237, 15, 538, 107, 2377, 2378, 369, 436, 7, 2379, 2380, 563, 2381, 156, 11, 61, 2382, 544], [1, 2383, 78, 453, 74], [123, 56, 1, 64, 60, 74, 706, 353, 2384, 2385, 267], [2386, 275, 221, 280, 2387, 2388, 169, 319, 2389], [514, 496, 2390], [2391, 911, 51, 9, 171, 2392, 2393, 2394, 9, 26, 2395, 937], [59, 632, 2396, 728, 72, 366, 62], [16, 11], [263, 11, 682, 433, 536, 26, 490, 925, 2397, 100, 6, 137, 22, 12, 79, 536, 26, 2398, 2399, 113, 702, 2400, 2401, 2402], [2403, 23], [2404, 5, 2], [24, 1, 328, 2405, 2406], [32, 7], [929, 2407, 2408, 248, 826, 522, 2409, 866, 2410, 2411, 33, 2412, 924, 933, 930, 460, 220, 159, 10, 60], [72, 136, 56, 1, 64, 11, 7, 824, 174, 1, 926], [2413, 5, 1, 883], [10, 20, 253, 284, 941, 387, 2414, 615, 768, 189, 284, 32, 2415, 886, 2416, 26, 2417, 2418, 2419, 267], [205, 2420, 2421, 2422, 2423, 14, 62, 380], [141, 2424, 102, 168, 21], [5, 137, 77, 8, 548], [223, 534, 330, 2425, 287, 289, 2426, 625, 270, 49, 158, 2427, 2428, 2429], [252, 34, 2, 126, 400], [2430, 2431, 363, 1, 939, 29, 59, 8], [37, 14, 8, 2432, 289, 782, 2433, 2434, 2435, 531, 901, 31, 289, 156], [41, 904, 51, 94, 16, 310, 88, 23], [28, 341], [22, 2436, 18, 769, 2437, 2438, 2439], [15, 81, 39, 5], [370, 942, 200, 942, 146], [209, 2440, 373, 254], [2441, 2442, 84], [17, 932, 185, 941, 387, 13, 2443, 2444, 142, 2445, 2446], [492, 17, 52, 369, 391], [2447, 2448, 2449, 340, 745, 2450, 550, 513, 529, 1, 397, 171, 2451, 71, 2], [97, 1, 98, 33, 63, 49], [431, 2452, 239, 505, 169, 469, 2453, 9, 95], [185, 425, 35, 905, 928], [748, 589, 66, 87, 520, 302, 2454, 87, 517, 55, 743, 2455, 5, 29], [55, 92, 2, 14, 29, 61, 2456, 27], [55, 2457, 2458, 2459, 506, 44, 48, 21, 880], [30, 19, 98, 24, 31, 1, 400, 48]]\n",
            "Found 2460 unique tokens.\n"
          ]
        }
      ]
    },
    {
      "cell_type": "markdown",
      "source": [
        "**tf.keras.preprocessing.sequence.pad_sequences** function Pads sequences to the same length.\n",
        "\n",
        "\n",
        "**Arguments:**\n",
        "*   sequences: List of lists, where each element is a sequence.\n",
        "*   maxlen: Int, maximum length of all sequences.\n",
        "*   dtype: Type of the output sequences.\n",
        "*   padding: String, 'pre' or 'post': pad either before or after each sequence.\n",
        "*   truncating: String, 'pre' or 'post': remove values from sequences larger    than maxlen, either at the beginning or at the end of the sequences.\n",
        "*   value: Float, padding value."
      ],
      "metadata": {
        "id": "HwfGCdZSeim-"
      }
    },
    {
      "cell_type": "markdown",
      "source": [
        "## **Word Embedding**"
      ],
      "metadata": {
        "id": "FpdM07BbUuYO"
      }
    },
    {
      "cell_type": "code",
      "source": [
        "import numpy as np\n",
        "train_embedding_weights = np.zeros((len(train_word_index)+1, EMBEDDING_DIM))\n",
        "print(train_embedding_weights)\n",
        "print(train_embedding_weights.shape)"
      ],
      "metadata": {
        "colab": {
          "base_uri": "https://localhost:8080/"
        },
        "id": "UKcd1H7VYbPX",
        "outputId": "76d8762e-8d5d-47b2-a53a-57745437c25c"
      },
      "execution_count": 36,
      "outputs": [
        {
          "output_type": "stream",
          "name": "stdout",
          "text": [
            "[[0. 0. 0. ... 0. 0. 0.]\n",
            " [0. 0. 0. ... 0. 0. 0.]\n",
            " [0. 0. 0. ... 0. 0. 0.]\n",
            " ...\n",
            " [0. 0. 0. ... 0. 0. 0.]\n",
            " [0. 0. 0. ... 0. 0. 0.]\n",
            " [0. 0. 0. ... 0. 0. 0.]]\n",
            "(2461, 300)\n"
          ]
        }
      ]
    },
    {
      "cell_type": "code",
      "source": [
        "len(train_word_index)"
      ],
      "metadata": {
        "colab": {
          "base_uri": "https://localhost:8080/"
        },
        "id": "e2xqcBw4LAgz",
        "outputId": "79adf754-57d2-4c74-f6f8-7948428c8623"
      },
      "execution_count": 37,
      "outputs": [
        {
          "output_type": "execute_result",
          "data": {
            "text/plain": [
              "2460"
            ]
          },
          "metadata": {},
          "execution_count": 37
        }
      ]
    },
    {
      "cell_type": "markdown",
      "source": [
        "## **Train the CNN Model**"
      ],
      "metadata": {
        "id": "R0EPk0yafA9o"
      }
    },
    {
      "cell_type": "code",
      "source": [
        "train_cnn_data = pad_sequences(training_sequences, maxlen=MAX_SEQUENCE_LENGTH)"
      ],
      "metadata": {
        "id": "yLgIwalgcCIZ"
      },
      "execution_count": 40,
      "outputs": []
    },
    {
      "cell_type": "code",
      "source": [
        "print(train_cnn_data)"
      ],
      "metadata": {
        "id": "nnYmMCLrik3O",
        "colab": {
          "base_uri": "https://localhost:8080/"
        },
        "outputId": "a277190b-945c-4a59-d919-8a6a9cf6a362"
      },
      "execution_count": 41,
      "outputs": [
        {
          "output_type": "stream",
          "name": "stdout",
          "text": [
            "[[   0    0    0 ...  568  966  967]\n",
            " [   0    0    0 ...  570  968    2]\n",
            " [   0    0    0 ...    0   14  571]\n",
            " ...\n",
            " [   0    0    0 ...   61 2456   27]\n",
            " [   0    0    0 ...   48   21  880]\n",
            " [   0    0    0 ...    1  400   48]]\n"
          ]
        }
      ]
    },
    {
      "cell_type": "code",
      "source": [
        "test_sequences = tokenizer.texts_to_sequences(data_test[\"lemma\"].tolist())\n",
        "test_cnn_data = pad_sequences(test_sequences, maxlen=MAX_SEQUENCE_LENGTH)"
      ],
      "metadata": {
        "id": "sVC_A7qQmIhn"
      },
      "execution_count": 42,
      "outputs": []
    },
    {
      "cell_type": "code",
      "source": [
        "label_names = ['Pos', 'Neg']"
      ],
      "metadata": {
        "id": "UMBTrTVIkCZq"
      },
      "execution_count": 43,
      "outputs": []
    },
    {
      "cell_type": "code",
      "source": [
        "y_train = data_train[label_names].values\n",
        "y_test = data_test[label_names].values"
      ],
      "metadata": {
        "id": "8HggifxOkFRr"
      },
      "execution_count": 44,
      "outputs": []
    },
    {
      "cell_type": "code",
      "source": [
        "x_train = train_cnn_data\n",
        "y_tr = y_train"
      ],
      "metadata": {
        "id": "AYipB-PjkIX6"
      },
      "execution_count": 45,
      "outputs": []
    },
    {
      "cell_type": "markdown",
      "source": [
        "In this tutorial, you will discover how to develop one-dimensional convolutional neural networks (CNN)\n",
        "\n",
        "CNN will consist of\n",
        "\n",
        "*   **Embedding layer**\n",
        "*   Input() is used to instantiate a Keras tensor.\n",
        "*   Conv1D class\n",
        "*   GlobalMaxPooling1D"
      ],
      "metadata": {
        "id": "vIr6Hzce0OVd"
      }
    },
    {
      "cell_type": "markdown",
      "source": [
        "![conv1D_1DMaxPooling_nlp.png](data:image/png;base64,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)"
      ],
      "metadata": {
        "id": "okGg3F6t3Sts"
      }
    },
    {
      "cell_type": "markdown",
      "source": [
        "\n",
        "\n",
        "*Arguments* of `Embedding Class`\n",
        "  *   input_dim: Integer. Size of the vocabulary, i.e. maximum integer index + 1.\n",
        "  *   output_dim: Integer. Dimension of the dense embedding.\n",
        "  *   embeddings_initializer: Initializer for the embeddings matrix (see keras.initializers).\n",
        "  *   embeddings_regularizer: Regularizer function applied to the embeddings matrix (see keras.regularizers).\n",
        "  *   embeddings_constraint: Constraint function applied to the embeddings matrix (see keras.constraints).\n",
        "  *   mask_zero: Boolean, whether or not the input value 0 is a special \"padding\" value that should be masked out. This is useful when using recurrent layers which may take variable length input. If this is True, then all subsequent layers in the model need to support masking or an exception will be raised. If mask_zero is set to True, as a consequence, index 0 cannot be used in the vocabulary (input_dim should equal size of vocabulary + 1).\n",
        "  *   input_length: Length of input sequences, when it is constant. This argument is required if you are going to connect Flatten then Dense layers upstream (without it, the shape of the dense outputs cannot be computed).\n",
        "*   Input shape\n",
        "  *   2D tensor with shape: (batch_size, input_length).\n",
        "*   Output shape\n",
        "  *   3D tensor with shape: (batch_size, input_length, output_dim).\n",
        "\n",
        "\n",
        "\n",
        "```\n",
        "embedding_layer = Embedding(num_words,\n",
        "                            embedding_dim,\n",
        "                            weights=[embeddings],\n",
        "                            input_length=max_sequence_length,\n",
        "                            trainable=False)\n",
        "```\n",
        "\n",
        "\n",
        "\n"
      ],
      "metadata": {
        "id": "8tQiXGQ3kMwn"
      }
    },
    {
      "cell_type": "markdown",
      "source": [
        "**Input()** function is used to instantiate a Keras tensor.\n",
        "\n",
        "\n",
        "*   shape: A shape tuple (integers), not including the batch size. For instance, shape=(32,) indicates that the expected input will be batches of 32-dimensional vectors. Elements of this tuple can be None; 'None' elements represent dimensions where the shape is not known.\n",
        "*   batch_size: optional static batch size (integer).\n",
        "*   name: An optional name string for the layer. Should be unique in a model (do not reuse the same name twice). It will be autogenerated if it isn't provided.\n",
        "*   dtype: The data type expected by the input, as a string (float32, float64, int32...)\n",
        "\n",
        "Returns A tensor.\n",
        "\n",
        "`sequence_input = Input(shape=(max_sequence_length,), dtype='int32')`\n",
        "    #Creating Embedding layer\n",
        "`embedded_sequences = embedding_layer(sequence_input)`\n"
      ],
      "metadata": {
        "id": "C7XT7WNBm2Al"
      }
    },
    {
      "cell_type": "markdown",
      "source": [
        "# Convoluation"
      ],
      "metadata": {
        "id": "LT3qlC-d7tl2"
      }
    },
    {
      "cell_type": "markdown",
      "source": [
        "![CNN-1convolution .jpg](data:image/jpeg;base64,/9j/4AAQSkZJRgABAQAAAQABAAD/2wBDAAMCAgICAgMCAgIDAwMDBAYEBAQEBAgGBgUGCQgKCgkICQkKDA8MCgsOCwkJDRENDg8QEBEQCgwSExIQEw8QEBD/2wBDAQMDAwQDBAgEBAgQCwkLEBAQEBAQEBAQEBAQEBAQEBAQEBAQEBAQEBAQEBAQEBAQEBAQEBAQEBAQEBAQEBAQEBD/wAARCADXA2YDASIAAhEBAxEB/8QAHgABAAMAAgMBAQAAAAAAAAAAAAUGBwMIAgQJAQr/xABcEAABAwMDAAMHDgsDCAcJAQABAAIDBAUGBxESCBMhFBUWIjFWdRc1NjdBV3R2k7O0tdPUCSMyMzRRkpSVltJTYdEYJCdCUlRV1SUmOHJ3geQZQ0RiaHGRocGm/8QAGwEBAAIDAQEAAAAAAAAAAAAAAAMFAgQGAQf/xAA7EQEAAQECCgcGBgIDAQAAAAAAAQIDBBESMTNRUoGhsdEFExU0ccHwIUFhcpGSFDJTgrLSIiMG4fFC/9oADAMBAAIRAxEAPwD6poiICIiAiIgIiIChcmyaDHoIo44O7LlWcm0dG1/Eylu3J7nbHhE3k3m/Y7btADnuYx3FmWX0mIW3ul9NLW1k3i0tHC1znyncAuIY1zmxt5NL3hp2BGwc4ta7N6XJrc2ee5XJ93rLlWce6anvJWNBDd+McberPCJvJ3Fm523c4lz3Pe6SxqsMb/dXEYPdMxEz/wBeo+Grb3iLP/GMvB7lZi9qvkprsuoKG+XB5Lnz1dIx7Wb/AOpEx/Lqox5AwE+6XFz3Oe7g9T7AvMiwfw2H+lcnhhZ/7C7/AMHrPsk8MLP/AGF3/g9Z9krSOkbvTGCLWn7o5q6cSZwy4/U+wLzIsH8Nh/pT1PsC8yLB/DYf6VyeGFn/ALC7/wAHrPsk8MLP/YXf+D1n2S97SsP1o+6OZgo+Dj9T7AvMiwfw2H+lPU+wLzIsH8Nh/pXJ4YWf+wu/8HrPsk8MLP8A2F3/AIPWfZJ2lYfrR90czBR8HH6n2BeZFg/hsP8ASnqfYF5kWD+Gw/0rk8MLP/YXf+D1n2SeGFn/ALC7/wAHrPsk7SsP1o+6OZgo+Dj9T7AvMiwfw2H+lPU+wLzIsH8Nh/pXJ4YWf+wu/wDB6z7JPDCz/wBhd/4PWfZJ2lYfrR90czBR8HH6n2BeZFg/hsP9Kep9gXmRYP4bD/SuTwws/wDYXf8Ag9Z9knhhZ/7C7/wes+yTtKw/Wj7o5mCj4OP1PsC8yLB/DYf6U9T7AvMiwfw2H+lcnhhZ/wCwu/8AB6z7JPDCz/2F3/g9Z9knaVh+tH3RzMFHwcfqfYF5kWD+Gw/0p6n2BeZFg/hsP9K5PDCz/wBhd/4PWfZLhnza2umht1vp6ua5VnIUlNUUk1KJS0buJfIwANaPGcRuQAdmuOzT7T0jY1TFMWsYZ9n5o5vMFHweldcUwKg6qlpcBsFVcKrkKamFvhbz225Pe7geEbdxyfsdtwAHOcxjprR7G6HF8syaioooIzUW611VR3PAIIjK6WtaSyJvYxoaxrQBudmguLnFzjy2q1dwdbVVU/dVwquJqakt489t+LGN3PCNu54s3O25JLnOe90jgvs9yP0Rafnq9S3q0mbvXThw5OMJbvTEW1M4PWCWgoiKgW4iIgIiICIiAiIgIiICIiAiIgIiICIiAiIgIiICIiAiIgIiICIiAiIgIiICIiAiIgIiICIiAiIgIiICIiAiIgIiICIiAiKvXS6S3KWS2WyZ8dPG4x1VVG4hxcDs6KJw8hHkc8fk9rW+PuY9e83mi60Y9eyNKSzs6rWrBBdLpLcpZLZbJnx08bjHVVUbiHFwOzoonDyEeRzx+T2tb4+5jiXYtjLnFzsctZJO5Jo49yf/AMKRiiigiZBBEyOONoYxjGgNa0DYAAeQBea5K81zfK8e2jDwjw9e1a2dMWUYtCL8FcX827X+5x/4J4K4v5t2v9zj/wAFKItfqLLVj6Qkx6tKL8FcX827X+5x/wCCeCuL+bdr/c4/8FKInUWWrH0gx6tKL8FcX827X+5x/wCCeCuL+bdr/c4/8FKInUWWrH0gx6tKL8FcX827X+5x/wCCeCuL+bdr/c4/8FKInUWWrH0gx6tKL8FcX827X+5x/wCCeCuL+bdr/c4/8FKInUWWrH0gx6tKL8FcX827X+5x/wCCeCuL+bdr/c4/8FKInUWWrH0gx6tKL8FcX827X+5x/wCCeCuL+bdr/c4/8FKInUWWrH0gx6tKL8FcX827X+5x/wCC9KtsOONlFBQYzaH1j28vGooyyFhJHWP2Hk7CA3cFxBA2Ac5spW1srZRQUDWPrHt5eMCWQsJI6x+3udhAbuC4ggbAOc3loqKKhiMcbnve93OWV5BfK8gAucR7vYBsNgAAAAAAIpsbOucWmmPjOCGUV1R7Zk0+t1NaYbzbqNvGKK5DYbAdrqaBzjsAAN3EnYAAb7AAditaruI/pF+9Jt+iU6sS7HommKbnRTTkjDxlUXqcNrMz69giIrFriIiAiIgIiICIiAobJclpsepmARd011TybSUjX8TKRtu5x2PCNu45P2O24ADnOa13Bl+Y0eKU0MYgNbc64ubQ0LH8XTFu3J7nbHq4mcml8hB25NaA572MfjovGps1TNcbjjWOVNdU7ddN3+naNhvxYxvcZ4Rt3PFu58pJLnOc52tb2+J/jTl4f9+vHZouF7vFnj2FOGNMzEcZjDwWsCpmqZrjcanumuqduum48RsN+LGN3PCNu54t3PlJJc5znO5FVO/Oovmljn8wT/ck786i+aWOfzBP9yWlFVMepQ9g9IakfdR/Za0VU786i+aWOfzBP9yTvzqL5pY5/ME/3Je48eok7Bv+pH3Uf2WtFVO/Oovmljn8wT/ck786i+aWOfzBP9yTHj1EnYN/1I+6j+y1oqp351F80sc/mCf7knfnUXzSxz+YJ/uSY8eok7Bv+pH3Uf2WtFVO/Oovmljn8wT/AHJO/Oovmljn8wT/AHJMePUSdg3/AFI+6j+y1oqp351F80sc/mCf7knfnUXzSxz+YJ/uSY8eok7Bv+pH3Uf2WtFVO/Oovmljn8wT/ck786i+aWOfzBP9yTHj1EnYN/1I+6j+y1oqp351F80sc/mCf7koXKdRczxK3yV9dhllqXRwy1Pc1LfpXzOhibylkAdSNaGsbsSXOA3LWjdz2Nd5NpTEYZ4Syp/490jXOLTRGH5qP7L1X1/cnVwQRdfVz7iCAO48ttt3OOx4sbuOTtjtuAAXFrTGSUHcl4sM88vX1c9xeZ5y3jy2o6nZrRueLG7ni3c7bkklxc4ydBQdydZPPL19XPsZ5y3jy232a0bnixu54t3O25JJcXOPr3P14x70jJ9DqFnZRM2tFVWtT/KN/rxoaowxhlY15YL7Pcj9EWn56vXivLBfZ7kfoi0/PV6668ZivwjjCWxztPr3S0FERUi0EREBERAREQEREBERAREQEREBERAREQEREBERAREQEREBERAREQEREBERAWH2LWHKrfrxmmH5eaZ+Gi+2+wWKtZEGOt9xktVLVdz1Dx2OZUOmeInnbjKwREudPC0bgsVxHF7Jmma6+YrkdH3VbbnkNup6iMPcx2xsFt2cx7SHMe07Oa9pDmua1zSCAUG1Is/0vyi9iouGmWd1ndGVYw2P/PXMazv3bnjaC4sa0Boc4h0czABwnik2aI3QufoCAiIgIiICIiAiIgIiICIiAiIgIir10uktylktlsmfHTxuMdVVRuIcXA7OiicPIR5HPH5Pa1vj7mPXvN5outGPXsjSks7Oq1qwQXS6S3KWS2WyZ8dPG4x1VVG4hxcDs6KJw8hHkc8fk9rW+PuY+KKKKCJkEETI442hjGMaA1rQNgAB5AEiiigiZBBEyOONoYxjGgNa0DYAAeQBea5S3tq7xX1lpl4fCPXtWlFFNnTi0iIiiZiIiAiIgIiICIiAiIgIiIC9KtrZWyigoGsfWPby8YEshYSR1j9vc7CA3cFxBA2Ac5qtrZWyigoGsfWPby8YEshYSR1j9vc7CA3cFxBA2Ac5vLRUUVDEY43Pe97ucsryC+V5ABc4j3ewDYbAAAAAAARzM1zi07ZZRGD2yUVFFQxGONz3ve7nLK8gvleQAXOI93sA2GwAAAAAAHsIiziIpjBDGZwv3Ef0i/ek2/RKdWJV3Ef0i/ek2/RKdWJdT0X3WnbxlV3nOzs4CIisEAiIgIiICIiAq9mOY0uKUsTGU/dt1reTaCgbJwMxbtye92x6uFnJpfIQduTWgPe9jH2FdcG2q+ZHfcgyWfOr3TVNRebhQ8IYqJzI6ekrJoIImdZTvc1jWM348tub5HflPcTBb2s2cf45ZWfRlyovdczaTgpp8fb8PZv9TFkggqn1VRd7vWd23Wt4901PDgCG78Io2bnq4WcncGbnbk5zi973vd7CrngtfPfJyP5C3fdU8Fr575OR/IW77qq/GnQ6rq6ckVRv5LGirngtfPfJyP5C3fdU8Fr575OR/IW77qmGdB1dOvG/ksaKueC1898nI/kLd91TwWvnvk5H8hbvuqYZ0HV068b+Sxoq54LXz3ycj+Qt33VPBa+e+TkfyFu+6phnQdXTrxv5LGirngtfPfJyP5C3fdU8Fr575OR/IW77qmGdB1dOvG/ksaKueC1898nI/kLd91TwWvnvk5H8hbvuqYZ0HV068b+Sxoq54LXz3ycj+Qt33VPBa+e+TkfyFu+6phnQdXTrxv5LGirngtfPfJyP5C3fdU8Fr575OR/IW77qmGdB1dOvG/kkrxeO93U0lJT913Kr5ClpQ/jz47cnvdseETeTeT9jtu0AOe5jHVzMbP3u06y+rq6juu5VdlrDVVRZx58YJOLGN3PCJvJ3Fm523cSXPc97vdwKJ8tuq7nXVElZcJbhW0c1ZMG9ZLHTVU0MQIaA1oDWb8WNa3k57tt3uJ5NSfa6yn0LXfMPWM/5U4yWj/XbRZxpjD8fbw/9n4XNRlz9eMe9IyfQ6hSajLn68Y96Rk+h1C2bPO0fNT/KHyarIsa8sF9nuR+iLT89XrxXlgvs9yP0Rafnq9dXeMxX4RxhnY52n17paCiIqRaCIiAiIgIiICIiAiIgIiICIiAiIgIiICIiAiIgIiICIiAiIgIiICIiAiIgLKtJ/bX1s+NFs+oLatVWVaT+2vrZ8aLZ9QW1BOao4deL3S0OXYSYIszxUy1VldM8xxVbXtAnt87wCRBUNYxrjs7g9kMwa50LQpzCcxs+e41SZRZBPHBUmSKWnqWBlRSVET3Rz00zNzwmilY+N7dzs5jhufKp1ZVln+h/MpdTqb8XiGQyRQZfEPyKCq8SKnu4/wBlgaGQ1J8gjEMxLG08peGqoiICIiAiIgIiICIiAiIgIihMymqYcflbSVctNJPPTUxmhIEjGyzxxuLSd9ncXnY+4e1RXi2i72VVrMYYpiZ+kYWdFHWVRRHvcN0uktylktlsmfHTxuMdVVRuIcXA7OiicPIR5HPH5Pa1vj7mPiiiigiZBBEyOONoYxjGgNa0DYAAeQBRcVirIImQQZNco442hjGMhpQ1rQNgABD2ALz7z3HzqunydL9iuMt73a3ivrLSmcOz2fCPb/6uKLKizpxaZ48koii+89x86rp8nS/Yp3nuPnVdPk6X7FRdZVqTu5ssWNPHklEUX3nuPnVdPk6X7FO89x86rp8nS/Yp1lWpO7mYsaePJKIovvPcfOq6fJ0v2Kd57j51XT5Ol+xTrKtSd3MxY08eSURRfee4+dV0+TpfsU7z3HzqunydL9inWVak7uZixp48koii+89x86rp8nS/Yp3nuPnVdPk6X7FOsq1J3czFjTx5JRFF957j51XT5Ol+xTvPcfOq6fJ0v2KdZVqTu5mLGnjySiKL7z3HzqunydL9inee4+dV0+TpfsU6yrUndzMWNPHklF6VbWytlFBQNY+se3l4wJZCwkjrH7e52EBu4LiCBsA5zeDvPcfOq6fJ0v2KYx+NsVFXPG89dBHVVD/dklexpc4//oAeQAADYABY49VdWJgmPp5TOl7giIw5XuUVFFQxGONz3ve7nLK8gvleQAXOI93sA2GwAAAAAAHsIimiIpjBDCZwiIi9H7iP6RfvSbfolOrEq7iP6RfvSbfolOrEuo6L7rTt4yq7znZ2cBERWCAREQEREBERAWC43+bvHxkvv1pUrelguN/m7x8ZL79aVK1L1ljb5L3oXJabPNLoiLVXYiIgIiICIiAiIgIiICIiAiIgrmA+sdV6avH1jUJqT7XWU+ha75h6YD6x1Xpq8fWNQmpPtdZT6FrvmHqOM3sbUd6/d5rmoy5+vGPekZPodQpNRlz9eMe9IyfQ6hbNnnaPmp/lD5NVkWNeWC+z3I/RFp+er14rywX2e5H6ItPz1eurvGYr8I4wzsc7T690tBREVItBERAREQEREBERAREQEREBERAREQEREBEVAq6v1St4oj/1O90/8e/9F9J+D/pIe1Jq/hTXf5uMirYiA6OpocYudXTzMI3a+KaGndHKwggh7HFpBBBIXj6sOH/7hmH8mXj7qpxEEH6sOH/7hmH8mXj7qnqw4f8A7hmH8mXj7qpxEEH6sOH/AO4Zh/Jl4+6p6sOH/wC4Zh/Jl4+6qcVbu93uN1uMuLYtUdTUQ8Rc7mGNe22tc0ODGBwLX1TmuDmsILY2ubLICDFFOExiOpGIZzX3W1Y7XVb66xmAXClq7bU0U1P1zXOi5MqI2O8ZrSRsPJ2+6FZ1m2BWi3WLU3JLXa6fqaeHG7GQC9z3Oc6rurnve9xLnvc5znOe4lznOc5xJJK0lAREQEREBERAWVaT+2vrZ8aLZ9QW1aqsq0n9tfWz40Wz6gtqDVVw1dJSXCkmoK+liqaapjdDNDMwPjljcNnNc09jgQSCD2EFcyIMv05q6vTzITonf6qWajjp31mHXCd5e6rtzXbPoHvPa6ek3Y3d3jSQPhfvI9tQ5uoKr6iYPDntgbb47i+13WgqY7lZrrFGHy22vi36qdrSRyGznMfHuBJFJLG7xXuC4dM84mzawy9+bcy15JZp+9mQ2tsheKGvaxrntY4gF8L2vZLFIQC+KWNxa0ktAW5ERAREQEREBERAREQFBZr6xN+H0H0uJTqgs19Ym/D6D6XEtPpHudr8tXCU13z1HjHFwoiLk1qIiICIiAiIgIiICIiAiIgIiICi8V9i9n+AU/zbVKKLxX2L2f4BT/NtUVWdp8J4wyj8s7PNKIiKViIiIP3Ef0i/ek2/RKdWJV3Ef0i/ek2/RKdWJdR0X3WnbxlV3nOzs4CIisEAiIgIsu1w0I9W6mtVP6suqOA96nyv6zB8i71Pq+YA2nPVv6wN4+KOzbc/rXVDQHo05JqBnWqlrv3S/wCkkKfTzNzYrayLUCTappmUtPODUB0Tg9xdK4HiGAt2G3lJD6AIvFjeDGs5OdxAG7juT/eV5ICwXG/zd4+Ml9+tKlb0sFxv83ePjJffrSpWpessbfJe9C5LTZ5pdERaq7EREBERAREQEREBERAREQEREFcwH1jqvTV4+sahNSfa6yn0LXfMPTAfWOq9NXj6xqE1J9rrKfQtd8w9Rxm9jajvX7vNc1GXP14x70jJ9DqFJqMufrxj3pGT6HULZs87R81P8ofJqsixrywX2e5H6ItPz1evFeWC+z3I/RFp+er11d4zFfhHGGdjnafXuloKIipFoIiICIiAiIgrOpuYy6ead5LnkNp76Px61VNzFF1/U90dTG5/DrOLuG/Hbfidv1FfNH/253/0u/8A+2/9AvpTqzahfNLcwsxYH93WGvpw0jfcup3gDbY/r/Uv5gkH9OWiepD9YdI8Q1TfZBZzldoprt3AKrujuYTMDwzreDOewPl4t/8AsrsqB0f7QbBoXp9ZiNjSYzbYyP7xTs3V/QEREBERAREQERZ3rNSVd7o8Zw+K8Vlto8kvhobhJStidJLTsoaup6oiVj2Fj308bXtc0h7C9jgWuIIctXV+qVvFEf8Aqd7p/wCPf+i+k/B/0myKn+A+T+/HmH7raPuKeA+T+/HmH7raPuKC4Iqf4D5P78eYfuto+4p4D5P78eYfuto+4oLgip/gPk/vx5h+62j7ioLPLNmWKYNkWUUGruUy1VntNXXwRz0lpMb5IoXPaHhtECWktG+xB28hCC03e73G63GXFsWqOpqIeIudzDGvbbWuaHBjA4Fr6pzXBzWEFsbXNlkBBiinmLRaLdYrdFa7XT9TTw8iAXue5znOLnve9xLnvc5znOe4lznOc5xJJKWi0W6xW6K12un6mnh5EAvc9znOcXPe97iXPe5znOc9xLnOc5ziSSV7iCu4z7buVfFuxfSrqr6qFjPtu5V8W7F9KuqvqAiIgIiICIiAsq0n9tfWz40Wz6gtq1VZVpP7a+tnxotn1BbUGqoiICzTUq13LEL3BrTidBUVdRbqcUmT22ljL5btZmc3gxsb2vqaZ73zRAAl7HVEIHKZjmaWiD1bVdLbfLXR3uzV9PXW+4U8dVSVVPIJIp4ZGhzJGOHY5rmkEEdhBC9pZVZP9DmdMw+XxMKzGslnsMh/N2i6vHOa3E/6sM5Ek8G/Y2Tr4t2h1NGtVQEREBERAUdkdm8IrBcrB31uNs740stL3bbp+pqqbm0t6yGTY8JG77tdsdiAVIqu6i0l3uGAZHQ4/BcZrnUWqqio47dcG0FU+YxODBDUvBbBIXbcZCCGnYkHZB0b1f6MOSaf6qaO4PZumP0mJqDUG/V1ruclVqFI6aGKGglqGmAtia1ri+MAlzXDbfsB7V3K0b0o9RzFH4p6pWd5xzqn1XfLMrz3zrm8g0dWJeDNoxx3Dduwk/rXyp1m0X6XmNYodRcowLpE2+oxSQVVvvd36QtquotUspELpI4oqRkwc5rzGTG9p2d2kjcH6B9BKtvs2kNzteX1GoHhJZsirLfd6XNcrjyKtpKhgYRGytjija+IscxwAbsC5w3PlIdj1BZr6xN+H0H0uJTqgs19Ym/D6D6XEtPpHudr8tXCU13z1HjHFwoiLk1qIiICIiAiIgIiICIiAiIgIiICi8V9i9n+AU/zbVKKLxX2L2f4BT/NtUVWdp8J4wyj8s7PNKIiKViIiIP3Ef0i/ek2/RKdWJV3Ef0i/ek2/RKdWJdR0X3WnbxlV3nOzs4CIisEAiIgy7XDQj1bqa1U/qy6o4D3qfK/rMHyLvU+r5gDac9W/rA3j4o7Ntz+tYzjn4OjG8TutXeLD0rOklSVFyrm3K5GLOo4xcKkBoMlRxpgZXFrGtLnEktAG/YFfulTjmmGQUWPt1J6VmUaKxwyzmlmsec0+Nm5EhvJsjpgeuDOwgD8nkf1rrbpro/h2fa9VmBYB0/te84stBYKe/CtsmqLK6KlnbUmN9NVyRRvjd1g4ua0cSA14IO4ID6EsbwY1nJzuIA3cdyf7yvJeLG8GNZyc7iAN3Hcn+8ryQFguN/m7x8ZL79aVK3pYLjf5u8fGS+/WlStS9ZY2+S96FyWmzzS6Ii1V2IiICIiAiIgIiICIiAiIgIiIK5gPrHVemrx9Y1Cak+11lPoWu+YemA+sdV6avH1jUJqT7XWU+ha75h6jjN7G1Hev3ea5qMufrxj3pGT6HUKTUZc/XjHvSMn0OoWzZ52j5qf5Q+TVZFjXlgvs9yP0Rafnq9eK8sF9nuR+iLT89Xrq7xmK/COMM7HO0+vdLQURFSLQREQEREHWn8InrE7Rjoo5jd6GrdBdb7ALBbXMIDxLU7sc9v/AHY+sd/5L486OfhB+ljoo6Cmx/VOuvdqhI/6KyPe5UxaPIxpkPWxt/ujkYvuF0i+i/pR0pMXosU1WornNTWyodV0UtBcJKaSCZzCwvAG7HniSBza4Dc7eUro3n34EHE6gvm0u10u9vAB4U1/tkVZzPuAzQOh4/JlBM6KfhkdL84pxi+vmFVOG1VXEad92tpdW25xc3YufHt10I7fIBL/AHkL5M19LY351U0UdbC2zOuz4m1LBtGKbriA8bf6vDt7PcXYLpPfg+dXeinjMeY59mGD11rqaoUlILfc5e6qh59xsEsTHOIHa7iXBo7SV1gQfYLV78MZpPgFshxPQXDKzNKuhpmUrLpcOVvtzCxgaHMjI66UDbtBbF/c4rojrB+EU6W2sz5oLtqlWY7bJd/+jMZ3tsIB8rS+M9e9p/VJI4Lh6NPQO1l6Vdhqsj0zvuFwUdDUGmqm3O7ujnp3+5zhijkkaHDtaS3Y7HbyLt9p/wDgQK5z4KnVPXaCNg/P0WP2ovLv+7UzuG3/AJwlB2g/Bcazu1b6Kllt9xrjUXjC55LDWl7y6QsZ48D3E9p3ic0b/raV28WJdGPohaR9E2z3K1aYG+TSXkxOuFXdbgZ5Kh0YIa7g0MiYfGd2sYCfd32C21AREQEREBUXUn2Qad/Gab6nuKvSoupPsg07+M031PcUE+iIgIiICp+sftRZx8W7n9FkVwVP1j9qLOPi3c/osiC4IiIK7jPtu5V8W7F9KuqvqoWM+27lXxbsX0q6q+oCqerecv0w0pzTUqO3C4OxPHrjfG0hk6sVBpaaSbqy7Y8eXDbfY7b77FWxZV0sf+yxrJ/4f5D9XToHX9Kf/hmlX79cfsU6/pT/APDNKv364/YrVUQZV1/Sn/4ZpV+/XH7FOv6U/wDwzSr9+uP2K1VEGVdf0p/+GaVfv1x+xXv6SYTmuN3PNMoz6qsj7tmF4guLqezmV1PTshoKaka0PlAc4nubkewActu1aMiAiIgIiIIbMcSsud4xcMSyGGSShuUXVvMUhjlieCHRzRSN8aOWN7WyMkaQ5j2Nc0ggFVzTDLb1WuuOA51NG7MMXLGVkzIxGy6UUheKW5RMHY1szY3B7B2Rzxzxjk1rXvviomqGI3q4i3Z3g0cXhjixfJb2SSCOO40kjmGqtsrz+SydsbOLj2RzRwSkOEZY4L2ihcMy6y55jNBllgkldR17HEMmjMc0EjHFksEzD2xyxyNfHIw9rHsc09oKmkBERAULmkk8OIXqWmyunxiZlBO6O9VMcckVtcIztUvbKQxzY/yiHENIb2nZTShc0jnmxC9RU2KU+TzPoJ2x2WpkjjiuTjGdqZ7pQWNbJ+SS4FoDu0bIPn1m+qesOF2NmRY/+Fp05zipp66iZJYbfi2Od11sD6iNkrYGwyyvfKGOc5rA0ciNi5m/IfQ6y2SzWaGd1ntNFRGvndW1ZpqZkJqKh4HOaQNA5PdsN3HcnbtK6B3TSzWHMTbrNjX4LbTnSm6tulDV0mZ0OWWIy2WSGojl7o4UcDJpWgMIMbSQ8EtIcCQfoWwPDGiQgu2HIjyEoPJQWa+sTfh9B9LiU6oLNfWJvw+g+lxLT6R7na/LVwlNd89R4xxcKIi5NaiIiAiIgIiICIiAiIgIiICIiAovFfYvZ/gFP821Sii8V9i9n+AU/wA21RVZ2nwnjDKPyzs80oiIpWIiIg/cR/SL96Tb9Ep1YlXcR/SL96Tb9Ep1Yl1HRfdadvGVXec7OzgIiKwQCIiDrd0wZorxLiGnlh0W0yz7MsgNwntEmoNG2otVqgpoRJUTOb1b5XucODAyPiSTuXbN2NT6EOaXamrjgWU6L6S4Vc8kxulzWkqdNqPuOkqaKV/VNjrKZzA+OdhI2cXva8OcG7cDvp3Sakz+FmKVuBdFqj1krLbcJK6MzZTSWSSzTNZxZNHJUNJcXte9pDCOwdu+6yHo3Y/qfoxbMqjwz8HJQaeT1bI6xrmam0NzqbzUGdrTC+peHSRsYx8srQ5xYCHNaAX7oO5qLxYXOY1z2cXEAlu++x/VuvJAWC43+bvHxkvv1pUrelguN/m7x8ZL79aVK1L1ljb5L3oXJabPNLoiLVXYiIgIiICIiAiIgIiICIiAiIgrmA+sdV6avH1jUJqT7XWU+ha75h6YD6x1Xpq8fWNQmpPtdZT6FrvmHqOM3sbUd6/d5rmoy5+vGPekZPodQpNRlz9eMe9IyfQ6hbNnnaPmp/lD5NVkWNeWC+z3I/RFp+er14rywX2e5H6ItPz1eurvGYr8I4wzsc7T690tBREVItBERAREQFSdZdYMH0I06u+p2oV0ZRWi0RcyNx1lRKeyOGJv+tI92wA//gJV2XzF/C56GdJzUHvdnWMv8ItNsdpzI+y2yJ/dVvn2/GVU0e568bdnNv5Dd92gbuIfPDpRdJjO+lLqhWagZjUvipGF0FmtbX7w22k5btjYPdcewvd5XO/uAA7DUv4N3JavoMf5QMVLWnOXSG/stfjeNYuO3Hq9vzu28w7N+PYs1/B/9Fas6UGuFFQXahkdhmNOZcshnLfEkjDvxdLv/tSuG3/dDyv6BoqGjhomW2KlibSMiEDYAwcBGBxDOPk227Nv1IP5q+jx0hNQujRqTQ6kae1/CeAiKuoZXO7muNMT48EzR5QfKD5WkAjyL+g7o79ILAOkrpnb9SsArg+GoAirqKQjr7fVAAvglH6xv2HyOBBHYV8XPwkHRJm6NOss16xm3uZgmZSSV1ocxp4Uk2+81IT7nEnkz/5HD/ZK7A/gkdB+k/j+Xeq5TzDGdM7vAY62lusLy6+MAPVvpodwW8SdxOdm7EgB4JAD63oiICIiAiIgKi6k+yDTv4zTfU9xV6VF1J9kGnfxmm+p7ign0REBERAVP1j9qLOPi3c/osiuCp+sftRZx8W7n9FkQXBEUVfL4+2vp7bbaPvhebhzFDQiThz47c5ZH7HqoGcml8mx25Na1r5HxxvD0sZ9t3Kvi3YvpV1V9UJjGN94YZqmurnXG7Vxa+urnM4CQjfjHGzc9VCzchkYJ23c5znyPkkfNoCyrpY/9ljWT/w/yH6unWqrKulj/wBljWT/AMP8h+rp0GqoiICIiAiIgIiICIiAuGsrKS3Uk9wuFVDS0tLG6aeeZ4ZHFG0bue5x7GtABJJ7AAuZZVlX+mDM5dNaf8Zh+NzQz5bKPyLhWDhNT2gf7UfEsmqR5Cx0MJD2zzNYHsaLU1TdJMl1Lit77RaM1ro7ha7W5jmOMDI+rFwmY7tjmqmtZIYwG8Y2w82CYzF2moiAiIgKOyOuu9tsFyuOP2Pvzc6alllo7d3S2n7rma0lkPWv8WPk4BvI9g33KkVF5RT3Orxu60tmyBtir5aOZlNdH07J20MpYeM5jeQ14YdncXEA7bFB1RyrpbdMrCbWy9ZR+D67hoHVMFIag6r2p7I5JpBHHzLIT1bC5zQXu2a3ftIC7DaN5fqlmuKPu+ruj3qbXttU+Jtn8IKa8coQG8Zuvp2hg5EuHHbccf710Ktmoll1izqn0Mz78K5b8yt1xuMVLcLHSaaUlohu3VytcKaG7NHUjrHta1pje7nvxbyJC+l7GNjY2Ng2a0BoH6gEHkoLNfWJvw+g+lxKdUFmvrE34fQfS4lp9I9ztflq4Smu+eo8Y4uFERcmtRERAREQEREBERAREQEREBERAUXivsXs/wAAp/m2qUUXivsXs/wCn+baoqs7T4TxhlH5Z2eaUREUrEREQfuI/pF+9Jt+iU6sSruI/pF+9Jt+iU6sS6jovutO3jKrvOdnZwERFYIBERB8tddtQNCsf1evWn3ShzbK7TR3rPq6uy+yRNu0YvNk7m4WeTrYBs+hiPLlFC8O6wbhrizs1voO5d0ZX6/ZVhPRAzK7nT9mMQV1XYauW5voxcu6C11TSNrm84j1Za2UucOZMfEEMJHZ7XDT/XDPKa1RaL9IP1LpaR8rq+XwTo733c1wHBu1S5oi4kOO7fLy7fIuutswvpsw63u0ku/T8jlkjskORwOj0vs5NVTCoMM0UjQ4GAh3Hi4F3IOcfFLdiHdtF4sDmsa17+TgAC7bbc/r2XkgLBcb/N3j4yX360qVvSwXG/zd4+Ml9+tKlal6yxt8l70LktNnml0RFqrsREQEREBERAREQEREBERAREQVzAfWOq9NXj6xqE1J9rrKfQtd8w9MB9Y6r01ePrGoTUn2usp9C13zD1HGb2NqO9fu81zUZc/XjHvSMn0OoUmoy5+vGPekZPodQtmzztHzU/yh8mqyLGvLBfZ7kfoi0/PV68V5YL7Pcj9EWn56vXV3jMV+EcYZ2Odp9e6WgoiKkWgiIgIiIC/CARsR2L9RBWsM01wHTp13dguI2uxd/q51zuQoKdsTamqc0NdI4Ds3IaPJsN9z5SSbKiIK5nOnGB6mW6ls+oGJWzIKGhrYbjT09wp2zRx1ER3ZIGns3Hb5ewgkHcKwsYyJjYomNYxgDWtaNgAPIAF5IgIiICIiAiIgKi6k+yDTv4zTfU9xV6VQ1Dx/Iry7HLljEFtqKyw3d1wNPX1clNFMx1FU0xb1jIpS0jukO/IO/Ejs33QSiKs89ZPMnDP5rqv+XJz1k8ycM/muq/5cgsyKs89ZPMnDP5rqv+XJz1k8ycM/muq/5cgsyp+sftRZx8W7n9FkXtc9ZPMnDP5rqv8AlyiMwsOsWW4le8Udi2G0gvVuqbeagZNVSGETROj58O945bct9txvttuPKgtF8vj7a+nttto++F5uHMUNCJOHPjtzlkfseqgZyaXybHbk1rWvkfHG+UxjGGWFk9bW1ffC83Dg6vr3R8Ot478Io2bnqoGcnBkYJ25Oc5z5HySPYxjDLCyetravvhebhwdX17o+HW8d+EUbNz1UDOTgyME7cnOc58j5JHziAiIgL07zZ7VkNorrBfbfT19tudNLR1lJURh8VRBI0skje09jmuaSCD5QSvcRBlX+Sz0f/eytvyk39af5LPR/97K2/KTf1rVUQZV/ks9H/wB7K2/KTf1p/ks9H/3srb8pN/WtVRBlX+Sz0f8A3srb8pN/Wo7QOwWnEM01dxDHKU0dmtWT0IoqJsr3x04kstvleGBxPEOe97iB7riVsyyrSf219bPjRbPqC2oNVREQERROWZTZMJxu45XkdWaa3WyB0872sc95A8jGMaC6SRziGsY0FznOa1oJICCuao5jeLNT0GHYT1EmZ5UZaeztmZ1kVHGwN7ouM7AQTBTtexxG45yPgh5NdM0idwrDrPgWM0eLWPr309L1kkk9Q/rJ6qolkdLPUzP2HOaWV8kj37Dk97j7qrmmGLXts9x1KzukEGV5O2PnRl7ZBZbewb09uY5pLSWcnSSvBIfPLKQerbE1l/QEREBERAVb1KtFpv8Ap5k1iv19bZbbcLRV0tXcnStjbRwvic18xc8hrQ0Eu3JA7O1WRZPrrrDYNOpbFil9w7wjpMpbXm6RSyRCmpLRS05lramZkgPWtawhoiDSXl224QdPrpS4vk9XYMEHS96MtNiFdjljx7JZqO+QPuUrrZVSSwi205n6qAyh7Wl7nucxxJY07Df6C2LIsbyGKqGN5Bbrq221L6CrNHVsn7nqGbc4ZCwnjI3cbtOxG43C6GWnK9OaCO16mZX+CpxnGtKa+emlpsuFDYJ7hS0072tp6uotccPXQM3cxzzzJjb2+N2A99LFjmNY9HVHGrDbbYy5VL6+q7hpY4BU1D9uU0nADm92w3cdydhuUEmoLNfWJvw+g+lxKdUFmvrE34fQfS4lp9I9ztflq4Smu+eo8Y4uFERcmtRERAREQEREBERAREQEREBERAUXivsXs/wCn+bapRReK+xez/AKf5tqiqztPhPGGUflnZ5pRERSsRERB+4j+kX70m36JTqxKu4j+kX70m36JTqxLqOi+607eMqu852dnAREVggEREHUXp745hObVenWE3nowza1ZFdquvNntnhk/G4qZkULXzvNQHta95AZtG7ygOII22OO9G6o1F6P2vDNNcA/BzW7BYcktUVfehBqRT3e5x0bKkRGqbU1ExY6Fhcd6VvFzneNy7Nl9HEQEREBYLjf5u8fGS+/WlSt6WC43+bvHxkvv1pUrUvWWNvkvehclps80uiItVdiIiAiIgIiICIiAiIgIiICIiCuYD6x1Xpq8fWNQmpPtdZT6FrvmHpgPrHVemrx9Y1Cak+11lPoWu+Yeo4zextR3r93muajLn68Y96Rk+h1Ck1GXP14x70jJ9DqFs2edo+an+UPk1WRY15YL7Pcj9EWn56vXqVVVO2eC222l7suVZy7mpufEEN25SSO2PCJvJvJ+x23a0Bz3MY654zjcWP00jpak1lwqiH1dW5vHrHDyNY3c9XE3chrATtuSS57nvd096tKaLKaJyzzjkmu9E1VxVGSOSZREVQsRfhc0ODS4cj2gb9pWHa+a/5T0f8AKseyLJsKjq9Ja1po79kNG98tXZKt7wIZpoQNu5duxzhuQTv2bAO6hZ/U624tqTedWr/keneC1d1q7g7GdU7zemX2e4WiTZ1JQWGzh3Bj+q6pr+TXOe5zyD42yD6XoqRohdtQb9pDiN51Wt0dDl1baaea8U8cfVhlS5oLt2bngT2Et38Ukj3Fd0BERAREQEREBERAREQEREBQ1pzPD7/errjdiyyzXG7WF7I7rQUlfFNU0D3jdjZ42uLoi4doDgNx5FMr5duu+X6K9MvW7pSWSoq6rF8ay634/nFqia5wNmq6SHata0dhdBKGOJd2Bhd5Bug+l+O5Zi2YUtRXYlktqvdNS1UtFPNbqyOpZFURnjJC90ZIa9p7HNPaD5QlpyzFr9c7pZbHktquNwsczae6UlJWRzTUMrm8msnY0l0Ti0ggOAJHausX4Nu5UF50czK72qriqqKu1GyOppp4ncmSxPquTHtPugggg/3rrhPr3m2B9MDWXRzT6rdjVfn+oVlo63NqqgbVUVgp30bWMAa9rozUzvaY4hK3hue3fY7B9QUXzv6S/So6Tdu13v2lGinqhGj0/t9A6eXGNNKfKZL1XTR9Y5twe6WIUULgGBpgZyO8pAGzQLZlOsPSu1S1N0W08wjMm6OXHPsCrb7kVJc8XjrpbbWwvaH8IKprZA8HdrWvcG8XbkOOyDvIi+feR6h9NHI8h6QtLhHSJs9htejM1PPRCoxCjqqm5OZbuulp3PLQyCGRw5l/CWQOOzS1o2dC6udNjpB5TbtJ8d0ro8tslzyvBKXM75W4TgcOW17ZZuLWQx0lRNHHHT79YXSHdwJjA7N9w+hN4yzFser7Xa7/AJLarZW3yoNJa6asrI4Za6cN5GKBjyDK/iCeLQTt2qVXz5ueo+peqdV0Rcp1fwi6YtlY1Fr6Ouo7jaZrbNL1VNI1lR3NL40fWsDXloLmglwaSAvTsfSY6UmL9I6G2625/LhFluOYPsdFjOSYA+lsFyonyujiNsvtO2aSap4COTafq4uUhHPYcQH0SREQEREBERAREQFlWk/tr62fGi2fUFtWqrKtJ/bX1s+NFs+oLag1VERAWVW//TJnjL9J+MwjB7g9trb/AO7vN7i5Ry1RHkfBSOLo4t9w6oEkmwNPBIfe1Kvl3yC80ujuFXGeiu11p2Vt8udM8tlstmc9zHSscPyKmodHJDTns2LZphy7nLHXmxWO0YzZLfjeP26C32u00sVDQ0lOwMip6eJgZHGxo7A1rWgAe4Ag95ERAREQEREBYd0qdIL5qFikGYYRnF5xXK8Op66eiqrXYKe+SVdLNAWVVEaCoIZUdawBrWlzfHDT2+RbiovKJb5Bjd1nxiS2R3eOjmfQvuheKNs4YSwzlnjCPlty49u2+yD5FXDOOkfasOsWB5lmvSldiFFX0EFNbbh0drdGyqfHO11PSumfcecoc9rWtic5wdsG8SAAvqXotqqdYMQOUO03zvCTFUvpDbsysveuufwDT1oh5v8AxZ5dh38oP6l0a1B6Qmr+c4tPi+r3St6Gdsw2sqKU3iqw2/XC43qOnZOx5NJAXv5ybtA328UEu3G26+huK5PjOY2CjyPDsjt1+s9YzlTXG31bKmCdoOxLZYyWu7QQdj5QUEsoLNfWJvw+g+lxKdUFmvrE34fQfS4lp9I9ztflq4Smu+eo8Y4uFERcmtRERAREQEREBERAREQEREBERAUXivsXs/wCn+bapRReK+xez/AKf5tqiqztPhPGGUflnZ5pRERSsREXBJJUz1Itttax9U9oe5zwTHTxkkdY/bbfyENaCC4ggEAOc32ImqYppjDMvJmIjDL2MR/SL96Tb9Ep1Yl6ltt0FrphTwOe8kl8ksh3fK8+VziNhv2DsAAAAAAAAC7Xe02G3T3e+XSkt1BSsMk9VVzthhib/tOe4hrR/eSutuVjVd7Cmzqy85wqq2ri0rmqHtouKlq6WupYq2hqYqinqGNlimieHskY4bhzXDsII7QQuVbSIREQEREBERAWC43+bvHxkvv1pUrelguN/m7x8ZL79aVK1L1ljb5L3oXJabPNLoiLVXYiIgIiICIiAiIgIiICIiAiIgrmA+sdV6avH1jUJqT7XWU+ha75h6YD6x1Xpq8fWNQmpPtdZT6FrvmHqOM3sbUd6/d5rmou6Q3Kqu9igs1B3dWNrJJRD1ojDWdzyxmR7jvxja6VnJwBI5ABrnFrTIE1M1TDbrdTd011Tv1MPLiNhtye92x4Rt3HJ2x8oADnOa11+xrGqbHqZ5MvdNdU8XVdW5nEykb7NaNzwjbueLNztuSS5znOdtWNM1WkTHumJ+k4cHr3bHyuiym1nB7n5jOMwY9BLJJP3Zcqzi6srHM4mUt34sa3c8Im8ncGbnbdxJc9z3umkRWNddVdWNVlWNNMURggUZfbw21UM/c5hmuJp5paKjdIGvqpGMLgxo8p7QPJ5N1DZ5qxpnpgbazUPPrDjT71UdyW4XSujp+6ZuzxWB5HLbcb+4Nxv5V0XueC2vWfX7K9PulBNUYTrXLMyu0qy6y19RHQOtsLQYe9/KTg6UP5OmicOTuR2I2G2L1Fac9ITUDK7R6s2T6oX/JMVihNu1Ew+7WmibbzdKuQQw2O2U72RzGSMvAklc94IHkkcSwdv9DejLjeirrlQW67TXjGxX98MWs91pY5nYu2Ru80FLO4GQMc8khu4DR2dvaTX9EejLYo6y36ua66RYGdYqKaWKoyG0RFza4scWx15jIDI55GAOJALm7/AJQ/JHYpAREQEREBERAREQEREBERAREQFmGOdHjT/Hr7qbe3GvujdWKllRf6K4vikphxp+o6uJrY2kMLPKHued/IR5Fp6IMu6OnR2wbow6fO0108rrzVWg3Ce4tddZ45pmPlI3YHRxsHEbADcE/rJUBe+h/pPklLqpR3ye+VcWrlbTXG7h1TEDQ1NPG1kMtE5sQMTmFjXgvLyHDfydi3BVHUjUGTTy10lfS4JlWW1NdU9zRUOP0kUsrdo3yOkllnlip4I2tYfHllYC4ta3k5zWkMg1O6DWnGqOQUmVV2o+puP3d1mhsF8q8dyEUDsloogA2O5NZEWy9nMHgI9w87+RvG82/o3ab2XUbCdR7BHX2ufT/HJ8WstrpZI20DKGXjuHMLDIXNDAARIB+sEqYxvXPSvJMQoM2bmtptdBX2Pwj4XWsipJqe3DsfUTMe4cI2O8V0h8QEflKMyjXyxYnmNpxmvwzLJrVd6yht0WUQUkHedtVWBxp4hI+Zs03LiAXwRSsYXt5ub27B6tF0asFoKnViqhu1+L9Yncr6HTw7Ux7m7n/zX8V4nidvj9Z4393YqVlPQV0vyLFMAx61Z1qLiVz04tAsFpyXGb6233eW38Ax1PPMyIsex3FrjtG07js2BcDtEOpuntZHE+2ZrZbk+pNaylgt9dHVTVclISKqOGOMufLJE5pa9jAXNcNiAexV/S7Wy2anXe8Y4/CspxO9WWnpK2e25DT08VQ6kqg4wTgQTShgd1bwY5CyVpaQ5jezcKxRdEPSS027S602MXi20mk10lvNojgqWO7sq5WObLJWOkjc6UvL3vcWlhLnHt27FUY/wfWjUea+EZzDUh+NtvnhHHgTsmeMXiuHWdb1raMMDh+O3l49Zx5Ejbh4i7NogIiICIiAiIgIiICyrSf219bPjRbPqC2rVVlWk/tr62fGi2fUFtQaqqzqFnFLgGNvvL6GW5V1RNHQ2q2QOAnuVfK7jDTxk9gLndrnnxY2NfI8hjHOFinngpYJKmpmZDDCwySSSODWsaBuSSewAD3VmOn0E+puTN1pvEL2WmCKakwqjlaRxopCBLdHtPklqg0dXv40dNxHiOnnYgsWmeD1WHWepqsgrorllF+qTcr/AHGNpayeqcABHED2tp4WBkMTD2iONpcXPL3uuCIgIiICIiAiIgKHzHF7bm+J3nDby+dtBfKCe3VLoHBsgilYWOLSQQHbOOxIPb7hUwiDr9eOgd0Wrxp2zT12kOLUZbSQUhvtHj1tiu7uq4/jTUCn26x/Dx3ce3k7sG62XDcGwvTuxx4zgWJWbHLTE90jaG00EVHAHu/Kf1cTWt5Hyk7blTiICgs19Ym/D6D6XEp1QWa+sTfh9B9LiWn0j3O1+WrhKa756jxji4URFya1EREBERAREQEREBERAREQEREBReK+xez/AACn+bapRReK+xez/AKf5tqiqztPhPGGUflnZ5pREXBJJUz1Itttax9U9oe5zwTHTxkkdY/bbfyENaCC4ggEAOc2aImqYppjDMsJmIjDJJJUz1Itttax9U9oe5zwTHTxkkdY/bbfyENaCC4ggEAOc2ftlsprVTdz05e9z3dZLLIQZJpCAC9xG257AOwAAAAAAABbLZTWqm7npy97nu6yWWQgyTSEAF7iNtz2AdgAAAAAAAHHfr5acYslfkd+roqK22umkq6uolOzYoY2lz3H+4AErpbhcIu0Y9ftrnd8I85VtvbzaTgjI/Mgv9lxWx1+S5HcoLfa7XTyVdZVzu4xwQsaXPe4+4AASuhuu2smJ9LOqtlZoTmWn2S2jBaWvr8ixvUKnraChhDms6i8SU0kbTWRQNbLszZzd5WnygL2tY9e7X0qxFoJQ1OWaQZNeYYshwOov8jIKDMKcE8YKqBruTY5djtDLs4jY7b+Ivf0oynKOk50ksQvWWYBaNNc30SbWQZXSuuXO5XJk8BijighETedC5zutEheQDxA333Nk1106D191Wye55LerprDXakaeS0FC203mpxwWemdcvH7ojt0PBjjRsZ1TQS3bkDx32cu2q/AABsBsAv1AREQEREBERAWC43+bvHxkvv1pUrelguN/m7x8ZL79aVK1L1ljb5L3oXJabPNLoiLVXYiIgIiICIiAiIgIiICIiAiIgrmA+sdV6avH1jUL2sqt1TktprMJtbDLc8goqmjpmAdkbXM4PnkP+rFHzaXO/va1oc97GOjcInqn211otFH3bda29Xruam58AQ24z85ZH7Hq4Wcm837Hbk1rQ972MdtuHYdS4pSyvfUd23Wt4ur690fAzFu/FjG7nq4WcnBkYJ25OcS973vf7YWU2sRHuRdIX2m5VzV/wDWGcEbcs/Djkj3zHsY1jVNj1M8mXumuqeLqurcziZSN9mtG54Rt3PFm523JJc5znOmURWVNMURi05HF00xTGCBZxrVr/pzoLZ6W6ZzV18tRcHPbQWu1UMlbX1nBvKR0cEYLi1jfGc87NaPKe0b59qF0ycfwTPMi0ilwO9uzynFKMTtNZJFSxZW6oc1jTSVBJYGMkcRIXeM1rXOLewgYhmmpeV6vzZVZ6jSKuxDpI49Y+9EeLSX5vG6Y5PVxSVstrqvFilkfE17Of5THAbfrWT1EZXlWB5HqoNVNcqKy6s6Cau0MFhxbKW2xjjh8z3u/wAxqGhvWQ9ZI/brxxeHsaHbFuw7NaLdG6TBLLTYvqPkFBqFacQvBr9P6q7UAluNlpeq4tjfUOJ6x7OTmtcADxDdyewNrfRM6Osenk2T6gVWI1uB0eZ1UdTBp0K2GotlnZE2MRzGONvBtU4xl7ixxaN2j8oErswgIiICIiAiIgIiICIiAiIgIiICIiAiIgKi6v1d8jxjvbQaOeqVa7qZKG82ZtZRRSOpXxuG4irXR087S7i17Hys8VxI5kcTekQdHdT+jhr/AJriGldoqsWtd+uunVPJkdfV3S8OkN1nNS17MdbIJmPdH1YHKablFvBCPGBcRsmrVt1c1DyLHbBYdKKnH5bddbTdKTN2XiieLbSCRklxpHsbK2pZM9kboOEbJoJGyNLn7AtG/Ig6k6V6Q6w4X0kcy1zqtKrMyiz2G4QQUHfdrZ7E+As6iSR3WyxEV/Vh8pgj5RuEfJrvGK0jRmwahVWqOW6kZFp9W6eWi822hpXY7PcqSpFXdWOkfU3LjSSyQjk18cQlPCaQRAyMAbGtuRAREQEREBERAREQEREBZVpP7a+tnxotn1BbVqq6602aXPG9StXsexGCnq8wyfLrfQ2KmnBdFG8Y9bnS1lQGkEU0DPHed28j1cTXCSaMELrm3+l7K6jSGk/GYtaCx+cSjtZVF8bZYbL+o9bHIyaoB/8Ah3RxlpFVyZqqr+B4XbMAxilxu2z1FUYy+errqoh1RX1cji+eqmcAAZZZHOe7YAAu2aGtAAsCAiIgIiICIiAiIgIiICIiAoLNfWJvw+g+lxKdUFmvrE34fQfS4lp9I9ztflq4Smu+eo8Y4uFERcmtRERAREQEREBERAREQEREBERAUXivsXs/wCn+bapRQeMyVM9gs1ttrWPqn26me5zwTHTxmMDrH7bb+QhrQQXEEAgBzmxTE1W1NNMYZmJ4wywxFEzPrKlZJKmepFttrWPqntD3OeCY6eMkjrH7bb+QhrQQXEEAgBzmz9stlNaqbuenL3ue7rJZZCDJNIQAXuI23PYB2AAAAAAAALZbKa1U3c9OXvc93WSyyEGSaQgAvcRtuewDsAAAAAAAApGea76d6Z55iWn2bXCqtdZmr5obTWzUr2299QzjtTvqT4jJn7ngwnc8T5N279XcLhF2jHr9tc7vhHnKqt7ebScEZFsyzLMawTG7jmGYXqltFltMDqqtrap/CKCJvlc4/wD88pJAHaumGR9KjUXU/Hsi1ewTEsS1I6OtLXT2C+WiigqhkM1vEbRUV/VycBwBe49SWBxjby37d27Z0utJdTtTMMtVz0pyUxXnErlDe2Y5Vub3syLqXtkFLVDbfysBYd+Id5R7opugen9l1Czmh6Umm8OQaZVF7FTbNQcKrbYWU9zrod4y4teGtEkcoI6+MEPAIOx5Kya6jYr0fa3pF36rvN1fgmQ6G5LeqTLLPdrfUVUV4dT09MIaO2MazgKSOBwO/BwI2cNt3u27eN0x0/bmdBqJ4JW45NbLc600l2dFyqoqRxBMXWHtI8Udp3Pl7e072Cgt9BaqKG22uip6OkpmCOGnp42xxxMHka1rQA0D9QXsICIiAiIgIiICIiAs4m0Wpe7K2pt+f5Rb4q2sqa51NAKB0cck8rpZOJlpXv2L3uOxcdt9vItHRYV2dNf5k9hebW7YZspwYfXvZv6jEnvpZf8AJ2v7mnqMSe+ll/ydr+5rSEWHUWeji2O1L1rbo5M39RiT30sv+Ttf3NPUYk99LL/k7X9zWkInUWejidqXrW3RyZv6jEnvpZf8na/uaeoxJ76WX/J2v7mtIROos9HE7UvWtujkzf1GJPfSy/5O1/c09RiT30sv+Ttf3NaQidRZ6OJ2petbdHJm/qMSe+ll/wAna/uaeoxJ76WX/J2v7mtIROos9HE7UvWtujkzf1GJPfSy/wCTtf3NPUYk99LL/k7X9zWkInUWejidqXrW3RyZv6jEnvpZf8na/uaeoxJ76WX/ACdr+5rSETqLPRxO1L1rbo5M39RiT30sv+Ttf3NPUYk99LL/AJO1/c1pCJ1Fno4nal61t0clXwPTuwae0NTTWh1VVVNdPJU1ldWPa+oqHvkfJsS1rWtYHSSEMY1rAXvIHJ7ibQiKWmmKYwU5Gpa2tdtXNpaThmfeKk62amU2jOkuWaqVlsmuMWL2qe5Gkh7HTFjdw3f3ATtufcG59xYb0ns06TRy2+2TRvJ3YLZMJxHwsqLvJiRvLL9U9ZIO9rXO3bDs2Ldxa10h5gjsBVu0U6R2G6/MrdKcxw++2HMILFT1V9x/JLHLQtqqeeMNlkgZN2ywciW9ux7RuF6jZXqNh0+p+lGNVXSfz+xuyPL7/bzpzfcHtE0b8cuFRHzh4VJe4yMDm+M5xaHtb5NyNty0u0zyS72DEMk6R+P4ne9S8OfUw0V9oIS7Zp3jFQwuaDG+SPZzmDcAns2PYKtph0HtItKswo8os1/zm6UFlnkqsexq85BJWWSwTP3BkoqVwAjeA5wDnF5Acdtj2rsKgIiICIiAiIgIiICIiAiIgIiICIiAiIgIiICIiAiIgIiICIiAiIgIiICIiAiIgKn49pTh+NahZVqhb6Wd+Q5gaUV9RPKXtijggjhbHA3yRNcIWOft2vc1vIkMYG3BEBERAREQEREBERAREQEREBERAXpXi1w3mgfQTTSwtc+ORskRbzY+N7XtI5Ajsc0eUEL3UWFdFNrTNFcYYn2S9pqmmYqjKrvgjUedt5/YpPsE8EajztvP7FJ9grEi0uy7rq755pvxNrp3QrvgjUedt5/YpPsE8EajztvP7FJ9grEidl3XV3zzPxNrp3QrvgjUedt5/YpPsE8EajztvP7FJ9grEidl3XV3zzPxNrp3QrvgjUedt5/YpPsE8EajztvP7FJ9grEidl3XV3zzPxNrp3QrvgjUedt5/YpPsE8EajztvP7FJ9grEidl3XV3zzPxNrp3QrvgjUedt5/YpPsE8EajztvP7FJ9grEidl3XV3zzPxNrp3QrvgjUedt5/YpPsE8EajztvP7FJ9grEidl3XV3zzPxNrp3QrvgjUedt5/YpPsE8EajztvP7FJ9grEidl3XV3zzPxNrp3QrvgjUedt5/YpPsFJWKx2/HbbFa7bG4RRNAL3u5PkIaG8nO907AD9QAAAAAAkEUtjcbvd68ezp9un2zxY121paRi1T7EJmtBlN0xG8W7CL7TWW/wBTRSxW241NL3TFS1BaQyR0W45gHY7b/wDkfIfmtbr/ANNnWRmXdFrXKi0qze/2pplrMdySKWz3SupQfxNxtVZTMFO8A9ok4BzD+UPKvqIs51U0E0+1evOLZPklPW0d/wANuMdxtF4tdSaWtg4uBfB1re0wyAcXs8hB7Nj2rbRMp6DNT0r7bhdywHpQYPJbpMakZT2O81N2p62quFKd+LJnQEtkdG0NHXeKXb9rdwSuziIgIiICIiAiIgIiICIiAiIgIiIC/HcuJ4Ectuzfybr9RB0quXTa1Tt/RgyLPocPsVdqras5qcFo7HT0VQ6knrW1ZZFvF1/WEGDxyRLtuCRsOxXG1dLTKcuh6OMGI2Wym4awGWrv9PUskLrfRU1MX1ZhYJGlr2zcWAv5geTZ2+4ymy6B6it/CJXKCpxK4N0pp7m/UuC4SW+QUUl8koW0nVtmAEReHFz+B3cNifdG/s9FnQ3UzEOmTmrMsxq7UuD6d0t0iwm41FLK2nqo7xWNqpGRzPHGUxgOZszbgOx25IJDuXfdSMLxnMMdwK+XnuW+5Z3T3npTTyuFUYGB8o6xrTGwtaQdnuBPubqns6U+gUuK5NmsOo1JLZsPvQx681EdJUvNNcTI2JtOIxGXyuL3taDG1wJPYTsVROnVimc1emNk1Q0pxaqyDONM8gpchs9BSQyyz1LO2GphYyIF7+UUrvFAP5IOx2XV3Ceizq1jOrOl+mkmK3I4NmMdkz3PLg2jqBBFfLc2eaSGWTYtZJLO+nPB5a49X/rdqDt1hfSbxyjwnUfUXVzUDDKPHcIyWstTq210twhFLBGWiOCoZUxh8tXu4Aina9rnFoZuexZez8I1ptddQr9V4hlGP33TOw4DNlE9xhpatle2vZU9SKaRpHOJrt2djoOQ5B25astveiWrF00e1NqqLTe/1tVZddPDaOwy0b4Jb9a6eeN7xTslaBUB7Q4sA3Di3YbnYG145Nn2tnSey3U2i6OWe4Lab1pJWWSjqMms7aGor6wylrY5eL3Mif8A6rWSPDywB2waQgkqL8Ixar5pto1qVba7Fbdb8wysY9mz7mypigse1M+aRkc0romlzB1Y6082Hc7Dt2HZjRfpEaMdIa13G8aOZ3SZHTWmoFLW9XBNBJDIRuOUczGP4kb7O24u2OxOxXR/CMez7ONLOiphd60D1BtVRpdndJb8ghvuNSshDIKN57uZ2OBpebmATPDRzaQPICexujmHZPaOm3r3llfi10orJerRjTKC5TUMkdLWyRRTCURSloZI5pLQ4NJI3G+yDsyiIgIiICIiDgrmVktFUR26oip6p8TmwSyxGVkchHiucwOaXAHYkchv5Nx5VimkOgmf4/qNVaxa26p0mc5cLSLBbZKCxR2qloaEydZJtG173PkkeGlzi4ABoAHlJ3JEBERAREQEREBERAREQEREBERAREQEREBERAREQEREBERAREQEREBERAREQEREBERAREQEREBERAREQEREBERAREQEREBERAREQEREGJ0vSatsGpGrmn2UY4yzDSy00t+bWvr+YudBNA+Qyhhib1XFzHM2DpPcO432WY4Z+EEt2W9FDIekk/S+aiu1guTbO7EzeA6WWrlkibTx90GBpb1jZ43DeL3ewO7Csk/CDY9lts6QuJWzC7W6WLXywt05vUzZTH1UbK6KXmHdo36mSZpGwPHft7AD6Wtmnl2sHTTw7o+2exl+C6m3fH8wlLR4sM1khkZO1zANnB7IaXdxI2IAIduEG/1nTktDukbSaBWTF8dq6eht8ddlV/qs4oKOOykxvkmiZTyDrKp0IjPWNaWuZvu5rW9q3Oi1k0huVXU0Fu1Vw+qqaK3C8VMMN8pXyQUBaHiqe0P3bCWuDusPi7EHfYrpfnun+BU/SW6UV2p8IsEVdRaVUtwpqllthbLDVVFPViedjw3dskg7HvB5OHlJVOxLo5aJw3nob07dN7DwyKx10l/3oItr5tb45tq4cdqodZ420gPk28nYg+jmMZZi2b2SnyXDMltV/tFXy7nuFrrI6qmm2JB4SxktdsQQdj5Qo+o1N02pLbfLzV6hY1Db8YqDSXyrku1O2G1zgNJiqXl/GB4D2Hi8g+MP1hdfugdYLNidLrNi+N26G3Wi2an3eGioqdvGGmj4xEMjb5GNG/Y0dgGwGwCwrpKac3W6dKO79GSioKuPE+kRNa8mrqmnlEYgltzJBXf3+OIqQ7t93fcEHtDuVrZrtYdJ8Krr5aazFbzkMduF1t1iuWXUNk7vpesYx0wqal3BkTesb+MILdy0b7uCsl/1U0+w+KzR5tm+NY9X5A1rbZR3G808D62Zwb+Kp+bh1zuT2tHAHcuG3lC+U9xdl2o3RY1w1HzuN7arTvF7RpTS9bE1rpJ6GrY6tnHZuA9/VDbs22I8o7Nz1Vn0RwnpS1l/6WeEtv8AjeW6f2e1YG6txqW8QPrmFwqKSmZHHJwqXOfGWniHeMPGG43DYbD+EP0zl07wLN85t9Di1VnuUVmPQUVTf6fq6GCmqZYZa+eaURFsAEW+4jID5GMLhvyV/tHSywF2pOomGZrccfxKyYG61tjyO6ZBDDS3E1sJlYAZGsZGdhsPxj+XlGy+eGO2/SmydD/o6akah4LSyYjj+qt0hvM1ysvfB1FaJKmu3gqB1b3GMvEXKMghz2t7CQFu9p0w0a1U116T+U3/AADHcjgocUtU1iluNsZM2jhfa3SMfAyVv4l2zYyCA1w2A7PIg+g1PUQVcEdVSzxzQzMEkckbg5r2kbhwI7CCO0ELkWB9AmaWfoc6TPmlfI4Y5CwFziSGtc5rR2+4AAAPcAC3xAREQEREBERAREQEREBERAREQEREBERAREQEREBERAREQEREBERAREQEREBERAREQEREBERAREQEREBERAREQEREBERAREQEREBERAREQEREBERAREQEREBERAREQEREBERAREQEREBERAREQEREBERAREQEREBERAREQEREBERAREQEREBERAREQEREBERAREQEREBERAREQf/Z)"
      ],
      "metadata": {
        "id": "cM_Gek3Y7xxX"
      }
    },
    {
      "cell_type": "markdown",
      "source": [
        "The inputs for this layer are 2D data, of height $H$, width $W$ and with one channels (in our case). Using a $3\\times  3\\times 3$ kernel, a convolution operation is performed over the input, generating $N$ “*feature maps*” of size $H_{fm}\\times W_{fm}$. One feature map learns one particular feature present in the input. Through activating, these feature maps contribute to the outcome prediction during training, and for new data as well. $N$ can be configured by the machine learning engineer prior to starting the training process.\n",
        "\n",
        "say we set $N=64$, then 64 such maps would be produced in this first layer.\n",
        "\n",
        "In the *convolution operation* of a ConvNet, a small block slides over the entire input data, taking element-wise multiplications with the part of the data it currently slides over (Chollet, 2017). "
      ],
      "metadata": {
        "id": "F2CUOpbG72lB"
      }
    },
    {
      "cell_type": "markdown",
      "source": [
        "**feature map:**  In the first layer, we learn a feature map based on very “concrete” aspects of the data. Here, the feature map consists of very low-level elements (say for an image image, such as curves and edges, a.k.a. the details). \n",
        "\n",
        "However, we cannot see the higher-level patterns with just one convolutional layer. We need many, stacked together, to learn these patterns. This is also called building a spatial hierarchy (Chollet, 2017). Good spatial hierarchies summarize the data substantially when moving from bottom to top, and they’re like a pyramid. Here’s a good one versus a bad one:"
      ],
      "metadata": {
        "id": "aB8Y3xp8-Wjj"
      }
    },
    {
      "cell_type": "markdown",
      "source": [
        "![hierarchies.png](data:image/png;base64,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)\n",
        "\n",
        "A good spatial hierarchy (left) versus a worse one (right)."
      ],
      "metadata": {
        "id": "jOit6dND-xQT"
      }
    },
    {
      "cell_type": "markdown",
      "source": [
        "**Filters**: Each convolution layer consists of several convolution channels (aka. depth or filters). In practice, they are a number such as 64, 128, 256, 512 etc. This is equal to number of channels in the output of a convolutional layer. kernel_size, on the other hand, is the size of these convolution filters. In practice, they take values such as 3x3 or 1x1 or 5x5. To abbreviate, they can be written as 1 or 3 or 5 as they are mostly square in practice.\n",
        "\n",
        "`filter_sizes = [2,3,4,5,6]`"
      ],
      "metadata": {
        "id": "b-3rXGZDpC6S"
      }
    },
    {
      "cell_type": "markdown",
      "source": [
        "**Convolution layer** \n",
        "\n",
        "*   In 1D CNN, kernel moves in 1 direction. Input and output data of 1D CNN is 2 dimensional. Mostly used on Time-Series data.\n",
        "\n",
        "*   In 2D CNN, kernel moves in 2 directions. Input and output data of 2D CNN is 3 dimensional. Mostly used on Image data.\n",
        "\n",
        "*   In 3D CNN, kernel moves in 3 directions. Input and output data of 3D CNN is 4 dimensional. Mostly used on 3D Image data (MRI, CT Scans).\n",
        "\n",
        "**1D convolution layer** \n",
        "Arguments\n",
        "\n",
        "*   filters: Integer, the dimensionality of the output space (i.e. the number of output filters in the convolution).\n",
        "*   kernel_size: An integer or tuple/list of a single integer, specifying the length of the 1D convolution window.\n",
        "*   activation: Activation function to use. If you don't specify anything, no activation is applied (see keras.activations).\n",
        "\n",
        "`l_conv = Conv1D(filters=200, kernel_size=filter_size, activation='relu')(embedded_sequences)`\n",
        "\n",
        "**Input shape**\n",
        "\n",
        "3+D tensor with shape: batch_shape + (steps, input_dim)\n",
        "\n",
        "**Output shape**\n",
        "\n",
        "3+D tensor with shape: batch_shape + (new_steps, filters) \n",
        "\n",
        "**Returns**\n",
        "\n",
        "A tensor of rank 3 representing activation(conv1d(inputs, kernel) + bias)."
      ],
      "metadata": {
        "id": "ybWA6c3Pyi4M"
      }
    },
    {
      "cell_type": "markdown",
      "source": [
        "![conv1D_nlp.png](data:image/png;base64,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)"
      ],
      "metadata": {
        "id": "OSWrMN8j3hQS"
      }
    },
    {
      "cell_type": "markdown",
      "source": [
        "The **convoluation operations are relatively expensive**. Can’t this be done in a simpler way? Do we really need to have a hierarchy built up from convolutions only? The answer is no, and **pooling operations** prove this.\n",
        "\n",
        "**Pooling** is basically “downscaling” the data obtained from the previous layers. It can be compared to shrinking an image to reduce its pixel density.\n",
        "\n",
        "**downscaling**:  it is also done in a much simpler way by performing a hardcoded tensor operation such as max, rather than through a learned transformation, we don’t need the relatively expensive operation of learning the weights (Chollet, 2017). This way, we get a nice and possibly useful spatial hierarchy at a fraction of the cost."
      ],
      "metadata": {
        "id": "VN8LL0uJ_LdQ"
      }
    },
    {
      "cell_type": "markdown",
      "source": [
        "# GlobalMaxPooling1D layer\n",
        "\n",
        "GlobalMaxPooling1D Downsamples the input representation by taking the maximum value or takes the max vector over the steps dimension. \n",
        "\n",
        "GlobalMaxPooling1D class\n",
        "\n",
        "```\n",
        "l_pool = GlobalMaxPooling1D()(l_conv)\n",
        "```\n",
        "\n"
      ],
      "metadata": {
        "id": "eTr-YhW9zfUi"
      }
    },
    {
      "cell_type": "markdown",
      "source": [
        "![Global-Max-Pooling-3.png](data:image/png;base64,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)"
      ],
      "metadata": {
        "id": "cC8mz3MFBHFd"
      }
    },
    {
      "cell_type": "markdown",
      "source": [
        "# Dropout layer\n",
        "\n",
        "**Dropout class** The Dropout layer randomly sets input units to 0 with a frequency of rate at each step during training time, which helps prevent overfitting. Inputs not set to 0 are scaled up by 1/(1 - rate) such that the sum over all inputs is unchanged.\n",
        "\n",
        "**Arguments**\n",
        "\n",
        "rate: Float between 0 and 1. Fraction of the input units to drop.\n",
        "\n",
        "`x = Dropout(0.1)(l_merge)`\n",
        "\n",
        "Dropout is a technique where randomly selected neurons are ignored during training. They are “dropped-out” randomly. This means that their contribution to the activation of downstream neurons is temporally removed on the forward pass and any weight updates are not applied to the neuron on the backward pass."
      ],
      "metadata": {
        "id": "OCK7YHkZBkDd"
      }
    },
    {
      "cell_type": "markdown",
      "source": [
        "# Dense layer\n",
        "\n",
        "**Dense class** is the regular deeply connected neural network layer, which means each neuron in the dense layer receives input from all neurons of its previous layer. It is most common and frequently used layer.\n",
        "\n",
        "In the background, the dense layer performs a matrix-vector multiplication. The values used in the matrix are actually parameters that can be trained and updated with the help of backpropagation.\n",
        "\n",
        "The output generated by the dense layer is an ‘m’ dimensional vector. Thus, dense layer is basically used for changing the dimensions of the vector. Dense layers also applies operations like rotation, scaling, translation on the vector.\n",
        "\n",
        "`x = Dense(128, activation='relu')(x)`\n",
        "\n",
        "The output shape of the Dense layer will be affected by the number of neuron / \n",
        "\n",
        "*   `units` represent the number of units and it affects the output layer. it uses positive integer as it value and represents the output size of the layer. \n",
        "It is the unit parameter itself that plays a major role in the size of the weight matrix along with the bias vector.\n",
        "*   `activation` represents the activation function."
      ],
      "metadata": {
        "id": "3dVH0FObEPN9"
      }
    },
    {
      "cell_type": "markdown",
      "source": [
        "![ann_dence_layer.png](data:image/png;base64,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)"
      ],
      "metadata": {
        "id": "Kuv5M-yvHgkj"
      }
    },
    {
      "cell_type": "code",
      "source": [
        "from keras.layers import Dense, Dropout, Reshape, Flatten, concatenate, Input, Conv1D, GlobalMaxPooling1D, Embedding\n",
        "from keras.models import Model\n",
        "\n",
        "\n",
        "def ConvNet(embeddings, max_sequence_length, num_words, embedding_dim, labels_index):\n",
        "    #Embedding layer (Embedding Class)\n",
        "    embedding_layer = Embedding(num_words,\n",
        "                            embedding_dim,\n",
        "                            weights=[embeddings],\n",
        "                            input_length=max_sequence_length,\n",
        "                            trainable=False)\n",
        "    #Input function\n",
        "    sequence_input = Input(shape=(max_sequence_length,), dtype='int32')\n",
        "    #Creating Embedding layer\n",
        "    embedded_sequences = embedding_layer(sequence_input)\n",
        "\n",
        "    convs = []\n",
        "    filter_sizes = [2,3,4]\n",
        "\n",
        "    for filter_size in filter_sizes:\n",
        "        l_conv = Conv1D(filters=200, kernel_size=filter_size, activation='relu')(embedded_sequences)\n",
        "        l_pool = GlobalMaxPooling1D()(l_conv)\n",
        "        convs.append(l_pool)\n",
        "\n",
        "\n",
        "    l_merge = concatenate(convs, axis=1)\n",
        "\n",
        "    x = Dropout(0.1)(l_merge)  \n",
        "    x = Dense(128, activation='relu')(x)\n",
        "    x = Dropout(0.2)(x)\n",
        "    preds = Dense(labels_index, activation='sigmoid')(x)\n",
        "    #Keras model represents the actual neural network model.\n",
        "    model = Model(sequence_input, preds)\n",
        "    model.compile(loss='binary_crossentropy',\n",
        "                  optimizer='adam',\n",
        "                  metrics=['acc'])\n",
        "    model.summary()\n",
        "    return model"
      ],
      "metadata": {
        "id": "nlGjghK3lJ2A"
      },
      "execution_count": 64,
      "outputs": []
    },
    {
      "cell_type": "markdown",
      "source": [
        "# Keras Compile Models\n",
        "\n",
        "**Loss**: In machine learning, Loss function is used to find error or deviation in the learning process. Keras requires loss function during model compilation process.\n",
        "\n",
        "**Optimizer**: In machine learning, Optimization is an important process which optimize the input weights by comparing the prediction and the loss function. Keras provides quite a few optimizer as a module\n",
        "\n",
        "**Metrics**: In machine learning, Metrics is used to evaluate the performance of your model. It is similar to loss function, but not used in training process. Keras provides quite a few metrics as a module, metrics and they are as follows:\n",
        "accuracy,\n",
        "binary_accuracy,\n",
        "categorical_accuracy, ect."
      ],
      "metadata": {
        "id": "83Rt8xvMJqya"
      }
    },
    {
      "cell_type": "code",
      "source": [
        "model = ConvNet(train_embedding_weights, MAX_SEQUENCE_LENGTH, len(train_word_index)+1, EMBEDDING_DIM, len(list(label_names)))"
      ],
      "metadata": {
        "id": "8Me6L38IkJ2h",
        "colab": {
          "base_uri": "https://localhost:8080/"
        },
        "outputId": "91f72f24-9d80-4611-c06a-10f9881fb8de"
      },
      "execution_count": 65,
      "outputs": [
        {
          "output_type": "stream",
          "name": "stdout",
          "text": [
            "Model: \"model_2\"\n",
            "__________________________________________________________________________________________________\n",
            " Layer (type)                   Output Shape         Param #     Connected to                     \n",
            "==================================================================================================\n",
            " input_3 (InputLayer)           [(None, 50)]         0           []                               \n",
            "                                                                                                  \n",
            " embedding_2 (Embedding)        (None, 50, 300)      738300      ['input_3[0][0]']                \n",
            "                                                                                                  \n",
            " conv1d_10 (Conv1D)             (None, 49, 200)      120200      ['embedding_2[0][0]']            \n",
            "                                                                                                  \n",
            " conv1d_11 (Conv1D)             (None, 48, 200)      180200      ['embedding_2[0][0]']            \n",
            "                                                                                                  \n",
            " conv1d_12 (Conv1D)             (None, 47, 200)      240200      ['embedding_2[0][0]']            \n",
            "                                                                                                  \n",
            " global_max_pooling1d_10 (Globa  (None, 200)         0           ['conv1d_10[0][0]']              \n",
            " lMaxPooling1D)                                                                                   \n",
            "                                                                                                  \n",
            " global_max_pooling1d_11 (Globa  (None, 200)         0           ['conv1d_11[0][0]']              \n",
            " lMaxPooling1D)                                                                                   \n",
            "                                                                                                  \n",
            " global_max_pooling1d_12 (Globa  (None, 200)         0           ['conv1d_12[0][0]']              \n",
            " lMaxPooling1D)                                                                                   \n",
            "                                                                                                  \n",
            " concatenate_2 (Concatenate)    (None, 600)          0           ['global_max_pooling1d_10[0][0]',\n",
            "                                                                  'global_max_pooling1d_11[0][0]',\n",
            "                                                                  'global_max_pooling1d_12[0][0]']\n",
            "                                                                                                  \n",
            " dropout_4 (Dropout)            (None, 600)          0           ['concatenate_2[0][0]']          \n",
            "                                                                                                  \n",
            " dense_4 (Dense)                (None, 128)          76928       ['dropout_4[0][0]']              \n",
            "                                                                                                  \n",
            " dropout_5 (Dropout)            (None, 128)          0           ['dense_4[0][0]']                \n",
            "                                                                                                  \n",
            " dense_5 (Dense)                (None, 2)            258         ['dropout_5[0][0]']              \n",
            "                                                                                                  \n",
            "==================================================================================================\n",
            "Total params: 1,356,086\n",
            "Trainable params: 617,786\n",
            "Non-trainable params: 738,300\n",
            "__________________________________________________________________________________________________\n"
          ]
        }
      ]
    },
    {
      "cell_type": "code",
      "source": [
        "num_epochs = 3\n",
        "batch_size = 34"
      ],
      "metadata": {
        "id": "UfU9xPAZgKb0"
      },
      "execution_count": 66,
      "outputs": []
    },
    {
      "cell_type": "code",
      "source": [
        "hist = model.fit(x_train, y_tr, epochs=num_epochs, validation_split=0.1, shuffle=True, batch_size=batch_size)"
      ],
      "metadata": {
        "id": "SMVzEzGKj44t",
        "colab": {
          "base_uri": "https://localhost:8080/"
        },
        "outputId": "51f16aa1-903c-4bdf-b9f4-b38de9ccc0f4"
      },
      "execution_count": 67,
      "outputs": [
        {
          "output_type": "stream",
          "name": "stdout",
          "text": [
            "Epoch 1/3\n",
            "18/18 [==============================] - 5s 153ms/step - loss: 0.6931 - acc: 0.5223 - val_loss: 0.6926 - val_acc: 0.5735\n",
            "Epoch 2/3\n",
            "18/18 [==============================] - 2s 89ms/step - loss: 0.6930 - acc: 0.5223 - val_loss: 0.6924 - val_acc: 0.5735\n",
            "Epoch 3/3\n",
            "18/18 [==============================] - 2s 89ms/step - loss: 0.6929 - acc: 0.5223 - val_loss: 0.6920 - val_acc: 0.5735\n"
          ]
        }
      ]
    },
    {
      "cell_type": "markdown",
      "source": [
        "## **Prediction and Results**"
      ],
      "metadata": {
        "id": "HiPtUiOIf1vt"
      }
    },
    {
      "cell_type": "code",
      "source": [
        "predictions = model.predict(test_cnn_data, batch_size=1024, verbose=1)"
      ],
      "metadata": {
        "id": "AXyytL7Xj47q",
        "colab": {
          "base_uri": "https://localhost:8080/"
        },
        "outputId": "d2f2ac5c-1577-4342-9d10-141c2a193305"
      },
      "execution_count": 68,
      "outputs": [
        {
          "output_type": "stream",
          "name": "stdout",
          "text": [
            "1/1 [==============================] - 0s 163ms/step\n"
          ]
        }
      ]
    },
    {
      "cell_type": "code",
      "source": [
        "labels = [1, 0]"
      ],
      "metadata": {
        "id": "osXH5_DNmOXj"
      },
      "execution_count": 69,
      "outputs": []
    },
    {
      "cell_type": "code",
      "source": [
        "prediction_labels=[]\n",
        "for p in predictions:\n",
        "    prediction_labels.append(labels[np.argmax(p)])"
      ],
      "metadata": {
        "id": "LdMJWxn6mOar"
      },
      "execution_count": 70,
      "outputs": []
    },
    {
      "cell_type": "code",
      "source": [
        "sum(data_test.Label==prediction_labels)/len(prediction_labels)"
      ],
      "metadata": {
        "id": "WRAe85xymOdz",
        "colab": {
          "base_uri": "https://localhost:8080/"
        },
        "outputId": "207f586e-1854-41a5-bf66-04480d6c4901"
      },
      "execution_count": 72,
      "outputs": [
        {
          "output_type": "execute_result",
          "data": {
            "text/plain": [
              "0.41333333333333333"
            ]
          },
          "metadata": {},
          "execution_count": 72
        }
      ]
    },
    {
      "cell_type": "code",
      "source": [
        "data_test.Label.value_counts()"
      ],
      "metadata": {
        "id": "uOan5ls0j4-i",
        "colab": {
          "base_uri": "https://localhost:8080/"
        },
        "outputId": "cb5d2217-2c54-4ea7-b024-130962ec5cce"
      },
      "execution_count": 63,
      "outputs": [
        {
          "output_type": "execute_result",
          "data": {
            "text/plain": [
              "0    44\n",
              "1    31\n",
              "Name: Label, dtype: int64"
            ]
          },
          "metadata": {},
          "execution_count": 63
        }
      ]
    },
    {
      "cell_type": "code",
      "source": [
        "import sklearn.metrics as metrics\n",
        "\n",
        "#Confusion Matrix and Classification Report\n",
        "from sklearn.metrics import classification_report\n",
        "from sklearn.metrics import confusion_matrix\n",
        "\n",
        "\n",
        "print('Confusion Matrix')\n",
        "print(confusion_matrix(data_test.Label, prediction_labels))\n",
        "\n",
        "print('Classification Report')\n",
        "target_names = ['Positive', 'Negative']\n",
        "print(classification_report(data_test.Label, prediction_labels, target_names=target_names))"
      ],
      "metadata": {
        "colab": {
          "base_uri": "https://localhost:8080/"
        },
        "id": "lyQVRgggls8n",
        "outputId": "fa50807a-f4e9-420a-8ed9-39ba00e97d4d"
      },
      "execution_count": 55,
      "outputs": [
        {
          "output_type": "stream",
          "name": "stdout",
          "text": [
            "Confusion Matrix\n",
            "[[ 0 44]\n",
            " [ 0 31]]\n",
            "Classification Report\n",
            "              precision    recall  f1-score   support\n",
            "\n",
            "    Positive       0.00      0.00      0.00        44\n",
            "    Negative       0.41      1.00      0.58        31\n",
            "\n",
            "    accuracy                           0.41        75\n",
            "   macro avg       0.21      0.50      0.29        75\n",
            "weighted avg       0.17      0.41      0.24        75\n",
            "\n"
          ]
        },
        {
          "output_type": "stream",
          "name": "stderr",
          "text": [
            "/usr/local/lib/python3.7/dist-packages/sklearn/metrics/_classification.py:1318: UndefinedMetricWarning: Precision and F-score are ill-defined and being set to 0.0 in labels with no predicted samples. Use `zero_division` parameter to control this behavior.\n",
            "  _warn_prf(average, modifier, msg_start, len(result))\n",
            "/usr/local/lib/python3.7/dist-packages/sklearn/metrics/_classification.py:1318: UndefinedMetricWarning: Precision and F-score are ill-defined and being set to 0.0 in labels with no predicted samples. Use `zero_division` parameter to control this behavior.\n",
            "  _warn_prf(average, modifier, msg_start, len(result))\n",
            "/usr/local/lib/python3.7/dist-packages/sklearn/metrics/_classification.py:1318: UndefinedMetricWarning: Precision and F-score are ill-defined and being set to 0.0 in labels with no predicted samples. Use `zero_division` parameter to control this behavior.\n",
            "  _warn_prf(average, modifier, msg_start, len(result))\n"
          ]
        }
      ]
    },
    {
      "cell_type": "code",
      "source": [
        ""
      ],
      "metadata": {
        "id": "nYLtleHdn2wP"
      },
      "execution_count": 55,
      "outputs": []
    },
    {
      "cell_type": "markdown",
      "source": [
        "https://www.kdnuggets.com/2020/03/tensorflow-keras-tokenization-text-data-prep.html\n",
        "\n",
        "https://towardsdatascience.com/pre-trained-word-embedding-for-text-classification-end2end-approach-5fbf5cd8aead\n",
        "\n",
        "https://blog.paperspace.com/pre-trained-word-embeddings-natural-language-processing/"
      ],
      "metadata": {
        "id": "DUQeVlTqexDj"
      }
    }
  ]
}